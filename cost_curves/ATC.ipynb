{
 "cells": [
  {
   "cell_type": "code",
   "execution_count": 9,
   "id": "cbf59b1a",
   "metadata": {},
   "outputs": [],
   "source": [
    "from entsoe import EntsoePandasClient\n",
    "import pandas as pd\n",
    "\n",
    "client = EntsoePandasClient(api_key=\"b18dfce9-f1e3-4d07-822f-4abd1438e602\")\n",
    "\n",
    "borders = [\n",
    "    ['FR', 'CH'],\n",
    "    ['FR', 'ES'],\n",
    "    ['FR', 'GB'],\n",
    "    ['FR', 'IT_NORD'],\n",
    "    ['AT', 'IT_NORD'],\n",
    "    ['AT', 'CH'],\n",
    "    ['BE', 'GB'],\n",
    "    ['NL', 'DK_1'],\n",
    "    ['NL', 'GB'],\n",
    "    ['NL', 'NO_2'],\n",
    "    ['SI', 'IT_NORD'],\n",
    "]\n",
    "\n",
    "start = pd.Timestamp('20220901', tz='Europe/Amsterdam')\n",
    "end = pd.Timestamp('20230228', tz='Europe/Amsterdam')"
   ]
  },
  {
   "cell_type": "code",
   "execution_count": 10,
   "id": "2a9f9d94",
   "metadata": {},
   "outputs": [],
   "source": [
    "df_demand = pd.read_excel(\"./optimisation/data/demand.xlsx\", index_col=0)"
   ]
  },
  {
   "cell_type": "code",
   "execution_count": null,
   "id": "d7877058",
   "metadata": {},
   "outputs": [],
   "source": [
    "df_atc = pd.DataFrame()\n",
    "#df_atc.index = df_demand.index\n",
    "\n",
    "for border in borders:\n",
    "    atc_1 = client.query_net_transfer_capacity_dayahead(border[0], border[1], start=start, end=end)\n",
    "    atc_2 = client.query_net_transfer_capacity_dayahead(border[1], border[0], start=start, end=end)\n",
    "    \n",
    "    atc_1 = atc_1.tz_localize(None)\n",
    "    atc_2 = atc_2.tz_localize(None)\n",
    "    \n",
    "    atc_1 = atc_1[~atc_1.index.duplicated()]\n",
    "    atc_2 = atc_2[~atc_2.index.duplicated()]\n",
    "    \n",
    "    df_atc[border[0] + '_' + border[1]] = atc_1\n",
    "    df_atc[border[1] + '_' + border[0]] = atc_2\n",
    "    \n",
    "display(df_atc)"
   ]
  },
  {
   "cell_type": "code",
   "execution_count": null,
   "id": "4414ae13",
   "metadata": {},
   "outputs": [],
   "source": [
    "df_atc.to_excel(\"./optimisation/data/atc.xlsx\")"
   ]
  }
 ],
 "metadata": {
  "kernelspec": {
   "display_name": "fbmc_env",
   "language": "python",
   "name": "fbmc_env"
  },
  "language_info": {
   "codemirror_mode": {
    "name": "ipython",
    "version": 3
   },
   "file_extension": ".py",
   "mimetype": "text/x-python",
   "name": "python",
   "nbconvert_exporter": "python",
   "pygments_lexer": "ipython3",
   "version": "3.10.5"
  }
 },
 "nbformat": 4,
 "nbformat_minor": 5
}

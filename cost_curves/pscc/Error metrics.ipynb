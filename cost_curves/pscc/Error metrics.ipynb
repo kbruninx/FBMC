{
 "cells": [
  {
   "cell_type": "code",
   "execution_count": 4,
   "id": "bfc4c4b5-e2cf-402d-90f4-2b16e93a1f97",
   "metadata": {},
   "outputs": [],
   "source": [
    "import pandas as pd\n",
    "from matplotlib import pyplot as plt\n",
    "from IPython.display import display, Math\n",
    "import numpy as np\n",
    "\n",
    "from epftoolbox.evaluation import sMAPE, MAE\n",
    "\n",
    "countries = ['AT', 'BE', 'CZ', 'DE_LU', 'FR', 'HR', 'HU', 'NL', 'PL', 'RO', 'SI', 'SK']\n",
    "\n",
    "forecast_legend = [\n",
    "    r'$\\mathrm{IO_{L1}}$',\n",
    "]\n",
    "\n",
    "start_date = pd.Timestamp('20230201')\n",
    "end_date = pd.Timestamp('20230728')"
   ]
  },
  {
   "cell_type": "code",
   "execution_count": 3,
   "id": "f1a28968-b62b-48de-a809-b1996f8f8d81",
   "metadata": {},
   "outputs": [],
   "source": [
    "df_observed = pd.read_excel(\"../data-july/day_ahead_prices.xlsx\", index_col=0)\n",
    "df_observed = df_observed.loc[(df_observed.index > start_date) & (df_observed.index <= end_date)]\n",
    "\n",
    "df_forecasts = []\n",
    "\n",
    "df_forecasts.append(pd.read_excel(\"../price_forecasts/price_forecast_until_july_2_february-july.xlsx\"))\n",
    "\n",
    "for index, df in enumerate(df_forecasts):\n",
    "    df_forecasts[index].index = df_observed.index"
   ]
  },
  {
   "cell_type": "code",
   "execution_count": 12,
   "id": "428da711-664f-42a1-b834-301b165f0e52",
   "metadata": {},
   "outputs": [
    {
     "data": {
      "text/plain": [
       "array([ 88.69,  85.51,  85.93, ..., 128.72, 105.17,  88.63])"
      ]
     },
     "execution_count": 12,
     "metadata": {},
     "output_type": "execute_result"
    }
   ],
   "source": [
    "df_observed_nonzero = df_observed"
   ]
  },
  {
   "cell_type": "code",
   "execution_count": 34,
   "id": "39916e22-33e6-4c51-888a-a7d7f1efc8fd",
   "metadata": {},
   "outputs": [
    {
     "name": "stdout",
     "output_type": "stream",
     "text": [
      "AT\n",
      "- MAE:  15.569950791055751\n",
      "- sMAPE:  17.42%\n",
      "BE\n",
      "- MAE:  19.28183691423593\n",
      "- sMAPE:  21.92%\n",
      "CZ\n",
      "- MAE:  16.489262109773414\n",
      "- sMAPE:  18.19%\n",
      "DE_LU\n",
      "- MAE:  18.774871010972557\n",
      "- sMAPE:  22.97%\n",
      "FR\n",
      "- MAE:  20.543158446094733\n",
      "- sMAPE:  22.85%\n",
      "HR\n",
      "- MAE:  16.8078279037879\n",
      "- sMAPE:  18.31%\n",
      "HU\n",
      "- MAE:  16.95007734370474\n",
      "- sMAPE:  18.08%\n",
      "NL\n",
      "- MAE:  17.645379872758994\n",
      "- sMAPE:  21.73%\n",
      "PL\n",
      "- MAE:  16.957467517755596\n",
      "- sMAPE:  14.93%\n",
      "RO\n",
      "- MAE:  34.79629720363525\n",
      "- sMAPE:  40.59%\n",
      "SI\n",
      "- MAE:  16.236533181032577\n",
      "- sMAPE:  17.78%\n",
      "SK\n",
      "- MAE:  16.595778638987603\n",
      "- sMAPE:  17.98%\n"
     ]
    }
   ],
   "source": [
    "for zone in countries:\n",
    "    print(zone)\n",
    "    df_observed_nonzero = df_observed.loc[:, zone]\n",
    "    df_observed_nonzero_indexes = df_observed_nonzero[df_observed_nonzero != 0].index\n",
    "    df_observed_nonzero = df_observed.loc[df_observed_nonzero_indexes, zone]\n",
    "\n",
    "    df_forecasts_nonzero = df_forecasts[0].loc[df_observed_nonzero_indexes, zone]\n",
    "    df_forecast_nonzero_indexes = df_forecasts_nonzero[df_forecasts_nonzero != 0].index\n",
    "    df_forecasts_nonzero = df_forecasts[0].loc[df_forecast_nonzero_indexes, zone]\n",
    "    \n",
    "    df_observed_nonzero = df_observed.loc[df_forecast_nonzero_indexes, zone]\n",
    "\n",
    "    print('- MAE: ', MAE(p_pred=df_forecasts_nonzero, p_real=df_observed_nonzero))\n",
    "    print('- sMAPE: ', '{:.2f}%'.format(100*sMAPE(p_pred=df_forecasts_nonzero, p_real=df_observed_nonzero)))"
   ]
  }
 ],
 "metadata": {
  "kernelspec": {
   "display_name": "fbmc_env",
   "language": "python",
   "name": "fbmc_env"
  },
  "language_info": {
   "codemirror_mode": {
    "name": "ipython",
    "version": 3
   },
   "file_extension": ".py",
   "mimetype": "text/x-python",
   "name": "python",
   "nbconvert_exporter": "python",
   "pygments_lexer": "ipython3",
   "version": "3.11.4"
  }
 },
 "nbformat": 4,
 "nbformat_minor": 5
}

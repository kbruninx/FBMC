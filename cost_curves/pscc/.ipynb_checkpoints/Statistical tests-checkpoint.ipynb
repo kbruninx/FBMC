{
 "cells": [
  {
   "cell_type": "code",
   "execution_count": 113,
   "id": "0773d917-2f2b-47b5-ae99-004a43938863",
   "metadata": {},
   "outputs": [],
   "source": [
    "from epftoolbox.models import evaluate_lear_in_test_dataset, evaluate_dnn_in_test_dataset, hyperparameter_optimizer\n",
    "from epftoolbox.data import read_data\n",
    "from epftoolbox.evaluation import sMAPE, rMAE, GW, plot_multivariate_GW_test, plot_multivariate_DM_test\n",
    "import pandas as pd\n",
    "from matplotlib import pyplot as plt\n",
    "import os\n",
    "\n",
    "countries = ['AT', 'BE', 'CZ', 'DE_LU', 'FR', 'HR', 'HU', 'NL', 'PL', 'RO', 'SI', 'SK']\n",
    "\n",
    "start_date_io = pd.Timestamp('20230201')\n",
    "#end_date_io = pd.Timestamp('20230728')\n",
    "end_date_io = pd.Timestamp('20230301')\n",
    "\n",
    "start_date_test = pd.Timestamp('20230201')\n",
    "end_date_test = pd.Timestamp('20230228')\n",
    "end_date_test_io = pd.Timestamp('20230301')\n",
    "\n",
    "#df_observed = pd.read_excel(\"../data-july/day_ahead_prices.xlsx\", index_col=0)\n",
    "#io_forecast = pd.read_excel('../price_forecasts/price_forecast_until_july_2_february-july.xlsx')\n",
    "\n",
    "df_observed = pd.read_excel(\"../data/day_ahead_prices.xlsx\", index_col=0)\n",
    "io_forecast = pd.read_excel('../price_forecasts/price_forecast_full_alpha5_norm_1_w_atc_february.xlsx')\n",
    "\n",
    "df_observed = df_observed.loc[(df_observed.index >= start_date_io) & (df_observed.index <= end_date_io)].iloc[0:-1]\n",
    "io_forecast.index = df_observed.index"
   ]
  },
  {
   "cell_type": "code",
   "execution_count": 97,
   "id": "8e03695c-cbfe-4978-bdb9-ee41a3c22314",
   "metadata": {},
   "outputs": [],
   "source": [
    "start_date_show = pd.Timestamp('20230201')\n",
    "end_date_show = pd.Timestamp('20230228')"
   ]
  },
  {
   "cell_type": "code",
   "execution_count": 117,
   "id": "a08b1557-701c-48f0-866b-eca7c6eb6061",
   "metadata": {},
   "outputs": [
    {
     "name": "stdout",
     "output_type": "stream",
     "text": [
      "AT\n",
      "\n",
      "LEAR - sMAPE: 10.34%\n",
      "DNN - sMAPE: 10.26%\n",
      "IO - sMAPE: nan%\n"
     ]
    },
    {
     "ename": "LinAlgError",
     "evalue": "SVD did not converge in Linear Least Squares",
     "output_type": "error",
     "traceback": [
      "\u001b[0;31m---------------------------------------------------------------------------\u001b[0m",
      "\u001b[0;31mLinAlgError\u001b[0m                               Traceback (most recent call last)",
      "Cell \u001b[0;32mIn[117], line 38\u001b[0m\n\u001b[1;32m     36\u001b[0m \u001b[38;5;28mprint\u001b[39m(\u001b[38;5;124m'\u001b[39m\u001b[38;5;124mDNN - sMAPE: \u001b[39m\u001b[38;5;132;01m{:.2f}\u001b[39;00m\u001b[38;5;124m%\u001b[39m\u001b[38;5;124m'\u001b[39m\u001b[38;5;241m.\u001b[39mformat(\u001b[38;5;241m100\u001b[39m\u001b[38;5;241m*\u001b[39msMAPE(p_pred\u001b[38;5;241m=\u001b[39mforecasts\u001b[38;5;241m.\u001b[39mDNN, p_real\u001b[38;5;241m=\u001b[39mreal_price[zone])))\n\u001b[1;32m     37\u001b[0m \u001b[38;5;28mprint\u001b[39m(\u001b[38;5;124m'\u001b[39m\u001b[38;5;124mIO - sMAPE: \u001b[39m\u001b[38;5;132;01m{:.2f}\u001b[39;00m\u001b[38;5;124m%\u001b[39m\u001b[38;5;124m'\u001b[39m\u001b[38;5;241m.\u001b[39mformat(\u001b[38;5;241m100\u001b[39m\u001b[38;5;241m*\u001b[39msMAPE(p_pred\u001b[38;5;241m=\u001b[39mforecasts\u001b[38;5;241m.\u001b[39mIO, p_real\u001b[38;5;241m=\u001b[39mreal_price[zone])))\n\u001b[0;32m---> 38\u001b[0m \u001b[43mplot_multivariate_GW_test\u001b[49m\u001b[43m(\u001b[49m\u001b[43mreal_price\u001b[49m\u001b[38;5;241;43m=\u001b[39;49m\u001b[43mreal_price\u001b[49m\u001b[43m,\u001b[49m\u001b[43m \u001b[49m\u001b[43mforecasts\u001b[49m\u001b[38;5;241;43m=\u001b[39;49m\u001b[43mforecasts\u001b[49m\u001b[43m)\u001b[49m\n\u001b[1;32m     40\u001b[0m plt\u001b[38;5;241m.\u001b[39mfigure(figsize\u001b[38;5;241m=\u001b[39m(\u001b[38;5;241m15\u001b[39m,\u001b[38;5;241m6\u001b[39m))\n\u001b[1;32m     42\u001b[0m ax \u001b[38;5;241m=\u001b[39m real_price\u001b[38;5;241m.\u001b[39mloc[(real_price\u001b[38;5;241m.\u001b[39mindex \u001b[38;5;241m>\u001b[39m start_date_show) \u001b[38;5;241m&\u001b[39m (real_price\u001b[38;5;241m.\u001b[39mindex \u001b[38;5;241m<\u001b[39m\u001b[38;5;241m=\u001b[39m end_date_show)][zone]\u001b[38;5;241m.\u001b[39mplot()\n",
      "File \u001b[0;32m~/Documents/FBMC/fbmc_env/lib/python3.11/site-packages/epftoolbox/evaluation/_gw.py:227\u001b[0m, in \u001b[0;36mplot_multivariate_GW_test\u001b[0;34m(real_price, forecasts, norm, title, savefig, path)\u001b[0m\n\u001b[1;32m    225\u001b[0m             p_values\u001b[38;5;241m.\u001b[39mloc[model1, model2] \u001b[38;5;241m=\u001b[39m \u001b[38;5;241m1\u001b[39m\n\u001b[1;32m    226\u001b[0m         \u001b[38;5;28;01melse\u001b[39;00m:\n\u001b[0;32m--> 227\u001b[0m             p_values\u001b[38;5;241m.\u001b[39mloc[model1, model2] \u001b[38;5;241m=\u001b[39m \u001b[43mGW\u001b[49m\u001b[43m(\u001b[49m\u001b[43mp_real\u001b[49m\u001b[38;5;241;43m=\u001b[39;49m\u001b[43mreal_price\u001b[49m\u001b[38;5;241;43m.\u001b[39;49m\u001b[43mvalues\u001b[49m\u001b[38;5;241;43m.\u001b[39;49m\u001b[43mreshape\u001b[49m\u001b[43m(\u001b[49m\u001b[38;5;241;43m-\u001b[39;49m\u001b[38;5;241;43m1\u001b[39;49m\u001b[43m,\u001b[49m\u001b[43m \u001b[49m\u001b[38;5;241;43m24\u001b[39;49m\u001b[43m)\u001b[49m\u001b[43m,\u001b[49m\u001b[43m \u001b[49m\n\u001b[1;32m    228\u001b[0m \u001b[43m                                              \u001b[49m\u001b[43mp_pred_1\u001b[49m\u001b[38;5;241;43m=\u001b[39;49m\u001b[43mforecasts\u001b[49m\u001b[38;5;241;43m.\u001b[39;49m\u001b[43mloc\u001b[49m\u001b[43m[\u001b[49m\u001b[43m:\u001b[49m\u001b[43m,\u001b[49m\u001b[43m \u001b[49m\u001b[43mmodel1\u001b[49m\u001b[43m]\u001b[49m\u001b[38;5;241;43m.\u001b[39;49m\u001b[43mvalues\u001b[49m\u001b[38;5;241;43m.\u001b[39;49m\u001b[43mreshape\u001b[49m\u001b[43m(\u001b[49m\u001b[38;5;241;43m-\u001b[39;49m\u001b[38;5;241;43m1\u001b[39;49m\u001b[43m,\u001b[49m\u001b[43m \u001b[49m\u001b[38;5;241;43m24\u001b[39;49m\u001b[43m)\u001b[49m\u001b[43m,\u001b[49m\u001b[43m \u001b[49m\n\u001b[1;32m    229\u001b[0m \u001b[43m                                              \u001b[49m\u001b[43mp_pred_2\u001b[49m\u001b[38;5;241;43m=\u001b[39;49m\u001b[43mforecasts\u001b[49m\u001b[38;5;241;43m.\u001b[39;49m\u001b[43mloc\u001b[49m\u001b[43m[\u001b[49m\u001b[43m:\u001b[49m\u001b[43m,\u001b[49m\u001b[43m \u001b[49m\u001b[43mmodel2\u001b[49m\u001b[43m]\u001b[49m\u001b[38;5;241;43m.\u001b[39;49m\u001b[43mvalues\u001b[49m\u001b[38;5;241;43m.\u001b[39;49m\u001b[43mreshape\u001b[49m\u001b[43m(\u001b[49m\u001b[38;5;241;43m-\u001b[39;49m\u001b[38;5;241;43m1\u001b[39;49m\u001b[43m,\u001b[49m\u001b[43m \u001b[49m\u001b[38;5;241;43m24\u001b[39;49m\u001b[43m)\u001b[49m\u001b[43m,\u001b[49m\u001b[43m \u001b[49m\n\u001b[1;32m    230\u001b[0m \u001b[43m                                              \u001b[49m\u001b[43mnorm\u001b[49m\u001b[38;5;241;43m=\u001b[39;49m\u001b[43mnorm\u001b[49m\u001b[43m,\u001b[49m\u001b[43m \u001b[49m\u001b[43mversion\u001b[49m\u001b[38;5;241;43m=\u001b[39;49m\u001b[38;5;124;43m'\u001b[39;49m\u001b[38;5;124;43mmultivariate\u001b[39;49m\u001b[38;5;124;43m'\u001b[39;49m\u001b[43m)\u001b[49m\n\u001b[1;32m    232\u001b[0m \u001b[38;5;66;03m# Defining color map\u001b[39;00m\n\u001b[1;32m    233\u001b[0m red \u001b[38;5;241m=\u001b[39m np\u001b[38;5;241m.\u001b[39mconcatenate([np\u001b[38;5;241m.\u001b[39mlinspace(\u001b[38;5;241m0\u001b[39m, \u001b[38;5;241m1\u001b[39m, \u001b[38;5;241m50\u001b[39m), np\u001b[38;5;241m.\u001b[39mlinspace(\u001b[38;5;241m1\u001b[39m, \u001b[38;5;241m0.5\u001b[39m, \u001b[38;5;241m50\u001b[39m)[\u001b[38;5;241m1\u001b[39m:], [\u001b[38;5;241m0\u001b[39m]])\n",
      "File \u001b[0;32m~/Documents/FBMC/fbmc_env/lib/python3.11/site-packages/epftoolbox/evaluation/_gw.py:146\u001b[0m, in \u001b[0;36mGW\u001b[0;34m(p_real, p_pred_1, p_pred_2, norm, version)\u001b[0m\n\u001b[1;32m    143\u001b[0m     reg[jj, :] \u001b[38;5;241m=\u001b[39m instruments[jj, :] \u001b[38;5;241m*\u001b[39m d\n\u001b[1;32m    145\u001b[0m \u001b[38;5;28;01mif\u001b[39;00m tau \u001b[38;5;241m==\u001b[39m \u001b[38;5;241m1\u001b[39m:\n\u001b[0;32m--> 146\u001b[0m     betas \u001b[38;5;241m=\u001b[39m \u001b[43mnp\u001b[49m\u001b[38;5;241;43m.\u001b[39;49m\u001b[43mlinalg\u001b[49m\u001b[38;5;241;43m.\u001b[39;49m\u001b[43mlstsq\u001b[49m\u001b[43m(\u001b[49m\u001b[43mreg\u001b[49m\u001b[38;5;241;43m.\u001b[39;49m\u001b[43mT\u001b[49m\u001b[43m,\u001b[49m\u001b[43m \u001b[49m\u001b[43mnp\u001b[49m\u001b[38;5;241;43m.\u001b[39;49m\u001b[43mones\u001b[49m\u001b[43m(\u001b[49m\u001b[43mT\u001b[49m\u001b[43m)\u001b[49m\u001b[43m,\u001b[49m\u001b[43m \u001b[49m\u001b[43mrcond\u001b[49m\u001b[38;5;241;43m=\u001b[39;49m\u001b[38;5;28;43;01mNone\u001b[39;49;00m\u001b[43m)\u001b[49m[\u001b[38;5;241m0\u001b[39m]\n\u001b[1;32m    147\u001b[0m     err \u001b[38;5;241m=\u001b[39m np\u001b[38;5;241m.\u001b[39mones((T, \u001b[38;5;241m1\u001b[39m)) \u001b[38;5;241m-\u001b[39m np\u001b[38;5;241m.\u001b[39mdot(reg\u001b[38;5;241m.\u001b[39mT, betas)\n\u001b[1;32m    148\u001b[0m     r2 \u001b[38;5;241m=\u001b[39m \u001b[38;5;241m1\u001b[39m \u001b[38;5;241m-\u001b[39m np\u001b[38;5;241m.\u001b[39mmean(err\u001b[38;5;241m*\u001b[39m\u001b[38;5;241m*\u001b[39m\u001b[38;5;241m2\u001b[39m)\n",
      "File \u001b[0;32m<__array_function__ internals>:200\u001b[0m, in \u001b[0;36mlstsq\u001b[0;34m(*args, **kwargs)\u001b[0m\n",
      "File \u001b[0;32m~/Documents/FBMC/fbmc_env/lib/python3.11/site-packages/numpy/linalg/linalg.py:2285\u001b[0m, in \u001b[0;36mlstsq\u001b[0;34m(a, b, rcond)\u001b[0m\n\u001b[1;32m   2282\u001b[0m \u001b[38;5;28;01mif\u001b[39;00m n_rhs \u001b[38;5;241m==\u001b[39m \u001b[38;5;241m0\u001b[39m:\n\u001b[1;32m   2283\u001b[0m     \u001b[38;5;66;03m# lapack can't handle n_rhs = 0 - so allocate the array one larger in that axis\u001b[39;00m\n\u001b[1;32m   2284\u001b[0m     b \u001b[38;5;241m=\u001b[39m zeros(b\u001b[38;5;241m.\u001b[39mshape[:\u001b[38;5;241m-\u001b[39m\u001b[38;5;241m2\u001b[39m] \u001b[38;5;241m+\u001b[39m (m, n_rhs \u001b[38;5;241m+\u001b[39m \u001b[38;5;241m1\u001b[39m), dtype\u001b[38;5;241m=\u001b[39mb\u001b[38;5;241m.\u001b[39mdtype)\n\u001b[0;32m-> 2285\u001b[0m x, resids, rank, s \u001b[38;5;241m=\u001b[39m \u001b[43mgufunc\u001b[49m\u001b[43m(\u001b[49m\u001b[43ma\u001b[49m\u001b[43m,\u001b[49m\u001b[43m \u001b[49m\u001b[43mb\u001b[49m\u001b[43m,\u001b[49m\u001b[43m \u001b[49m\u001b[43mrcond\u001b[49m\u001b[43m,\u001b[49m\u001b[43m \u001b[49m\u001b[43msignature\u001b[49m\u001b[38;5;241;43m=\u001b[39;49m\u001b[43msignature\u001b[49m\u001b[43m,\u001b[49m\u001b[43m \u001b[49m\u001b[43mextobj\u001b[49m\u001b[38;5;241;43m=\u001b[39;49m\u001b[43mextobj\u001b[49m\u001b[43m)\u001b[49m\n\u001b[1;32m   2286\u001b[0m \u001b[38;5;28;01mif\u001b[39;00m m \u001b[38;5;241m==\u001b[39m \u001b[38;5;241m0\u001b[39m:\n\u001b[1;32m   2287\u001b[0m     x[\u001b[38;5;241m.\u001b[39m\u001b[38;5;241m.\u001b[39m\u001b[38;5;241m.\u001b[39m] \u001b[38;5;241m=\u001b[39m \u001b[38;5;241m0\u001b[39m\n",
      "File \u001b[0;32m~/Documents/FBMC/fbmc_env/lib/python3.11/site-packages/numpy/linalg/linalg.py:101\u001b[0m, in \u001b[0;36m_raise_linalgerror_lstsq\u001b[0;34m(err, flag)\u001b[0m\n\u001b[1;32m    100\u001b[0m \u001b[38;5;28;01mdef\u001b[39;00m \u001b[38;5;21m_raise_linalgerror_lstsq\u001b[39m(err, flag):\n\u001b[0;32m--> 101\u001b[0m     \u001b[38;5;28;01mraise\u001b[39;00m LinAlgError(\u001b[38;5;124m\"\u001b[39m\u001b[38;5;124mSVD did not converge in Linear Least Squares\u001b[39m\u001b[38;5;124m\"\u001b[39m)\n",
      "\u001b[0;31mLinAlgError\u001b[0m: SVD did not converge in Linear Least Squares"
     ]
    }
   ],
   "source": [
    "for zone in countries:\n",
    "    print(zone)\n",
    "    \n",
    "    forecasts = pd.DataFrame()\n",
    "    \n",
    "    lear_dataset = pd.read_csv('./experimental_files/LEAR_forecast_dat{0}_CORE_YT2_CW728.csv'.format(zone), index_col=0)\n",
    "    dnn_dataset = pd.read_csv('./experimental_files/DNN_forecast_nl2_dat{0}_CORE_YT2_SFH1_CW2_1.csv'.format(zone), index_col=0)\n",
    "    \n",
    "    lear_dataset.index = pd.to_datetime(lear_dataset.index)\n",
    "    dnn_dataset.index = pd.to_datetime(dnn_dataset.index)\n",
    "    \n",
    "    lear_dataset = lear_dataset.loc[(lear_dataset.index >= start_date_test) & (lear_dataset.index <= end_date_test)]\n",
    "    dnn_dataset = dnn_dataset.loc[(dnn_dataset.index >= start_date_test) & (dnn_dataset.index <= end_date_test)]\n",
    "    \n",
    "    for index, row in lear_dataset.iterrows():\n",
    "        for h in range(24):\n",
    "            forecasts.loc[index + pd.DateOffset(hours=h), 'LEAR'] = row['h{0}'.format(h)]\n",
    "    \n",
    "    for index, row in dnn_dataset.iterrows():\n",
    "        for h in range(24):\n",
    "            forecasts.loc[index + pd.DateOffset(hours=h), 'DNN'] = row['h{0}'.format(h)]\n",
    "    \n",
    "    forecasts['IO'] = io_forecast.loc[(io_forecast.index >= start_date_test) & (io_forecast.index <= end_date_test_io)].iloc[0:-1][zone]\n",
    "    \n",
    "    real_price = df_observed.loc[(df_observed.index >= start_date_test) & (df_observed.index <= end_date_test_io), [zone]].iloc[0:-1]\n",
    "\n",
    "    forecasts['real_price'] = real_price\n",
    "    forecasts_indexes = forecasts[(forecasts.LEAR != 0) & (forecasts.DNN != 0) & (forecasts.IO != 0)].index\n",
    "    forecasts = forecasts.loc[forecasts_indexes]\n",
    "\n",
    "    del forecasts['real_price']\n",
    "    real_price = real_price.loc[forecasts_indexes]\n",
    "\n",
    "    print('')\n",
    "    print('LEAR - sMAPE: {:.2f}%'.format(100*sMAPE(p_pred=forecasts.LEAR, p_real=real_price[zone])))\n",
    "    print('DNN - sMAPE: {:.2f}%'.format(100*sMAPE(p_pred=forecasts.DNN, p_real=real_price[zone])))\n",
    "    print('IO - sMAPE: {:.2f}%'.format(100*sMAPE(p_pred=forecasts.IO, p_real=real_price[zone])))\n",
    "    plot_multivariate_GW_test(real_price=real_price, forecasts=forecasts)\n",
    "\n",
    "    plt.figure(figsize=(15,6))\n",
    "    \n",
    "    ax = real_price.loc[(real_price.index > start_date_show) & (real_price.index <= end_date_show)][zone].plot()\n",
    "    forecasts.loc[(forecasts.index > start_date_show) & (forecasts.index <= end_date_show)].LEAR.plot(ax=ax)\n",
    "    forecasts.loc[(forecasts.index > start_date_show) & (forecasts.index <= end_date_show)].DNN.plot(ax=ax)\n",
    "    forecasts.loc[(forecasts.index > start_date_show) & (forecasts.index <= end_date_show)].IO.plot(ax=ax)\n",
    "    \n",
    "    plt.title(\"{0} day-ahead market prices in February, 2023\".format(zone))\n",
    "    plt.ylabel('Price [€/MWh]')\n",
    "    plt.xlabel('Time [day] (hourly resolution)')\n",
    "    ax.legend(['observed', 'LEAR', 'DNN', 'IO'])\n",
    "    plt.show()"
   ]
  },
  {
   "cell_type": "code",
   "execution_count": null,
   "id": "b8dd3d7d-c9ab-4baa-b6e1-a2c87b674b81",
   "metadata": {},
   "outputs": [],
   "source": []
  },
  {
   "cell_type": "code",
   "execution_count": null,
   "id": "3b5827af-b617-4a04-ae0f-02b1ee103067",
   "metadata": {},
   "outputs": [],
   "source": []
  },
  {
   "cell_type": "code",
   "execution_count": null,
   "id": "fdf2d12e-bf94-404a-a627-2a7cd3d2e7ed",
   "metadata": {},
   "outputs": [],
   "source": []
  }
 ],
 "metadata": {
  "kernelspec": {
   "display_name": "fbmc_env",
   "language": "python",
   "name": "fbmc_env"
  },
  "language_info": {
   "codemirror_mode": {
    "name": "ipython",
    "version": 3
   },
   "file_extension": ".py",
   "mimetype": "text/x-python",
   "name": "python",
   "nbconvert_exporter": "python",
   "pygments_lexer": "ipython3",
   "version": "3.11.4"
  }
 },
 "nbformat": 4,
 "nbformat_minor": 5
}

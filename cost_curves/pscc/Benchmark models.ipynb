{
 "cells": [
  {
   "cell_type": "code",
   "execution_count": 1,
   "id": "198386a6-c282-4328-b024-6d12e5615eb8",
   "metadata": {},
   "outputs": [],
   "source": [
    "from epftoolbox.models import evaluate_lear_in_test_dataset, evaluate_dnn_in_test_dataset, hyperparameter_optimizer\n",
    "from epftoolbox.data import read_data\n",
    "import pandas as pd\n",
    "import os\n",
    "\n",
    "#countries = ['AT', 'BE', 'CZ', 'DE_LU', 'FR', 'HR', 'HU', 'NL', 'PL', 'RO', 'SI', 'SK']\n",
    "countries = ['SK']"
   ]
  },
  {
   "cell_type": "code",
   "execution_count": 2,
   "id": "f2b0324f-e9b1-4057-b684-9f91277a1846",
   "metadata": {},
   "outputs": [],
   "source": [
    "path_datasets_folder = os.path.join('.', 'datasets')\n",
    "path_recalibration_folder = os.path.join('.', 'experimental_files')\n",
    "path_hyperparameter_folder = os.path.join('.', 'experimental_files')\n",
    "\n",
    "begin_test_date = \"01/02/2023 00:00\"\n",
    "end_test_date = \"30/04/2023 00:00\""
   ]
  },
  {
   "cell_type": "code",
   "execution_count": 3,
   "id": "0b278d6d-bdc3-4241-95de-ae4e820ea1c0",
   "metadata": {
    "scrolled": true
   },
   "outputs": [
    {
     "name": "stdout",
     "output_type": "stream",
     "text": [
      "HU\n",
      "Test datasets: 2023-02-01 00:00:00 - 2023-04-30 23:00:00\n",
      "2023-02-01 - sMAPE: 10.28%  |  MAE: 15.653\n",
      "2023-02-02 - sMAPE: 9.70%  |  MAE: 14.921\n",
      "2023-02-03 - sMAPE: 9.69%  |  MAE: 14.610\n",
      "2023-02-04 - sMAPE: 11.93%  |  MAE: 17.099\n",
      "2023-02-05 - sMAPE: 11.56%  |  MAE: 16.120\n",
      "2023-02-06 - sMAPE: 11.82%  |  MAE: 17.291\n",
      "2023-02-07 - sMAPE: 10.74%  |  MAE: 15.913\n",
      "2023-02-08 - sMAPE: 11.34%  |  MAE: 17.451\n",
      "2023-02-09 - sMAPE: 10.66%  |  MAE: 16.517\n",
      "2023-02-10 - sMAPE: 10.05%  |  MAE: 15.591\n",
      "2023-02-11 - sMAPE: 9.82%  |  MAE: 15.235\n",
      "2023-02-12 - sMAPE: 10.75%  |  MAE: 15.976\n",
      "2023-02-13 - sMAPE: 10.52%  |  MAE: 15.850\n",
      "2023-02-14 - sMAPE: 10.27%  |  MAE: 15.580\n",
      "2023-02-15 - sMAPE: 9.93%  |  MAE: 15.082\n",
      "2023-02-16 - sMAPE: 9.78%  |  MAE: 15.000\n",
      "2023-02-17 - sMAPE: 9.69%  |  MAE: 15.011\n",
      "2023-02-18 - sMAPE: 10.64%  |  MAE: 15.987\n",
      "2023-02-19 - sMAPE: 10.98%  |  MAE: 16.056\n",
      "2023-02-20 - sMAPE: 11.83%  |  MAE: 16.982\n",
      "2023-02-21 - sMAPE: 11.78%  |  MAE: 16.702\n",
      "2023-02-22 - sMAPE: 11.76%  |  MAE: 16.674\n",
      "2023-02-23 - sMAPE: 11.50%  |  MAE: 16.350\n",
      "2023-02-24 - sMAPE: 11.43%  |  MAE: 16.250\n",
      "2023-02-25 - sMAPE: 11.81%  |  MAE: 16.398\n",
      "2023-02-26 - sMAPE: 12.15%  |  MAE: 16.544\n",
      "2023-02-27 - sMAPE: 12.31%  |  MAE: 16.919\n",
      "2023-02-28 - sMAPE: 12.39%  |  MAE: 17.204\n",
      "2023-03-01 - sMAPE: 12.19%  |  MAE: 16.984\n",
      "2023-03-02 - sMAPE: 12.04%  |  MAE: 16.792\n",
      "2023-03-03 - sMAPE: 11.89%  |  MAE: 16.623\n",
      "2023-03-04 - sMAPE: 12.07%  |  MAE: 16.684\n",
      "2023-03-05 - sMAPE: 12.41%  |  MAE: 16.929\n",
      "2023-03-06 - sMAPE: 12.31%  |  MAE: 16.839\n",
      "2023-03-07 - sMAPE: 12.21%  |  MAE: 16.695\n",
      "2023-03-08 - sMAPE: 12.15%  |  MAE: 16.611\n",
      "2023-03-09 - sMAPE: 11.96%  |  MAE: 16.348\n",
      "2023-03-10 - sMAPE: 11.94%  |  MAE: 16.273\n",
      "2023-03-11 - sMAPE: 12.07%  |  MAE: 16.264\n",
      "2023-03-12 - sMAPE: 12.69%  |  MAE: 16.495\n",
      "2023-03-13 - sMAPE: 13.01%  |  MAE: 16.660\n",
      "2023-03-14 - sMAPE: 13.98%  |  MAE: 16.973\n",
      "2023-03-15 - sMAPE: 14.10%  |  MAE: 17.111\n",
      "2023-03-16 - sMAPE: 14.17%  |  MAE: 17.179\n",
      "2023-03-17 - sMAPE: 14.24%  |  MAE: 17.154\n",
      "2023-03-18 - sMAPE: 14.72%  |  MAE: 17.381\n",
      "2023-03-19 - sMAPE: 15.12%  |  MAE: 17.574\n",
      "2023-03-20 - sMAPE: 15.20%  |  MAE: 17.770\n",
      "2023-03-21 - sMAPE: 15.07%  |  MAE: 17.646\n",
      "2023-03-22 - sMAPE: 14.98%  |  MAE: 17.546\n",
      "2023-03-23 - sMAPE: 14.79%  |  MAE: 17.310\n",
      "2023-03-24 - sMAPE: 14.84%  |  MAE: 17.304\n",
      "2023-03-25 - sMAPE: 16.32%  |  MAE: 17.622\n",
      "2023-03-26 - sMAPE: 18.13%  |  MAE: 18.345\n",
      "2023-03-27 - sMAPE: 18.31%  |  MAE: 18.516\n",
      "2023-03-28 - sMAPE: 18.27%  |  MAE: 18.480\n",
      "2023-03-29 - sMAPE: 18.20%  |  MAE: 18.431\n",
      "2023-03-30 - sMAPE: 18.10%  |  MAE: 18.334\n",
      "2023-03-31 - sMAPE: 18.24%  |  MAE: 18.414\n",
      "2023-04-01 - sMAPE: 18.36%  |  MAE: 18.318\n",
      "2023-04-02 - sMAPE: 19.03%  |  MAE: 18.389\n",
      "2023-04-03 - sMAPE: 18.99%  |  MAE: 18.385\n",
      "2023-04-04 - sMAPE: 18.75%  |  MAE: 18.163\n",
      "2023-04-05 - sMAPE: 18.58%  |  MAE: 18.044\n",
      "2023-04-06 - sMAPE: 18.46%  |  MAE: 17.996\n",
      "2023-04-07 - sMAPE: 18.51%  |  MAE: 18.076\n",
      "2023-04-08 - sMAPE: 18.41%  |  MAE: 18.000\n",
      "2023-04-09 - sMAPE: 18.47%  |  MAE: 18.040\n",
      "2023-04-10 - sMAPE: 19.07%  |  MAE: 18.271\n",
      "2023-04-11 - sMAPE: 19.50%  |  MAE: 18.513\n",
      "2023-04-12 - sMAPE: 19.46%  |  MAE: 18.497\n",
      "2023-04-13 - sMAPE: 19.42%  |  MAE: 18.505\n",
      "2023-04-14 - sMAPE: 19.24%  |  MAE: 18.365\n",
      "2023-04-15 - sMAPE: 19.22%  |  MAE: 18.323\n",
      "2023-04-16 - sMAPE: 19.38%  |  MAE: 18.420\n",
      "2023-04-17 - sMAPE: 19.30%  |  MAE: 18.409\n",
      "2023-04-18 - sMAPE: 19.17%  |  MAE: 18.313\n",
      "2023-04-19 - sMAPE: 19.10%  |  MAE: 18.293\n",
      "2023-04-20 - sMAPE: 19.01%  |  MAE: 18.242\n",
      "2023-04-21 - sMAPE: 18.88%  |  MAE: 18.150\n",
      "2023-04-22 - sMAPE: 18.99%  |  MAE: 18.135\n",
      "2023-04-23 - sMAPE: 19.17%  |  MAE: 18.165\n",
      "2023-04-24 - sMAPE: 19.13%  |  MAE: 18.155\n",
      "2023-04-25 - sMAPE: 18.97%  |  MAE: 18.012\n",
      "2023-04-26 - sMAPE: 18.84%  |  MAE: 17.896\n",
      "2023-04-27 - sMAPE: 18.67%  |  MAE: 17.737\n",
      "2023-04-28 - sMAPE: 18.78%  |  MAE: 17.817\n",
      "2023-04-29 - sMAPE: 19.03%  |  MAE: 17.936\n",
      "2023-04-30 - sMAPE: 19.28%  |  MAE: 17.848\n",
      "NL\n",
      "Test datasets: 2023-02-01 00:00:00 - 2023-04-30 23:00:00\n",
      "2023-02-01 - sMAPE: 18.26%  |  MAE: 22.655\n",
      "2023-02-02 - sMAPE: 16.45%  |  MAE: 20.991\n",
      "2023-02-03 - sMAPE: 14.95%  |  MAE: 19.547\n",
      "2023-02-04 - sMAPE: 13.13%  |  MAE: 17.419\n",
      "2023-02-05 - sMAPE: 12.69%  |  MAE: 16.758\n",
      "2023-02-06 - sMAPE: 12.41%  |  MAE: 16.737\n",
      "2023-02-07 - sMAPE: 11.84%  |  MAE: 16.330\n",
      "2023-02-08 - sMAPE: 12.44%  |  MAE: 17.664\n",
      "2023-02-09 - sMAPE: 12.86%  |  MAE: 18.491\n",
      "2023-02-10 - sMAPE: 12.93%  |  MAE: 18.443\n",
      "2023-02-11 - sMAPE: 14.26%  |  MAE: 19.678\n",
      "2023-02-12 - sMAPE: 14.38%  |  MAE: 19.689\n",
      "2023-02-13 - sMAPE: 14.32%  |  MAE: 19.703\n",
      "2023-02-14 - sMAPE: 13.90%  |  MAE: 19.218\n",
      "2023-02-15 - sMAPE: 13.78%  |  MAE: 19.129\n",
      "2023-02-16 - sMAPE: 13.52%  |  MAE: 18.690\n",
      "2023-02-17 - sMAPE: 13.86%  |  MAE: 18.930\n",
      "2023-02-18 - sMAPE: 13.89%  |  MAE: 18.639\n",
      "2023-02-19 - sMAPE: 13.78%  |  MAE: 18.282\n",
      "2023-02-20 - sMAPE: 14.68%  |  MAE: 18.863\n",
      "2023-02-21 - sMAPE: 14.79%  |  MAE: 18.917\n",
      "2023-02-22 - sMAPE: 14.36%  |  MAE: 18.423\n",
      "2023-02-23 - sMAPE: 13.99%  |  MAE: 17.986\n",
      "2023-02-24 - sMAPE: 14.02%  |  MAE: 18.028\n",
      "2023-02-25 - sMAPE: 14.67%  |  MAE: 18.473\n",
      "2023-02-26 - sMAPE: 14.57%  |  MAE: 18.262\n",
      "2023-02-27 - sMAPE: 14.57%  |  MAE: 18.306\n",
      "2023-02-28 - sMAPE: 14.24%  |  MAE: 17.934\n",
      "2023-03-01 - sMAPE: 14.15%  |  MAE: 17.872\n",
      "2023-03-02 - sMAPE: 13.94%  |  MAE: 17.633\n",
      "2023-03-03 - sMAPE: 13.77%  |  MAE: 17.438\n",
      "2023-03-04 - sMAPE: 14.26%  |  MAE: 17.798\n",
      "2023-03-05 - sMAPE: 14.60%  |  MAE: 17.993\n",
      "2023-03-06 - sMAPE: 14.69%  |  MAE: 18.214\n",
      "2023-03-07 - sMAPE: 14.53%  |  MAE: 18.027\n",
      "2023-03-08 - sMAPE: 14.42%  |  MAE: 17.893\n",
      "2023-03-09 - sMAPE: 14.21%  |  MAE: 17.640\n",
      "2023-03-10 - sMAPE: 14.09%  |  MAE: 17.487\n",
      "2023-03-11 - sMAPE: 14.51%  |  MAE: 17.829\n",
      "2023-03-12 - sMAPE: 14.71%  |  MAE: 17.842\n",
      "2023-03-13 - sMAPE: 16.85%  |  MAE: 19.037\n",
      "2023-03-14 - sMAPE: 17.45%  |  MAE: 19.253\n",
      "2023-03-15 - sMAPE: 17.46%  |  MAE: 19.301\n",
      "2023-03-16 - sMAPE: 17.55%  |  MAE: 19.453\n",
      "2023-03-17 - sMAPE: 17.43%  |  MAE: 19.294\n",
      "2023-03-18 - sMAPE: 17.31%  |  MAE: 19.138\n",
      "2023-03-19 - sMAPE: 17.36%  |  MAE: 19.109\n",
      "2023-03-20 - sMAPE: 17.14%  |  MAE: 18.895\n",
      "2023-03-21 - sMAPE: 17.08%  |  MAE: 18.847\n",
      "2023-03-22 - sMAPE: 16.96%  |  MAE: 18.683\n",
      "2023-03-23 - sMAPE: 17.14%  |  MAE: 18.657\n",
      "2023-03-24 - sMAPE: 18.18%  |  MAE: 19.031\n",
      "2023-03-25 - sMAPE: 20.58%  |  MAE: 19.259\n",
      "2023-03-26 - sMAPE: 21.42%  |  MAE: 19.600\n",
      "2023-03-27 - sMAPE: 22.10%  |  MAE: 19.928\n",
      "2023-03-28 - sMAPE: 21.91%  |  MAE: 19.783\n",
      "2023-03-29 - sMAPE: 21.70%  |  MAE: 19.643\n",
      "2023-03-30 - sMAPE: 22.04%  |  MAE: 19.870\n",
      "2023-03-31 - sMAPE: 22.12%  |  MAE: 19.868\n",
      "2023-04-01 - sMAPE: 22.59%  |  MAE: 19.925\n",
      "2023-04-02 - sMAPE: 23.12%  |  MAE: 19.911\n",
      "2023-04-03 - sMAPE: 23.06%  |  MAE: 19.910\n",
      "2023-04-04 - sMAPE: 22.95%  |  MAE: 19.901\n",
      "2023-04-05 - sMAPE: 22.72%  |  MAE: 19.765\n",
      "2023-04-06 - sMAPE: 22.54%  |  MAE: 19.696\n",
      "2023-04-07 - sMAPE: 22.34%  |  MAE: 19.581\n",
      "2023-04-08 - sMAPE: 22.12%  |  MAE: 19.410\n",
      "2023-04-09 - sMAPE: 22.01%  |  MAE: 19.353\n",
      "2023-04-10 - sMAPE: 23.04%  |  MAE: 19.984\n",
      "2023-04-11 - sMAPE: 24.02%  |  MAE: 20.130\n",
      "2023-04-12 - sMAPE: 24.10%  |  MAE: 20.228\n",
      "2023-04-13 - sMAPE: 24.53%  |  MAE: 20.411\n",
      "2023-04-14 - sMAPE: 24.45%  |  MAE: 20.395\n",
      "2023-04-15 - sMAPE: 24.39%  |  MAE: 20.278\n",
      "2023-04-16 - sMAPE: 24.41%  |  MAE: 20.293\n",
      "2023-04-17 - sMAPE: 24.21%  |  MAE: 20.169\n",
      "2023-04-18 - sMAPE: 24.09%  |  MAE: 20.091\n",
      "2023-04-19 - sMAPE: 24.59%  |  MAE: 20.573\n",
      "2023-04-20 - sMAPE: 25.11%  |  MAE: 20.873\n",
      "2023-04-21 - sMAPE: 24.95%  |  MAE: 20.759\n",
      "2023-04-22 - sMAPE: 24.97%  |  MAE: 20.690\n",
      "2023-04-23 - sMAPE: 25.03%  |  MAE: 20.644\n",
      "2023-04-24 - sMAPE: 24.88%  |  MAE: 20.570\n",
      "2023-04-25 - sMAPE: 24.93%  |  MAE: 20.544\n",
      "2023-04-26 - sMAPE: 24.94%  |  MAE: 20.536\n",
      "2023-04-27 - sMAPE: 24.91%  |  MAE: 20.547\n",
      "2023-04-28 - sMAPE: 24.75%  |  MAE: 20.429\n",
      "2023-04-29 - sMAPE: 24.80%  |  MAE: 20.439\n",
      "2023-04-30 - sMAPE: 25.13%  |  MAE: 20.518\n",
      "PL\n",
      "Test datasets: 2023-02-01 00:00:00 - 2023-04-30 23:00:00\n",
      "2023-02-01 - sMAPE: 11.65%  |  MAE: 12.701\n",
      "2023-02-02 - sMAPE: 10.07%  |  MAE: 11.800\n",
      "2023-02-03 - sMAPE: 8.33%  |  MAE: 10.029\n",
      "2023-02-04 - sMAPE: 9.17%  |  MAE: 11.140\n",
      "2023-02-05 - sMAPE: 9.09%  |  MAE: 11.163\n",
      "2023-02-06 - sMAPE: 8.59%  |  MAE: 11.047\n",
      "2023-02-07 - sMAPE: 8.57%  |  MAE: 11.617\n",
      "2023-02-08 - sMAPE: 8.07%  |  MAE: 11.088\n",
      "2023-02-09 - sMAPE: 8.05%  |  MAE: 11.092\n",
      "2023-02-10 - sMAPE: 8.11%  |  MAE: 11.115\n",
      "2023-02-11 - sMAPE: 8.36%  |  MAE: 11.264\n",
      "2023-02-12 - sMAPE: 9.14%  |  MAE: 12.147\n",
      "2023-02-13 - sMAPE: 8.99%  |  MAE: 12.085\n",
      "2023-02-14 - sMAPE: 8.91%  |  MAE: 12.137\n",
      "2023-02-15 - sMAPE: 8.86%  |  MAE: 12.176\n",
      "2023-02-16 - sMAPE: 8.69%  |  MAE: 12.009\n",
      "2023-02-17 - sMAPE: 8.62%  |  MAE: 11.868\n",
      "2023-02-18 - sMAPE: 8.74%  |  MAE: 11.827\n",
      "2023-02-19 - sMAPE: 8.83%  |  MAE: 11.757\n",
      "2023-02-20 - sMAPE: 10.07%  |  MAE: 13.174\n",
      "2023-02-21 - sMAPE: 10.64%  |  MAE: 13.586\n",
      "2023-02-22 - sMAPE: 10.45%  |  MAE: 13.441\n",
      "2023-02-23 - sMAPE: 10.31%  |  MAE: 13.304\n",
      "2023-02-24 - sMAPE: 10.10%  |  MAE: 13.065\n",
      "2023-02-25 - sMAPE: 9.94%  |  MAE: 12.831\n",
      "2023-02-26 - sMAPE: 9.97%  |  MAE: 12.807\n",
      "2023-02-27 - sMAPE: 9.80%  |  MAE: 12.638\n",
      "2023-02-28 - sMAPE: 9.84%  |  MAE: 12.763\n",
      "2023-03-01 - sMAPE: 9.66%  |  MAE: 12.559\n",
      "2023-03-02 - sMAPE: 9.48%  |  MAE: 12.363\n",
      "2023-03-03 - sMAPE: 9.62%  |  MAE: 12.585\n",
      "2023-03-04 - sMAPE: 9.45%  |  MAE: 12.325\n",
      "2023-03-05 - sMAPE: 9.56%  |  MAE: 12.412\n",
      "2023-03-06 - sMAPE: 9.61%  |  MAE: 12.583\n",
      "2023-03-07 - sMAPE: 9.59%  |  MAE: 12.540\n",
      "2023-03-08 - sMAPE: 9.59%  |  MAE: 12.595\n",
      "2023-03-09 - sMAPE: 9.47%  |  MAE: 12.454\n",
      "2023-03-10 - sMAPE: 9.41%  |  MAE: 12.367\n",
      "2023-03-11 - sMAPE: 9.39%  |  MAE: 12.297\n",
      "2023-03-12 - sMAPE: 9.78%  |  MAE: 12.596\n",
      "2023-03-13 - sMAPE: 10.16%  |  MAE: 13.103\n",
      "2023-03-14 - sMAPE: 10.32%  |  MAE: 13.147\n",
      "2023-03-15 - sMAPE: 10.32%  |  MAE: 13.148\n",
      "2023-03-16 - sMAPE: 10.29%  |  MAE: 13.123\n",
      "2023-03-17 - sMAPE: 10.31%  |  MAE: 13.078\n",
      "2023-03-18 - sMAPE: 10.26%  |  MAE: 12.995\n",
      "2023-03-19 - sMAPE: 10.20%  |  MAE: 12.883\n",
      "2023-03-20 - sMAPE: 10.15%  |  MAE: 12.836\n",
      "2023-03-21 - sMAPE: 10.15%  |  MAE: 12.843\n",
      "2023-03-22 - sMAPE: 10.12%  |  MAE: 12.801\n",
      "2023-03-23 - sMAPE: 10.07%  |  MAE: 12.724\n",
      "2023-03-24 - sMAPE: 10.20%  |  MAE: 12.862\n",
      "2023-03-25 - sMAPE: 10.11%  |  MAE: 12.725\n",
      "2023-03-26 - sMAPE: 10.60%  |  MAE: 12.886\n",
      "2023-03-27 - sMAPE: 10.64%  |  MAE: 12.913\n",
      "2023-03-28 - sMAPE: 10.67%  |  MAE: 12.921\n",
      "2023-03-29 - sMAPE: 10.58%  |  MAE: 12.817\n",
      "2023-03-30 - sMAPE: 10.54%  |  MAE: 12.760\n",
      "2023-03-31 - sMAPE: 10.62%  |  MAE: 12.855\n",
      "2023-04-01 - sMAPE: 10.55%  |  MAE: 12.777\n",
      "2023-04-02 - sMAPE: 10.66%  |  MAE: 12.755\n",
      "2023-04-03 - sMAPE: 10.64%  |  MAE: 12.734\n",
      "2023-04-04 - sMAPE: 10.65%  |  MAE: 12.762\n",
      "2023-04-05 - sMAPE: 10.63%  |  MAE: 12.780\n",
      "2023-04-06 - sMAPE: 10.55%  |  MAE: 12.704\n",
      "2023-04-07 - sMAPE: 10.51%  |  MAE: 12.661\n",
      "2023-04-08 - sMAPE: 10.44%  |  MAE: 12.574\n",
      "2023-04-09 - sMAPE: 10.51%  |  MAE: 12.620\n",
      "2023-04-10 - sMAPE: 10.52%  |  MAE: 12.610\n",
      "2023-04-11 - sMAPE: 10.50%  |  MAE: 12.589\n",
      "2023-04-12 - sMAPE: 10.49%  |  MAE: 12.599\n",
      "2023-04-13 - sMAPE: 10.56%  |  MAE: 12.715\n",
      "2023-04-14 - sMAPE: 10.53%  |  MAE: 12.696\n",
      "2023-04-15 - sMAPE: 10.50%  |  MAE: 12.657\n",
      "2023-04-16 - sMAPE: 10.42%  |  MAE: 12.563\n",
      "2023-04-17 - sMAPE: 10.35%  |  MAE: 12.491\n",
      "2023-04-18 - sMAPE: 10.32%  |  MAE: 12.454\n",
      "2023-04-19 - sMAPE: 10.28%  |  MAE: 12.418\n",
      "2023-04-20 - sMAPE: 10.25%  |  MAE: 12.380\n",
      "2023-04-21 - sMAPE: 10.19%  |  MAE: 12.317\n",
      "2023-04-22 - sMAPE: 10.17%  |  MAE: 12.280\n",
      "2023-04-23 - sMAPE: 10.36%  |  MAE: 12.356\n",
      "2023-04-24 - sMAPE: 10.34%  |  MAE: 12.341\n",
      "2023-04-25 - sMAPE: 10.28%  |  MAE: 12.274\n",
      "2023-04-26 - sMAPE: 10.25%  |  MAE: 12.239\n",
      "2023-04-27 - sMAPE: 10.21%  |  MAE: 12.184\n",
      "2023-04-28 - sMAPE: 10.18%  |  MAE: 12.155\n",
      "2023-04-29 - sMAPE: 10.24%  |  MAE: 12.209\n",
      "2023-04-30 - sMAPE: 10.71%  |  MAE: 12.411\n",
      "RO\n",
      "Test datasets: 2023-02-01 00:00:00 - 2023-04-30 23:00:00\n",
      "2023-02-01 - sMAPE: 14.65%  |  MAE: 26.269\n",
      "2023-02-02 - sMAPE: 12.45%  |  MAE: 21.970\n",
      "2023-02-03 - sMAPE: 11.32%  |  MAE: 19.505\n",
      "2023-02-04 - sMAPE: 13.99%  |  MAE: 21.319\n",
      "2023-02-05 - sMAPE: 18.66%  |  MAE: 22.766\n",
      "2023-02-06 - sMAPE: 19.89%  |  MAE: 26.240\n",
      "2023-02-07 - sMAPE: 19.67%  |  MAE: 26.492\n",
      "2023-02-08 - sMAPE: 19.31%  |  MAE: 26.795\n",
      "2023-02-09 - sMAPE: 18.73%  |  MAE: 26.302\n",
      "2023-02-10 - sMAPE: 17.75%  |  MAE: 25.118\n",
      "2023-02-11 - sMAPE: 17.08%  |  MAE: 24.088\n",
      "2023-02-12 - sMAPE: 18.33%  |  MAE: 25.112\n",
      "2023-02-13 - sMAPE: 18.63%  |  MAE: 26.472\n",
      "2023-02-14 - sMAPE: 17.89%  |  MAE: 25.553\n",
      "2023-02-15 - sMAPE: 17.54%  |  MAE: 25.261\n",
      "2023-02-16 - sMAPE: 16.75%  |  MAE: 24.248\n",
      "2023-02-17 - sMAPE: 16.11%  |  MAE: 23.442\n",
      "2023-02-18 - sMAPE: 16.51%  |  MAE: 23.441\n",
      "2023-02-19 - sMAPE: 17.76%  |  MAE: 23.856\n",
      "2023-02-20 - sMAPE: 18.20%  |  MAE: 24.502\n",
      "2023-02-21 - sMAPE: 17.90%  |  MAE: 23.852\n",
      "2023-02-22 - sMAPE: 17.75%  |  MAE: 23.860\n",
      "2023-02-23 - sMAPE: 17.35%  |  MAE: 23.331\n",
      "2023-02-24 - sMAPE: 17.05%  |  MAE: 22.930\n",
      "2023-02-25 - sMAPE: 17.36%  |  MAE: 22.736\n",
      "2023-02-26 - sMAPE: 19.26%  |  MAE: 22.938\n",
      "2023-02-27 - sMAPE: 19.40%  |  MAE: 23.253\n",
      "2023-02-28 - sMAPE: 19.15%  |  MAE: 23.168\n",
      "2023-03-01 - sMAPE: 18.87%  |  MAE: 23.032\n",
      "2023-03-02 - sMAPE: 18.50%  |  MAE: 22.658\n",
      "2023-03-03 - sMAPE: 18.17%  |  MAE: 22.324\n",
      "2023-03-04 - sMAPE: 18.81%  |  MAE: 22.717\n",
      "2023-03-05 - sMAPE: 19.19%  |  MAE: 22.851\n",
      "2023-03-06 - sMAPE: 19.21%  |  MAE: 23.067\n",
      "2023-03-07 - sMAPE: 19.04%  |  MAE: 22.891\n",
      "2023-03-08 - sMAPE: 18.81%  |  MAE: 22.604\n",
      "2023-03-09 - sMAPE: 18.86%  |  MAE: 22.508\n",
      "2023-03-10 - sMAPE: 18.85%  |  MAE: 22.379\n",
      "2023-03-11 - sMAPE: 20.60%  |  MAE: 23.199\n",
      "2023-03-12 - sMAPE: 21.75%  |  MAE: 23.760\n",
      "2023-03-13 - sMAPE: 22.40%  |  MAE: 24.079\n",
      "2023-03-14 - sMAPE: 23.27%  |  MAE: 24.236\n",
      "2023-03-15 - sMAPE: 23.00%  |  MAE: 23.965\n",
      "2023-03-16 - sMAPE: 22.85%  |  MAE: 23.889\n",
      "2023-03-17 - sMAPE: 22.69%  |  MAE: 23.683\n",
      "2023-03-18 - sMAPE: 23.56%  |  MAE: 23.978\n",
      "2023-03-19 - sMAPE: 24.41%  |  MAE: 24.326\n",
      "2023-03-20 - sMAPE: 24.24%  |  MAE: 24.305\n",
      "2023-03-21 - sMAPE: 24.13%  |  MAE: 24.363\n",
      "2023-03-22 - sMAPE: 23.93%  |  MAE: 24.278\n",
      "2023-03-23 - sMAPE: 23.64%  |  MAE: 24.003\n",
      "2023-03-24 - sMAPE: 23.69%  |  MAE: 23.908\n",
      "2023-03-25 - sMAPE: 25.17%  |  MAE: 24.022\n",
      "2023-03-26 - sMAPE: 26.85%  |  MAE: 24.394\n",
      "2023-03-27 - sMAPE: 27.42%  |  MAE: 24.394\n",
      "2023-03-28 - sMAPE: 27.92%  |  MAE: 24.535\n",
      "2023-03-29 - sMAPE: 27.79%  |  MAE: 24.540\n",
      "2023-03-30 - sMAPE: 27.73%  |  MAE: 24.534\n",
      "2023-03-31 - sMAPE: 27.70%  |  MAE: 24.515\n",
      "2023-04-01 - sMAPE: 28.02%  |  MAE: 24.439\n",
      "2023-04-02 - sMAPE: 29.77%  |  MAE: 25.062\n",
      "2023-04-03 - sMAPE: 29.67%  |  MAE: 25.055\n",
      "2023-04-04 - sMAPE: 29.54%  |  MAE: 25.000\n",
      "2023-04-05 - sMAPE: 29.73%  |  MAE: 25.161\n",
      "2023-04-06 - sMAPE: 29.62%  |  MAE: 25.246\n",
      "2023-04-07 - sMAPE: 29.36%  |  MAE: 25.096\n",
      "2023-04-08 - sMAPE: 29.29%  |  MAE: 25.081\n",
      "2023-04-09 - sMAPE: 29.64%  |  MAE: 25.232\n",
      "2023-04-10 - sMAPE: 30.18%  |  MAE: 25.564\n",
      "2023-04-11 - sMAPE: 30.63%  |  MAE: 25.724\n",
      "2023-04-12 - sMAPE: 30.32%  |  MAE: 25.541\n",
      "2023-04-13 - sMAPE: 30.27%  |  MAE: 25.540\n",
      "2023-04-14 - sMAPE: 30.50%  |  MAE: 25.627\n",
      "2023-04-15 - sMAPE: 30.78%  |  MAE: 25.713\n",
      "2023-04-16 - sMAPE: 31.83%  |  MAE: 26.253\n",
      "2023-04-17 - sMAPE: 32.12%  |  MAE: 26.413\n",
      "2023-04-18 - sMAPE: 31.93%  |  MAE: 26.358\n",
      "2023-04-19 - sMAPE: 31.69%  |  MAE: 26.214\n",
      "2023-04-20 - sMAPE: 31.44%  |  MAE: 26.041\n",
      "2023-04-21 - sMAPE: 31.18%  |  MAE: 25.834\n",
      "2023-04-22 - sMAPE: 31.14%  |  MAE: 25.737\n",
      "2023-04-23 - sMAPE: 31.74%  |  MAE: 25.610\n",
      "2023-04-24 - sMAPE: 31.55%  |  MAE: 25.455\n",
      "2023-04-25 - sMAPE: 31.54%  |  MAE: 25.447\n",
      "2023-04-26 - sMAPE: 31.32%  |  MAE: 25.321\n",
      "2023-04-27 - sMAPE: 31.64%  |  MAE: 25.396\n",
      "2023-04-28 - sMAPE: 31.90%  |  MAE: 25.382\n",
      "2023-04-29 - sMAPE: 32.45%  |  MAE: 25.620\n",
      "2023-04-30 - sMAPE: 33.22%  |  MAE: 25.726\n",
      "SI\n",
      "Test datasets: 2023-02-01 00:00:00 - 2023-04-30 23:00:00\n",
      "2023-02-01 - sMAPE: 4.06%  |  MAE: 5.577\n",
      "2023-02-02 - sMAPE: 5.55%  |  MAE: 7.791\n",
      "2023-02-03 - sMAPE: 6.76%  |  MAE: 9.464\n",
      "2023-02-04 - sMAPE: 8.98%  |  MAE: 12.504\n",
      "2023-02-05 - sMAPE: 9.38%  |  MAE: 12.776\n",
      "2023-02-06 - sMAPE: 9.55%  |  MAE: 13.659\n",
      "2023-02-07 - sMAPE: 9.67%  |  MAE: 14.432\n",
      "2023-02-08 - sMAPE: 9.11%  |  MAE: 13.703\n",
      "2023-02-09 - sMAPE: 9.09%  |  MAE: 13.794\n",
      "2023-02-10 - sMAPE: 9.29%  |  MAE: 14.301\n",
      "2023-02-11 - sMAPE: 8.87%  |  MAE: 13.602\n",
      "2023-02-12 - sMAPE: 9.13%  |  MAE: 13.749\n",
      "2023-02-13 - sMAPE: 9.07%  |  MAE: 13.796\n",
      "2023-02-14 - sMAPE: 9.20%  |  MAE: 14.137\n",
      "2023-02-15 - sMAPE: 8.84%  |  MAE: 13.626\n",
      "2023-02-16 - sMAPE: 8.79%  |  MAE: 13.642\n",
      "2023-02-17 - sMAPE: 8.56%  |  MAE: 13.326\n",
      "2023-02-18 - sMAPE: 9.40%  |  MAE: 14.190\n",
      "2023-02-19 - sMAPE: 9.55%  |  MAE: 14.131\n",
      "2023-02-20 - sMAPE: 10.26%  |  MAE: 14.931\n",
      "2023-02-21 - sMAPE: 10.12%  |  MAE: 14.647\n",
      "2023-02-22 - sMAPE: 9.96%  |  MAE: 14.450\n",
      "2023-02-23 - sMAPE: 9.86%  |  MAE: 14.290\n",
      "2023-02-24 - sMAPE: 9.89%  |  MAE: 14.344\n",
      "2023-02-25 - sMAPE: 9.82%  |  MAE: 14.106\n",
      "2023-02-26 - sMAPE: 9.91%  |  MAE: 14.059\n",
      "2023-02-27 - sMAPE: 10.10%  |  MAE: 14.438\n",
      "2023-02-28 - sMAPE: 10.02%  |  MAE: 14.392\n",
      "2023-03-01 - sMAPE: 9.81%  |  MAE: 14.112\n",
      "2023-03-02 - sMAPE: 9.64%  |  MAE: 13.895\n",
      "2023-03-03 - sMAPE: 9.42%  |  MAE: 13.581\n",
      "2023-03-04 - sMAPE: 9.32%  |  MAE: 13.400\n",
      "2023-03-05 - sMAPE: 9.42%  |  MAE: 13.412\n",
      "2023-03-06 - sMAPE: 9.44%  |  MAE: 13.504\n",
      "2023-03-07 - sMAPE: 9.39%  |  MAE: 13.436\n",
      "2023-03-08 - sMAPE: 9.28%  |  MAE: 13.258\n",
      "2023-03-09 - sMAPE: 9.15%  |  MAE: 13.049\n",
      "2023-03-10 - sMAPE: 9.05%  |  MAE: 12.877\n",
      "2023-03-11 - sMAPE: 9.17%  |  MAE: 12.908\n",
      "2023-03-12 - sMAPE: 9.20%  |  MAE: 12.808\n",
      "2023-03-13 - sMAPE: 9.56%  |  MAE: 12.981\n",
      "2023-03-14 - sMAPE: 10.48%  |  MAE: 13.291\n",
      "2023-03-15 - sMAPE: 10.53%  |  MAE: 13.338\n",
      "2023-03-16 - sMAPE: 10.60%  |  MAE: 13.393\n",
      "2023-03-17 - sMAPE: 10.79%  |  MAE: 13.574\n",
      "2023-03-18 - sMAPE: 10.78%  |  MAE: 13.491\n",
      "2023-03-19 - sMAPE: 11.05%  |  MAE: 13.667\n",
      "2023-03-20 - sMAPE: 11.32%  |  MAE: 14.107\n",
      "2023-03-21 - sMAPE: 11.38%  |  MAE: 14.239\n",
      "2023-03-22 - sMAPE: 11.34%  |  MAE: 14.141\n",
      "2023-03-23 - sMAPE: 11.31%  |  MAE: 14.066\n",
      "2023-03-24 - sMAPE: 11.45%  |  MAE: 14.137\n",
      "2023-03-25 - sMAPE: 12.96%  |  MAE: 14.395\n",
      "2023-03-26 - sMAPE: 16.19%  |  MAE: 16.253\n",
      "2023-03-27 - sMAPE: 16.34%  |  MAE: 16.363\n",
      "2023-03-28 - sMAPE: 16.36%  |  MAE: 16.448\n",
      "2023-03-29 - sMAPE: 16.20%  |  MAE: 16.327\n",
      "2023-03-30 - sMAPE: 16.24%  |  MAE: 16.356\n",
      "2023-03-31 - sMAPE: 16.19%  |  MAE: 16.278\n",
      "2023-04-01 - sMAPE: 16.63%  |  MAE: 16.320\n",
      "2023-04-02 - sMAPE: 17.68%  |  MAE: 16.613\n",
      "2023-04-03 - sMAPE: 17.56%  |  MAE: 16.511\n",
      "2023-04-04 - sMAPE: 17.43%  |  MAE: 16.404\n",
      "2023-04-05 - sMAPE: 17.33%  |  MAE: 16.363\n",
      "2023-04-06 - sMAPE: 17.25%  |  MAE: 16.354\n",
      "2023-04-07 - sMAPE: 17.20%  |  MAE: 16.340\n",
      "2023-04-08 - sMAPE: 17.22%  |  MAE: 16.398\n",
      "2023-04-09 - sMAPE: 17.27%  |  MAE: 16.418\n",
      "2023-04-10 - sMAPE: 17.84%  |  MAE: 16.590\n",
      "2023-04-11 - sMAPE: 18.21%  |  MAE: 16.775\n",
      "2023-04-12 - sMAPE: 18.23%  |  MAE: 16.889\n",
      "2023-04-13 - sMAPE: 18.06%  |  MAE: 16.756\n",
      "2023-04-14 - sMAPE: 17.89%  |  MAE: 16.617\n",
      "2023-04-15 - sMAPE: 17.78%  |  MAE: 16.509\n",
      "2023-04-16 - sMAPE: 17.89%  |  MAE: 16.594\n",
      "2023-04-17 - sMAPE: 17.80%  |  MAE: 16.551\n",
      "2023-04-18 - sMAPE: 17.73%  |  MAE: 16.546\n",
      "2023-04-19 - sMAPE: 17.61%  |  MAE: 16.467\n",
      "2023-04-20 - sMAPE: 17.51%  |  MAE: 16.387\n",
      "2023-04-21 - sMAPE: 17.46%  |  MAE: 16.356\n",
      "2023-04-22 - sMAPE: 17.60%  |  MAE: 16.373\n",
      "2023-04-23 - sMAPE: 17.88%  |  MAE: 16.438\n",
      "2023-04-24 - sMAPE: 17.82%  |  MAE: 16.428\n",
      "2023-04-25 - sMAPE: 17.85%  |  MAE: 16.515\n",
      "2023-04-26 - sMAPE: 17.75%  |  MAE: 16.427\n",
      "2023-04-27 - sMAPE: 17.71%  |  MAE: 16.387\n",
      "2023-04-28 - sMAPE: 17.63%  |  MAE: 16.321\n",
      "2023-04-29 - sMAPE: 17.85%  |  MAE: 16.452\n",
      "2023-04-30 - sMAPE: 18.17%  |  MAE: 16.420\n",
      "SK\n",
      "Test datasets: 2023-02-01 00:00:00 - 2023-04-30 23:00:00\n",
      "2023-02-01 - sMAPE: 11.21%  |  MAE: 17.129\n",
      "2023-02-02 - sMAPE: 9.54%  |  MAE: 14.481\n",
      "2023-02-03 - sMAPE: 9.17%  |  MAE: 13.557\n",
      "2023-02-04 - sMAPE: 11.30%  |  MAE: 16.003\n",
      "2023-02-05 - sMAPE: 10.52%  |  MAE: 14.602\n",
      "2023-02-06 - sMAPE: 11.61%  |  MAE: 17.173\n",
      "2023-02-07 - sMAPE: 11.05%  |  MAE: 16.734\n",
      "2023-02-08 - sMAPE: 11.34%  |  MAE: 17.613\n",
      "2023-02-09 - sMAPE: 10.93%  |  MAE: 16.931\n",
      "2023-02-10 - sMAPE: 10.60%  |  MAE: 16.499\n",
      "2023-02-11 - sMAPE: 10.38%  |  MAE: 16.039\n",
      "2023-02-12 - sMAPE: 11.14%  |  MAE: 16.686\n",
      "2023-02-13 - sMAPE: 10.94%  |  MAE: 16.487\n",
      "2023-02-14 - sMAPE: 10.78%  |  MAE: 16.336\n",
      "2023-02-15 - sMAPE: 10.70%  |  MAE: 16.253\n",
      "2023-02-16 - sMAPE: 10.39%  |  MAE: 15.877\n",
      "2023-02-17 - sMAPE: 10.72%  |  MAE: 16.515\n",
      "2023-02-18 - sMAPE: 12.15%  |  MAE: 18.203\n",
      "2023-02-19 - sMAPE: 12.58%  |  MAE: 18.314\n",
      "2023-02-20 - sMAPE: 13.34%  |  MAE: 19.146\n",
      "2023-02-21 - sMAPE: 13.46%  |  MAE: 19.130\n",
      "2023-02-22 - sMAPE: 13.14%  |  MAE: 18.685\n",
      "2023-02-23 - sMAPE: 12.97%  |  MAE: 18.438\n",
      "2023-02-24 - sMAPE: 12.77%  |  MAE: 18.149\n",
      "2023-02-25 - sMAPE: 12.84%  |  MAE: 17.914\n",
      "2023-02-26 - sMAPE: 13.37%  |  MAE: 18.227\n",
      "2023-02-27 - sMAPE: 13.30%  |  MAE: 18.207\n",
      "2023-02-28 - sMAPE: 13.10%  |  MAE: 17.986\n",
      "2023-03-01 - sMAPE: 12.79%  |  MAE: 17.599\n",
      "2023-03-02 - sMAPE: 12.58%  |  MAE: 17.330\n",
      "2023-03-03 - sMAPE: 12.36%  |  MAE: 17.036\n",
      "2023-03-04 - sMAPE: 12.49%  |  MAE: 17.068\n",
      "2023-03-05 - sMAPE: 12.93%  |  MAE: 17.388\n",
      "2023-03-06 - sMAPE: 12.86%  |  MAE: 17.370\n",
      "2023-03-07 - sMAPE: 12.70%  |  MAE: 17.161\n",
      "2023-03-08 - sMAPE: 12.53%  |  MAE: 16.923\n",
      "2023-03-09 - sMAPE: 12.31%  |  MAE: 16.615\n",
      "2023-03-10 - sMAPE: 12.27%  |  MAE: 16.507\n",
      "2023-03-11 - sMAPE: 12.54%  |  MAE: 16.630\n",
      "2023-03-12 - sMAPE: 12.68%  |  MAE: 16.591\n",
      "2023-03-13 - sMAPE: 12.99%  |  MAE: 16.763\n",
      "2023-03-14 - sMAPE: 13.80%  |  MAE: 16.946\n",
      "2023-03-15 - sMAPE: 13.71%  |  MAE: 16.837\n",
      "2023-03-16 - sMAPE: 13.78%  |  MAE: 16.922\n",
      "2023-03-17 - sMAPE: 13.75%  |  MAE: 16.798\n",
      "2023-03-18 - sMAPE: 13.96%  |  MAE: 16.905\n",
      "2023-03-19 - sMAPE: 14.31%  |  MAE: 17.106\n",
      "2023-03-20 - sMAPE: 14.40%  |  MAE: 17.312\n",
      "2023-03-21 - sMAPE: 14.26%  |  MAE: 17.160\n",
      "2023-03-22 - sMAPE: 14.23%  |  MAE: 17.100\n",
      "2023-03-23 - sMAPE: 14.17%  |  MAE: 16.988\n",
      "2023-03-24 - sMAPE: 14.15%  |  MAE: 16.901\n",
      "2023-03-25 - sMAPE: 15.67%  |  MAE: 17.248\n",
      "2023-03-26 - sMAPE: 17.71%  |  MAE: 18.021\n",
      "2023-03-27 - sMAPE: 17.63%  |  MAE: 17.893\n",
      "2023-03-28 - sMAPE: 17.58%  |  MAE: 17.838\n",
      "2023-03-29 - sMAPE: 17.41%  |  MAE: 17.695\n",
      "2023-03-30 - sMAPE: 17.26%  |  MAE: 17.546\n",
      "2023-03-31 - sMAPE: 17.34%  |  MAE: 17.588\n",
      "2023-04-01 - sMAPE: 17.40%  |  MAE: 17.474\n",
      "2023-04-02 - sMAPE: 18.61%  |  MAE: 17.763\n",
      "2023-04-03 - sMAPE: 18.53%  |  MAE: 17.711\n",
      "2023-04-04 - sMAPE: 18.37%  |  MAE: 17.575\n",
      "2023-04-05 - sMAPE: 18.23%  |  MAE: 17.509\n",
      "2023-04-06 - sMAPE: 18.05%  |  MAE: 17.366\n",
      "2023-04-07 - sMAPE: 18.11%  |  MAE: 17.447\n",
      "2023-04-08 - sMAPE: 18.07%  |  MAE: 17.438\n",
      "2023-04-09 - sMAPE: 18.09%  |  MAE: 17.480\n",
      "2023-04-10 - sMAPE: 18.74%  |  MAE: 17.743\n",
      "2023-04-11 - sMAPE: 19.17%  |  MAE: 17.957\n",
      "2023-04-12 - sMAPE: 18.98%  |  MAE: 17.807\n",
      "2023-04-13 - sMAPE: 18.90%  |  MAE: 17.762\n",
      "2023-04-14 - sMAPE: 18.73%  |  MAE: 17.628\n",
      "2023-04-15 - sMAPE: 18.58%  |  MAE: 17.500\n",
      "2023-04-16 - sMAPE: 18.83%  |  MAE: 17.662\n",
      "2023-04-17 - sMAPE: 18.68%  |  MAE: 17.547\n",
      "2023-04-18 - sMAPE: 18.62%  |  MAE: 17.536\n",
      "2023-04-19 - sMAPE: 18.60%  |  MAE: 17.540\n",
      "2023-04-20 - sMAPE: 18.49%  |  MAE: 17.470\n",
      "2023-04-21 - sMAPE: 18.39%  |  MAE: 17.379\n",
      "2023-04-22 - sMAPE: 18.47%  |  MAE: 17.334\n",
      "2023-04-23 - sMAPE: 18.62%  |  MAE: 17.340\n",
      "2023-04-24 - sMAPE: 18.55%  |  MAE: 17.309\n",
      "2023-04-25 - sMAPE: 18.50%  |  MAE: 17.288\n",
      "2023-04-26 - sMAPE: 18.39%  |  MAE: 17.223\n",
      "2023-04-27 - sMAPE: 18.27%  |  MAE: 17.128\n",
      "2023-04-28 - sMAPE: 18.18%  |  MAE: 17.050\n",
      "2023-04-29 - sMAPE: 18.31%  |  MAE: 17.125\n",
      "2023-04-30 - sMAPE: 18.70%  |  MAE: 17.133\n"
     ]
    }
   ],
   "source": [
    "for zone in countries:\n",
    "    print(zone)\n",
    "    dataset = '{0}_CORE'.format(zone)\n",
    "    \n",
    "    # Number of days used in the training dataset for recalibration\n",
    "    calibration_window = 364 * 2\n",
    "    \n",
    "    evaluate_lear_in_test_dataset(\n",
    "        path_recalibration_folder=path_recalibration_folder, \n",
    "        path_datasets_folder=path_datasets_folder, \n",
    "        dataset=dataset, \n",
    "        calibration_window=calibration_window,\n",
    "        begin_test_date=begin_test_date, \n",
    "        end_test_date=end_test_date\n",
    "    )"
   ]
  },
  {
   "cell_type": "code",
   "execution_count": 20,
   "id": "67873380-4181-4b06-bd30-05b07e947297",
   "metadata": {},
   "outputs": [
    {
     "name": "stdout",
     "output_type": "stream",
     "text": [
      "Test datasets: 2023-06-01 00:00:00 - 2023-07-29 23:00:00\n"
     ]
    },
    {
     "data": {
      "text/html": [
       "<div>\n",
       "<style scoped>\n",
       "    .dataframe tbody tr th:only-of-type {\n",
       "        vertical-align: middle;\n",
       "    }\n",
       "\n",
       "    .dataframe tbody tr th {\n",
       "        vertical-align: top;\n",
       "    }\n",
       "\n",
       "    .dataframe thead th {\n",
       "        text-align: right;\n",
       "    }\n",
       "</style>\n",
       "<table border=\"1\" class=\"dataframe\">\n",
       "  <thead>\n",
       "    <tr style=\"text-align: right;\">\n",
       "      <th></th>\n",
       "      <th>Price</th>\n",
       "      <th>Exogenous 1</th>\n",
       "      <th>Exogenous 2</th>\n",
       "    </tr>\n",
       "    <tr>\n",
       "      <th>Date</th>\n",
       "      <th></th>\n",
       "      <th></th>\n",
       "      <th></th>\n",
       "    </tr>\n",
       "  </thead>\n",
       "  <tbody>\n",
       "    <tr>\n",
       "      <th>2023-06-01 00:00:00</th>\n",
       "      <td>84.15</td>\n",
       "      <td>5397.0</td>\n",
       "      <td>6275.0</td>\n",
       "    </tr>\n",
       "    <tr>\n",
       "      <th>2023-06-01 01:00:00</th>\n",
       "      <td>74.30</td>\n",
       "      <td>5156.0</td>\n",
       "      <td>5874.0</td>\n",
       "    </tr>\n",
       "    <tr>\n",
       "      <th>2023-06-01 02:00:00</th>\n",
       "      <td>70.10</td>\n",
       "      <td>5049.0</td>\n",
       "      <td>5754.0</td>\n",
       "    </tr>\n",
       "    <tr>\n",
       "      <th>2023-06-01 03:00:00</th>\n",
       "      <td>66.24</td>\n",
       "      <td>4969.0</td>\n",
       "      <td>5734.0</td>\n",
       "    </tr>\n",
       "    <tr>\n",
       "      <th>2023-06-01 04:00:00</th>\n",
       "      <td>67.62</td>\n",
       "      <td>5088.0</td>\n",
       "      <td>5767.0</td>\n",
       "    </tr>\n",
       "    <tr>\n",
       "      <th>...</th>\n",
       "      <td>...</td>\n",
       "      <td>...</td>\n",
       "      <td>...</td>\n",
       "    </tr>\n",
       "    <tr>\n",
       "      <th>2023-07-29 19:00:00</th>\n",
       "      <td>96.57</td>\n",
       "      <td>5703.0</td>\n",
       "      <td>5694.0</td>\n",
       "    </tr>\n",
       "    <tr>\n",
       "      <th>2023-07-29 20:00:00</th>\n",
       "      <td>101.66</td>\n",
       "      <td>5663.0</td>\n",
       "      <td>6968.0</td>\n",
       "    </tr>\n",
       "    <tr>\n",
       "      <th>2023-07-29 21:00:00</th>\n",
       "      <td>101.93</td>\n",
       "      <td>5536.0</td>\n",
       "      <td>7298.0</td>\n",
       "    </tr>\n",
       "    <tr>\n",
       "      <th>2023-07-29 22:00:00</th>\n",
       "      <td>101.56</td>\n",
       "      <td>5428.0</td>\n",
       "      <td>7145.0</td>\n",
       "    </tr>\n",
       "    <tr>\n",
       "      <th>2023-07-29 23:00:00</th>\n",
       "      <td>92.18</td>\n",
       "      <td>5054.0</td>\n",
       "      <td>5983.0</td>\n",
       "    </tr>\n",
       "  </tbody>\n",
       "</table>\n",
       "<p>1416 rows × 3 columns</p>\n",
       "</div>"
      ],
      "text/plain": [
       "                      Price  Exogenous 1  Exogenous 2\n",
       "Date                                                 \n",
       "2023-06-01 00:00:00   84.15       5397.0       6275.0\n",
       "2023-06-01 01:00:00   74.30       5156.0       5874.0\n",
       "2023-06-01 02:00:00   70.10       5049.0       5754.0\n",
       "2023-06-01 03:00:00   66.24       4969.0       5734.0\n",
       "2023-06-01 04:00:00   67.62       5088.0       5767.0\n",
       "...                     ...          ...          ...\n",
       "2023-07-29 19:00:00   96.57       5703.0       5694.0\n",
       "2023-07-29 20:00:00  101.66       5663.0       6968.0\n",
       "2023-07-29 21:00:00  101.93       5536.0       7298.0\n",
       "2023-07-29 22:00:00  101.56       5428.0       7145.0\n",
       "2023-07-29 23:00:00   92.18       5054.0       5983.0\n",
       "\n",
       "[1416 rows x 3 columns]"
      ]
     },
     "metadata": {},
     "output_type": "display_data"
    }
   ],
   "source": [
    "df_train, df_test = read_data(path=path_datasets_folder, dataset=dataset, begin_test_date=begin_test_date, end_test_date=end_test_date)\n",
    "display(df_test)"
   ]
  },
  {
   "cell_type": "code",
   "execution_count": 3,
   "id": "d51fcca9-e5f5-4747-905b-dbe737a96b9e",
   "metadata": {
    "scrolled": true
   },
   "outputs": [
    {
     "name": "stdout",
     "output_type": "stream",
     "text": [
      "SK\n",
      "Test datasets: 2023-02-01 00:00:00 - 2023-04-30 23:00:00\n"
     ]
    },
    {
     "name": "stderr",
     "output_type": "stream",
     "text": [
      "WARNING:absl:At this time, the v2.11+ optimizer `tf.keras.optimizers.Adam` runs slowly on M1/M2 Macs, please use the legacy Keras optimizer instead, located at `tf.keras.optimizers.legacy.Adam`.\n",
      "WARNING:absl:`lr` is deprecated in Keras optimizer, please use `learning_rate` or use the legacy optimizer, e.g.,tf.keras.optimizers.legacy.Adam.\n",
      "WARNING:absl:There is a known slowdown when using v2.11+ Keras optimizers on M1/M2 Macs. Falling back to the legacy Keras optimizer, i.e., `tf.keras.optimizers.legacy.Adam`.\n",
      "WARNING:absl:At this time, the v2.11+ optimizer `tf.keras.optimizers.Adam` runs slowly on M1/M2 Macs, please use the legacy Keras optimizer instead, located at `tf.keras.optimizers.legacy.Adam`.\n",
      "WARNING:absl:`lr` is deprecated in Keras optimizer, please use `learning_rate` or use the legacy optimizer, e.g.,tf.keras.optimizers.legacy.Adam.\n",
      "WARNING:absl:There is a known slowdown when using v2.11+ Keras optimizers on M1/M2 Macs. Falling back to the legacy Keras optimizer, i.e., `tf.keras.optimizers.legacy.Adam`.\n"
     ]
    },
    {
     "name": "stdout",
     "output_type": "stream",
     "text": [
      "\n",
      "\n",
      "Tested 1/100 iterations.\n",
      "Best MAE - Validation Dataset\n",
      "  MAE: 291.9 | sMAPE: 103.66 %\n",
      "\n",
      "Best MAE - Test Dataset\n",
      "  MAE: 244.6 | sMAPE: 114.02 %\n"
     ]
    },
    {
     "name": "stderr",
     "output_type": "stream",
     "text": [
      "WARNING:absl:At this time, the v2.11+ optimizer `tf.keras.optimizers.Adam` runs slowly on M1/M2 Macs, please use the legacy Keras optimizer instead, located at `tf.keras.optimizers.legacy.Adam`.\n",
      "WARNING:absl:`lr` is deprecated in Keras optimizer, please use `learning_rate` or use the legacy optimizer, e.g.,tf.keras.optimizers.legacy.Adam.\n",
      "WARNING:absl:There is a known slowdown when using v2.11+ Keras optimizers on M1/M2 Macs. Falling back to the legacy Keras optimizer, i.e., `tf.keras.optimizers.legacy.Adam`.\n"
     ]
    },
    {
     "name": "stdout",
     "output_type": "stream",
     "text": [
      "\n",
      "\n",
      "Tested 2/100 iterations.\n",
      "Best MAE - Validation Dataset\n",
      "  MAE: 96.8 | sMAPE: 57.25 %\n",
      "\n",
      "Best MAE - Test Dataset\n",
      "  MAE: 47.0 | sMAPE: 36.47 %\n"
     ]
    },
    {
     "name": "stderr",
     "output_type": "stream",
     "text": [
      "WARNING:absl:At this time, the v2.11+ optimizer `tf.keras.optimizers.Adam` runs slowly on M1/M2 Macs, please use the legacy Keras optimizer instead, located at `tf.keras.optimizers.legacy.Adam`.\n",
      "WARNING:absl:`lr` is deprecated in Keras optimizer, please use `learning_rate` or use the legacy optimizer, e.g.,tf.keras.optimizers.legacy.Adam.\n",
      "WARNING:absl:There is a known slowdown when using v2.11+ Keras optimizers on M1/M2 Macs. Falling back to the legacy Keras optimizer, i.e., `tf.keras.optimizers.legacy.Adam`.\n"
     ]
    },
    {
     "name": "stdout",
     "output_type": "stream",
     "text": [
      "\n",
      "\n",
      "Tested 3/100 iterations.\n",
      "Best MAE - Validation Dataset\n",
      "  MAE: 63.7 | sMAPE: 42.46 %\n",
      "\n",
      "Best MAE - Test Dataset\n",
      "  MAE: 28.7 | sMAPE: 28.06 %\n"
     ]
    },
    {
     "name": "stderr",
     "output_type": "stream",
     "text": [
      "WARNING:absl:At this time, the v2.11+ optimizer `tf.keras.optimizers.Adam` runs slowly on M1/M2 Macs, please use the legacy Keras optimizer instead, located at `tf.keras.optimizers.legacy.Adam`.\n",
      "WARNING:absl:`lr` is deprecated in Keras optimizer, please use `learning_rate` or use the legacy optimizer, e.g.,tf.keras.optimizers.legacy.Adam.\n",
      "WARNING:absl:There is a known slowdown when using v2.11+ Keras optimizers on M1/M2 Macs. Falling back to the legacy Keras optimizer, i.e., `tf.keras.optimizers.legacy.Adam`.\n"
     ]
    },
    {
     "name": "stdout",
     "output_type": "stream",
     "text": [
      "\n",
      "\n",
      "Tested 4/100 iterations.\n",
      "Best MAE - Validation Dataset\n",
      "  MAE: 36.2 | sMAPE: 22.97 %\n",
      "\n",
      "Best MAE - Test Dataset\n",
      "  MAE: 21.9 | sMAPE: 21.37 %\n"
     ]
    },
    {
     "name": "stderr",
     "output_type": "stream",
     "text": [
      "WARNING:absl:At this time, the v2.11+ optimizer `tf.keras.optimizers.Adam` runs slowly on M1/M2 Macs, please use the legacy Keras optimizer instead, located at `tf.keras.optimizers.legacy.Adam`.\n",
      "WARNING:absl:`lr` is deprecated in Keras optimizer, please use `learning_rate` or use the legacy optimizer, e.g.,tf.keras.optimizers.legacy.Adam.\n",
      "WARNING:absl:There is a known slowdown when using v2.11+ Keras optimizers on M1/M2 Macs. Falling back to the legacy Keras optimizer, i.e., `tf.keras.optimizers.legacy.Adam`.\n"
     ]
    },
    {
     "name": "stdout",
     "output_type": "stream",
     "text": [
      "\n",
      "\n",
      "Tested 5/100 iterations.\n",
      "Best MAE - Validation Dataset\n",
      "  MAE: 36.2 | sMAPE: 22.97 %\n",
      "\n",
      "Best MAE - Test Dataset\n",
      "  MAE: 21.9 | sMAPE: 21.37 %\n"
     ]
    },
    {
     "name": "stderr",
     "output_type": "stream",
     "text": [
      "WARNING:absl:At this time, the v2.11+ optimizer `tf.keras.optimizers.Adam` runs slowly on M1/M2 Macs, please use the legacy Keras optimizer instead, located at `tf.keras.optimizers.legacy.Adam`.\n",
      "WARNING:absl:`lr` is deprecated in Keras optimizer, please use `learning_rate` or use the legacy optimizer, e.g.,tf.keras.optimizers.legacy.Adam.\n",
      "WARNING:absl:There is a known slowdown when using v2.11+ Keras optimizers on M1/M2 Macs. Falling back to the legacy Keras optimizer, i.e., `tf.keras.optimizers.legacy.Adam`.\n"
     ]
    },
    {
     "name": "stdout",
     "output_type": "stream",
     "text": [
      "\n",
      "\n",
      "Tested 6/100 iterations.\n",
      "Best MAE - Validation Dataset\n",
      "  MAE: 36.2 | sMAPE: 22.97 %\n",
      "\n",
      "Best MAE - Test Dataset\n",
      "  MAE: 21.9 | sMAPE: 21.37 %\n"
     ]
    },
    {
     "name": "stderr",
     "output_type": "stream",
     "text": [
      "WARNING:absl:At this time, the v2.11+ optimizer `tf.keras.optimizers.Adam` runs slowly on M1/M2 Macs, please use the legacy Keras optimizer instead, located at `tf.keras.optimizers.legacy.Adam`.\n",
      "WARNING:absl:`lr` is deprecated in Keras optimizer, please use `learning_rate` or use the legacy optimizer, e.g.,tf.keras.optimizers.legacy.Adam.\n",
      "WARNING:absl:There is a known slowdown when using v2.11+ Keras optimizers on M1/M2 Macs. Falling back to the legacy Keras optimizer, i.e., `tf.keras.optimizers.legacy.Adam`.\n"
     ]
    },
    {
     "name": "stdout",
     "output_type": "stream",
     "text": [
      "\n",
      "\n",
      "Tested 7/100 iterations.\n",
      "Best MAE - Validation Dataset\n",
      "  MAE: 36.2 | sMAPE: 22.97 %\n",
      "\n",
      "Best MAE - Test Dataset\n",
      "  MAE: 21.9 | sMAPE: 21.37 %\n"
     ]
    },
    {
     "name": "stderr",
     "output_type": "stream",
     "text": [
      "WARNING:absl:At this time, the v2.11+ optimizer `tf.keras.optimizers.Adam` runs slowly on M1/M2 Macs, please use the legacy Keras optimizer instead, located at `tf.keras.optimizers.legacy.Adam`.\n",
      "WARNING:absl:`lr` is deprecated in Keras optimizer, please use `learning_rate` or use the legacy optimizer, e.g.,tf.keras.optimizers.legacy.Adam.\n",
      "WARNING:absl:There is a known slowdown when using v2.11+ Keras optimizers on M1/M2 Macs. Falling back to the legacy Keras optimizer, i.e., `tf.keras.optimizers.legacy.Adam`.\n"
     ]
    },
    {
     "name": "stdout",
     "output_type": "stream",
     "text": [
      "\n",
      "\n",
      "Tested 8/100 iterations.\n",
      "Best MAE - Validation Dataset\n",
      "  MAE: 36.2 | sMAPE: 22.97 %\n",
      "\n",
      "Best MAE - Test Dataset\n",
      "  MAE: 21.9 | sMAPE: 21.37 %\n"
     ]
    },
    {
     "name": "stderr",
     "output_type": "stream",
     "text": [
      "WARNING:absl:At this time, the v2.11+ optimizer `tf.keras.optimizers.Adam` runs slowly on M1/M2 Macs, please use the legacy Keras optimizer instead, located at `tf.keras.optimizers.legacy.Adam`.\n",
      "WARNING:absl:`lr` is deprecated in Keras optimizer, please use `learning_rate` or use the legacy optimizer, e.g.,tf.keras.optimizers.legacy.Adam.\n",
      "WARNING:absl:There is a known slowdown when using v2.11+ Keras optimizers on M1/M2 Macs. Falling back to the legacy Keras optimizer, i.e., `tf.keras.optimizers.legacy.Adam`.\n"
     ]
    },
    {
     "name": "stdout",
     "output_type": "stream",
     "text": [
      "\n",
      "\n",
      "Tested 9/100 iterations.\n",
      "Best MAE - Validation Dataset\n",
      "  MAE: 36.2 | sMAPE: 22.97 %\n",
      "\n",
      "Best MAE - Test Dataset\n",
      "  MAE: 21.9 | sMAPE: 21.37 %\n"
     ]
    },
    {
     "name": "stderr",
     "output_type": "stream",
     "text": [
      "WARNING:absl:At this time, the v2.11+ optimizer `tf.keras.optimizers.Adam` runs slowly on M1/M2 Macs, please use the legacy Keras optimizer instead, located at `tf.keras.optimizers.legacy.Adam`.\n",
      "WARNING:absl:`lr` is deprecated in Keras optimizer, please use `learning_rate` or use the legacy optimizer, e.g.,tf.keras.optimizers.legacy.Adam.\n",
      "WARNING:absl:There is a known slowdown when using v2.11+ Keras optimizers on M1/M2 Macs. Falling back to the legacy Keras optimizer, i.e., `tf.keras.optimizers.legacy.Adam`.\n"
     ]
    },
    {
     "name": "stdout",
     "output_type": "stream",
     "text": [
      "\n",
      "\n",
      "Tested 10/100 iterations.\n",
      "Best MAE - Validation Dataset\n",
      "  MAE: 36.2 | sMAPE: 22.97 %\n",
      "\n",
      "Best MAE - Test Dataset\n",
      "  MAE: 21.9 | sMAPE: 21.37 %\n"
     ]
    },
    {
     "name": "stderr",
     "output_type": "stream",
     "text": [
      "WARNING:absl:At this time, the v2.11+ optimizer `tf.keras.optimizers.Adam` runs slowly on M1/M2 Macs, please use the legacy Keras optimizer instead, located at `tf.keras.optimizers.legacy.Adam`.\n",
      "WARNING:absl:`lr` is deprecated in Keras optimizer, please use `learning_rate` or use the legacy optimizer, e.g.,tf.keras.optimizers.legacy.Adam.\n",
      "WARNING:absl:There is a known slowdown when using v2.11+ Keras optimizers on M1/M2 Macs. Falling back to the legacy Keras optimizer, i.e., `tf.keras.optimizers.legacy.Adam`.\n"
     ]
    },
    {
     "name": "stdout",
     "output_type": "stream",
     "text": [
      "\n",
      "\n",
      "Tested 11/100 iterations.\n",
      "Best MAE - Validation Dataset\n",
      "  MAE: 36.2 | sMAPE: 22.97 %\n",
      "\n",
      "Best MAE - Test Dataset\n",
      "  MAE: 21.9 | sMAPE: 21.37 %\n"
     ]
    },
    {
     "name": "stderr",
     "output_type": "stream",
     "text": [
      "WARNING:absl:At this time, the v2.11+ optimizer `tf.keras.optimizers.Adam` runs slowly on M1/M2 Macs, please use the legacy Keras optimizer instead, located at `tf.keras.optimizers.legacy.Adam`.\n",
      "WARNING:absl:`lr` is deprecated in Keras optimizer, please use `learning_rate` or use the legacy optimizer, e.g.,tf.keras.optimizers.legacy.Adam.\n",
      "WARNING:absl:There is a known slowdown when using v2.11+ Keras optimizers on M1/M2 Macs. Falling back to the legacy Keras optimizer, i.e., `tf.keras.optimizers.legacy.Adam`.\n"
     ]
    },
    {
     "name": "stdout",
     "output_type": "stream",
     "text": [
      "\n",
      "\n",
      "Tested 12/100 iterations.\n",
      "Best MAE - Validation Dataset\n",
      "  MAE: 36.2 | sMAPE: 22.97 %\n",
      "\n",
      "Best MAE - Test Dataset\n",
      "  MAE: 21.9 | sMAPE: 21.37 %\n"
     ]
    },
    {
     "name": "stderr",
     "output_type": "stream",
     "text": [
      "WARNING:absl:At this time, the v2.11+ optimizer `tf.keras.optimizers.Adam` runs slowly on M1/M2 Macs, please use the legacy Keras optimizer instead, located at `tf.keras.optimizers.legacy.Adam`.\n",
      "WARNING:absl:`lr` is deprecated in Keras optimizer, please use `learning_rate` or use the legacy optimizer, e.g.,tf.keras.optimizers.legacy.Adam.\n",
      "WARNING:absl:There is a known slowdown when using v2.11+ Keras optimizers on M1/M2 Macs. Falling back to the legacy Keras optimizer, i.e., `tf.keras.optimizers.legacy.Adam`.\n"
     ]
    },
    {
     "name": "stdout",
     "output_type": "stream",
     "text": [
      "\n",
      "\n",
      "Tested 13/100 iterations.\n",
      "Best MAE - Validation Dataset\n",
      "  MAE: 36.2 | sMAPE: 22.97 %\n",
      "\n",
      "Best MAE - Test Dataset\n",
      "  MAE: 21.9 | sMAPE: 21.37 %\n",
      "\n",
      "\n",
      "Tested 14/100 iterations.\n",
      "Best MAE - Validation Dataset\n",
      "  MAE: 36.2 | sMAPE: 22.97 %\n",
      "\n",
      "Best MAE - Test Dataset\n",
      "  MAE: 21.9 | sMAPE: 21.37 %\n"
     ]
    },
    {
     "name": "stderr",
     "output_type": "stream",
     "text": [
      "WARNING:absl:At this time, the v2.11+ optimizer `tf.keras.optimizers.Adam` runs slowly on M1/M2 Macs, please use the legacy Keras optimizer instead, located at `tf.keras.optimizers.legacy.Adam`.\n",
      "WARNING:absl:`lr` is deprecated in Keras optimizer, please use `learning_rate` or use the legacy optimizer, e.g.,tf.keras.optimizers.legacy.Adam.\n",
      "WARNING:absl:There is a known slowdown when using v2.11+ Keras optimizers on M1/M2 Macs. Falling back to the legacy Keras optimizer, i.e., `tf.keras.optimizers.legacy.Adam`.\n",
      "WARNING:absl:At this time, the v2.11+ optimizer `tf.keras.optimizers.Adam` runs slowly on M1/M2 Macs, please use the legacy Keras optimizer instead, located at `tf.keras.optimizers.legacy.Adam`.\n",
      "WARNING:absl:`lr` is deprecated in Keras optimizer, please use `learning_rate` or use the legacy optimizer, e.g.,tf.keras.optimizers.legacy.Adam.\n",
      "WARNING:absl:There is a known slowdown when using v2.11+ Keras optimizers on M1/M2 Macs. Falling back to the legacy Keras optimizer, i.e., `tf.keras.optimizers.legacy.Adam`.\n"
     ]
    },
    {
     "name": "stdout",
     "output_type": "stream",
     "text": [
      "\n",
      "\n",
      "Tested 15/100 iterations.\n",
      "Best MAE - Validation Dataset\n",
      "  MAE: 36.2 | sMAPE: 22.97 %\n",
      "\n",
      "Best MAE - Test Dataset\n",
      "  MAE: 21.9 | sMAPE: 21.37 %\n"
     ]
    },
    {
     "name": "stderr",
     "output_type": "stream",
     "text": [
      "WARNING:absl:At this time, the v2.11+ optimizer `tf.keras.optimizers.Adam` runs slowly on M1/M2 Macs, please use the legacy Keras optimizer instead, located at `tf.keras.optimizers.legacy.Adam`.\n",
      "WARNING:absl:`lr` is deprecated in Keras optimizer, please use `learning_rate` or use the legacy optimizer, e.g.,tf.keras.optimizers.legacy.Adam.\n",
      "WARNING:absl:There is a known slowdown when using v2.11+ Keras optimizers on M1/M2 Macs. Falling back to the legacy Keras optimizer, i.e., `tf.keras.optimizers.legacy.Adam`.\n"
     ]
    },
    {
     "name": "stdout",
     "output_type": "stream",
     "text": [
      "\n",
      "\n",
      "Tested 16/100 iterations.\n",
      "Best MAE - Validation Dataset\n",
      "  MAE: 36.2 | sMAPE: 22.97 %\n",
      "\n",
      "Best MAE - Test Dataset\n",
      "  MAE: 21.9 | sMAPE: 21.37 %\n"
     ]
    },
    {
     "name": "stderr",
     "output_type": "stream",
     "text": [
      "WARNING:absl:At this time, the v2.11+ optimizer `tf.keras.optimizers.Adam` runs slowly on M1/M2 Macs, please use the legacy Keras optimizer instead, located at `tf.keras.optimizers.legacy.Adam`.\n",
      "WARNING:absl:`lr` is deprecated in Keras optimizer, please use `learning_rate` or use the legacy optimizer, e.g.,tf.keras.optimizers.legacy.Adam.\n",
      "WARNING:absl:There is a known slowdown when using v2.11+ Keras optimizers on M1/M2 Macs. Falling back to the legacy Keras optimizer, i.e., `tf.keras.optimizers.legacy.Adam`.\n"
     ]
    },
    {
     "name": "stdout",
     "output_type": "stream",
     "text": [
      "\n",
      "\n",
      "Tested 17/100 iterations.\n",
      "Best MAE - Validation Dataset\n",
      "  MAE: 36.2 | sMAPE: 22.97 %\n",
      "\n",
      "Best MAE - Test Dataset\n",
      "  MAE: 21.9 | sMAPE: 21.37 %\n",
      "\n",
      "\n",
      "Tested 18/100 iterations.\n",
      "Best MAE - Validation Dataset\n",
      "  MAE: 36.2 | sMAPE: 22.97 %\n",
      "\n",
      "Best MAE - Test Dataset\n",
      "  MAE: 21.9 | sMAPE: 21.37 %\n"
     ]
    },
    {
     "name": "stderr",
     "output_type": "stream",
     "text": [
      "WARNING:absl:At this time, the v2.11+ optimizer `tf.keras.optimizers.Adam` runs slowly on M1/M2 Macs, please use the legacy Keras optimizer instead, located at `tf.keras.optimizers.legacy.Adam`.\n",
      "WARNING:absl:`lr` is deprecated in Keras optimizer, please use `learning_rate` or use the legacy optimizer, e.g.,tf.keras.optimizers.legacy.Adam.\n",
      "WARNING:absl:There is a known slowdown when using v2.11+ Keras optimizers on M1/M2 Macs. Falling back to the legacy Keras optimizer, i.e., `tf.keras.optimizers.legacy.Adam`.\n"
     ]
    },
    {
     "name": "stdout",
     "output_type": "stream",
     "text": [
      "\n",
      "\n",
      "Tested 19/100 iterations.\n",
      "Best MAE - Validation Dataset\n",
      "  MAE: 36.2 | sMAPE: 22.97 %\n",
      "\n",
      "Best MAE - Test Dataset\n",
      "  MAE: 21.9 | sMAPE: 21.37 %\n"
     ]
    },
    {
     "name": "stderr",
     "output_type": "stream",
     "text": [
      "WARNING:absl:At this time, the v2.11+ optimizer `tf.keras.optimizers.Adam` runs slowly on M1/M2 Macs, please use the legacy Keras optimizer instead, located at `tf.keras.optimizers.legacy.Adam`.\n",
      "WARNING:absl:`lr` is deprecated in Keras optimizer, please use `learning_rate` or use the legacy optimizer, e.g.,tf.keras.optimizers.legacy.Adam.\n",
      "WARNING:absl:There is a known slowdown when using v2.11+ Keras optimizers on M1/M2 Macs. Falling back to the legacy Keras optimizer, i.e., `tf.keras.optimizers.legacy.Adam`.\n",
      "WARNING:absl:At this time, the v2.11+ optimizer `tf.keras.optimizers.Adam` runs slowly on M1/M2 Macs, please use the legacy Keras optimizer instead, located at `tf.keras.optimizers.legacy.Adam`.\n",
      "WARNING:absl:`lr` is deprecated in Keras optimizer, please use `learning_rate` or use the legacy optimizer, e.g.,tf.keras.optimizers.legacy.Adam.\n",
      "WARNING:absl:There is a known slowdown when using v2.11+ Keras optimizers on M1/M2 Macs. Falling back to the legacy Keras optimizer, i.e., `tf.keras.optimizers.legacy.Adam`.\n"
     ]
    },
    {
     "name": "stdout",
     "output_type": "stream",
     "text": [
      "\n",
      "\n",
      "Tested 20/100 iterations.\n",
      "Best MAE - Validation Dataset\n",
      "  MAE: 36.2 | sMAPE: 22.97 %\n",
      "\n",
      "Best MAE - Test Dataset\n",
      "  MAE: 21.9 | sMAPE: 21.37 %\n"
     ]
    },
    {
     "name": "stderr",
     "output_type": "stream",
     "text": [
      "WARNING:absl:At this time, the v2.11+ optimizer `tf.keras.optimizers.Adam` runs slowly on M1/M2 Macs, please use the legacy Keras optimizer instead, located at `tf.keras.optimizers.legacy.Adam`.\n",
      "WARNING:absl:`lr` is deprecated in Keras optimizer, please use `learning_rate` or use the legacy optimizer, e.g.,tf.keras.optimizers.legacy.Adam.\n",
      "WARNING:absl:There is a known slowdown when using v2.11+ Keras optimizers on M1/M2 Macs. Falling back to the legacy Keras optimizer, i.e., `tf.keras.optimizers.legacy.Adam`.\n"
     ]
    },
    {
     "name": "stdout",
     "output_type": "stream",
     "text": [
      "\n",
      "\n",
      "Tested 21/100 iterations.\n",
      "Best MAE - Validation Dataset\n",
      "  MAE: 30.2 | sMAPE: 19.03 %\n",
      "\n",
      "Best MAE - Test Dataset\n",
      "  MAE: 17.7 | sMAPE: 17.83 %\n"
     ]
    },
    {
     "name": "stderr",
     "output_type": "stream",
     "text": [
      "WARNING:absl:At this time, the v2.11+ optimizer `tf.keras.optimizers.Adam` runs slowly on M1/M2 Macs, please use the legacy Keras optimizer instead, located at `tf.keras.optimizers.legacy.Adam`.\n",
      "WARNING:absl:`lr` is deprecated in Keras optimizer, please use `learning_rate` or use the legacy optimizer, e.g.,tf.keras.optimizers.legacy.Adam.\n",
      "WARNING:absl:There is a known slowdown when using v2.11+ Keras optimizers on M1/M2 Macs. Falling back to the legacy Keras optimizer, i.e., `tf.keras.optimizers.legacy.Adam`.\n"
     ]
    },
    {
     "name": "stdout",
     "output_type": "stream",
     "text": [
      "\n",
      "\n",
      "Tested 22/100 iterations.\n",
      "Best MAE - Validation Dataset\n",
      "  MAE: 30.2 | sMAPE: 19.03 %\n",
      "\n",
      "Best MAE - Test Dataset\n",
      "  MAE: 17.7 | sMAPE: 17.83 %\n"
     ]
    },
    {
     "name": "stderr",
     "output_type": "stream",
     "text": [
      "WARNING:absl:At this time, the v2.11+ optimizer `tf.keras.optimizers.Adam` runs slowly on M1/M2 Macs, please use the legacy Keras optimizer instead, located at `tf.keras.optimizers.legacy.Adam`.\n",
      "WARNING:absl:`lr` is deprecated in Keras optimizer, please use `learning_rate` or use the legacy optimizer, e.g.,tf.keras.optimizers.legacy.Adam.\n",
      "WARNING:absl:There is a known slowdown when using v2.11+ Keras optimizers on M1/M2 Macs. Falling back to the legacy Keras optimizer, i.e., `tf.keras.optimizers.legacy.Adam`.\n"
     ]
    },
    {
     "name": "stdout",
     "output_type": "stream",
     "text": [
      "\n",
      "\n",
      "Tested 23/100 iterations.\n",
      "Best MAE - Validation Dataset\n",
      "  MAE: 30.2 | sMAPE: 19.03 %\n",
      "\n",
      "Best MAE - Test Dataset\n",
      "  MAE: 17.7 | sMAPE: 17.83 %\n"
     ]
    },
    {
     "name": "stderr",
     "output_type": "stream",
     "text": [
      "WARNING:absl:At this time, the v2.11+ optimizer `tf.keras.optimizers.Adam` runs slowly on M1/M2 Macs, please use the legacy Keras optimizer instead, located at `tf.keras.optimizers.legacy.Adam`.\n",
      "WARNING:absl:`lr` is deprecated in Keras optimizer, please use `learning_rate` or use the legacy optimizer, e.g.,tf.keras.optimizers.legacy.Adam.\n",
      "WARNING:absl:There is a known slowdown when using v2.11+ Keras optimizers on M1/M2 Macs. Falling back to the legacy Keras optimizer, i.e., `tf.keras.optimizers.legacy.Adam`.\n"
     ]
    },
    {
     "name": "stdout",
     "output_type": "stream",
     "text": [
      "\n",
      "\n",
      "Tested 24/100 iterations.\n",
      "Best MAE - Validation Dataset\n",
      "  MAE: 29.1 | sMAPE: 19.18 %\n",
      "\n",
      "Best MAE - Test Dataset\n",
      "  MAE: 20.6 | sMAPE: 21.31 %\n",
      "\n",
      "\n",
      "Tested 25/100 iterations.\n",
      "Best MAE - Validation Dataset\n",
      "  MAE: 29.1 | sMAPE: 19.18 %\n",
      "\n",
      "Best MAE - Test Dataset\n",
      "  MAE: 20.6 | sMAPE: 21.31 %\n"
     ]
    },
    {
     "name": "stderr",
     "output_type": "stream",
     "text": [
      "WARNING:absl:At this time, the v2.11+ optimizer `tf.keras.optimizers.Adam` runs slowly on M1/M2 Macs, please use the legacy Keras optimizer instead, located at `tf.keras.optimizers.legacy.Adam`.\n",
      "WARNING:absl:`lr` is deprecated in Keras optimizer, please use `learning_rate` or use the legacy optimizer, e.g.,tf.keras.optimizers.legacy.Adam.\n",
      "WARNING:absl:There is a known slowdown when using v2.11+ Keras optimizers on M1/M2 Macs. Falling back to the legacy Keras optimizer, i.e., `tf.keras.optimizers.legacy.Adam`.\n",
      "WARNING:absl:At this time, the v2.11+ optimizer `tf.keras.optimizers.Adam` runs slowly on M1/M2 Macs, please use the legacy Keras optimizer instead, located at `tf.keras.optimizers.legacy.Adam`.\n",
      "WARNING:absl:`lr` is deprecated in Keras optimizer, please use `learning_rate` or use the legacy optimizer, e.g.,tf.keras.optimizers.legacy.Adam.\n",
      "WARNING:absl:There is a known slowdown when using v2.11+ Keras optimizers on M1/M2 Macs. Falling back to the legacy Keras optimizer, i.e., `tf.keras.optimizers.legacy.Adam`.\n"
     ]
    },
    {
     "name": "stdout",
     "output_type": "stream",
     "text": [
      "\n",
      "\n",
      "Tested 26/100 iterations.\n",
      "Best MAE - Validation Dataset\n",
      "  MAE: 29.1 | sMAPE: 19.18 %\n",
      "\n",
      "Best MAE - Test Dataset\n",
      "  MAE: 20.6 | sMAPE: 21.31 %\n"
     ]
    },
    {
     "name": "stderr",
     "output_type": "stream",
     "text": [
      "WARNING:absl:At this time, the v2.11+ optimizer `tf.keras.optimizers.Adam` runs slowly on M1/M2 Macs, please use the legacy Keras optimizer instead, located at `tf.keras.optimizers.legacy.Adam`.\n",
      "WARNING:absl:`lr` is deprecated in Keras optimizer, please use `learning_rate` or use the legacy optimizer, e.g.,tf.keras.optimizers.legacy.Adam.\n",
      "WARNING:absl:There is a known slowdown when using v2.11+ Keras optimizers on M1/M2 Macs. Falling back to the legacy Keras optimizer, i.e., `tf.keras.optimizers.legacy.Adam`.\n"
     ]
    },
    {
     "name": "stdout",
     "output_type": "stream",
     "text": [
      "\n",
      "\n",
      "Tested 27/100 iterations.\n",
      "Best MAE - Validation Dataset\n",
      "  MAE: 29.1 | sMAPE: 19.18 %\n",
      "\n",
      "Best MAE - Test Dataset\n",
      "  MAE: 20.6 | sMAPE: 21.31 %\n"
     ]
    },
    {
     "name": "stderr",
     "output_type": "stream",
     "text": [
      "WARNING:absl:At this time, the v2.11+ optimizer `tf.keras.optimizers.Adam` runs slowly on M1/M2 Macs, please use the legacy Keras optimizer instead, located at `tf.keras.optimizers.legacy.Adam`.\n",
      "WARNING:absl:`lr` is deprecated in Keras optimizer, please use `learning_rate` or use the legacy optimizer, e.g.,tf.keras.optimizers.legacy.Adam.\n",
      "WARNING:absl:There is a known slowdown when using v2.11+ Keras optimizers on M1/M2 Macs. Falling back to the legacy Keras optimizer, i.e., `tf.keras.optimizers.legacy.Adam`.\n"
     ]
    },
    {
     "name": "stdout",
     "output_type": "stream",
     "text": [
      "\n",
      "\n",
      "Tested 28/100 iterations.\n",
      "Best MAE - Validation Dataset\n",
      "  MAE: 29.1 | sMAPE: 19.18 %\n",
      "\n",
      "Best MAE - Test Dataset\n",
      "  MAE: 20.6 | sMAPE: 21.31 %\n"
     ]
    },
    {
     "name": "stderr",
     "output_type": "stream",
     "text": [
      "WARNING:absl:At this time, the v2.11+ optimizer `tf.keras.optimizers.Adam` runs slowly on M1/M2 Macs, please use the legacy Keras optimizer instead, located at `tf.keras.optimizers.legacy.Adam`.\n",
      "WARNING:absl:`lr` is deprecated in Keras optimizer, please use `learning_rate` or use the legacy optimizer, e.g.,tf.keras.optimizers.legacy.Adam.\n",
      "WARNING:absl:There is a known slowdown when using v2.11+ Keras optimizers on M1/M2 Macs. Falling back to the legacy Keras optimizer, i.e., `tf.keras.optimizers.legacy.Adam`.\n"
     ]
    },
    {
     "name": "stdout",
     "output_type": "stream",
     "text": [
      "\n",
      "\n",
      "Tested 29/100 iterations.\n",
      "Best MAE - Validation Dataset\n",
      "  MAE: 29.1 | sMAPE: 19.18 %\n",
      "\n",
      "Best MAE - Test Dataset\n",
      "  MAE: 20.6 | sMAPE: 21.31 %\n"
     ]
    },
    {
     "name": "stderr",
     "output_type": "stream",
     "text": [
      "WARNING:absl:At this time, the v2.11+ optimizer `tf.keras.optimizers.Adam` runs slowly on M1/M2 Macs, please use the legacy Keras optimizer instead, located at `tf.keras.optimizers.legacy.Adam`.\n",
      "WARNING:absl:`lr` is deprecated in Keras optimizer, please use `learning_rate` or use the legacy optimizer, e.g.,tf.keras.optimizers.legacy.Adam.\n",
      "WARNING:absl:There is a known slowdown when using v2.11+ Keras optimizers on M1/M2 Macs. Falling back to the legacy Keras optimizer, i.e., `tf.keras.optimizers.legacy.Adam`.\n"
     ]
    },
    {
     "name": "stdout",
     "output_type": "stream",
     "text": [
      "\n",
      "\n",
      "Tested 30/100 iterations.\n",
      "Best MAE - Validation Dataset\n",
      "  MAE: 29.1 | sMAPE: 19.18 %\n",
      "\n",
      "Best MAE - Test Dataset\n",
      "  MAE: 20.6 | sMAPE: 21.31 %\n"
     ]
    },
    {
     "name": "stderr",
     "output_type": "stream",
     "text": [
      "WARNING:absl:At this time, the v2.11+ optimizer `tf.keras.optimizers.Adam` runs slowly on M1/M2 Macs, please use the legacy Keras optimizer instead, located at `tf.keras.optimizers.legacy.Adam`.\n",
      "WARNING:absl:`lr` is deprecated in Keras optimizer, please use `learning_rate` or use the legacy optimizer, e.g.,tf.keras.optimizers.legacy.Adam.\n",
      "WARNING:absl:There is a known slowdown when using v2.11+ Keras optimizers on M1/M2 Macs. Falling back to the legacy Keras optimizer, i.e., `tf.keras.optimizers.legacy.Adam`.\n"
     ]
    },
    {
     "name": "stdout",
     "output_type": "stream",
     "text": [
      "\n",
      "\n",
      "Tested 31/100 iterations.\n",
      "Best MAE - Validation Dataset\n",
      "  MAE: 29.1 | sMAPE: 19.18 %\n",
      "\n",
      "Best MAE - Test Dataset\n",
      "  MAE: 20.6 | sMAPE: 21.31 %\n"
     ]
    },
    {
     "name": "stderr",
     "output_type": "stream",
     "text": [
      "WARNING:absl:At this time, the v2.11+ optimizer `tf.keras.optimizers.Adam` runs slowly on M1/M2 Macs, please use the legacy Keras optimizer instead, located at `tf.keras.optimizers.legacy.Adam`.\n",
      "WARNING:absl:`lr` is deprecated in Keras optimizer, please use `learning_rate` or use the legacy optimizer, e.g.,tf.keras.optimizers.legacy.Adam.\n",
      "WARNING:absl:There is a known slowdown when using v2.11+ Keras optimizers on M1/M2 Macs. Falling back to the legacy Keras optimizer, i.e., `tf.keras.optimizers.legacy.Adam`.\n"
     ]
    },
    {
     "name": "stdout",
     "output_type": "stream",
     "text": [
      "\n",
      "\n",
      "Tested 32/100 iterations.\n",
      "Best MAE - Validation Dataset\n",
      "  MAE: 29.1 | sMAPE: 19.18 %\n",
      "\n",
      "Best MAE - Test Dataset\n",
      "  MAE: 20.6 | sMAPE: 21.31 %\n"
     ]
    },
    {
     "name": "stderr",
     "output_type": "stream",
     "text": [
      "WARNING:absl:At this time, the v2.11+ optimizer `tf.keras.optimizers.Adam` runs slowly on M1/M2 Macs, please use the legacy Keras optimizer instead, located at `tf.keras.optimizers.legacy.Adam`.\n",
      "WARNING:absl:`lr` is deprecated in Keras optimizer, please use `learning_rate` or use the legacy optimizer, e.g.,tf.keras.optimizers.legacy.Adam.\n",
      "WARNING:absl:There is a known slowdown when using v2.11+ Keras optimizers on M1/M2 Macs. Falling back to the legacy Keras optimizer, i.e., `tf.keras.optimizers.legacy.Adam`.\n"
     ]
    },
    {
     "name": "stdout",
     "output_type": "stream",
     "text": [
      "\n",
      "\n",
      "Tested 33/100 iterations.\n",
      "Best MAE - Validation Dataset\n",
      "  MAE: 29.1 | sMAPE: 19.18 %\n",
      "\n",
      "Best MAE - Test Dataset\n",
      "  MAE: 20.6 | sMAPE: 21.31 %\n"
     ]
    },
    {
     "name": "stderr",
     "output_type": "stream",
     "text": [
      "WARNING:absl:At this time, the v2.11+ optimizer `tf.keras.optimizers.Adam` runs slowly on M1/M2 Macs, please use the legacy Keras optimizer instead, located at `tf.keras.optimizers.legacy.Adam`.\n",
      "WARNING:absl:`lr` is deprecated in Keras optimizer, please use `learning_rate` or use the legacy optimizer, e.g.,tf.keras.optimizers.legacy.Adam.\n",
      "WARNING:absl:There is a known slowdown when using v2.11+ Keras optimizers on M1/M2 Macs. Falling back to the legacy Keras optimizer, i.e., `tf.keras.optimizers.legacy.Adam`.\n"
     ]
    },
    {
     "name": "stdout",
     "output_type": "stream",
     "text": [
      "\n",
      "\n",
      "Tested 34/100 iterations.\n",
      "Best MAE - Validation Dataset\n",
      "  MAE: 29.1 | sMAPE: 19.18 %\n",
      "\n",
      "Best MAE - Test Dataset\n",
      "  MAE: 20.6 | sMAPE: 21.31 %\n"
     ]
    },
    {
     "name": "stderr",
     "output_type": "stream",
     "text": [
      "WARNING:absl:At this time, the v2.11+ optimizer `tf.keras.optimizers.Adam` runs slowly on M1/M2 Macs, please use the legacy Keras optimizer instead, located at `tf.keras.optimizers.legacy.Adam`.\n",
      "WARNING:absl:`lr` is deprecated in Keras optimizer, please use `learning_rate` or use the legacy optimizer, e.g.,tf.keras.optimizers.legacy.Adam.\n",
      "WARNING:absl:There is a known slowdown when using v2.11+ Keras optimizers on M1/M2 Macs. Falling back to the legacy Keras optimizer, i.e., `tf.keras.optimizers.legacy.Adam`.\n"
     ]
    },
    {
     "name": "stdout",
     "output_type": "stream",
     "text": [
      "\n",
      "\n",
      "Tested 35/100 iterations.\n",
      "Best MAE - Validation Dataset\n",
      "  MAE: 29.1 | sMAPE: 19.18 %\n",
      "\n",
      "Best MAE - Test Dataset\n",
      "  MAE: 20.6 | sMAPE: 21.31 %\n"
     ]
    },
    {
     "name": "stderr",
     "output_type": "stream",
     "text": [
      "WARNING:absl:At this time, the v2.11+ optimizer `tf.keras.optimizers.Adam` runs slowly on M1/M2 Macs, please use the legacy Keras optimizer instead, located at `tf.keras.optimizers.legacy.Adam`.\n",
      "WARNING:absl:`lr` is deprecated in Keras optimizer, please use `learning_rate` or use the legacy optimizer, e.g.,tf.keras.optimizers.legacy.Adam.\n",
      "WARNING:absl:There is a known slowdown when using v2.11+ Keras optimizers on M1/M2 Macs. Falling back to the legacy Keras optimizer, i.e., `tf.keras.optimizers.legacy.Adam`.\n"
     ]
    },
    {
     "name": "stdout",
     "output_type": "stream",
     "text": [
      "\n",
      "\n",
      "Tested 36/100 iterations.\n",
      "Best MAE - Validation Dataset\n",
      "  MAE: 29.1 | sMAPE: 19.18 %\n",
      "\n",
      "Best MAE - Test Dataset\n",
      "  MAE: 20.6 | sMAPE: 21.31 %\n"
     ]
    },
    {
     "name": "stderr",
     "output_type": "stream",
     "text": [
      "WARNING:absl:At this time, the v2.11+ optimizer `tf.keras.optimizers.Adam` runs slowly on M1/M2 Macs, please use the legacy Keras optimizer instead, located at `tf.keras.optimizers.legacy.Adam`.\n",
      "WARNING:absl:`lr` is deprecated in Keras optimizer, please use `learning_rate` or use the legacy optimizer, e.g.,tf.keras.optimizers.legacy.Adam.\n",
      "WARNING:absl:There is a known slowdown when using v2.11+ Keras optimizers on M1/M2 Macs. Falling back to the legacy Keras optimizer, i.e., `tf.keras.optimizers.legacy.Adam`.\n"
     ]
    },
    {
     "name": "stdout",
     "output_type": "stream",
     "text": [
      "\n",
      "\n",
      "Tested 37/100 iterations.\n",
      "Best MAE - Validation Dataset\n",
      "  MAE: 29.1 | sMAPE: 19.18 %\n",
      "\n",
      "Best MAE - Test Dataset\n",
      "  MAE: 20.6 | sMAPE: 21.31 %\n"
     ]
    },
    {
     "name": "stderr",
     "output_type": "stream",
     "text": [
      "WARNING:absl:At this time, the v2.11+ optimizer `tf.keras.optimizers.Adam` runs slowly on M1/M2 Macs, please use the legacy Keras optimizer instead, located at `tf.keras.optimizers.legacy.Adam`.\n",
      "WARNING:absl:`lr` is deprecated in Keras optimizer, please use `learning_rate` or use the legacy optimizer, e.g.,tf.keras.optimizers.legacy.Adam.\n",
      "WARNING:absl:There is a known slowdown when using v2.11+ Keras optimizers on M1/M2 Macs. Falling back to the legacy Keras optimizer, i.e., `tf.keras.optimizers.legacy.Adam`.\n"
     ]
    },
    {
     "name": "stdout",
     "output_type": "stream",
     "text": [
      "\n",
      "\n",
      "Tested 38/100 iterations.\n",
      "Best MAE - Validation Dataset\n",
      "  MAE: 29.1 | sMAPE: 19.18 %\n",
      "\n",
      "Best MAE - Test Dataset\n",
      "  MAE: 20.6 | sMAPE: 21.31 %\n"
     ]
    },
    {
     "name": "stderr",
     "output_type": "stream",
     "text": [
      "WARNING:absl:At this time, the v2.11+ optimizer `tf.keras.optimizers.Adam` runs slowly on M1/M2 Macs, please use the legacy Keras optimizer instead, located at `tf.keras.optimizers.legacy.Adam`.\n",
      "WARNING:absl:`lr` is deprecated in Keras optimizer, please use `learning_rate` or use the legacy optimizer, e.g.,tf.keras.optimizers.legacy.Adam.\n",
      "WARNING:absl:There is a known slowdown when using v2.11+ Keras optimizers on M1/M2 Macs. Falling back to the legacy Keras optimizer, i.e., `tf.keras.optimizers.legacy.Adam`.\n"
     ]
    },
    {
     "name": "stdout",
     "output_type": "stream",
     "text": [
      "\n",
      "\n",
      "Tested 39/100 iterations.\n",
      "Best MAE - Validation Dataset\n",
      "  MAE: 29.1 | sMAPE: 19.18 %\n",
      "\n",
      "Best MAE - Test Dataset\n",
      "  MAE: 20.6 | sMAPE: 21.31 %\n"
     ]
    },
    {
     "name": "stderr",
     "output_type": "stream",
     "text": [
      "WARNING:absl:At this time, the v2.11+ optimizer `tf.keras.optimizers.Adam` runs slowly on M1/M2 Macs, please use the legacy Keras optimizer instead, located at `tf.keras.optimizers.legacy.Adam`.\n",
      "WARNING:absl:`lr` is deprecated in Keras optimizer, please use `learning_rate` or use the legacy optimizer, e.g.,tf.keras.optimizers.legacy.Adam.\n",
      "WARNING:absl:There is a known slowdown when using v2.11+ Keras optimizers on M1/M2 Macs. Falling back to the legacy Keras optimizer, i.e., `tf.keras.optimizers.legacy.Adam`.\n"
     ]
    },
    {
     "name": "stdout",
     "output_type": "stream",
     "text": [
      "\n",
      "\n",
      "Tested 40/100 iterations.\n",
      "Best MAE - Validation Dataset\n",
      "  MAE: 29.1 | sMAPE: 19.18 %\n",
      "\n",
      "Best MAE - Test Dataset\n",
      "  MAE: 20.6 | sMAPE: 21.31 %\n",
      "\n",
      "\n",
      "Tested 41/100 iterations.\n",
      "Best MAE - Validation Dataset\n",
      "  MAE: 29.1 | sMAPE: 19.18 %\n",
      "\n",
      "Best MAE - Test Dataset\n",
      "  MAE: 20.6 | sMAPE: 21.31 %\n"
     ]
    },
    {
     "name": "stderr",
     "output_type": "stream",
     "text": [
      "WARNING:absl:At this time, the v2.11+ optimizer `tf.keras.optimizers.Adam` runs slowly on M1/M2 Macs, please use the legacy Keras optimizer instead, located at `tf.keras.optimizers.legacy.Adam`.\n",
      "WARNING:absl:`lr` is deprecated in Keras optimizer, please use `learning_rate` or use the legacy optimizer, e.g.,tf.keras.optimizers.legacy.Adam.\n",
      "WARNING:absl:There is a known slowdown when using v2.11+ Keras optimizers on M1/M2 Macs. Falling back to the legacy Keras optimizer, i.e., `tf.keras.optimizers.legacy.Adam`.\n",
      "WARNING:absl:At this time, the v2.11+ optimizer `tf.keras.optimizers.Adam` runs slowly on M1/M2 Macs, please use the legacy Keras optimizer instead, located at `tf.keras.optimizers.legacy.Adam`.\n",
      "WARNING:absl:`lr` is deprecated in Keras optimizer, please use `learning_rate` or use the legacy optimizer, e.g.,tf.keras.optimizers.legacy.Adam.\n",
      "WARNING:absl:There is a known slowdown when using v2.11+ Keras optimizers on M1/M2 Macs. Falling back to the legacy Keras optimizer, i.e., `tf.keras.optimizers.legacy.Adam`.\n"
     ]
    },
    {
     "name": "stdout",
     "output_type": "stream",
     "text": [
      "\n",
      "\n",
      "Tested 42/100 iterations.\n",
      "Best MAE - Validation Dataset\n",
      "  MAE: 29.1 | sMAPE: 19.18 %\n",
      "\n",
      "Best MAE - Test Dataset\n",
      "  MAE: 20.6 | sMAPE: 21.31 %\n"
     ]
    },
    {
     "name": "stderr",
     "output_type": "stream",
     "text": [
      "WARNING:absl:At this time, the v2.11+ optimizer `tf.keras.optimizers.Adam` runs slowly on M1/M2 Macs, please use the legacy Keras optimizer instead, located at `tf.keras.optimizers.legacy.Adam`.\n",
      "WARNING:absl:`lr` is deprecated in Keras optimizer, please use `learning_rate` or use the legacy optimizer, e.g.,tf.keras.optimizers.legacy.Adam.\n",
      "WARNING:absl:There is a known slowdown when using v2.11+ Keras optimizers on M1/M2 Macs. Falling back to the legacy Keras optimizer, i.e., `tf.keras.optimizers.legacy.Adam`.\n"
     ]
    },
    {
     "name": "stdout",
     "output_type": "stream",
     "text": [
      "\n",
      "\n",
      "Tested 43/100 iterations.\n",
      "Best MAE - Validation Dataset\n",
      "  MAE: 29.1 | sMAPE: 19.18 %\n",
      "\n",
      "Best MAE - Test Dataset\n",
      "  MAE: 20.6 | sMAPE: 21.31 %\n"
     ]
    },
    {
     "name": "stderr",
     "output_type": "stream",
     "text": [
      "WARNING:absl:At this time, the v2.11+ optimizer `tf.keras.optimizers.Adam` runs slowly on M1/M2 Macs, please use the legacy Keras optimizer instead, located at `tf.keras.optimizers.legacy.Adam`.\n",
      "WARNING:absl:`lr` is deprecated in Keras optimizer, please use `learning_rate` or use the legacy optimizer, e.g.,tf.keras.optimizers.legacy.Adam.\n",
      "WARNING:absl:There is a known slowdown when using v2.11+ Keras optimizers on M1/M2 Macs. Falling back to the legacy Keras optimizer, i.e., `tf.keras.optimizers.legacy.Adam`.\n"
     ]
    },
    {
     "name": "stdout",
     "output_type": "stream",
     "text": [
      "\n",
      "\n",
      "Tested 44/100 iterations.\n",
      "Best MAE - Validation Dataset\n",
      "  MAE: 29.1 | sMAPE: 19.18 %\n",
      "\n",
      "Best MAE - Test Dataset\n",
      "  MAE: 20.6 | sMAPE: 21.31 %\n"
     ]
    },
    {
     "name": "stderr",
     "output_type": "stream",
     "text": [
      "WARNING:absl:At this time, the v2.11+ optimizer `tf.keras.optimizers.Adam` runs slowly on M1/M2 Macs, please use the legacy Keras optimizer instead, located at `tf.keras.optimizers.legacy.Adam`.\n",
      "WARNING:absl:`lr` is deprecated in Keras optimizer, please use `learning_rate` or use the legacy optimizer, e.g.,tf.keras.optimizers.legacy.Adam.\n",
      "WARNING:absl:There is a known slowdown when using v2.11+ Keras optimizers on M1/M2 Macs. Falling back to the legacy Keras optimizer, i.e., `tf.keras.optimizers.legacy.Adam`.\n"
     ]
    },
    {
     "name": "stdout",
     "output_type": "stream",
     "text": [
      "\n",
      "\n",
      "Tested 45/100 iterations.\n",
      "Best MAE - Validation Dataset\n",
      "  MAE: 29.1 | sMAPE: 19.18 %\n",
      "\n",
      "Best MAE - Test Dataset\n",
      "  MAE: 20.6 | sMAPE: 21.31 %\n"
     ]
    },
    {
     "name": "stderr",
     "output_type": "stream",
     "text": [
      "WARNING:absl:At this time, the v2.11+ optimizer `tf.keras.optimizers.Adam` runs slowly on M1/M2 Macs, please use the legacy Keras optimizer instead, located at `tf.keras.optimizers.legacy.Adam`.\n",
      "WARNING:absl:`lr` is deprecated in Keras optimizer, please use `learning_rate` or use the legacy optimizer, e.g.,tf.keras.optimizers.legacy.Adam.\n",
      "WARNING:absl:There is a known slowdown when using v2.11+ Keras optimizers on M1/M2 Macs. Falling back to the legacy Keras optimizer, i.e., `tf.keras.optimizers.legacy.Adam`.\n"
     ]
    },
    {
     "name": "stdout",
     "output_type": "stream",
     "text": [
      "\n",
      "\n",
      "Tested 46/100 iterations.\n",
      "Best MAE - Validation Dataset\n",
      "  MAE: 28.7 | sMAPE: 18.12 %\n",
      "\n",
      "Best MAE - Test Dataset\n",
      "  MAE: 17.2 | sMAPE: 18.14 %\n"
     ]
    },
    {
     "name": "stderr",
     "output_type": "stream",
     "text": [
      "WARNING:absl:At this time, the v2.11+ optimizer `tf.keras.optimizers.Adam` runs slowly on M1/M2 Macs, please use the legacy Keras optimizer instead, located at `tf.keras.optimizers.legacy.Adam`.\n",
      "WARNING:absl:`lr` is deprecated in Keras optimizer, please use `learning_rate` or use the legacy optimizer, e.g.,tf.keras.optimizers.legacy.Adam.\n",
      "WARNING:absl:There is a known slowdown when using v2.11+ Keras optimizers on M1/M2 Macs. Falling back to the legacy Keras optimizer, i.e., `tf.keras.optimizers.legacy.Adam`.\n"
     ]
    },
    {
     "name": "stdout",
     "output_type": "stream",
     "text": [
      "\n",
      "\n",
      "Tested 47/100 iterations.\n",
      "Best MAE - Validation Dataset\n",
      "  MAE: 28.7 | sMAPE: 18.12 %\n",
      "\n",
      "Best MAE - Test Dataset\n",
      "  MAE: 17.2 | sMAPE: 18.14 %\n"
     ]
    },
    {
     "name": "stderr",
     "output_type": "stream",
     "text": [
      "WARNING:absl:At this time, the v2.11+ optimizer `tf.keras.optimizers.Adam` runs slowly on M1/M2 Macs, please use the legacy Keras optimizer instead, located at `tf.keras.optimizers.legacy.Adam`.\n",
      "WARNING:absl:`lr` is deprecated in Keras optimizer, please use `learning_rate` or use the legacy optimizer, e.g.,tf.keras.optimizers.legacy.Adam.\n",
      "WARNING:absl:There is a known slowdown when using v2.11+ Keras optimizers on M1/M2 Macs. Falling back to the legacy Keras optimizer, i.e., `tf.keras.optimizers.legacy.Adam`.\n"
     ]
    },
    {
     "name": "stdout",
     "output_type": "stream",
     "text": [
      "\n",
      "\n",
      "Tested 48/100 iterations.\n",
      "Best MAE - Validation Dataset\n",
      "  MAE: 28.7 | sMAPE: 18.12 %\n",
      "\n",
      "Best MAE - Test Dataset\n",
      "  MAE: 17.2 | sMAPE: 18.14 %\n"
     ]
    },
    {
     "name": "stderr",
     "output_type": "stream",
     "text": [
      "WARNING:absl:At this time, the v2.11+ optimizer `tf.keras.optimizers.Adam` runs slowly on M1/M2 Macs, please use the legacy Keras optimizer instead, located at `tf.keras.optimizers.legacy.Adam`.\n",
      "WARNING:absl:`lr` is deprecated in Keras optimizer, please use `learning_rate` or use the legacy optimizer, e.g.,tf.keras.optimizers.legacy.Adam.\n",
      "WARNING:absl:There is a known slowdown when using v2.11+ Keras optimizers on M1/M2 Macs. Falling back to the legacy Keras optimizer, i.e., `tf.keras.optimizers.legacy.Adam`.\n"
     ]
    },
    {
     "name": "stdout",
     "output_type": "stream",
     "text": [
      "\n",
      "\n",
      "Tested 49/100 iterations.\n",
      "Best MAE - Validation Dataset\n",
      "  MAE: 28.7 | sMAPE: 18.12 %\n",
      "\n",
      "Best MAE - Test Dataset\n",
      "  MAE: 17.2 | sMAPE: 18.14 %\n",
      "\n",
      "\n",
      "Tested 50/100 iterations.\n",
      "Best MAE - Validation Dataset\n",
      "  MAE: 28.7 | sMAPE: 18.12 %\n",
      "\n",
      "Best MAE - Test Dataset\n",
      "  MAE: 17.2 | sMAPE: 18.14 %\n"
     ]
    },
    {
     "name": "stderr",
     "output_type": "stream",
     "text": [
      "WARNING:absl:At this time, the v2.11+ optimizer `tf.keras.optimizers.Adam` runs slowly on M1/M2 Macs, please use the legacy Keras optimizer instead, located at `tf.keras.optimizers.legacy.Adam`.\n",
      "WARNING:absl:`lr` is deprecated in Keras optimizer, please use `learning_rate` or use the legacy optimizer, e.g.,tf.keras.optimizers.legacy.Adam.\n",
      "WARNING:absl:There is a known slowdown when using v2.11+ Keras optimizers on M1/M2 Macs. Falling back to the legacy Keras optimizer, i.e., `tf.keras.optimizers.legacy.Adam`.\n",
      "WARNING:absl:At this time, the v2.11+ optimizer `tf.keras.optimizers.Adam` runs slowly on M1/M2 Macs, please use the legacy Keras optimizer instead, located at `tf.keras.optimizers.legacy.Adam`.\n",
      "WARNING:absl:`lr` is deprecated in Keras optimizer, please use `learning_rate` or use the legacy optimizer, e.g.,tf.keras.optimizers.legacy.Adam.\n",
      "WARNING:absl:There is a known slowdown when using v2.11+ Keras optimizers on M1/M2 Macs. Falling back to the legacy Keras optimizer, i.e., `tf.keras.optimizers.legacy.Adam`.\n"
     ]
    },
    {
     "name": "stdout",
     "output_type": "stream",
     "text": [
      "\n",
      "\n",
      "Tested 51/100 iterations.\n",
      "Best MAE - Validation Dataset\n",
      "  MAE: 28.7 | sMAPE: 18.12 %\n",
      "\n",
      "Best MAE - Test Dataset\n",
      "  MAE: 17.2 | sMAPE: 18.14 %\n"
     ]
    },
    {
     "name": "stderr",
     "output_type": "stream",
     "text": [
      "WARNING:absl:At this time, the v2.11+ optimizer `tf.keras.optimizers.Adam` runs slowly on M1/M2 Macs, please use the legacy Keras optimizer instead, located at `tf.keras.optimizers.legacy.Adam`.\n",
      "WARNING:absl:`lr` is deprecated in Keras optimizer, please use `learning_rate` or use the legacy optimizer, e.g.,tf.keras.optimizers.legacy.Adam.\n",
      "WARNING:absl:There is a known slowdown when using v2.11+ Keras optimizers on M1/M2 Macs. Falling back to the legacy Keras optimizer, i.e., `tf.keras.optimizers.legacy.Adam`.\n"
     ]
    },
    {
     "name": "stdout",
     "output_type": "stream",
     "text": [
      "\n",
      "\n",
      "Tested 52/100 iterations.\n",
      "Best MAE - Validation Dataset\n",
      "  MAE: 28.7 | sMAPE: 18.12 %\n",
      "\n",
      "Best MAE - Test Dataset\n",
      "  MAE: 17.2 | sMAPE: 18.14 %\n"
     ]
    },
    {
     "name": "stderr",
     "output_type": "stream",
     "text": [
      "WARNING:absl:At this time, the v2.11+ optimizer `tf.keras.optimizers.Adam` runs slowly on M1/M2 Macs, please use the legacy Keras optimizer instead, located at `tf.keras.optimizers.legacy.Adam`.\n",
      "WARNING:absl:`lr` is deprecated in Keras optimizer, please use `learning_rate` or use the legacy optimizer, e.g.,tf.keras.optimizers.legacy.Adam.\n",
      "WARNING:absl:There is a known slowdown when using v2.11+ Keras optimizers on M1/M2 Macs. Falling back to the legacy Keras optimizer, i.e., `tf.keras.optimizers.legacy.Adam`.\n"
     ]
    },
    {
     "name": "stdout",
     "output_type": "stream",
     "text": [
      "\n",
      "\n",
      "Tested 53/100 iterations.\n",
      "Best MAE - Validation Dataset\n",
      "  MAE: 28.7 | sMAPE: 18.12 %\n",
      "\n",
      "Best MAE - Test Dataset\n",
      "  MAE: 17.2 | sMAPE: 18.14 %\n",
      "\n",
      "\n",
      "Tested 54/100 iterations.\n",
      "Best MAE - Validation Dataset\n",
      "  MAE: 28.7 | sMAPE: 18.12 %\n",
      "\n",
      "Best MAE - Test Dataset\n",
      "  MAE: 17.2 | sMAPE: 18.14 %\n"
     ]
    },
    {
     "name": "stderr",
     "output_type": "stream",
     "text": [
      "WARNING:absl:At this time, the v2.11+ optimizer `tf.keras.optimizers.Adam` runs slowly on M1/M2 Macs, please use the legacy Keras optimizer instead, located at `tf.keras.optimizers.legacy.Adam`.\n",
      "WARNING:absl:`lr` is deprecated in Keras optimizer, please use `learning_rate` or use the legacy optimizer, e.g.,tf.keras.optimizers.legacy.Adam.\n",
      "WARNING:absl:There is a known slowdown when using v2.11+ Keras optimizers on M1/M2 Macs. Falling back to the legacy Keras optimizer, i.e., `tf.keras.optimizers.legacy.Adam`.\n",
      "WARNING:absl:At this time, the v2.11+ optimizer `tf.keras.optimizers.Adam` runs slowly on M1/M2 Macs, please use the legacy Keras optimizer instead, located at `tf.keras.optimizers.legacy.Adam`.\n",
      "WARNING:absl:`lr` is deprecated in Keras optimizer, please use `learning_rate` or use the legacy optimizer, e.g.,tf.keras.optimizers.legacy.Adam.\n",
      "WARNING:absl:There is a known slowdown when using v2.11+ Keras optimizers on M1/M2 Macs. Falling back to the legacy Keras optimizer, i.e., `tf.keras.optimizers.legacy.Adam`.\n"
     ]
    },
    {
     "name": "stdout",
     "output_type": "stream",
     "text": [
      "\n",
      "\n",
      "Tested 55/100 iterations.\n",
      "Best MAE - Validation Dataset\n",
      "  MAE: 28.7 | sMAPE: 18.12 %\n",
      "\n",
      "Best MAE - Test Dataset\n",
      "  MAE: 17.2 | sMAPE: 18.14 %\n"
     ]
    },
    {
     "name": "stderr",
     "output_type": "stream",
     "text": [
      "WARNING:absl:At this time, the v2.11+ optimizer `tf.keras.optimizers.Adam` runs slowly on M1/M2 Macs, please use the legacy Keras optimizer instead, located at `tf.keras.optimizers.legacy.Adam`.\n",
      "WARNING:absl:`lr` is deprecated in Keras optimizer, please use `learning_rate` or use the legacy optimizer, e.g.,tf.keras.optimizers.legacy.Adam.\n",
      "WARNING:absl:There is a known slowdown when using v2.11+ Keras optimizers on M1/M2 Macs. Falling back to the legacy Keras optimizer, i.e., `tf.keras.optimizers.legacy.Adam`.\n"
     ]
    },
    {
     "name": "stdout",
     "output_type": "stream",
     "text": [
      "\n",
      "\n",
      "Tested 56/100 iterations.\n",
      "Best MAE - Validation Dataset\n",
      "  MAE: 28.7 | sMAPE: 18.12 %\n",
      "\n",
      "Best MAE - Test Dataset\n",
      "  MAE: 17.2 | sMAPE: 18.14 %\n"
     ]
    },
    {
     "name": "stderr",
     "output_type": "stream",
     "text": [
      "WARNING:absl:At this time, the v2.11+ optimizer `tf.keras.optimizers.Adam` runs slowly on M1/M2 Macs, please use the legacy Keras optimizer instead, located at `tf.keras.optimizers.legacy.Adam`.\n",
      "WARNING:absl:`lr` is deprecated in Keras optimizer, please use `learning_rate` or use the legacy optimizer, e.g.,tf.keras.optimizers.legacy.Adam.\n",
      "WARNING:absl:There is a known slowdown when using v2.11+ Keras optimizers on M1/M2 Macs. Falling back to the legacy Keras optimizer, i.e., `tf.keras.optimizers.legacy.Adam`.\n"
     ]
    },
    {
     "name": "stdout",
     "output_type": "stream",
     "text": [
      "\n",
      "\n",
      "Tested 57/100 iterations.\n",
      "Best MAE - Validation Dataset\n",
      "  MAE: 28.3 | sMAPE: 18.05 %\n",
      "\n",
      "Best MAE - Test Dataset\n",
      "  MAE: 17.0 | sMAPE: 18.15 %\n"
     ]
    },
    {
     "name": "stderr",
     "output_type": "stream",
     "text": [
      "WARNING:absl:At this time, the v2.11+ optimizer `tf.keras.optimizers.Adam` runs slowly on M1/M2 Macs, please use the legacy Keras optimizer instead, located at `tf.keras.optimizers.legacy.Adam`.\n",
      "WARNING:absl:`lr` is deprecated in Keras optimizer, please use `learning_rate` or use the legacy optimizer, e.g.,tf.keras.optimizers.legacy.Adam.\n",
      "WARNING:absl:There is a known slowdown when using v2.11+ Keras optimizers on M1/M2 Macs. Falling back to the legacy Keras optimizer, i.e., `tf.keras.optimizers.legacy.Adam`.\n"
     ]
    },
    {
     "name": "stdout",
     "output_type": "stream",
     "text": [
      "\n",
      "\n",
      "Tested 58/100 iterations.\n",
      "Best MAE - Validation Dataset\n",
      "  MAE: 28.3 | sMAPE: 18.05 %\n",
      "\n",
      "Best MAE - Test Dataset\n",
      "  MAE: 17.0 | sMAPE: 18.15 %\n"
     ]
    },
    {
     "name": "stderr",
     "output_type": "stream",
     "text": [
      "WARNING:absl:At this time, the v2.11+ optimizer `tf.keras.optimizers.Adam` runs slowly on M1/M2 Macs, please use the legacy Keras optimizer instead, located at `tf.keras.optimizers.legacy.Adam`.\n",
      "WARNING:absl:`lr` is deprecated in Keras optimizer, please use `learning_rate` or use the legacy optimizer, e.g.,tf.keras.optimizers.legacy.Adam.\n",
      "WARNING:absl:There is a known slowdown when using v2.11+ Keras optimizers on M1/M2 Macs. Falling back to the legacy Keras optimizer, i.e., `tf.keras.optimizers.legacy.Adam`.\n"
     ]
    },
    {
     "name": "stdout",
     "output_type": "stream",
     "text": [
      "\n",
      "\n",
      "Tested 59/100 iterations.\n",
      "Best MAE - Validation Dataset\n",
      "  MAE: 28.3 | sMAPE: 18.05 %\n",
      "\n",
      "Best MAE - Test Dataset\n",
      "  MAE: 17.0 | sMAPE: 18.15 %\n",
      "\n",
      "\n",
      "Tested 60/100 iterations.\n",
      "Best MAE - Validation Dataset\n",
      "  MAE: 28.3 | sMAPE: 18.05 %\n",
      "\n",
      "Best MAE - Test Dataset\n",
      "  MAE: 17.0 | sMAPE: 18.15 %\n"
     ]
    },
    {
     "name": "stderr",
     "output_type": "stream",
     "text": [
      "WARNING:absl:At this time, the v2.11+ optimizer `tf.keras.optimizers.Adam` runs slowly on M1/M2 Macs, please use the legacy Keras optimizer instead, located at `tf.keras.optimizers.legacy.Adam`.\n",
      "WARNING:absl:`lr` is deprecated in Keras optimizer, please use `learning_rate` or use the legacy optimizer, e.g.,tf.keras.optimizers.legacy.Adam.\n",
      "WARNING:absl:There is a known slowdown when using v2.11+ Keras optimizers on M1/M2 Macs. Falling back to the legacy Keras optimizer, i.e., `tf.keras.optimizers.legacy.Adam`.\n",
      "WARNING:absl:At this time, the v2.11+ optimizer `tf.keras.optimizers.Adam` runs slowly on M1/M2 Macs, please use the legacy Keras optimizer instead, located at `tf.keras.optimizers.legacy.Adam`.\n",
      "WARNING:absl:`lr` is deprecated in Keras optimizer, please use `learning_rate` or use the legacy optimizer, e.g.,tf.keras.optimizers.legacy.Adam.\n",
      "WARNING:absl:There is a known slowdown when using v2.11+ Keras optimizers on M1/M2 Macs. Falling back to the legacy Keras optimizer, i.e., `tf.keras.optimizers.legacy.Adam`.\n"
     ]
    },
    {
     "name": "stdout",
     "output_type": "stream",
     "text": [
      "\n",
      "\n",
      "Tested 61/100 iterations.\n",
      "Best MAE - Validation Dataset\n",
      "  MAE: 28.3 | sMAPE: 18.05 %\n",
      "\n",
      "Best MAE - Test Dataset\n",
      "  MAE: 17.0 | sMAPE: 18.15 %\n"
     ]
    },
    {
     "name": "stderr",
     "output_type": "stream",
     "text": [
      "WARNING:absl:At this time, the v2.11+ optimizer `tf.keras.optimizers.Adam` runs slowly on M1/M2 Macs, please use the legacy Keras optimizer instead, located at `tf.keras.optimizers.legacy.Adam`.\n",
      "WARNING:absl:`lr` is deprecated in Keras optimizer, please use `learning_rate` or use the legacy optimizer, e.g.,tf.keras.optimizers.legacy.Adam.\n",
      "WARNING:absl:There is a known slowdown when using v2.11+ Keras optimizers on M1/M2 Macs. Falling back to the legacy Keras optimizer, i.e., `tf.keras.optimizers.legacy.Adam`.\n"
     ]
    },
    {
     "name": "stdout",
     "output_type": "stream",
     "text": [
      "\n",
      "\n",
      "Tested 62/100 iterations.\n",
      "Best MAE - Validation Dataset\n",
      "  MAE: 28.3 | sMAPE: 18.05 %\n",
      "\n",
      "Best MAE - Test Dataset\n",
      "  MAE: 17.0 | sMAPE: 18.15 %\n"
     ]
    },
    {
     "name": "stderr",
     "output_type": "stream",
     "text": [
      "WARNING:absl:At this time, the v2.11+ optimizer `tf.keras.optimizers.Adam` runs slowly on M1/M2 Macs, please use the legacy Keras optimizer instead, located at `tf.keras.optimizers.legacy.Adam`.\n",
      "WARNING:absl:`lr` is deprecated in Keras optimizer, please use `learning_rate` or use the legacy optimizer, e.g.,tf.keras.optimizers.legacy.Adam.\n",
      "WARNING:absl:There is a known slowdown when using v2.11+ Keras optimizers on M1/M2 Macs. Falling back to the legacy Keras optimizer, i.e., `tf.keras.optimizers.legacy.Adam`.\n"
     ]
    },
    {
     "name": "stdout",
     "output_type": "stream",
     "text": [
      "\n",
      "\n",
      "Tested 63/100 iterations.\n",
      "Best MAE - Validation Dataset\n",
      "  MAE: 28.3 | sMAPE: 18.05 %\n",
      "\n",
      "Best MAE - Test Dataset\n",
      "  MAE: 17.0 | sMAPE: 18.15 %\n"
     ]
    },
    {
     "name": "stderr",
     "output_type": "stream",
     "text": [
      "WARNING:absl:At this time, the v2.11+ optimizer `tf.keras.optimizers.Adam` runs slowly on M1/M2 Macs, please use the legacy Keras optimizer instead, located at `tf.keras.optimizers.legacy.Adam`.\n",
      "WARNING:absl:`lr` is deprecated in Keras optimizer, please use `learning_rate` or use the legacy optimizer, e.g.,tf.keras.optimizers.legacy.Adam.\n",
      "WARNING:absl:There is a known slowdown when using v2.11+ Keras optimizers on M1/M2 Macs. Falling back to the legacy Keras optimizer, i.e., `tf.keras.optimizers.legacy.Adam`.\n"
     ]
    },
    {
     "name": "stdout",
     "output_type": "stream",
     "text": [
      "\n",
      "\n",
      "Tested 64/100 iterations.\n",
      "Best MAE - Validation Dataset\n",
      "  MAE: 28.3 | sMAPE: 18.05 %\n",
      "\n",
      "Best MAE - Test Dataset\n",
      "  MAE: 17.0 | sMAPE: 18.15 %\n"
     ]
    },
    {
     "name": "stderr",
     "output_type": "stream",
     "text": [
      "WARNING:absl:At this time, the v2.11+ optimizer `tf.keras.optimizers.Adam` runs slowly on M1/M2 Macs, please use the legacy Keras optimizer instead, located at `tf.keras.optimizers.legacy.Adam`.\n",
      "WARNING:absl:`lr` is deprecated in Keras optimizer, please use `learning_rate` or use the legacy optimizer, e.g.,tf.keras.optimizers.legacy.Adam.\n",
      "WARNING:absl:There is a known slowdown when using v2.11+ Keras optimizers on M1/M2 Macs. Falling back to the legacy Keras optimizer, i.e., `tf.keras.optimizers.legacy.Adam`.\n"
     ]
    },
    {
     "name": "stdout",
     "output_type": "stream",
     "text": [
      "\n",
      "\n",
      "Tested 65/100 iterations.\n",
      "Best MAE - Validation Dataset\n",
      "  MAE: 28.3 | sMAPE: 18.05 %\n",
      "\n",
      "Best MAE - Test Dataset\n",
      "  MAE: 17.0 | sMAPE: 18.15 %\n"
     ]
    },
    {
     "name": "stderr",
     "output_type": "stream",
     "text": [
      "WARNING:absl:At this time, the v2.11+ optimizer `tf.keras.optimizers.Adam` runs slowly on M1/M2 Macs, please use the legacy Keras optimizer instead, located at `tf.keras.optimizers.legacy.Adam`.\n",
      "WARNING:absl:`lr` is deprecated in Keras optimizer, please use `learning_rate` or use the legacy optimizer, e.g.,tf.keras.optimizers.legacy.Adam.\n",
      "WARNING:absl:There is a known slowdown when using v2.11+ Keras optimizers on M1/M2 Macs. Falling back to the legacy Keras optimizer, i.e., `tf.keras.optimizers.legacy.Adam`.\n"
     ]
    },
    {
     "name": "stdout",
     "output_type": "stream",
     "text": [
      "\n",
      "\n",
      "Tested 66/100 iterations.\n",
      "Best MAE - Validation Dataset\n",
      "  MAE: 28.3 | sMAPE: 18.05 %\n",
      "\n",
      "Best MAE - Test Dataset\n",
      "  MAE: 17.0 | sMAPE: 18.15 %\n"
     ]
    },
    {
     "name": "stderr",
     "output_type": "stream",
     "text": [
      "WARNING:absl:At this time, the v2.11+ optimizer `tf.keras.optimizers.Adam` runs slowly on M1/M2 Macs, please use the legacy Keras optimizer instead, located at `tf.keras.optimizers.legacy.Adam`.\n",
      "WARNING:absl:`lr` is deprecated in Keras optimizer, please use `learning_rate` or use the legacy optimizer, e.g.,tf.keras.optimizers.legacy.Adam.\n",
      "WARNING:absl:There is a known slowdown when using v2.11+ Keras optimizers on M1/M2 Macs. Falling back to the legacy Keras optimizer, i.e., `tf.keras.optimizers.legacy.Adam`.\n"
     ]
    },
    {
     "name": "stdout",
     "output_type": "stream",
     "text": [
      "\n",
      "\n",
      "Tested 67/100 iterations.\n",
      "Best MAE - Validation Dataset\n",
      "  MAE: 28.3 | sMAPE: 18.05 %\n",
      "\n",
      "Best MAE - Test Dataset\n",
      "  MAE: 17.0 | sMAPE: 18.15 %\n"
     ]
    },
    {
     "name": "stderr",
     "output_type": "stream",
     "text": [
      "WARNING:absl:At this time, the v2.11+ optimizer `tf.keras.optimizers.Adam` runs slowly on M1/M2 Macs, please use the legacy Keras optimizer instead, located at `tf.keras.optimizers.legacy.Adam`.\n",
      "WARNING:absl:`lr` is deprecated in Keras optimizer, please use `learning_rate` or use the legacy optimizer, e.g.,tf.keras.optimizers.legacy.Adam.\n",
      "WARNING:absl:There is a known slowdown when using v2.11+ Keras optimizers on M1/M2 Macs. Falling back to the legacy Keras optimizer, i.e., `tf.keras.optimizers.legacy.Adam`.\n"
     ]
    },
    {
     "name": "stdout",
     "output_type": "stream",
     "text": [
      "\n",
      "\n",
      "Tested 68/100 iterations.\n",
      "Best MAE - Validation Dataset\n",
      "  MAE: 28.3 | sMAPE: 18.05 %\n",
      "\n",
      "Best MAE - Test Dataset\n",
      "  MAE: 17.0 | sMAPE: 18.15 %\n"
     ]
    },
    {
     "name": "stderr",
     "output_type": "stream",
     "text": [
      "WARNING:absl:At this time, the v2.11+ optimizer `tf.keras.optimizers.Adam` runs slowly on M1/M2 Macs, please use the legacy Keras optimizer instead, located at `tf.keras.optimizers.legacy.Adam`.\n",
      "WARNING:absl:`lr` is deprecated in Keras optimizer, please use `learning_rate` or use the legacy optimizer, e.g.,tf.keras.optimizers.legacy.Adam.\n",
      "WARNING:absl:There is a known slowdown when using v2.11+ Keras optimizers on M1/M2 Macs. Falling back to the legacy Keras optimizer, i.e., `tf.keras.optimizers.legacy.Adam`.\n"
     ]
    },
    {
     "name": "stdout",
     "output_type": "stream",
     "text": [
      "\n",
      "\n",
      "Tested 69/100 iterations.\n",
      "Best MAE - Validation Dataset\n",
      "  MAE: 28.3 | sMAPE: 18.05 %\n",
      "\n",
      "Best MAE - Test Dataset\n",
      "  MAE: 17.0 | sMAPE: 18.15 %\n"
     ]
    },
    {
     "name": "stderr",
     "output_type": "stream",
     "text": [
      "WARNING:absl:At this time, the v2.11+ optimizer `tf.keras.optimizers.Adam` runs slowly on M1/M2 Macs, please use the legacy Keras optimizer instead, located at `tf.keras.optimizers.legacy.Adam`.\n",
      "WARNING:absl:`lr` is deprecated in Keras optimizer, please use `learning_rate` or use the legacy optimizer, e.g.,tf.keras.optimizers.legacy.Adam.\n",
      "WARNING:absl:There is a known slowdown when using v2.11+ Keras optimizers on M1/M2 Macs. Falling back to the legacy Keras optimizer, i.e., `tf.keras.optimizers.legacy.Adam`.\n"
     ]
    },
    {
     "name": "stdout",
     "output_type": "stream",
     "text": [
      "\n",
      "\n",
      "Tested 70/100 iterations.\n",
      "Best MAE - Validation Dataset\n",
      "  MAE: 28.3 | sMAPE: 18.05 %\n",
      "\n",
      "Best MAE - Test Dataset\n",
      "  MAE: 17.0 | sMAPE: 18.15 %\n"
     ]
    },
    {
     "name": "stderr",
     "output_type": "stream",
     "text": [
      "WARNING:absl:At this time, the v2.11+ optimizer `tf.keras.optimizers.Adam` runs slowly on M1/M2 Macs, please use the legacy Keras optimizer instead, located at `tf.keras.optimizers.legacy.Adam`.\n",
      "WARNING:absl:`lr` is deprecated in Keras optimizer, please use `learning_rate` or use the legacy optimizer, e.g.,tf.keras.optimizers.legacy.Adam.\n",
      "WARNING:absl:There is a known slowdown when using v2.11+ Keras optimizers on M1/M2 Macs. Falling back to the legacy Keras optimizer, i.e., `tf.keras.optimizers.legacy.Adam`.\n"
     ]
    },
    {
     "name": "stdout",
     "output_type": "stream",
     "text": [
      "\n",
      "\n",
      "Tested 71/100 iterations.\n",
      "Best MAE - Validation Dataset\n",
      "  MAE: 28.3 | sMAPE: 18.05 %\n",
      "\n",
      "Best MAE - Test Dataset\n",
      "  MAE: 17.0 | sMAPE: 18.15 %\n"
     ]
    },
    {
     "name": "stderr",
     "output_type": "stream",
     "text": [
      "WARNING:absl:At this time, the v2.11+ optimizer `tf.keras.optimizers.Adam` runs slowly on M1/M2 Macs, please use the legacy Keras optimizer instead, located at `tf.keras.optimizers.legacy.Adam`.\n",
      "WARNING:absl:`lr` is deprecated in Keras optimizer, please use `learning_rate` or use the legacy optimizer, e.g.,tf.keras.optimizers.legacy.Adam.\n",
      "WARNING:absl:There is a known slowdown when using v2.11+ Keras optimizers on M1/M2 Macs. Falling back to the legacy Keras optimizer, i.e., `tf.keras.optimizers.legacy.Adam`.\n"
     ]
    },
    {
     "name": "stdout",
     "output_type": "stream",
     "text": [
      "\n",
      "\n",
      "Tested 72/100 iterations.\n",
      "Best MAE - Validation Dataset\n",
      "  MAE: 28.3 | sMAPE: 18.05 %\n",
      "\n",
      "Best MAE - Test Dataset\n",
      "  MAE: 17.0 | sMAPE: 18.15 %\n"
     ]
    },
    {
     "name": "stderr",
     "output_type": "stream",
     "text": [
      "WARNING:absl:At this time, the v2.11+ optimizer `tf.keras.optimizers.Adam` runs slowly on M1/M2 Macs, please use the legacy Keras optimizer instead, located at `tf.keras.optimizers.legacy.Adam`.\n",
      "WARNING:absl:`lr` is deprecated in Keras optimizer, please use `learning_rate` or use the legacy optimizer, e.g.,tf.keras.optimizers.legacy.Adam.\n",
      "WARNING:absl:There is a known slowdown when using v2.11+ Keras optimizers on M1/M2 Macs. Falling back to the legacy Keras optimizer, i.e., `tf.keras.optimizers.legacy.Adam`.\n"
     ]
    },
    {
     "name": "stdout",
     "output_type": "stream",
     "text": [
      "\n",
      "\n",
      "Tested 73/100 iterations.\n",
      "Best MAE - Validation Dataset\n",
      "  MAE: 28.3 | sMAPE: 18.05 %\n",
      "\n",
      "Best MAE - Test Dataset\n",
      "  MAE: 17.0 | sMAPE: 18.15 %\n"
     ]
    },
    {
     "name": "stderr",
     "output_type": "stream",
     "text": [
      "WARNING:absl:At this time, the v2.11+ optimizer `tf.keras.optimizers.Adam` runs slowly on M1/M2 Macs, please use the legacy Keras optimizer instead, located at `tf.keras.optimizers.legacy.Adam`.\n",
      "WARNING:absl:`lr` is deprecated in Keras optimizer, please use `learning_rate` or use the legacy optimizer, e.g.,tf.keras.optimizers.legacy.Adam.\n",
      "WARNING:absl:There is a known slowdown when using v2.11+ Keras optimizers on M1/M2 Macs. Falling back to the legacy Keras optimizer, i.e., `tf.keras.optimizers.legacy.Adam`.\n"
     ]
    },
    {
     "name": "stdout",
     "output_type": "stream",
     "text": [
      "\n",
      "\n",
      "Tested 74/100 iterations.\n",
      "Best MAE - Validation Dataset\n",
      "  MAE: 28.3 | sMAPE: 18.05 %\n",
      "\n",
      "Best MAE - Test Dataset\n",
      "  MAE: 17.0 | sMAPE: 18.15 %\n"
     ]
    },
    {
     "name": "stderr",
     "output_type": "stream",
     "text": [
      "WARNING:absl:At this time, the v2.11+ optimizer `tf.keras.optimizers.Adam` runs slowly on M1/M2 Macs, please use the legacy Keras optimizer instead, located at `tf.keras.optimizers.legacy.Adam`.\n",
      "WARNING:absl:`lr` is deprecated in Keras optimizer, please use `learning_rate` or use the legacy optimizer, e.g.,tf.keras.optimizers.legacy.Adam.\n",
      "WARNING:absl:There is a known slowdown when using v2.11+ Keras optimizers on M1/M2 Macs. Falling back to the legacy Keras optimizer, i.e., `tf.keras.optimizers.legacy.Adam`.\n"
     ]
    },
    {
     "name": "stdout",
     "output_type": "stream",
     "text": [
      "\n",
      "\n",
      "Tested 75/100 iterations.\n",
      "Best MAE - Validation Dataset\n",
      "  MAE: 28.3 | sMAPE: 18.05 %\n",
      "\n",
      "Best MAE - Test Dataset\n",
      "  MAE: 17.0 | sMAPE: 18.15 %\n"
     ]
    },
    {
     "name": "stderr",
     "output_type": "stream",
     "text": [
      "WARNING:absl:At this time, the v2.11+ optimizer `tf.keras.optimizers.Adam` runs slowly on M1/M2 Macs, please use the legacy Keras optimizer instead, located at `tf.keras.optimizers.legacy.Adam`.\n",
      "WARNING:absl:`lr` is deprecated in Keras optimizer, please use `learning_rate` or use the legacy optimizer, e.g.,tf.keras.optimizers.legacy.Adam.\n",
      "WARNING:absl:There is a known slowdown when using v2.11+ Keras optimizers on M1/M2 Macs. Falling back to the legacy Keras optimizer, i.e., `tf.keras.optimizers.legacy.Adam`.\n"
     ]
    },
    {
     "name": "stdout",
     "output_type": "stream",
     "text": [
      "\n",
      "\n",
      "Tested 76/100 iterations.\n",
      "Best MAE - Validation Dataset\n",
      "  MAE: 28.3 | sMAPE: 18.05 %\n",
      "\n",
      "Best MAE - Test Dataset\n",
      "  MAE: 17.0 | sMAPE: 18.15 %\n"
     ]
    },
    {
     "name": "stderr",
     "output_type": "stream",
     "text": [
      "WARNING:absl:At this time, the v2.11+ optimizer `tf.keras.optimizers.Adam` runs slowly on M1/M2 Macs, please use the legacy Keras optimizer instead, located at `tf.keras.optimizers.legacy.Adam`.\n",
      "WARNING:absl:`lr` is deprecated in Keras optimizer, please use `learning_rate` or use the legacy optimizer, e.g.,tf.keras.optimizers.legacy.Adam.\n",
      "WARNING:absl:There is a known slowdown when using v2.11+ Keras optimizers on M1/M2 Macs. Falling back to the legacy Keras optimizer, i.e., `tf.keras.optimizers.legacy.Adam`.\n"
     ]
    },
    {
     "name": "stdout",
     "output_type": "stream",
     "text": [
      "\n",
      "\n",
      "Tested 77/100 iterations.\n",
      "Best MAE - Validation Dataset\n",
      "  MAE: 28.3 | sMAPE: 18.05 %\n",
      "\n",
      "Best MAE - Test Dataset\n",
      "  MAE: 17.0 | sMAPE: 18.15 %\n"
     ]
    },
    {
     "name": "stderr",
     "output_type": "stream",
     "text": [
      "WARNING:absl:At this time, the v2.11+ optimizer `tf.keras.optimizers.Adam` runs slowly on M1/M2 Macs, please use the legacy Keras optimizer instead, located at `tf.keras.optimizers.legacy.Adam`.\n",
      "WARNING:absl:`lr` is deprecated in Keras optimizer, please use `learning_rate` or use the legacy optimizer, e.g.,tf.keras.optimizers.legacy.Adam.\n",
      "WARNING:absl:There is a known slowdown when using v2.11+ Keras optimizers on M1/M2 Macs. Falling back to the legacy Keras optimizer, i.e., `tf.keras.optimizers.legacy.Adam`.\n"
     ]
    },
    {
     "name": "stdout",
     "output_type": "stream",
     "text": [
      "\n",
      "\n",
      "Tested 78/100 iterations.\n",
      "Best MAE - Validation Dataset\n",
      "  MAE: 28.3 | sMAPE: 18.05 %\n",
      "\n",
      "Best MAE - Test Dataset\n",
      "  MAE: 17.0 | sMAPE: 18.15 %\n"
     ]
    },
    {
     "name": "stderr",
     "output_type": "stream",
     "text": [
      "WARNING:absl:At this time, the v2.11+ optimizer `tf.keras.optimizers.Adam` runs slowly on M1/M2 Macs, please use the legacy Keras optimizer instead, located at `tf.keras.optimizers.legacy.Adam`.\n",
      "WARNING:absl:`lr` is deprecated in Keras optimizer, please use `learning_rate` or use the legacy optimizer, e.g.,tf.keras.optimizers.legacy.Adam.\n",
      "WARNING:absl:There is a known slowdown when using v2.11+ Keras optimizers on M1/M2 Macs. Falling back to the legacy Keras optimizer, i.e., `tf.keras.optimizers.legacy.Adam`.\n"
     ]
    },
    {
     "name": "stdout",
     "output_type": "stream",
     "text": [
      "\n",
      "\n",
      "Tested 79/100 iterations.\n",
      "Best MAE - Validation Dataset\n",
      "  MAE: 28.3 | sMAPE: 18.05 %\n",
      "\n",
      "Best MAE - Test Dataset\n",
      "  MAE: 17.0 | sMAPE: 18.15 %\n"
     ]
    },
    {
     "name": "stderr",
     "output_type": "stream",
     "text": [
      "WARNING:absl:At this time, the v2.11+ optimizer `tf.keras.optimizers.Adam` runs slowly on M1/M2 Macs, please use the legacy Keras optimizer instead, located at `tf.keras.optimizers.legacy.Adam`.\n",
      "WARNING:absl:`lr` is deprecated in Keras optimizer, please use `learning_rate` or use the legacy optimizer, e.g.,tf.keras.optimizers.legacy.Adam.\n",
      "WARNING:absl:There is a known slowdown when using v2.11+ Keras optimizers on M1/M2 Macs. Falling back to the legacy Keras optimizer, i.e., `tf.keras.optimizers.legacy.Adam`.\n"
     ]
    },
    {
     "name": "stdout",
     "output_type": "stream",
     "text": [
      "\n",
      "\n",
      "Tested 80/100 iterations.\n",
      "Best MAE - Validation Dataset\n",
      "  MAE: 28.3 | sMAPE: 18.05 %\n",
      "\n",
      "Best MAE - Test Dataset\n",
      "  MAE: 17.0 | sMAPE: 18.15 %\n"
     ]
    },
    {
     "name": "stderr",
     "output_type": "stream",
     "text": [
      "WARNING:absl:At this time, the v2.11+ optimizer `tf.keras.optimizers.Adam` runs slowly on M1/M2 Macs, please use the legacy Keras optimizer instead, located at `tf.keras.optimizers.legacy.Adam`.\n",
      "WARNING:absl:`lr` is deprecated in Keras optimizer, please use `learning_rate` or use the legacy optimizer, e.g.,tf.keras.optimizers.legacy.Adam.\n",
      "WARNING:absl:There is a known slowdown when using v2.11+ Keras optimizers on M1/M2 Macs. Falling back to the legacy Keras optimizer, i.e., `tf.keras.optimizers.legacy.Adam`.\n"
     ]
    },
    {
     "name": "stdout",
     "output_type": "stream",
     "text": [
      "\n",
      "\n",
      "Tested 81/100 iterations.\n",
      "Best MAE - Validation Dataset\n",
      "  MAE: 28.3 | sMAPE: 18.05 %\n",
      "\n",
      "Best MAE - Test Dataset\n",
      "  MAE: 17.0 | sMAPE: 18.15 %\n"
     ]
    },
    {
     "name": "stderr",
     "output_type": "stream",
     "text": [
      "WARNING:absl:At this time, the v2.11+ optimizer `tf.keras.optimizers.Adam` runs slowly on M1/M2 Macs, please use the legacy Keras optimizer instead, located at `tf.keras.optimizers.legacy.Adam`.\n",
      "WARNING:absl:`lr` is deprecated in Keras optimizer, please use `learning_rate` or use the legacy optimizer, e.g.,tf.keras.optimizers.legacy.Adam.\n",
      "WARNING:absl:There is a known slowdown when using v2.11+ Keras optimizers on M1/M2 Macs. Falling back to the legacy Keras optimizer, i.e., `tf.keras.optimizers.legacy.Adam`.\n"
     ]
    },
    {
     "name": "stdout",
     "output_type": "stream",
     "text": [
      "\n",
      "\n",
      "Tested 82/100 iterations.\n",
      "Best MAE - Validation Dataset\n",
      "  MAE: 28.3 | sMAPE: 18.05 %\n",
      "\n",
      "Best MAE - Test Dataset\n",
      "  MAE: 17.0 | sMAPE: 18.15 %\n"
     ]
    },
    {
     "name": "stderr",
     "output_type": "stream",
     "text": [
      "WARNING:absl:At this time, the v2.11+ optimizer `tf.keras.optimizers.Adam` runs slowly on M1/M2 Macs, please use the legacy Keras optimizer instead, located at `tf.keras.optimizers.legacy.Adam`.\n",
      "WARNING:absl:`lr` is deprecated in Keras optimizer, please use `learning_rate` or use the legacy optimizer, e.g.,tf.keras.optimizers.legacy.Adam.\n",
      "WARNING:absl:There is a known slowdown when using v2.11+ Keras optimizers on M1/M2 Macs. Falling back to the legacy Keras optimizer, i.e., `tf.keras.optimizers.legacy.Adam`.\n"
     ]
    },
    {
     "name": "stdout",
     "output_type": "stream",
     "text": [
      "\n",
      "\n",
      "Tested 83/100 iterations.\n",
      "Best MAE - Validation Dataset\n",
      "  MAE: 28.3 | sMAPE: 18.05 %\n",
      "\n",
      "Best MAE - Test Dataset\n",
      "  MAE: 17.0 | sMAPE: 18.15 %\n"
     ]
    },
    {
     "name": "stderr",
     "output_type": "stream",
     "text": [
      "WARNING:absl:At this time, the v2.11+ optimizer `tf.keras.optimizers.Adam` runs slowly on M1/M2 Macs, please use the legacy Keras optimizer instead, located at `tf.keras.optimizers.legacy.Adam`.\n",
      "WARNING:absl:`lr` is deprecated in Keras optimizer, please use `learning_rate` or use the legacy optimizer, e.g.,tf.keras.optimizers.legacy.Adam.\n",
      "WARNING:absl:There is a known slowdown when using v2.11+ Keras optimizers on M1/M2 Macs. Falling back to the legacy Keras optimizer, i.e., `tf.keras.optimizers.legacy.Adam`.\n"
     ]
    },
    {
     "name": "stdout",
     "output_type": "stream",
     "text": [
      "\n",
      "\n",
      "Tested 84/100 iterations.\n",
      "Best MAE - Validation Dataset\n",
      "  MAE: 28.3 | sMAPE: 18.05 %\n",
      "\n",
      "Best MAE - Test Dataset\n",
      "  MAE: 17.0 | sMAPE: 18.15 %\n"
     ]
    },
    {
     "name": "stderr",
     "output_type": "stream",
     "text": [
      "WARNING:absl:At this time, the v2.11+ optimizer `tf.keras.optimizers.Adam` runs slowly on M1/M2 Macs, please use the legacy Keras optimizer instead, located at `tf.keras.optimizers.legacy.Adam`.\n",
      "WARNING:absl:`lr` is deprecated in Keras optimizer, please use `learning_rate` or use the legacy optimizer, e.g.,tf.keras.optimizers.legacy.Adam.\n",
      "WARNING:absl:There is a known slowdown when using v2.11+ Keras optimizers on M1/M2 Macs. Falling back to the legacy Keras optimizer, i.e., `tf.keras.optimizers.legacy.Adam`.\n"
     ]
    },
    {
     "name": "stdout",
     "output_type": "stream",
     "text": [
      "\n",
      "\n",
      "Tested 85/100 iterations.\n",
      "Best MAE - Validation Dataset\n",
      "  MAE: 28.3 | sMAPE: 18.05 %\n",
      "\n",
      "Best MAE - Test Dataset\n",
      "  MAE: 17.0 | sMAPE: 18.15 %\n"
     ]
    },
    {
     "name": "stderr",
     "output_type": "stream",
     "text": [
      "WARNING:absl:At this time, the v2.11+ optimizer `tf.keras.optimizers.Adam` runs slowly on M1/M2 Macs, please use the legacy Keras optimizer instead, located at `tf.keras.optimizers.legacy.Adam`.\n",
      "WARNING:absl:`lr` is deprecated in Keras optimizer, please use `learning_rate` or use the legacy optimizer, e.g.,tf.keras.optimizers.legacy.Adam.\n",
      "WARNING:absl:There is a known slowdown when using v2.11+ Keras optimizers on M1/M2 Macs. Falling back to the legacy Keras optimizer, i.e., `tf.keras.optimizers.legacy.Adam`.\n"
     ]
    },
    {
     "name": "stdout",
     "output_type": "stream",
     "text": [
      "\n",
      "\n",
      "Tested 86/100 iterations.\n",
      "Best MAE - Validation Dataset\n",
      "  MAE: 28.3 | sMAPE: 18.05 %\n",
      "\n",
      "Best MAE - Test Dataset\n",
      "  MAE: 17.0 | sMAPE: 18.15 %\n"
     ]
    },
    {
     "name": "stderr",
     "output_type": "stream",
     "text": [
      "WARNING:absl:At this time, the v2.11+ optimizer `tf.keras.optimizers.Adam` runs slowly on M1/M2 Macs, please use the legacy Keras optimizer instead, located at `tf.keras.optimizers.legacy.Adam`.\n",
      "WARNING:absl:`lr` is deprecated in Keras optimizer, please use `learning_rate` or use the legacy optimizer, e.g.,tf.keras.optimizers.legacy.Adam.\n",
      "WARNING:absl:There is a known slowdown when using v2.11+ Keras optimizers on M1/M2 Macs. Falling back to the legacy Keras optimizer, i.e., `tf.keras.optimizers.legacy.Adam`.\n"
     ]
    },
    {
     "name": "stdout",
     "output_type": "stream",
     "text": [
      "\n",
      "\n",
      "Tested 87/100 iterations.\n",
      "Best MAE - Validation Dataset\n",
      "  MAE: 28.3 | sMAPE: 18.05 %\n",
      "\n",
      "Best MAE - Test Dataset\n",
      "  MAE: 17.0 | sMAPE: 18.15 %\n"
     ]
    },
    {
     "name": "stderr",
     "output_type": "stream",
     "text": [
      "WARNING:absl:At this time, the v2.11+ optimizer `tf.keras.optimizers.Adam` runs slowly on M1/M2 Macs, please use the legacy Keras optimizer instead, located at `tf.keras.optimizers.legacy.Adam`.\n",
      "WARNING:absl:`lr` is deprecated in Keras optimizer, please use `learning_rate` or use the legacy optimizer, e.g.,tf.keras.optimizers.legacy.Adam.\n",
      "WARNING:absl:There is a known slowdown when using v2.11+ Keras optimizers on M1/M2 Macs. Falling back to the legacy Keras optimizer, i.e., `tf.keras.optimizers.legacy.Adam`.\n"
     ]
    },
    {
     "name": "stdout",
     "output_type": "stream",
     "text": [
      "\n",
      "\n",
      "Tested 88/100 iterations.\n",
      "Best MAE - Validation Dataset\n",
      "  MAE: 28.3 | sMAPE: 18.05 %\n",
      "\n",
      "Best MAE - Test Dataset\n",
      "  MAE: 17.0 | sMAPE: 18.15 %\n"
     ]
    },
    {
     "name": "stderr",
     "output_type": "stream",
     "text": [
      "WARNING:absl:At this time, the v2.11+ optimizer `tf.keras.optimizers.Adam` runs slowly on M1/M2 Macs, please use the legacy Keras optimizer instead, located at `tf.keras.optimizers.legacy.Adam`.\n",
      "WARNING:absl:`lr` is deprecated in Keras optimizer, please use `learning_rate` or use the legacy optimizer, e.g.,tf.keras.optimizers.legacy.Adam.\n",
      "WARNING:absl:There is a known slowdown when using v2.11+ Keras optimizers on M1/M2 Macs. Falling back to the legacy Keras optimizer, i.e., `tf.keras.optimizers.legacy.Adam`.\n"
     ]
    },
    {
     "name": "stdout",
     "output_type": "stream",
     "text": [
      "\n",
      "\n",
      "Tested 89/100 iterations.\n",
      "Best MAE - Validation Dataset\n",
      "  MAE: 28.3 | sMAPE: 18.05 %\n",
      "\n",
      "Best MAE - Test Dataset\n",
      "  MAE: 17.0 | sMAPE: 18.15 %\n",
      "\n",
      "\n",
      "Tested 90/100 iterations.\n",
      "Best MAE - Validation Dataset\n",
      "  MAE: 28.3 | sMAPE: 18.05 %\n",
      "\n",
      "Best MAE - Test Dataset\n",
      "  MAE: 17.0 | sMAPE: 18.15 %\n"
     ]
    },
    {
     "name": "stderr",
     "output_type": "stream",
     "text": [
      "WARNING:absl:At this time, the v2.11+ optimizer `tf.keras.optimizers.Adam` runs slowly on M1/M2 Macs, please use the legacy Keras optimizer instead, located at `tf.keras.optimizers.legacy.Adam`.\n",
      "WARNING:absl:`lr` is deprecated in Keras optimizer, please use `learning_rate` or use the legacy optimizer, e.g.,tf.keras.optimizers.legacy.Adam.\n",
      "WARNING:absl:There is a known slowdown when using v2.11+ Keras optimizers on M1/M2 Macs. Falling back to the legacy Keras optimizer, i.e., `tf.keras.optimizers.legacy.Adam`.\n",
      "WARNING:absl:At this time, the v2.11+ optimizer `tf.keras.optimizers.Adam` runs slowly on M1/M2 Macs, please use the legacy Keras optimizer instead, located at `tf.keras.optimizers.legacy.Adam`.\n",
      "WARNING:absl:`lr` is deprecated in Keras optimizer, please use `learning_rate` or use the legacy optimizer, e.g.,tf.keras.optimizers.legacy.Adam.\n",
      "WARNING:absl:There is a known slowdown when using v2.11+ Keras optimizers on M1/M2 Macs. Falling back to the legacy Keras optimizer, i.e., `tf.keras.optimizers.legacy.Adam`.\n"
     ]
    },
    {
     "name": "stdout",
     "output_type": "stream",
     "text": [
      "\n",
      "\n",
      "Tested 91/100 iterations.\n",
      "Best MAE - Validation Dataset\n",
      "  MAE: 28.3 | sMAPE: 18.05 %\n",
      "\n",
      "Best MAE - Test Dataset\n",
      "  MAE: 17.0 | sMAPE: 18.15 %\n"
     ]
    },
    {
     "name": "stderr",
     "output_type": "stream",
     "text": [
      "WARNING:absl:At this time, the v2.11+ optimizer `tf.keras.optimizers.Adam` runs slowly on M1/M2 Macs, please use the legacy Keras optimizer instead, located at `tf.keras.optimizers.legacy.Adam`.\n",
      "WARNING:absl:`lr` is deprecated in Keras optimizer, please use `learning_rate` or use the legacy optimizer, e.g.,tf.keras.optimizers.legacy.Adam.\n",
      "WARNING:absl:There is a known slowdown when using v2.11+ Keras optimizers on M1/M2 Macs. Falling back to the legacy Keras optimizer, i.e., `tf.keras.optimizers.legacy.Adam`.\n"
     ]
    },
    {
     "name": "stdout",
     "output_type": "stream",
     "text": [
      "\n",
      "\n",
      "Tested 92/100 iterations.\n",
      "Best MAE - Validation Dataset\n",
      "  MAE: 28.3 | sMAPE: 18.05 %\n",
      "\n",
      "Best MAE - Test Dataset\n",
      "  MAE: 17.0 | sMAPE: 18.15 %\n"
     ]
    },
    {
     "name": "stderr",
     "output_type": "stream",
     "text": [
      "WARNING:absl:At this time, the v2.11+ optimizer `tf.keras.optimizers.Adam` runs slowly on M1/M2 Macs, please use the legacy Keras optimizer instead, located at `tf.keras.optimizers.legacy.Adam`.\n",
      "WARNING:absl:`lr` is deprecated in Keras optimizer, please use `learning_rate` or use the legacy optimizer, e.g.,tf.keras.optimizers.legacy.Adam.\n",
      "WARNING:absl:There is a known slowdown when using v2.11+ Keras optimizers on M1/M2 Macs. Falling back to the legacy Keras optimizer, i.e., `tf.keras.optimizers.legacy.Adam`.\n"
     ]
    },
    {
     "name": "stdout",
     "output_type": "stream",
     "text": [
      "\n",
      "\n",
      "Tested 93/100 iterations.\n",
      "Best MAE - Validation Dataset\n",
      "  MAE: 28.3 | sMAPE: 18.05 %\n",
      "\n",
      "Best MAE - Test Dataset\n",
      "  MAE: 17.0 | sMAPE: 18.15 %\n"
     ]
    },
    {
     "name": "stderr",
     "output_type": "stream",
     "text": [
      "WARNING:absl:At this time, the v2.11+ optimizer `tf.keras.optimizers.Adam` runs slowly on M1/M2 Macs, please use the legacy Keras optimizer instead, located at `tf.keras.optimizers.legacy.Adam`.\n",
      "WARNING:absl:`lr` is deprecated in Keras optimizer, please use `learning_rate` or use the legacy optimizer, e.g.,tf.keras.optimizers.legacy.Adam.\n",
      "WARNING:absl:There is a known slowdown when using v2.11+ Keras optimizers on M1/M2 Macs. Falling back to the legacy Keras optimizer, i.e., `tf.keras.optimizers.legacy.Adam`.\n"
     ]
    },
    {
     "name": "stdout",
     "output_type": "stream",
     "text": [
      "\n",
      "\n",
      "Tested 94/100 iterations.\n",
      "Best MAE - Validation Dataset\n",
      "  MAE: 28.3 | sMAPE: 18.05 %\n",
      "\n",
      "Best MAE - Test Dataset\n",
      "  MAE: 17.0 | sMAPE: 18.15 %\n"
     ]
    },
    {
     "name": "stderr",
     "output_type": "stream",
     "text": [
      "WARNING:absl:At this time, the v2.11+ optimizer `tf.keras.optimizers.Adam` runs slowly on M1/M2 Macs, please use the legacy Keras optimizer instead, located at `tf.keras.optimizers.legacy.Adam`.\n",
      "WARNING:absl:`lr` is deprecated in Keras optimizer, please use `learning_rate` or use the legacy optimizer, e.g.,tf.keras.optimizers.legacy.Adam.\n",
      "WARNING:absl:There is a known slowdown when using v2.11+ Keras optimizers on M1/M2 Macs. Falling back to the legacy Keras optimizer, i.e., `tf.keras.optimizers.legacy.Adam`.\n"
     ]
    },
    {
     "name": "stdout",
     "output_type": "stream",
     "text": [
      "\n",
      "\n",
      "Tested 95/100 iterations.\n",
      "Best MAE - Validation Dataset\n",
      "  MAE: 28.3 | sMAPE: 18.05 %\n",
      "\n",
      "Best MAE - Test Dataset\n",
      "  MAE: 17.0 | sMAPE: 18.15 %\n"
     ]
    },
    {
     "name": "stderr",
     "output_type": "stream",
     "text": [
      "WARNING:absl:At this time, the v2.11+ optimizer `tf.keras.optimizers.Adam` runs slowly on M1/M2 Macs, please use the legacy Keras optimizer instead, located at `tf.keras.optimizers.legacy.Adam`.\n",
      "WARNING:absl:`lr` is deprecated in Keras optimizer, please use `learning_rate` or use the legacy optimizer, e.g.,tf.keras.optimizers.legacy.Adam.\n",
      "WARNING:absl:There is a known slowdown when using v2.11+ Keras optimizers on M1/M2 Macs. Falling back to the legacy Keras optimizer, i.e., `tf.keras.optimizers.legacy.Adam`.\n"
     ]
    },
    {
     "name": "stdout",
     "output_type": "stream",
     "text": [
      "\n",
      "\n",
      "Tested 96/100 iterations.\n",
      "Best MAE - Validation Dataset\n",
      "  MAE: 28.3 | sMAPE: 18.05 %\n",
      "\n",
      "Best MAE - Test Dataset\n",
      "  MAE: 17.0 | sMAPE: 18.15 %\n"
     ]
    },
    {
     "name": "stderr",
     "output_type": "stream",
     "text": [
      "WARNING:absl:At this time, the v2.11+ optimizer `tf.keras.optimizers.Adam` runs slowly on M1/M2 Macs, please use the legacy Keras optimizer instead, located at `tf.keras.optimizers.legacy.Adam`.\n",
      "WARNING:absl:`lr` is deprecated in Keras optimizer, please use `learning_rate` or use the legacy optimizer, e.g.,tf.keras.optimizers.legacy.Adam.\n",
      "WARNING:absl:There is a known slowdown when using v2.11+ Keras optimizers on M1/M2 Macs. Falling back to the legacy Keras optimizer, i.e., `tf.keras.optimizers.legacy.Adam`.\n"
     ]
    },
    {
     "name": "stdout",
     "output_type": "stream",
     "text": [
      "\n",
      "\n",
      "Tested 97/100 iterations.\n",
      "Best MAE - Validation Dataset\n",
      "  MAE: 28.3 | sMAPE: 18.05 %\n",
      "\n",
      "Best MAE - Test Dataset\n",
      "  MAE: 17.0 | sMAPE: 18.15 %\n"
     ]
    },
    {
     "name": "stderr",
     "output_type": "stream",
     "text": [
      "WARNING:absl:At this time, the v2.11+ optimizer `tf.keras.optimizers.Adam` runs slowly on M1/M2 Macs, please use the legacy Keras optimizer instead, located at `tf.keras.optimizers.legacy.Adam`.\n",
      "WARNING:absl:`lr` is deprecated in Keras optimizer, please use `learning_rate` or use the legacy optimizer, e.g.,tf.keras.optimizers.legacy.Adam.\n",
      "WARNING:absl:There is a known slowdown when using v2.11+ Keras optimizers on M1/M2 Macs. Falling back to the legacy Keras optimizer, i.e., `tf.keras.optimizers.legacy.Adam`.\n"
     ]
    },
    {
     "name": "stdout",
     "output_type": "stream",
     "text": [
      "\n",
      "\n",
      "Tested 98/100 iterations.\n",
      "Best MAE - Validation Dataset\n",
      "  MAE: 28.3 | sMAPE: 18.05 %\n",
      "\n",
      "Best MAE - Test Dataset\n",
      "  MAE: 17.0 | sMAPE: 18.15 %\n"
     ]
    },
    {
     "name": "stderr",
     "output_type": "stream",
     "text": [
      "WARNING:absl:At this time, the v2.11+ optimizer `tf.keras.optimizers.Adam` runs slowly on M1/M2 Macs, please use the legacy Keras optimizer instead, located at `tf.keras.optimizers.legacy.Adam`.\n",
      "WARNING:absl:`lr` is deprecated in Keras optimizer, please use `learning_rate` or use the legacy optimizer, e.g.,tf.keras.optimizers.legacy.Adam.\n",
      "WARNING:absl:There is a known slowdown when using v2.11+ Keras optimizers on M1/M2 Macs. Falling back to the legacy Keras optimizer, i.e., `tf.keras.optimizers.legacy.Adam`.\n"
     ]
    },
    {
     "name": "stdout",
     "output_type": "stream",
     "text": [
      "\n",
      "\n",
      "Tested 99/100 iterations.\n",
      "Best MAE - Validation Dataset\n",
      "  MAE: 28.3 | sMAPE: 18.05 %\n",
      "\n",
      "Best MAE - Test Dataset\n",
      "  MAE: 17.0 | sMAPE: 18.15 %\n"
     ]
    },
    {
     "name": "stderr",
     "output_type": "stream",
     "text": [
      "WARNING:absl:At this time, the v2.11+ optimizer `tf.keras.optimizers.Adam` runs slowly on M1/M2 Macs, please use the legacy Keras optimizer instead, located at `tf.keras.optimizers.legacy.Adam`.\n",
      "WARNING:absl:`lr` is deprecated in Keras optimizer, please use `learning_rate` or use the legacy optimizer, e.g.,tf.keras.optimizers.legacy.Adam.\n",
      "WARNING:absl:There is a known slowdown when using v2.11+ Keras optimizers on M1/M2 Macs. Falling back to the legacy Keras optimizer, i.e., `tf.keras.optimizers.legacy.Adam`.\n"
     ]
    },
    {
     "name": "stdout",
     "output_type": "stream",
     "text": [
      "Test datasets: 2023-02-01 00:00:00 - 2023-04-30 23:00:00\n"
     ]
    },
    {
     "name": "stderr",
     "output_type": "stream",
     "text": [
      "WARNING:absl:At this time, the v2.11+ optimizer `tf.keras.optimizers.Adam` runs slowly on M1/M2 Macs, please use the legacy Keras optimizer instead, located at `tf.keras.optimizers.legacy.Adam`.\n",
      "WARNING:absl:`lr` is deprecated in Keras optimizer, please use `learning_rate` or use the legacy optimizer, e.g.,tf.keras.optimizers.legacy.Adam.\n",
      "WARNING:absl:There is a known slowdown when using v2.11+ Keras optimizers on M1/M2 Macs. Falling back to the legacy Keras optimizer, i.e., `tf.keras.optimizers.legacy.Adam`.\n"
     ]
    },
    {
     "name": "stdout",
     "output_type": "stream",
     "text": [
      "2023-02-01 - sMAPE: 11.12%  |  MAE: 15.093\n"
     ]
    },
    {
     "name": "stderr",
     "output_type": "stream",
     "text": [
      "WARNING:absl:At this time, the v2.11+ optimizer `tf.keras.optimizers.Adam` runs slowly on M1/M2 Macs, please use the legacy Keras optimizer instead, located at `tf.keras.optimizers.legacy.Adam`.\n",
      "WARNING:absl:`lr` is deprecated in Keras optimizer, please use `learning_rate` or use the legacy optimizer, e.g.,tf.keras.optimizers.legacy.Adam.\n",
      "WARNING:absl:There is a known slowdown when using v2.11+ Keras optimizers on M1/M2 Macs. Falling back to the legacy Keras optimizer, i.e., `tf.keras.optimizers.legacy.Adam`.\n"
     ]
    },
    {
     "name": "stdout",
     "output_type": "stream",
     "text": [
      "2023-02-02 - sMAPE: 10.08%  |  MAE: 14.000\n"
     ]
    },
    {
     "name": "stderr",
     "output_type": "stream",
     "text": [
      "WARNING:absl:At this time, the v2.11+ optimizer `tf.keras.optimizers.Adam` runs slowly on M1/M2 Macs, please use the legacy Keras optimizer instead, located at `tf.keras.optimizers.legacy.Adam`.\n",
      "WARNING:absl:`lr` is deprecated in Keras optimizer, please use `learning_rate` or use the legacy optimizer, e.g.,tf.keras.optimizers.legacy.Adam.\n",
      "WARNING:absl:There is a known slowdown when using v2.11+ Keras optimizers on M1/M2 Macs. Falling back to the legacy Keras optimizer, i.e., `tf.keras.optimizers.legacy.Adam`.\n"
     ]
    },
    {
     "name": "stdout",
     "output_type": "stream",
     "text": [
      "2023-02-03 - sMAPE: 9.49%  |  MAE: 13.345\n",
      "2023-02-04 - sMAPE: 9.63%  |  MAE: 13.441\n"
     ]
    },
    {
     "name": "stderr",
     "output_type": "stream",
     "text": [
      "WARNING:absl:At this time, the v2.11+ optimizer `tf.keras.optimizers.Adam` runs slowly on M1/M2 Macs, please use the legacy Keras optimizer instead, located at `tf.keras.optimizers.legacy.Adam`.\n",
      "WARNING:absl:`lr` is deprecated in Keras optimizer, please use `learning_rate` or use the legacy optimizer, e.g.,tf.keras.optimizers.legacy.Adam.\n",
      "WARNING:absl:There is a known slowdown when using v2.11+ Keras optimizers on M1/M2 Macs. Falling back to the legacy Keras optimizer, i.e., `tf.keras.optimizers.legacy.Adam`.\n"
     ]
    },
    {
     "name": "stdout",
     "output_type": "stream",
     "text": [
      "2023-02-05 - sMAPE: 9.65%  |  MAE: 13.215\n"
     ]
    },
    {
     "name": "stderr",
     "output_type": "stream",
     "text": [
      "WARNING:absl:At this time, the v2.11+ optimizer `tf.keras.optimizers.Adam` runs slowly on M1/M2 Macs, please use the legacy Keras optimizer instead, located at `tf.keras.optimizers.legacy.Adam`.\n",
      "WARNING:absl:`lr` is deprecated in Keras optimizer, please use `learning_rate` or use the legacy optimizer, e.g.,tf.keras.optimizers.legacy.Adam.\n",
      "WARNING:absl:There is a known slowdown when using v2.11+ Keras optimizers on M1/M2 Macs. Falling back to the legacy Keras optimizer, i.e., `tf.keras.optimizers.legacy.Adam`.\n"
     ]
    },
    {
     "name": "stdout",
     "output_type": "stream",
     "text": [
      "2023-02-06 - sMAPE: 9.92%  |  MAE: 14.169\n"
     ]
    },
    {
     "name": "stderr",
     "output_type": "stream",
     "text": [
      "WARNING:absl:At this time, the v2.11+ optimizer `tf.keras.optimizers.Adam` runs slowly on M1/M2 Macs, please use the legacy Keras optimizer instead, located at `tf.keras.optimizers.legacy.Adam`.\n",
      "WARNING:absl:`lr` is deprecated in Keras optimizer, please use `learning_rate` or use the legacy optimizer, e.g.,tf.keras.optimizers.legacy.Adam.\n",
      "WARNING:absl:There is a known slowdown when using v2.11+ Keras optimizers on M1/M2 Macs. Falling back to the legacy Keras optimizer, i.e., `tf.keras.optimizers.legacy.Adam`.\n",
      "WARNING:absl:At this time, the v2.11+ optimizer `tf.keras.optimizers.Adam` runs slowly on M1/M2 Macs, please use the legacy Keras optimizer instead, located at `tf.keras.optimizers.legacy.Adam`.\n",
      "WARNING:absl:`lr` is deprecated in Keras optimizer, please use `learning_rate` or use the legacy optimizer, e.g.,tf.keras.optimizers.legacy.Adam.\n",
      "WARNING:absl:There is a known slowdown when using v2.11+ Keras optimizers on M1/M2 Macs. Falling back to the legacy Keras optimizer, i.e., `tf.keras.optimizers.legacy.Adam`.\n"
     ]
    },
    {
     "name": "stdout",
     "output_type": "stream",
     "text": [
      "2023-02-07 - sMAPE: 9.52%  |  MAE: 13.887\n"
     ]
    },
    {
     "name": "stderr",
     "output_type": "stream",
     "text": [
      "WARNING:absl:At this time, the v2.11+ optimizer `tf.keras.optimizers.Adam` runs slowly on M1/M2 Macs, please use the legacy Keras optimizer instead, located at `tf.keras.optimizers.legacy.Adam`.\n",
      "WARNING:absl:`lr` is deprecated in Keras optimizer, please use `learning_rate` or use the legacy optimizer, e.g.,tf.keras.optimizers.legacy.Adam.\n",
      "WARNING:absl:There is a known slowdown when using v2.11+ Keras optimizers on M1/M2 Macs. Falling back to the legacy Keras optimizer, i.e., `tf.keras.optimizers.legacy.Adam`.\n"
     ]
    },
    {
     "name": "stdout",
     "output_type": "stream",
     "text": [
      "2023-02-08 - sMAPE: 10.23%  |  MAE: 15.455\n"
     ]
    },
    {
     "name": "stderr",
     "output_type": "stream",
     "text": [
      "WARNING:absl:At this time, the v2.11+ optimizer `tf.keras.optimizers.Adam` runs slowly on M1/M2 Macs, please use the legacy Keras optimizer instead, located at `tf.keras.optimizers.legacy.Adam`.\n",
      "WARNING:absl:`lr` is deprecated in Keras optimizer, please use `learning_rate` or use the legacy optimizer, e.g.,tf.keras.optimizers.legacy.Adam.\n",
      "WARNING:absl:There is a known slowdown when using v2.11+ Keras optimizers on M1/M2 Macs. Falling back to the legacy Keras optimizer, i.e., `tf.keras.optimizers.legacy.Adam`.\n"
     ]
    },
    {
     "name": "stdout",
     "output_type": "stream",
     "text": [
      "2023-02-09 - sMAPE: 10.07%  |  MAE: 15.215\n"
     ]
    },
    {
     "name": "stderr",
     "output_type": "stream",
     "text": [
      "WARNING:absl:At this time, the v2.11+ optimizer `tf.keras.optimizers.Adam` runs slowly on M1/M2 Macs, please use the legacy Keras optimizer instead, located at `tf.keras.optimizers.legacy.Adam`.\n",
      "WARNING:absl:`lr` is deprecated in Keras optimizer, please use `learning_rate` or use the legacy optimizer, e.g.,tf.keras.optimizers.legacy.Adam.\n",
      "WARNING:absl:There is a known slowdown when using v2.11+ Keras optimizers on M1/M2 Macs. Falling back to the legacy Keras optimizer, i.e., `tf.keras.optimizers.legacy.Adam`.\n"
     ]
    },
    {
     "name": "stdout",
     "output_type": "stream",
     "text": [
      "2023-02-10 - sMAPE: 10.53%  |  MAE: 15.895\n"
     ]
    },
    {
     "name": "stderr",
     "output_type": "stream",
     "text": [
      "WARNING:absl:At this time, the v2.11+ optimizer `tf.keras.optimizers.Adam` runs slowly on M1/M2 Macs, please use the legacy Keras optimizer instead, located at `tf.keras.optimizers.legacy.Adam`.\n",
      "WARNING:absl:`lr` is deprecated in Keras optimizer, please use `learning_rate` or use the legacy optimizer, e.g.,tf.keras.optimizers.legacy.Adam.\n",
      "WARNING:absl:There is a known slowdown when using v2.11+ Keras optimizers on M1/M2 Macs. Falling back to the legacy Keras optimizer, i.e., `tf.keras.optimizers.legacy.Adam`.\n"
     ]
    },
    {
     "name": "stdout",
     "output_type": "stream",
     "text": [
      "2023-02-11 - sMAPE: 10.27%  |  MAE: 15.446\n"
     ]
    },
    {
     "name": "stderr",
     "output_type": "stream",
     "text": [
      "WARNING:absl:At this time, the v2.11+ optimizer `tf.keras.optimizers.Adam` runs slowly on M1/M2 Macs, please use the legacy Keras optimizer instead, located at `tf.keras.optimizers.legacy.Adam`.\n",
      "WARNING:absl:`lr` is deprecated in Keras optimizer, please use `learning_rate` or use the legacy optimizer, e.g.,tf.keras.optimizers.legacy.Adam.\n",
      "WARNING:absl:There is a known slowdown when using v2.11+ Keras optimizers on M1/M2 Macs. Falling back to the legacy Keras optimizer, i.e., `tf.keras.optimizers.legacy.Adam`.\n"
     ]
    },
    {
     "name": "stdout",
     "output_type": "stream",
     "text": [
      "2023-02-12 - sMAPE: 10.42%  |  MAE: 15.423\n"
     ]
    },
    {
     "name": "stderr",
     "output_type": "stream",
     "text": [
      "WARNING:absl:At this time, the v2.11+ optimizer `tf.keras.optimizers.Adam` runs slowly on M1/M2 Macs, please use the legacy Keras optimizer instead, located at `tf.keras.optimizers.legacy.Adam`.\n",
      "WARNING:absl:`lr` is deprecated in Keras optimizer, please use `learning_rate` or use the legacy optimizer, e.g.,tf.keras.optimizers.legacy.Adam.\n",
      "WARNING:absl:There is a known slowdown when using v2.11+ Keras optimizers on M1/M2 Macs. Falling back to the legacy Keras optimizer, i.e., `tf.keras.optimizers.legacy.Adam`.\n"
     ]
    },
    {
     "name": "stdout",
     "output_type": "stream",
     "text": [
      "2023-02-13 - sMAPE: 10.15%  |  MAE: 15.086\n"
     ]
    },
    {
     "name": "stderr",
     "output_type": "stream",
     "text": [
      "WARNING:absl:At this time, the v2.11+ optimizer `tf.keras.optimizers.Adam` runs slowly on M1/M2 Macs, please use the legacy Keras optimizer instead, located at `tf.keras.optimizers.legacy.Adam`.\n",
      "WARNING:absl:`lr` is deprecated in Keras optimizer, please use `learning_rate` or use the legacy optimizer, e.g.,tf.keras.optimizers.legacy.Adam.\n",
      "WARNING:absl:There is a known slowdown when using v2.11+ Keras optimizers on M1/M2 Macs. Falling back to the legacy Keras optimizer, i.e., `tf.keras.optimizers.legacy.Adam`.\n"
     ]
    },
    {
     "name": "stdout",
     "output_type": "stream",
     "text": [
      "2023-02-14 - sMAPE: 9.73%  |  MAE: 14.509\n",
      "2023-02-15 - sMAPE: 9.70%  |  MAE: 14.508\n"
     ]
    },
    {
     "name": "stderr",
     "output_type": "stream",
     "text": [
      "WARNING:absl:At this time, the v2.11+ optimizer `tf.keras.optimizers.Adam` runs slowly on M1/M2 Macs, please use the legacy Keras optimizer instead, located at `tf.keras.optimizers.legacy.Adam`.\n",
      "WARNING:absl:`lr` is deprecated in Keras optimizer, please use `learning_rate` or use the legacy optimizer, e.g.,tf.keras.optimizers.legacy.Adam.\n",
      "WARNING:absl:There is a known slowdown when using v2.11+ Keras optimizers on M1/M2 Macs. Falling back to the legacy Keras optimizer, i.e., `tf.keras.optimizers.legacy.Adam`.\n",
      "WARNING:absl:At this time, the v2.11+ optimizer `tf.keras.optimizers.Adam` runs slowly on M1/M2 Macs, please use the legacy Keras optimizer instead, located at `tf.keras.optimizers.legacy.Adam`.\n",
      "WARNING:absl:`lr` is deprecated in Keras optimizer, please use `learning_rate` or use the legacy optimizer, e.g.,tf.keras.optimizers.legacy.Adam.\n",
      "WARNING:absl:There is a known slowdown when using v2.11+ Keras optimizers on M1/M2 Macs. Falling back to the legacy Keras optimizer, i.e., `tf.keras.optimizers.legacy.Adam`.\n"
     ]
    },
    {
     "name": "stdout",
     "output_type": "stream",
     "text": [
      "2023-02-16 - sMAPE: 9.57%  |  MAE: 14.411\n"
     ]
    },
    {
     "name": "stderr",
     "output_type": "stream",
     "text": [
      "WARNING:absl:At this time, the v2.11+ optimizer `tf.keras.optimizers.Adam` runs slowly on M1/M2 Macs, please use the legacy Keras optimizer instead, located at `tf.keras.optimizers.legacy.Adam`.\n",
      "WARNING:absl:`lr` is deprecated in Keras optimizer, please use `learning_rate` or use the legacy optimizer, e.g.,tf.keras.optimizers.legacy.Adam.\n",
      "WARNING:absl:There is a known slowdown when using v2.11+ Keras optimizers on M1/M2 Macs. Falling back to the legacy Keras optimizer, i.e., `tf.keras.optimizers.legacy.Adam`.\n"
     ]
    },
    {
     "name": "stdout",
     "output_type": "stream",
     "text": [
      "2023-02-17 - sMAPE: 9.65%  |  MAE: 14.678\n"
     ]
    },
    {
     "name": "stderr",
     "output_type": "stream",
     "text": [
      "WARNING:absl:At this time, the v2.11+ optimizer `tf.keras.optimizers.Adam` runs slowly on M1/M2 Macs, please use the legacy Keras optimizer instead, located at `tf.keras.optimizers.legacy.Adam`.\n",
      "WARNING:absl:`lr` is deprecated in Keras optimizer, please use `learning_rate` or use the legacy optimizer, e.g.,tf.keras.optimizers.legacy.Adam.\n",
      "WARNING:absl:There is a known slowdown when using v2.11+ Keras optimizers on M1/M2 Macs. Falling back to the legacy Keras optimizer, i.e., `tf.keras.optimizers.legacy.Adam`.\n"
     ]
    },
    {
     "name": "stdout",
     "output_type": "stream",
     "text": [
      "2023-02-18 - sMAPE: 11.06%  |  MAE: 16.361\n"
     ]
    },
    {
     "name": "stderr",
     "output_type": "stream",
     "text": [
      "WARNING:absl:At this time, the v2.11+ optimizer `tf.keras.optimizers.Adam` runs slowly on M1/M2 Macs, please use the legacy Keras optimizer instead, located at `tf.keras.optimizers.legacy.Adam`.\n",
      "WARNING:absl:`lr` is deprecated in Keras optimizer, please use `learning_rate` or use the legacy optimizer, e.g.,tf.keras.optimizers.legacy.Adam.\n",
      "WARNING:absl:There is a known slowdown when using v2.11+ Keras optimizers on M1/M2 Macs. Falling back to the legacy Keras optimizer, i.e., `tf.keras.optimizers.legacy.Adam`.\n"
     ]
    },
    {
     "name": "stdout",
     "output_type": "stream",
     "text": [
      "2023-02-19 - sMAPE: 11.02%  |  MAE: 16.116\n",
      "2023-02-20 - sMAPE: 11.89%  |  MAE: 16.925\n"
     ]
    },
    {
     "name": "stderr",
     "output_type": "stream",
     "text": [
      "WARNING:absl:At this time, the v2.11+ optimizer `tf.keras.optimizers.Adam` runs slowly on M1/M2 Macs, please use the legacy Keras optimizer instead, located at `tf.keras.optimizers.legacy.Adam`.\n",
      "WARNING:absl:`lr` is deprecated in Keras optimizer, please use `learning_rate` or use the legacy optimizer, e.g.,tf.keras.optimizers.legacy.Adam.\n",
      "WARNING:absl:There is a known slowdown when using v2.11+ Keras optimizers on M1/M2 Macs. Falling back to the legacy Keras optimizer, i.e., `tf.keras.optimizers.legacy.Adam`.\n"
     ]
    },
    {
     "name": "stdout",
     "output_type": "stream",
     "text": [
      "2023-02-21 - sMAPE: 12.39%  |  MAE: 17.351\n"
     ]
    },
    {
     "name": "stderr",
     "output_type": "stream",
     "text": [
      "WARNING:absl:At this time, the v2.11+ optimizer `tf.keras.optimizers.Adam` runs slowly on M1/M2 Macs, please use the legacy Keras optimizer instead, located at `tf.keras.optimizers.legacy.Adam`.\n",
      "WARNING:absl:`lr` is deprecated in Keras optimizer, please use `learning_rate` or use the legacy optimizer, e.g.,tf.keras.optimizers.legacy.Adam.\n",
      "WARNING:absl:There is a known slowdown when using v2.11+ Keras optimizers on M1/M2 Macs. Falling back to the legacy Keras optimizer, i.e., `tf.keras.optimizers.legacy.Adam`.\n",
      "WARNING:absl:At this time, the v2.11+ optimizer `tf.keras.optimizers.Adam` runs slowly on M1/M2 Macs, please use the legacy Keras optimizer instead, located at `tf.keras.optimizers.legacy.Adam`.\n",
      "WARNING:absl:`lr` is deprecated in Keras optimizer, please use `learning_rate` or use the legacy optimizer, e.g.,tf.keras.optimizers.legacy.Adam.\n",
      "WARNING:absl:There is a known slowdown when using v2.11+ Keras optimizers on M1/M2 Macs. Falling back to the legacy Keras optimizer, i.e., `tf.keras.optimizers.legacy.Adam`.\n"
     ]
    },
    {
     "name": "stdout",
     "output_type": "stream",
     "text": [
      "2023-02-22 - sMAPE: 12.78%  |  MAE: 17.828\n"
     ]
    },
    {
     "name": "stderr",
     "output_type": "stream",
     "text": [
      "WARNING:absl:At this time, the v2.11+ optimizer `tf.keras.optimizers.Adam` runs slowly on M1/M2 Macs, please use the legacy Keras optimizer instead, located at `tf.keras.optimizers.legacy.Adam`.\n",
      "WARNING:absl:`lr` is deprecated in Keras optimizer, please use `learning_rate` or use the legacy optimizer, e.g.,tf.keras.optimizers.legacy.Adam.\n",
      "WARNING:absl:There is a known slowdown when using v2.11+ Keras optimizers on M1/M2 Macs. Falling back to the legacy Keras optimizer, i.e., `tf.keras.optimizers.legacy.Adam`.\n"
     ]
    },
    {
     "name": "stdout",
     "output_type": "stream",
     "text": [
      "2023-02-23 - sMAPE: 12.83%  |  MAE: 17.866\n"
     ]
    },
    {
     "name": "stderr",
     "output_type": "stream",
     "text": [
      "WARNING:absl:At this time, the v2.11+ optimizer `tf.keras.optimizers.Adam` runs slowly on M1/M2 Macs, please use the legacy Keras optimizer instead, located at `tf.keras.optimizers.legacy.Adam`.\n",
      "WARNING:absl:`lr` is deprecated in Keras optimizer, please use `learning_rate` or use the legacy optimizer, e.g.,tf.keras.optimizers.legacy.Adam.\n",
      "WARNING:absl:There is a known slowdown when using v2.11+ Keras optimizers on M1/M2 Macs. Falling back to the legacy Keras optimizer, i.e., `tf.keras.optimizers.legacy.Adam`.\n"
     ]
    },
    {
     "name": "stdout",
     "output_type": "stream",
     "text": [
      "2023-02-24 - sMAPE: 12.74%  |  MAE: 17.688\n"
     ]
    },
    {
     "name": "stderr",
     "output_type": "stream",
     "text": [
      "WARNING:absl:At this time, the v2.11+ optimizer `tf.keras.optimizers.Adam` runs slowly on M1/M2 Macs, please use the legacy Keras optimizer instead, located at `tf.keras.optimizers.legacy.Adam`.\n",
      "WARNING:absl:`lr` is deprecated in Keras optimizer, please use `learning_rate` or use the legacy optimizer, e.g.,tf.keras.optimizers.legacy.Adam.\n",
      "WARNING:absl:There is a known slowdown when using v2.11+ Keras optimizers on M1/M2 Macs. Falling back to the legacy Keras optimizer, i.e., `tf.keras.optimizers.legacy.Adam`.\n"
     ]
    },
    {
     "name": "stdout",
     "output_type": "stream",
     "text": [
      "2023-02-25 - sMAPE: 12.91%  |  MAE: 17.571\n"
     ]
    },
    {
     "name": "stderr",
     "output_type": "stream",
     "text": [
      "WARNING:absl:At this time, the v2.11+ optimizer `tf.keras.optimizers.Adam` runs slowly on M1/M2 Macs, please use the legacy Keras optimizer instead, located at `tf.keras.optimizers.legacy.Adam`.\n",
      "WARNING:absl:`lr` is deprecated in Keras optimizer, please use `learning_rate` or use the legacy optimizer, e.g.,tf.keras.optimizers.legacy.Adam.\n",
      "WARNING:absl:There is a known slowdown when using v2.11+ Keras optimizers on M1/M2 Macs. Falling back to the legacy Keras optimizer, i.e., `tf.keras.optimizers.legacy.Adam`.\n"
     ]
    },
    {
     "name": "stdout",
     "output_type": "stream",
     "text": [
      "2023-02-26 - sMAPE: 13.21%  |  MAE: 17.697\n"
     ]
    },
    {
     "name": "stderr",
     "output_type": "stream",
     "text": [
      "WARNING:absl:At this time, the v2.11+ optimizer `tf.keras.optimizers.Adam` runs slowly on M1/M2 Macs, please use the legacy Keras optimizer instead, located at `tf.keras.optimizers.legacy.Adam`.\n",
      "WARNING:absl:`lr` is deprecated in Keras optimizer, please use `learning_rate` or use the legacy optimizer, e.g.,tf.keras.optimizers.legacy.Adam.\n",
      "WARNING:absl:There is a known slowdown when using v2.11+ Keras optimizers on M1/M2 Macs. Falling back to the legacy Keras optimizer, i.e., `tf.keras.optimizers.legacy.Adam`.\n"
     ]
    },
    {
     "name": "stdout",
     "output_type": "stream",
     "text": [
      "2023-02-27 - sMAPE: 13.19%  |  MAE: 17.651\n"
     ]
    },
    {
     "name": "stderr",
     "output_type": "stream",
     "text": [
      "WARNING:absl:At this time, the v2.11+ optimizer `tf.keras.optimizers.Adam` runs slowly on M1/M2 Macs, please use the legacy Keras optimizer instead, located at `tf.keras.optimizers.legacy.Adam`.\n",
      "WARNING:absl:`lr` is deprecated in Keras optimizer, please use `learning_rate` or use the legacy optimizer, e.g.,tf.keras.optimizers.legacy.Adam.\n",
      "WARNING:absl:There is a known slowdown when using v2.11+ Keras optimizers on M1/M2 Macs. Falling back to the legacy Keras optimizer, i.e., `tf.keras.optimizers.legacy.Adam`.\n"
     ]
    },
    {
     "name": "stdout",
     "output_type": "stream",
     "text": [
      "2023-02-28 - sMAPE: 12.99%  |  MAE: 17.394\n"
     ]
    },
    {
     "name": "stderr",
     "output_type": "stream",
     "text": [
      "WARNING:absl:At this time, the v2.11+ optimizer `tf.keras.optimizers.Adam` runs slowly on M1/M2 Macs, please use the legacy Keras optimizer instead, located at `tf.keras.optimizers.legacy.Adam`.\n",
      "WARNING:absl:`lr` is deprecated in Keras optimizer, please use `learning_rate` or use the legacy optimizer, e.g.,tf.keras.optimizers.legacy.Adam.\n",
      "WARNING:absl:There is a known slowdown when using v2.11+ Keras optimizers on M1/M2 Macs. Falling back to the legacy Keras optimizer, i.e., `tf.keras.optimizers.legacy.Adam`.\n"
     ]
    },
    {
     "name": "stdout",
     "output_type": "stream",
     "text": [
      "2023-03-01 - sMAPE: 12.71%  |  MAE: 17.030\n"
     ]
    },
    {
     "name": "stderr",
     "output_type": "stream",
     "text": [
      "WARNING:absl:At this time, the v2.11+ optimizer `tf.keras.optimizers.Adam` runs slowly on M1/M2 Macs, please use the legacy Keras optimizer instead, located at `tf.keras.optimizers.legacy.Adam`.\n",
      "WARNING:absl:`lr` is deprecated in Keras optimizer, please use `learning_rate` or use the legacy optimizer, e.g.,tf.keras.optimizers.legacy.Adam.\n",
      "WARNING:absl:There is a known slowdown when using v2.11+ Keras optimizers on M1/M2 Macs. Falling back to the legacy Keras optimizer, i.e., `tf.keras.optimizers.legacy.Adam`.\n"
     ]
    },
    {
     "name": "stdout",
     "output_type": "stream",
     "text": [
      "2023-03-02 - sMAPE: 12.50%  |  MAE: 16.782\n"
     ]
    },
    {
     "name": "stderr",
     "output_type": "stream",
     "text": [
      "WARNING:absl:At this time, the v2.11+ optimizer `tf.keras.optimizers.Adam` runs slowly on M1/M2 Macs, please use the legacy Keras optimizer instead, located at `tf.keras.optimizers.legacy.Adam`.\n",
      "WARNING:absl:`lr` is deprecated in Keras optimizer, please use `learning_rate` or use the legacy optimizer, e.g.,tf.keras.optimizers.legacy.Adam.\n",
      "WARNING:absl:There is a known slowdown when using v2.11+ Keras optimizers on M1/M2 Macs. Falling back to the legacy Keras optimizer, i.e., `tf.keras.optimizers.legacy.Adam`.\n"
     ]
    },
    {
     "name": "stdout",
     "output_type": "stream",
     "text": [
      "2023-03-03 - sMAPE: 12.41%  |  MAE: 16.714\n"
     ]
    },
    {
     "name": "stderr",
     "output_type": "stream",
     "text": [
      "WARNING:absl:At this time, the v2.11+ optimizer `tf.keras.optimizers.Adam` runs slowly on M1/M2 Macs, please use the legacy Keras optimizer instead, located at `tf.keras.optimizers.legacy.Adam`.\n",
      "WARNING:absl:`lr` is deprecated in Keras optimizer, please use `learning_rate` or use the legacy optimizer, e.g.,tf.keras.optimizers.legacy.Adam.\n",
      "WARNING:absl:There is a known slowdown when using v2.11+ Keras optimizers on M1/M2 Macs. Falling back to the legacy Keras optimizer, i.e., `tf.keras.optimizers.legacy.Adam`.\n"
     ]
    },
    {
     "name": "stdout",
     "output_type": "stream",
     "text": [
      "2023-03-04 - sMAPE: 12.25%  |  MAE: 16.458\n"
     ]
    },
    {
     "name": "stderr",
     "output_type": "stream",
     "text": [
      "WARNING:absl:At this time, the v2.11+ optimizer `tf.keras.optimizers.Adam` runs slowly on M1/M2 Macs, please use the legacy Keras optimizer instead, located at `tf.keras.optimizers.legacy.Adam`.\n",
      "WARNING:absl:`lr` is deprecated in Keras optimizer, please use `learning_rate` or use the legacy optimizer, e.g.,tf.keras.optimizers.legacy.Adam.\n",
      "WARNING:absl:There is a known slowdown when using v2.11+ Keras optimizers on M1/M2 Macs. Falling back to the legacy Keras optimizer, i.e., `tf.keras.optimizers.legacy.Adam`.\n"
     ]
    },
    {
     "name": "stdout",
     "output_type": "stream",
     "text": [
      "2023-03-05 - sMAPE: 12.18%  |  MAE: 16.301\n"
     ]
    },
    {
     "name": "stderr",
     "output_type": "stream",
     "text": [
      "WARNING:absl:At this time, the v2.11+ optimizer `tf.keras.optimizers.Adam` runs slowly on M1/M2 Macs, please use the legacy Keras optimizer instead, located at `tf.keras.optimizers.legacy.Adam`.\n",
      "WARNING:absl:`lr` is deprecated in Keras optimizer, please use `learning_rate` or use the legacy optimizer, e.g.,tf.keras.optimizers.legacy.Adam.\n",
      "WARNING:absl:There is a known slowdown when using v2.11+ Keras optimizers on M1/M2 Macs. Falling back to the legacy Keras optimizer, i.e., `tf.keras.optimizers.legacy.Adam`.\n"
     ]
    },
    {
     "name": "stdout",
     "output_type": "stream",
     "text": [
      "2023-03-06 - sMAPE: 12.14%  |  MAE: 16.279\n"
     ]
    },
    {
     "name": "stderr",
     "output_type": "stream",
     "text": [
      "WARNING:absl:At this time, the v2.11+ optimizer `tf.keras.optimizers.Adam` runs slowly on M1/M2 Macs, please use the legacy Keras optimizer instead, located at `tf.keras.optimizers.legacy.Adam`.\n",
      "WARNING:absl:`lr` is deprecated in Keras optimizer, please use `learning_rate` or use the legacy optimizer, e.g.,tf.keras.optimizers.legacy.Adam.\n",
      "WARNING:absl:There is a known slowdown when using v2.11+ Keras optimizers on M1/M2 Macs. Falling back to the legacy Keras optimizer, i.e., `tf.keras.optimizers.legacy.Adam`.\n"
     ]
    },
    {
     "name": "stdout",
     "output_type": "stream",
     "text": [
      "2023-03-07 - sMAPE: 12.06%  |  MAE: 16.180\n"
     ]
    },
    {
     "name": "stderr",
     "output_type": "stream",
     "text": [
      "WARNING:absl:At this time, the v2.11+ optimizer `tf.keras.optimizers.Adam` runs slowly on M1/M2 Macs, please use the legacy Keras optimizer instead, located at `tf.keras.optimizers.legacy.Adam`.\n",
      "WARNING:absl:`lr` is deprecated in Keras optimizer, please use `learning_rate` or use the legacy optimizer, e.g.,tf.keras.optimizers.legacy.Adam.\n",
      "WARNING:absl:There is a known slowdown when using v2.11+ Keras optimizers on M1/M2 Macs. Falling back to the legacy Keras optimizer, i.e., `tf.keras.optimizers.legacy.Adam`.\n"
     ]
    },
    {
     "name": "stdout",
     "output_type": "stream",
     "text": [
      "2023-03-08 - sMAPE: 11.99%  |  MAE: 16.083\n"
     ]
    },
    {
     "name": "stderr",
     "output_type": "stream",
     "text": [
      "WARNING:absl:At this time, the v2.11+ optimizer `tf.keras.optimizers.Adam` runs slowly on M1/M2 Macs, please use the legacy Keras optimizer instead, located at `tf.keras.optimizers.legacy.Adam`.\n",
      "WARNING:absl:`lr` is deprecated in Keras optimizer, please use `learning_rate` or use the legacy optimizer, e.g.,tf.keras.optimizers.legacy.Adam.\n",
      "WARNING:absl:There is a known slowdown when using v2.11+ Keras optimizers on M1/M2 Macs. Falling back to the legacy Keras optimizer, i.e., `tf.keras.optimizers.legacy.Adam`.\n"
     ]
    },
    {
     "name": "stdout",
     "output_type": "stream",
     "text": [
      "2023-03-09 - sMAPE: 11.81%  |  MAE: 15.847\n"
     ]
    },
    {
     "name": "stderr",
     "output_type": "stream",
     "text": [
      "WARNING:absl:At this time, the v2.11+ optimizer `tf.keras.optimizers.Adam` runs slowly on M1/M2 Macs, please use the legacy Keras optimizer instead, located at `tf.keras.optimizers.legacy.Adam`.\n",
      "WARNING:absl:`lr` is deprecated in Keras optimizer, please use `learning_rate` or use the legacy optimizer, e.g.,tf.keras.optimizers.legacy.Adam.\n",
      "WARNING:absl:There is a known slowdown when using v2.11+ Keras optimizers on M1/M2 Macs. Falling back to the legacy Keras optimizer, i.e., `tf.keras.optimizers.legacy.Adam`.\n"
     ]
    },
    {
     "name": "stdout",
     "output_type": "stream",
     "text": [
      "2023-03-10 - sMAPE: 11.72%  |  MAE: 15.716\n"
     ]
    },
    {
     "name": "stderr",
     "output_type": "stream",
     "text": [
      "WARNING:absl:At this time, the v2.11+ optimizer `tf.keras.optimizers.Adam` runs slowly on M1/M2 Macs, please use the legacy Keras optimizer instead, located at `tf.keras.optimizers.legacy.Adam`.\n",
      "WARNING:absl:`lr` is deprecated in Keras optimizer, please use `learning_rate` or use the legacy optimizer, e.g.,tf.keras.optimizers.legacy.Adam.\n",
      "WARNING:absl:There is a known slowdown when using v2.11+ Keras optimizers on M1/M2 Macs. Falling back to the legacy Keras optimizer, i.e., `tf.keras.optimizers.legacy.Adam`.\n"
     ]
    },
    {
     "name": "stdout",
     "output_type": "stream",
     "text": [
      "2023-03-11 - sMAPE: 11.84%  |  MAE: 15.693\n"
     ]
    },
    {
     "name": "stderr",
     "output_type": "stream",
     "text": [
      "WARNING:absl:At this time, the v2.11+ optimizer `tf.keras.optimizers.Adam` runs slowly on M1/M2 Macs, please use the legacy Keras optimizer instead, located at `tf.keras.optimizers.legacy.Adam`.\n",
      "WARNING:absl:`lr` is deprecated in Keras optimizer, please use `learning_rate` or use the legacy optimizer, e.g.,tf.keras.optimizers.legacy.Adam.\n",
      "WARNING:absl:There is a known slowdown when using v2.11+ Keras optimizers on M1/M2 Macs. Falling back to the legacy Keras optimizer, i.e., `tf.keras.optimizers.legacy.Adam`.\n"
     ]
    },
    {
     "name": "stdout",
     "output_type": "stream",
     "text": [
      "2023-03-12 - sMAPE: 11.79%  |  MAE: 15.535\n"
     ]
    },
    {
     "name": "stderr",
     "output_type": "stream",
     "text": [
      "WARNING:absl:At this time, the v2.11+ optimizer `tf.keras.optimizers.Adam` runs slowly on M1/M2 Macs, please use the legacy Keras optimizer instead, located at `tf.keras.optimizers.legacy.Adam`.\n",
      "WARNING:absl:`lr` is deprecated in Keras optimizer, please use `learning_rate` or use the legacy optimizer, e.g.,tf.keras.optimizers.legacy.Adam.\n",
      "WARNING:absl:There is a known slowdown when using v2.11+ Keras optimizers on M1/M2 Macs. Falling back to the legacy Keras optimizer, i.e., `tf.keras.optimizers.legacy.Adam`.\n"
     ]
    },
    {
     "name": "stdout",
     "output_type": "stream",
     "text": [
      "2023-03-13 - sMAPE: 12.15%  |  MAE: 15.714\n"
     ]
    },
    {
     "name": "stderr",
     "output_type": "stream",
     "text": [
      "WARNING:absl:At this time, the v2.11+ optimizer `tf.keras.optimizers.Adam` runs slowly on M1/M2 Macs, please use the legacy Keras optimizer instead, located at `tf.keras.optimizers.legacy.Adam`.\n",
      "WARNING:absl:`lr` is deprecated in Keras optimizer, please use `learning_rate` or use the legacy optimizer, e.g.,tf.keras.optimizers.legacy.Adam.\n",
      "WARNING:absl:There is a known slowdown when using v2.11+ Keras optimizers on M1/M2 Macs. Falling back to the legacy Keras optimizer, i.e., `tf.keras.optimizers.legacy.Adam`.\n"
     ]
    },
    {
     "name": "stdout",
     "output_type": "stream",
     "text": [
      "2023-03-14 - sMAPE: 13.14%  |  MAE: 16.149\n"
     ]
    },
    {
     "name": "stderr",
     "output_type": "stream",
     "text": [
      "WARNING:absl:At this time, the v2.11+ optimizer `tf.keras.optimizers.Adam` runs slowly on M1/M2 Macs, please use the legacy Keras optimizer instead, located at `tf.keras.optimizers.legacy.Adam`.\n",
      "WARNING:absl:`lr` is deprecated in Keras optimizer, please use `learning_rate` or use the legacy optimizer, e.g.,tf.keras.optimizers.legacy.Adam.\n",
      "WARNING:absl:There is a known slowdown when using v2.11+ Keras optimizers on M1/M2 Macs. Falling back to the legacy Keras optimizer, i.e., `tf.keras.optimizers.legacy.Adam`.\n"
     ]
    },
    {
     "name": "stdout",
     "output_type": "stream",
     "text": [
      "2023-03-15 - sMAPE: 13.23%  |  MAE: 16.247\n"
     ]
    },
    {
     "name": "stderr",
     "output_type": "stream",
     "text": [
      "WARNING:absl:At this time, the v2.11+ optimizer `tf.keras.optimizers.Adam` runs slowly on M1/M2 Macs, please use the legacy Keras optimizer instead, located at `tf.keras.optimizers.legacy.Adam`.\n",
      "WARNING:absl:`lr` is deprecated in Keras optimizer, please use `learning_rate` or use the legacy optimizer, e.g.,tf.keras.optimizers.legacy.Adam.\n",
      "WARNING:absl:There is a known slowdown when using v2.11+ Keras optimizers on M1/M2 Macs. Falling back to the legacy Keras optimizer, i.e., `tf.keras.optimizers.legacy.Adam`.\n"
     ]
    },
    {
     "name": "stdout",
     "output_type": "stream",
     "text": [
      "2023-03-16 - sMAPE: 13.19%  |  MAE: 16.172\n"
     ]
    },
    {
     "name": "stderr",
     "output_type": "stream",
     "text": [
      "WARNING:absl:At this time, the v2.11+ optimizer `tf.keras.optimizers.Adam` runs slowly on M1/M2 Macs, please use the legacy Keras optimizer instead, located at `tf.keras.optimizers.legacy.Adam`.\n",
      "WARNING:absl:`lr` is deprecated in Keras optimizer, please use `learning_rate` or use the legacy optimizer, e.g.,tf.keras.optimizers.legacy.Adam.\n",
      "WARNING:absl:There is a known slowdown when using v2.11+ Keras optimizers on M1/M2 Macs. Falling back to the legacy Keras optimizer, i.e., `tf.keras.optimizers.legacy.Adam`.\n"
     ]
    },
    {
     "name": "stdout",
     "output_type": "stream",
     "text": [
      "2023-03-17 - sMAPE: 13.25%  |  MAE: 16.113\n"
     ]
    },
    {
     "name": "stderr",
     "output_type": "stream",
     "text": [
      "WARNING:absl:At this time, the v2.11+ optimizer `tf.keras.optimizers.Adam` runs slowly on M1/M2 Macs, please use the legacy Keras optimizer instead, located at `tf.keras.optimizers.legacy.Adam`.\n",
      "WARNING:absl:`lr` is deprecated in Keras optimizer, please use `learning_rate` or use the legacy optimizer, e.g.,tf.keras.optimizers.legacy.Adam.\n",
      "WARNING:absl:There is a known slowdown when using v2.11+ Keras optimizers on M1/M2 Macs. Falling back to the legacy Keras optimizer, i.e., `tf.keras.optimizers.legacy.Adam`.\n"
     ]
    },
    {
     "name": "stdout",
     "output_type": "stream",
     "text": [
      "2023-03-18 - sMAPE: 13.29%  |  MAE: 16.112\n"
     ]
    },
    {
     "name": "stderr",
     "output_type": "stream",
     "text": [
      "WARNING:absl:At this time, the v2.11+ optimizer `tf.keras.optimizers.Adam` runs slowly on M1/M2 Macs, please use the legacy Keras optimizer instead, located at `tf.keras.optimizers.legacy.Adam`.\n",
      "WARNING:absl:`lr` is deprecated in Keras optimizer, please use `learning_rate` or use the legacy optimizer, e.g.,tf.keras.optimizers.legacy.Adam.\n",
      "WARNING:absl:There is a known slowdown when using v2.11+ Keras optimizers on M1/M2 Macs. Falling back to the legacy Keras optimizer, i.e., `tf.keras.optimizers.legacy.Adam`.\n"
     ]
    },
    {
     "name": "stdout",
     "output_type": "stream",
     "text": [
      "2023-03-19 - sMAPE: 13.24%  |  MAE: 16.006\n"
     ]
    },
    {
     "name": "stderr",
     "output_type": "stream",
     "text": [
      "WARNING:absl:At this time, the v2.11+ optimizer `tf.keras.optimizers.Adam` runs slowly on M1/M2 Macs, please use the legacy Keras optimizer instead, located at `tf.keras.optimizers.legacy.Adam`.\n",
      "WARNING:absl:`lr` is deprecated in Keras optimizer, please use `learning_rate` or use the legacy optimizer, e.g.,tf.keras.optimizers.legacy.Adam.\n",
      "WARNING:absl:There is a known slowdown when using v2.11+ Keras optimizers on M1/M2 Macs. Falling back to the legacy Keras optimizer, i.e., `tf.keras.optimizers.legacy.Adam`.\n"
     ]
    },
    {
     "name": "stdout",
     "output_type": "stream",
     "text": [
      "2023-03-20 - sMAPE: 13.23%  |  MAE: 16.017\n"
     ]
    },
    {
     "name": "stderr",
     "output_type": "stream",
     "text": [
      "WARNING:absl:At this time, the v2.11+ optimizer `tf.keras.optimizers.Adam` runs slowly on M1/M2 Macs, please use the legacy Keras optimizer instead, located at `tf.keras.optimizers.legacy.Adam`.\n",
      "WARNING:absl:`lr` is deprecated in Keras optimizer, please use `learning_rate` or use the legacy optimizer, e.g.,tf.keras.optimizers.legacy.Adam.\n",
      "WARNING:absl:There is a known slowdown when using v2.11+ Keras optimizers on M1/M2 Macs. Falling back to the legacy Keras optimizer, i.e., `tf.keras.optimizers.legacy.Adam`.\n"
     ]
    },
    {
     "name": "stdout",
     "output_type": "stream",
     "text": [
      "2023-03-21 - sMAPE: 13.13%  |  MAE: 15.911\n",
      "2023-03-22 - sMAPE: 13.16%  |  MAE: 15.926\n"
     ]
    },
    {
     "name": "stderr",
     "output_type": "stream",
     "text": [
      "WARNING:absl:At this time, the v2.11+ optimizer `tf.keras.optimizers.Adam` runs slowly on M1/M2 Macs, please use the legacy Keras optimizer instead, located at `tf.keras.optimizers.legacy.Adam`.\n",
      "WARNING:absl:`lr` is deprecated in Keras optimizer, please use `learning_rate` or use the legacy optimizer, e.g.,tf.keras.optimizers.legacy.Adam.\n",
      "WARNING:absl:There is a known slowdown when using v2.11+ Keras optimizers on M1/M2 Macs. Falling back to the legacy Keras optimizer, i.e., `tf.keras.optimizers.legacy.Adam`.\n",
      "WARNING:absl:At this time, the v2.11+ optimizer `tf.keras.optimizers.Adam` runs slowly on M1/M2 Macs, please use the legacy Keras optimizer instead, located at `tf.keras.optimizers.legacy.Adam`.\n",
      "WARNING:absl:`lr` is deprecated in Keras optimizer, please use `learning_rate` or use the legacy optimizer, e.g.,tf.keras.optimizers.legacy.Adam.\n",
      "WARNING:absl:There is a known slowdown when using v2.11+ Keras optimizers on M1/M2 Macs. Falling back to the legacy Keras optimizer, i.e., `tf.keras.optimizers.legacy.Adam`.\n"
     ]
    },
    {
     "name": "stdout",
     "output_type": "stream",
     "text": [
      "2023-03-23 - sMAPE: 13.17%  |  MAE: 15.905\n",
      "2023-03-24 - sMAPE: 13.37%  |  MAE: 16.047\n"
     ]
    },
    {
     "name": "stderr",
     "output_type": "stream",
     "text": [
      "WARNING:absl:At this time, the v2.11+ optimizer `tf.keras.optimizers.Adam` runs slowly on M1/M2 Macs, please use the legacy Keras optimizer instead, located at `tf.keras.optimizers.legacy.Adam`.\n",
      "WARNING:absl:`lr` is deprecated in Keras optimizer, please use `learning_rate` or use the legacy optimizer, e.g.,tf.keras.optimizers.legacy.Adam.\n",
      "WARNING:absl:There is a known slowdown when using v2.11+ Keras optimizers on M1/M2 Macs. Falling back to the legacy Keras optimizer, i.e., `tf.keras.optimizers.legacy.Adam`.\n",
      "WARNING:absl:At this time, the v2.11+ optimizer `tf.keras.optimizers.Adam` runs slowly on M1/M2 Macs, please use the legacy Keras optimizer instead, located at `tf.keras.optimizers.legacy.Adam`.\n",
      "WARNING:absl:`lr` is deprecated in Keras optimizer, please use `learning_rate` or use the legacy optimizer, e.g.,tf.keras.optimizers.legacy.Adam.\n",
      "WARNING:absl:There is a known slowdown when using v2.11+ Keras optimizers on M1/M2 Macs. Falling back to the legacy Keras optimizer, i.e., `tf.keras.optimizers.legacy.Adam`.\n"
     ]
    },
    {
     "name": "stdout",
     "output_type": "stream",
     "text": [
      "2023-03-25 - sMAPE: 15.11%  |  MAE: 16.622\n"
     ]
    },
    {
     "name": "stderr",
     "output_type": "stream",
     "text": [
      "WARNING:absl:At this time, the v2.11+ optimizer `tf.keras.optimizers.Adam` runs slowly on M1/M2 Macs, please use the legacy Keras optimizer instead, located at `tf.keras.optimizers.legacy.Adam`.\n",
      "WARNING:absl:`lr` is deprecated in Keras optimizer, please use `learning_rate` or use the legacy optimizer, e.g.,tf.keras.optimizers.legacy.Adam.\n",
      "WARNING:absl:There is a known slowdown when using v2.11+ Keras optimizers on M1/M2 Macs. Falling back to the legacy Keras optimizer, i.e., `tf.keras.optimizers.legacy.Adam`.\n"
     ]
    },
    {
     "name": "stdout",
     "output_type": "stream",
     "text": [
      "2023-03-26 - sMAPE: 15.33%  |  MAE: 16.563\n"
     ]
    },
    {
     "name": "stderr",
     "output_type": "stream",
     "text": [
      "WARNING:absl:At this time, the v2.11+ optimizer `tf.keras.optimizers.Adam` runs slowly on M1/M2 Macs, please use the legacy Keras optimizer instead, located at `tf.keras.optimizers.legacy.Adam`.\n",
      "WARNING:absl:`lr` is deprecated in Keras optimizer, please use `learning_rate` or use the legacy optimizer, e.g.,tf.keras.optimizers.legacy.Adam.\n",
      "WARNING:absl:There is a known slowdown when using v2.11+ Keras optimizers on M1/M2 Macs. Falling back to the legacy Keras optimizer, i.e., `tf.keras.optimizers.legacy.Adam`.\n"
     ]
    },
    {
     "name": "stdout",
     "output_type": "stream",
     "text": [
      "2023-03-27 - sMAPE: 15.46%  |  MAE: 16.617\n"
     ]
    },
    {
     "name": "stderr",
     "output_type": "stream",
     "text": [
      "WARNING:absl:At this time, the v2.11+ optimizer `tf.keras.optimizers.Adam` runs slowly on M1/M2 Macs, please use the legacy Keras optimizer instead, located at `tf.keras.optimizers.legacy.Adam`.\n",
      "WARNING:absl:`lr` is deprecated in Keras optimizer, please use `learning_rate` or use the legacy optimizer, e.g.,tf.keras.optimizers.legacy.Adam.\n",
      "WARNING:absl:There is a known slowdown when using v2.11+ Keras optimizers on M1/M2 Macs. Falling back to the legacy Keras optimizer, i.e., `tf.keras.optimizers.legacy.Adam`.\n"
     ]
    },
    {
     "name": "stdout",
     "output_type": "stream",
     "text": [
      "2023-03-28 - sMAPE: 15.58%  |  MAE: 16.725\n"
     ]
    },
    {
     "name": "stderr",
     "output_type": "stream",
     "text": [
      "WARNING:absl:At this time, the v2.11+ optimizer `tf.keras.optimizers.Adam` runs slowly on M1/M2 Macs, please use the legacy Keras optimizer instead, located at `tf.keras.optimizers.legacy.Adam`.\n",
      "WARNING:absl:`lr` is deprecated in Keras optimizer, please use `learning_rate` or use the legacy optimizer, e.g.,tf.keras.optimizers.legacy.Adam.\n",
      "WARNING:absl:There is a known slowdown when using v2.11+ Keras optimizers on M1/M2 Macs. Falling back to the legacy Keras optimizer, i.e., `tf.keras.optimizers.legacy.Adam`.\n"
     ]
    },
    {
     "name": "stdout",
     "output_type": "stream",
     "text": [
      "2023-03-29 - sMAPE: 15.41%  |  MAE: 16.553\n"
     ]
    },
    {
     "name": "stderr",
     "output_type": "stream",
     "text": [
      "WARNING:absl:At this time, the v2.11+ optimizer `tf.keras.optimizers.Adam` runs slowly on M1/M2 Macs, please use the legacy Keras optimizer instead, located at `tf.keras.optimizers.legacy.Adam`.\n",
      "WARNING:absl:`lr` is deprecated in Keras optimizer, please use `learning_rate` or use the legacy optimizer, e.g.,tf.keras.optimizers.legacy.Adam.\n",
      "WARNING:absl:There is a known slowdown when using v2.11+ Keras optimizers on M1/M2 Macs. Falling back to the legacy Keras optimizer, i.e., `tf.keras.optimizers.legacy.Adam`.\n"
     ]
    },
    {
     "name": "stdout",
     "output_type": "stream",
     "text": [
      "2023-03-30 - sMAPE: 15.33%  |  MAE: 16.472\n"
     ]
    },
    {
     "name": "stderr",
     "output_type": "stream",
     "text": [
      "WARNING:absl:At this time, the v2.11+ optimizer `tf.keras.optimizers.Adam` runs slowly on M1/M2 Macs, please use the legacy Keras optimizer instead, located at `tf.keras.optimizers.legacy.Adam`.\n",
      "WARNING:absl:`lr` is deprecated in Keras optimizer, please use `learning_rate` or use the legacy optimizer, e.g.,tf.keras.optimizers.legacy.Adam.\n",
      "WARNING:absl:There is a known slowdown when using v2.11+ Keras optimizers on M1/M2 Macs. Falling back to the legacy Keras optimizer, i.e., `tf.keras.optimizers.legacy.Adam`.\n"
     ]
    },
    {
     "name": "stdout",
     "output_type": "stream",
     "text": [
      "2023-03-31 - sMAPE: 15.33%  |  MAE: 16.429\n"
     ]
    },
    {
     "name": "stderr",
     "output_type": "stream",
     "text": [
      "WARNING:absl:At this time, the v2.11+ optimizer `tf.keras.optimizers.Adam` runs slowly on M1/M2 Macs, please use the legacy Keras optimizer instead, located at `tf.keras.optimizers.legacy.Adam`.\n",
      "WARNING:absl:`lr` is deprecated in Keras optimizer, please use `learning_rate` or use the legacy optimizer, e.g.,tf.keras.optimizers.legacy.Adam.\n",
      "WARNING:absl:There is a known slowdown when using v2.11+ Keras optimizers on M1/M2 Macs. Falling back to the legacy Keras optimizer, i.e., `tf.keras.optimizers.legacy.Adam`.\n"
     ]
    },
    {
     "name": "stdout",
     "output_type": "stream",
     "text": [
      "2023-04-01 - sMAPE: 15.89%  |  MAE: 16.714\n"
     ]
    },
    {
     "name": "stderr",
     "output_type": "stream",
     "text": [
      "WARNING:absl:At this time, the v2.11+ optimizer `tf.keras.optimizers.Adam` runs slowly on M1/M2 Macs, please use the legacy Keras optimizer instead, located at `tf.keras.optimizers.legacy.Adam`.\n",
      "WARNING:absl:`lr` is deprecated in Keras optimizer, please use `learning_rate` or use the legacy optimizer, e.g.,tf.keras.optimizers.legacy.Adam.\n",
      "WARNING:absl:There is a known slowdown when using v2.11+ Keras optimizers on M1/M2 Macs. Falling back to the legacy Keras optimizer, i.e., `tf.keras.optimizers.legacy.Adam`.\n"
     ]
    },
    {
     "name": "stdout",
     "output_type": "stream",
     "text": [
      "2023-04-02 - sMAPE: 16.12%  |  MAE: 16.716\n"
     ]
    },
    {
     "name": "stderr",
     "output_type": "stream",
     "text": [
      "WARNING:absl:At this time, the v2.11+ optimizer `tf.keras.optimizers.Adam` runs slowly on M1/M2 Macs, please use the legacy Keras optimizer instead, located at `tf.keras.optimizers.legacy.Adam`.\n",
      "WARNING:absl:`lr` is deprecated in Keras optimizer, please use `learning_rate` or use the legacy optimizer, e.g.,tf.keras.optimizers.legacy.Adam.\n",
      "WARNING:absl:There is a known slowdown when using v2.11+ Keras optimizers on M1/M2 Macs. Falling back to the legacy Keras optimizer, i.e., `tf.keras.optimizers.legacy.Adam`.\n"
     ]
    },
    {
     "name": "stdout",
     "output_type": "stream",
     "text": [
      "2023-04-03 - sMAPE: 16.12%  |  MAE: 16.728\n"
     ]
    },
    {
     "name": "stderr",
     "output_type": "stream",
     "text": [
      "WARNING:absl:At this time, the v2.11+ optimizer `tf.keras.optimizers.Adam` runs slowly on M1/M2 Macs, please use the legacy Keras optimizer instead, located at `tf.keras.optimizers.legacy.Adam`.\n",
      "WARNING:absl:`lr` is deprecated in Keras optimizer, please use `learning_rate` or use the legacy optimizer, e.g.,tf.keras.optimizers.legacy.Adam.\n",
      "WARNING:absl:There is a known slowdown when using v2.11+ Keras optimizers on M1/M2 Macs. Falling back to the legacy Keras optimizer, i.e., `tf.keras.optimizers.legacy.Adam`.\n"
     ]
    },
    {
     "name": "stdout",
     "output_type": "stream",
     "text": [
      "2023-04-04 - sMAPE: 16.12%  |  MAE: 16.774\n"
     ]
    },
    {
     "name": "stderr",
     "output_type": "stream",
     "text": [
      "WARNING:absl:At this time, the v2.11+ optimizer `tf.keras.optimizers.Adam` runs slowly on M1/M2 Macs, please use the legacy Keras optimizer instead, located at `tf.keras.optimizers.legacy.Adam`.\n",
      "WARNING:absl:`lr` is deprecated in Keras optimizer, please use `learning_rate` or use the legacy optimizer, e.g.,tf.keras.optimizers.legacy.Adam.\n",
      "WARNING:absl:There is a known slowdown when using v2.11+ Keras optimizers on M1/M2 Macs. Falling back to the legacy Keras optimizer, i.e., `tf.keras.optimizers.legacy.Adam`.\n"
     ]
    },
    {
     "name": "stdout",
     "output_type": "stream",
     "text": [
      "2023-04-05 - sMAPE: 16.05%  |  MAE: 16.775\n"
     ]
    },
    {
     "name": "stderr",
     "output_type": "stream",
     "text": [
      "WARNING:absl:At this time, the v2.11+ optimizer `tf.keras.optimizers.Adam` runs slowly on M1/M2 Macs, please use the legacy Keras optimizer instead, located at `tf.keras.optimizers.legacy.Adam`.\n",
      "WARNING:absl:`lr` is deprecated in Keras optimizer, please use `learning_rate` or use the legacy optimizer, e.g.,tf.keras.optimizers.legacy.Adam.\n",
      "WARNING:absl:There is a known slowdown when using v2.11+ Keras optimizers on M1/M2 Macs. Falling back to the legacy Keras optimizer, i.e., `tf.keras.optimizers.legacy.Adam`.\n"
     ]
    },
    {
     "name": "stdout",
     "output_type": "stream",
     "text": [
      "2023-04-06 - sMAPE: 15.96%  |  MAE: 16.726\n"
     ]
    },
    {
     "name": "stderr",
     "output_type": "stream",
     "text": [
      "WARNING:absl:At this time, the v2.11+ optimizer `tf.keras.optimizers.Adam` runs slowly on M1/M2 Macs, please use the legacy Keras optimizer instead, located at `tf.keras.optimizers.legacy.Adam`.\n",
      "WARNING:absl:`lr` is deprecated in Keras optimizer, please use `learning_rate` or use the legacy optimizer, e.g.,tf.keras.optimizers.legacy.Adam.\n",
      "WARNING:absl:There is a known slowdown when using v2.11+ Keras optimizers on M1/M2 Macs. Falling back to the legacy Keras optimizer, i.e., `tf.keras.optimizers.legacy.Adam`.\n"
     ]
    },
    {
     "name": "stdout",
     "output_type": "stream",
     "text": [
      "2023-04-07 - sMAPE: 15.97%  |  MAE: 16.738\n"
     ]
    },
    {
     "name": "stderr",
     "output_type": "stream",
     "text": [
      "WARNING:absl:At this time, the v2.11+ optimizer `tf.keras.optimizers.Adam` runs slowly on M1/M2 Macs, please use the legacy Keras optimizer instead, located at `tf.keras.optimizers.legacy.Adam`.\n",
      "WARNING:absl:`lr` is deprecated in Keras optimizer, please use `learning_rate` or use the legacy optimizer, e.g.,tf.keras.optimizers.legacy.Adam.\n",
      "WARNING:absl:There is a known slowdown when using v2.11+ Keras optimizers on M1/M2 Macs. Falling back to the legacy Keras optimizer, i.e., `tf.keras.optimizers.legacy.Adam`.\n"
     ]
    },
    {
     "name": "stdout",
     "output_type": "stream",
     "text": [
      "2023-04-08 - sMAPE: 15.91%  |  MAE: 16.682\n"
     ]
    },
    {
     "name": "stderr",
     "output_type": "stream",
     "text": [
      "WARNING:absl:At this time, the v2.11+ optimizer `tf.keras.optimizers.Adam` runs slowly on M1/M2 Macs, please use the legacy Keras optimizer instead, located at `tf.keras.optimizers.legacy.Adam`.\n",
      "WARNING:absl:`lr` is deprecated in Keras optimizer, please use `learning_rate` or use the legacy optimizer, e.g.,tf.keras.optimizers.legacy.Adam.\n",
      "WARNING:absl:There is a known slowdown when using v2.11+ Keras optimizers on M1/M2 Macs. Falling back to the legacy Keras optimizer, i.e., `tf.keras.optimizers.legacy.Adam`.\n"
     ]
    },
    {
     "name": "stdout",
     "output_type": "stream",
     "text": [
      "2023-04-09 - sMAPE: 15.96%  |  MAE: 16.722\n"
     ]
    },
    {
     "name": "stderr",
     "output_type": "stream",
     "text": [
      "WARNING:absl:At this time, the v2.11+ optimizer `tf.keras.optimizers.Adam` runs slowly on M1/M2 Macs, please use the legacy Keras optimizer instead, located at `tf.keras.optimizers.legacy.Adam`.\n",
      "WARNING:absl:`lr` is deprecated in Keras optimizer, please use `learning_rate` or use the legacy optimizer, e.g.,tf.keras.optimizers.legacy.Adam.\n",
      "WARNING:absl:There is a known slowdown when using v2.11+ Keras optimizers on M1/M2 Macs. Falling back to the legacy Keras optimizer, i.e., `tf.keras.optimizers.legacy.Adam`.\n"
     ]
    },
    {
     "name": "stdout",
     "output_type": "stream",
     "text": [
      "2023-04-10 - sMAPE: 16.67%  |  MAE: 17.014\n"
     ]
    },
    {
     "name": "stderr",
     "output_type": "stream",
     "text": [
      "WARNING:absl:At this time, the v2.11+ optimizer `tf.keras.optimizers.Adam` runs slowly on M1/M2 Macs, please use the legacy Keras optimizer instead, located at `tf.keras.optimizers.legacy.Adam`.\n",
      "WARNING:absl:`lr` is deprecated in Keras optimizer, please use `learning_rate` or use the legacy optimizer, e.g.,tf.keras.optimizers.legacy.Adam.\n",
      "WARNING:absl:There is a known slowdown when using v2.11+ Keras optimizers on M1/M2 Macs. Falling back to the legacy Keras optimizer, i.e., `tf.keras.optimizers.legacy.Adam`.\n"
     ]
    },
    {
     "name": "stdout",
     "output_type": "stream",
     "text": [
      "2023-04-11 - sMAPE: 17.14%  |  MAE: 17.270\n"
     ]
    },
    {
     "name": "stderr",
     "output_type": "stream",
     "text": [
      "WARNING:absl:At this time, the v2.11+ optimizer `tf.keras.optimizers.Adam` runs slowly on M1/M2 Macs, please use the legacy Keras optimizer instead, located at `tf.keras.optimizers.legacy.Adam`.\n",
      "WARNING:absl:`lr` is deprecated in Keras optimizer, please use `learning_rate` or use the legacy optimizer, e.g.,tf.keras.optimizers.legacy.Adam.\n",
      "WARNING:absl:There is a known slowdown when using v2.11+ Keras optimizers on M1/M2 Macs. Falling back to the legacy Keras optimizer, i.e., `tf.keras.optimizers.legacy.Adam`.\n"
     ]
    },
    {
     "name": "stdout",
     "output_type": "stream",
     "text": [
      "2023-04-12 - sMAPE: 17.02%  |  MAE: 17.155\n"
     ]
    },
    {
     "name": "stderr",
     "output_type": "stream",
     "text": [
      "WARNING:absl:At this time, the v2.11+ optimizer `tf.keras.optimizers.Adam` runs slowly on M1/M2 Macs, please use the legacy Keras optimizer instead, located at `tf.keras.optimizers.legacy.Adam`.\n",
      "WARNING:absl:`lr` is deprecated in Keras optimizer, please use `learning_rate` or use the legacy optimizer, e.g.,tf.keras.optimizers.legacy.Adam.\n",
      "WARNING:absl:There is a known slowdown when using v2.11+ Keras optimizers on M1/M2 Macs. Falling back to the legacy Keras optimizer, i.e., `tf.keras.optimizers.legacy.Adam`.\n"
     ]
    },
    {
     "name": "stdout",
     "output_type": "stream",
     "text": [
      "2023-04-13 - sMAPE: 17.01%  |  MAE: 17.207\n"
     ]
    },
    {
     "name": "stderr",
     "output_type": "stream",
     "text": [
      "WARNING:absl:At this time, the v2.11+ optimizer `tf.keras.optimizers.Adam` runs slowly on M1/M2 Macs, please use the legacy Keras optimizer instead, located at `tf.keras.optimizers.legacy.Adam`.\n",
      "WARNING:absl:`lr` is deprecated in Keras optimizer, please use `learning_rate` or use the legacy optimizer, e.g.,tf.keras.optimizers.legacy.Adam.\n",
      "WARNING:absl:There is a known slowdown when using v2.11+ Keras optimizers on M1/M2 Macs. Falling back to the legacy Keras optimizer, i.e., `tf.keras.optimizers.legacy.Adam`.\n"
     ]
    },
    {
     "name": "stdout",
     "output_type": "stream",
     "text": [
      "2023-04-14 - sMAPE: 16.90%  |  MAE: 17.130\n"
     ]
    },
    {
     "name": "stderr",
     "output_type": "stream",
     "text": [
      "WARNING:absl:At this time, the v2.11+ optimizer `tf.keras.optimizers.Adam` runs slowly on M1/M2 Macs, please use the legacy Keras optimizer instead, located at `tf.keras.optimizers.legacy.Adam`.\n",
      "WARNING:absl:`lr` is deprecated in Keras optimizer, please use `learning_rate` or use the legacy optimizer, e.g.,tf.keras.optimizers.legacy.Adam.\n",
      "WARNING:absl:There is a known slowdown when using v2.11+ Keras optimizers on M1/M2 Macs. Falling back to the legacy Keras optimizer, i.e., `tf.keras.optimizers.legacy.Adam`.\n"
     ]
    },
    {
     "name": "stdout",
     "output_type": "stream",
     "text": [
      "2023-04-15 - sMAPE: 16.79%  |  MAE: 17.020\n",
      "2023-04-16 - sMAPE: 16.92%  |  MAE: 17.104\n"
     ]
    },
    {
     "name": "stderr",
     "output_type": "stream",
     "text": [
      "WARNING:absl:At this time, the v2.11+ optimizer `tf.keras.optimizers.Adam` runs slowly on M1/M2 Macs, please use the legacy Keras optimizer instead, located at `tf.keras.optimizers.legacy.Adam`.\n",
      "WARNING:absl:`lr` is deprecated in Keras optimizer, please use `learning_rate` or use the legacy optimizer, e.g.,tf.keras.optimizers.legacy.Adam.\n",
      "WARNING:absl:There is a known slowdown when using v2.11+ Keras optimizers on M1/M2 Macs. Falling back to the legacy Keras optimizer, i.e., `tf.keras.optimizers.legacy.Adam`.\n",
      "WARNING:absl:At this time, the v2.11+ optimizer `tf.keras.optimizers.Adam` runs slowly on M1/M2 Macs, please use the legacy Keras optimizer instead, located at `tf.keras.optimizers.legacy.Adam`.\n",
      "WARNING:absl:`lr` is deprecated in Keras optimizer, please use `learning_rate` or use the legacy optimizer, e.g.,tf.keras.optimizers.legacy.Adam.\n",
      "WARNING:absl:There is a known slowdown when using v2.11+ Keras optimizers on M1/M2 Macs. Falling back to the legacy Keras optimizer, i.e., `tf.keras.optimizers.legacy.Adam`.\n"
     ]
    },
    {
     "name": "stdout",
     "output_type": "stream",
     "text": [
      "2023-04-17 - sMAPE: 16.87%  |  MAE: 17.090\n"
     ]
    },
    {
     "name": "stderr",
     "output_type": "stream",
     "text": [
      "WARNING:absl:At this time, the v2.11+ optimizer `tf.keras.optimizers.Adam` runs slowly on M1/M2 Macs, please use the legacy Keras optimizer instead, located at `tf.keras.optimizers.legacy.Adam`.\n",
      "WARNING:absl:`lr` is deprecated in Keras optimizer, please use `learning_rate` or use the legacy optimizer, e.g.,tf.keras.optimizers.legacy.Adam.\n",
      "WARNING:absl:There is a known slowdown when using v2.11+ Keras optimizers on M1/M2 Macs. Falling back to the legacy Keras optimizer, i.e., `tf.keras.optimizers.legacy.Adam`.\n"
     ]
    },
    {
     "name": "stdout",
     "output_type": "stream",
     "text": [
      "2023-04-18 - sMAPE: 16.78%  |  MAE: 17.037\n"
     ]
    },
    {
     "name": "stderr",
     "output_type": "stream",
     "text": [
      "WARNING:absl:At this time, the v2.11+ optimizer `tf.keras.optimizers.Adam` runs slowly on M1/M2 Macs, please use the legacy Keras optimizer instead, located at `tf.keras.optimizers.legacy.Adam`.\n",
      "WARNING:absl:`lr` is deprecated in Keras optimizer, please use `learning_rate` or use the legacy optimizer, e.g.,tf.keras.optimizers.legacy.Adam.\n",
      "WARNING:absl:There is a known slowdown when using v2.11+ Keras optimizers on M1/M2 Macs. Falling back to the legacy Keras optimizer, i.e., `tf.keras.optimizers.legacy.Adam`.\n"
     ]
    },
    {
     "name": "stdout",
     "output_type": "stream",
     "text": [
      "2023-04-19 - sMAPE: 16.77%  |  MAE: 17.045\n"
     ]
    },
    {
     "name": "stderr",
     "output_type": "stream",
     "text": [
      "WARNING:absl:At this time, the v2.11+ optimizer `tf.keras.optimizers.Adam` runs slowly on M1/M2 Macs, please use the legacy Keras optimizer instead, located at `tf.keras.optimizers.legacy.Adam`.\n",
      "WARNING:absl:`lr` is deprecated in Keras optimizer, please use `learning_rate` or use the legacy optimizer, e.g.,tf.keras.optimizers.legacy.Adam.\n",
      "WARNING:absl:There is a known slowdown when using v2.11+ Keras optimizers on M1/M2 Macs. Falling back to the legacy Keras optimizer, i.e., `tf.keras.optimizers.legacy.Adam`.\n"
     ]
    },
    {
     "name": "stdout",
     "output_type": "stream",
     "text": [
      "2023-04-20 - sMAPE: 16.68%  |  MAE: 16.969\n"
     ]
    },
    {
     "name": "stderr",
     "output_type": "stream",
     "text": [
      "WARNING:absl:At this time, the v2.11+ optimizer `tf.keras.optimizers.Adam` runs slowly on M1/M2 Macs, please use the legacy Keras optimizer instead, located at `tf.keras.optimizers.legacy.Adam`.\n",
      "WARNING:absl:`lr` is deprecated in Keras optimizer, please use `learning_rate` or use the legacy optimizer, e.g.,tf.keras.optimizers.legacy.Adam.\n",
      "WARNING:absl:There is a known slowdown when using v2.11+ Keras optimizers on M1/M2 Macs. Falling back to the legacy Keras optimizer, i.e., `tf.keras.optimizers.legacy.Adam`.\n"
     ]
    },
    {
     "name": "stdout",
     "output_type": "stream",
     "text": [
      "2023-04-21 - sMAPE: 16.67%  |  MAE: 16.961\n",
      "2023-04-22 - sMAPE: 16.79%  |  MAE: 16.940\n"
     ]
    },
    {
     "name": "stderr",
     "output_type": "stream",
     "text": [
      "WARNING:absl:At this time, the v2.11+ optimizer `tf.keras.optimizers.Adam` runs slowly on M1/M2 Macs, please use the legacy Keras optimizer instead, located at `tf.keras.optimizers.legacy.Adam`.\n",
      "WARNING:absl:`lr` is deprecated in Keras optimizer, please use `learning_rate` or use the legacy optimizer, e.g.,tf.keras.optimizers.legacy.Adam.\n",
      "WARNING:absl:There is a known slowdown when using v2.11+ Keras optimizers on M1/M2 Macs. Falling back to the legacy Keras optimizer, i.e., `tf.keras.optimizers.legacy.Adam`.\n",
      "WARNING:absl:At this time, the v2.11+ optimizer `tf.keras.optimizers.Adam` runs slowly on M1/M2 Macs, please use the legacy Keras optimizer instead, located at `tf.keras.optimizers.legacy.Adam`.\n",
      "WARNING:absl:`lr` is deprecated in Keras optimizer, please use `learning_rate` or use the legacy optimizer, e.g.,tf.keras.optimizers.legacy.Adam.\n",
      "WARNING:absl:There is a known slowdown when using v2.11+ Keras optimizers on M1/M2 Macs. Falling back to the legacy Keras optimizer, i.e., `tf.keras.optimizers.legacy.Adam`.\n"
     ]
    },
    {
     "name": "stdout",
     "output_type": "stream",
     "text": [
      "2023-04-23 - sMAPE: 16.88%  |  MAE: 16.881\n",
      "2023-04-24 - sMAPE: 16.78%  |  MAE: 16.796\n"
     ]
    },
    {
     "name": "stderr",
     "output_type": "stream",
     "text": [
      "WARNING:absl:At this time, the v2.11+ optimizer `tf.keras.optimizers.Adam` runs slowly on M1/M2 Macs, please use the legacy Keras optimizer instead, located at `tf.keras.optimizers.legacy.Adam`.\n",
      "WARNING:absl:`lr` is deprecated in Keras optimizer, please use `learning_rate` or use the legacy optimizer, e.g.,tf.keras.optimizers.legacy.Adam.\n",
      "WARNING:absl:There is a known slowdown when using v2.11+ Keras optimizers on M1/M2 Macs. Falling back to the legacy Keras optimizer, i.e., `tf.keras.optimizers.legacy.Adam`.\n",
      "WARNING:absl:At this time, the v2.11+ optimizer `tf.keras.optimizers.Adam` runs slowly on M1/M2 Macs, please use the legacy Keras optimizer instead, located at `tf.keras.optimizers.legacy.Adam`.\n",
      "WARNING:absl:`lr` is deprecated in Keras optimizer, please use `learning_rate` or use the legacy optimizer, e.g.,tf.keras.optimizers.legacy.Adam.\n",
      "WARNING:absl:There is a known slowdown when using v2.11+ Keras optimizers on M1/M2 Macs. Falling back to the legacy Keras optimizer, i.e., `tf.keras.optimizers.legacy.Adam`.\n"
     ]
    },
    {
     "name": "stdout",
     "output_type": "stream",
     "text": [
      "2023-04-25 - sMAPE: 16.73%  |  MAE: 16.745\n"
     ]
    },
    {
     "name": "stderr",
     "output_type": "stream",
     "text": [
      "WARNING:absl:At this time, the v2.11+ optimizer `tf.keras.optimizers.Adam` runs slowly on M1/M2 Macs, please use the legacy Keras optimizer instead, located at `tf.keras.optimizers.legacy.Adam`.\n",
      "WARNING:absl:`lr` is deprecated in Keras optimizer, please use `learning_rate` or use the legacy optimizer, e.g.,tf.keras.optimizers.legacy.Adam.\n",
      "WARNING:absl:There is a known slowdown when using v2.11+ Keras optimizers on M1/M2 Macs. Falling back to the legacy Keras optimizer, i.e., `tf.keras.optimizers.legacy.Adam`.\n"
     ]
    },
    {
     "name": "stdout",
     "output_type": "stream",
     "text": [
      "2023-04-26 - sMAPE: 16.61%  |  MAE: 16.635\n"
     ]
    },
    {
     "name": "stderr",
     "output_type": "stream",
     "text": [
      "WARNING:absl:At this time, the v2.11+ optimizer `tf.keras.optimizers.Adam` runs slowly on M1/M2 Macs, please use the legacy Keras optimizer instead, located at `tf.keras.optimizers.legacy.Adam`.\n",
      "WARNING:absl:`lr` is deprecated in Keras optimizer, please use `learning_rate` or use the legacy optimizer, e.g.,tf.keras.optimizers.legacy.Adam.\n",
      "WARNING:absl:There is a known slowdown when using v2.11+ Keras optimizers on M1/M2 Macs. Falling back to the legacy Keras optimizer, i.e., `tf.keras.optimizers.legacy.Adam`.\n"
     ]
    },
    {
     "name": "stdout",
     "output_type": "stream",
     "text": [
      "2023-04-27 - sMAPE: 16.50%  |  MAE: 16.537\n"
     ]
    },
    {
     "name": "stderr",
     "output_type": "stream",
     "text": [
      "WARNING:absl:At this time, the v2.11+ optimizer `tf.keras.optimizers.Adam` runs slowly on M1/M2 Macs, please use the legacy Keras optimizer instead, located at `tf.keras.optimizers.legacy.Adam`.\n",
      "WARNING:absl:`lr` is deprecated in Keras optimizer, please use `learning_rate` or use the legacy optimizer, e.g.,tf.keras.optimizers.legacy.Adam.\n",
      "WARNING:absl:There is a known slowdown when using v2.11+ Keras optimizers on M1/M2 Macs. Falling back to the legacy Keras optimizer, i.e., `tf.keras.optimizers.legacy.Adam`.\n"
     ]
    },
    {
     "name": "stdout",
     "output_type": "stream",
     "text": [
      "2023-04-28 - sMAPE: 16.38%  |  MAE: 16.427\n"
     ]
    },
    {
     "name": "stderr",
     "output_type": "stream",
     "text": [
      "WARNING:absl:At this time, the v2.11+ optimizer `tf.keras.optimizers.Adam` runs slowly on M1/M2 Macs, please use the legacy Keras optimizer instead, located at `tf.keras.optimizers.legacy.Adam`.\n",
      "WARNING:absl:`lr` is deprecated in Keras optimizer, please use `learning_rate` or use the legacy optimizer, e.g.,tf.keras.optimizers.legacy.Adam.\n",
      "WARNING:absl:There is a known slowdown when using v2.11+ Keras optimizers on M1/M2 Macs. Falling back to the legacy Keras optimizer, i.e., `tf.keras.optimizers.legacy.Adam`.\n"
     ]
    },
    {
     "name": "stdout",
     "output_type": "stream",
     "text": [
      "2023-04-29 - sMAPE: 16.33%  |  MAE: 16.384\n",
      "2023-04-30 - sMAPE: 16.75%  |  MAE: 16.448\n"
     ]
    }
   ],
   "source": [
    "for zone in countries:\n",
    "    print(zone)\n",
    "    dataset = '{0}_CORE'.format(zone)\n",
    "    \n",
    "    # DNN Hyperparameter optimisation\n",
    "    \n",
    "    # Number of layers in DNN\n",
    "    nlayers = 2\n",
    "    \n",
    "    # Boolean that selects whether the validation and training datasets are shuffled\n",
    "    shuffle_train = 1\n",
    "    \n",
    "    # Boolean that selects whether we start a new hyperparameter optimization or we restart an existing one\n",
    "    new_hyperopt = 1\n",
    "    \n",
    "    # Number of years used in the training dataset for recalibration\n",
    "    calibration_window = 2\n",
    "    \n",
    "    # Unique identifier to read the trials file of hyperparameter optimization\n",
    "    experiment_id = 1\n",
    "    \n",
    "    # Number of iterations for hyperparameter optimization\n",
    "    max_evals = 100\n",
    "    \n",
    "    # Check documentation of the hyperparameter_optimizer for each of the function parameters\n",
    "    # We start a hyperparameter optimization from scratch. We employ 1500 iterations in hyperopt,\n",
    "    # a DNN with 2 hidden layers, a calibration window of 2 years,\n",
    "    # we avoid data augmentation, and we provide an experiment_id equal to 1\n",
    "    hyperparameter_optimizer(\n",
    "        path_datasets_folder=path_datasets_folder, \n",
    "        path_hyperparameters_folder=path_hyperparameter_folder, \n",
    "        new_hyperopt=new_hyperopt, \n",
    "        max_evals=max_evals, \n",
    "        nlayers=nlayers, \n",
    "        dataset=dataset, \n",
    "        calibration_window=calibration_window, \n",
    "        shuffle_train=shuffle_train, \n",
    "        data_augmentation=0, \n",
    "        experiment_id=experiment_id,\n",
    "        begin_test_date=begin_test_date, \n",
    "        end_test_date=end_test_date\n",
    "    )\n",
    "\n",
    "    evaluate_dnn_in_test_dataset(\n",
    "        experiment_id, \n",
    "        path_hyperparameter_folder=path_hyperparameter_folder, \n",
    "        path_datasets_folder=path_datasets_folder, \n",
    "        shuffle_train=shuffle_train, \n",
    "        path_recalibration_folder=path_recalibration_folder, \n",
    "        nlayers=nlayers, \n",
    "        dataset=dataset, \n",
    "        data_augmentation=0,\n",
    "        calibration_window=calibration_window, \n",
    "        begin_test_date=begin_test_date, \n",
    "        end_test_date=end_test_date,\n",
    "        new_recalibration=1\n",
    "    )"
   ]
  }
 ],
 "metadata": {
  "kernelspec": {
   "display_name": "fbmc_env",
   "language": "python",
   "name": "fbmc_env"
  },
  "language_info": {
   "codemirror_mode": {
    "name": "ipython",
    "version": 3
   },
   "file_extension": ".py",
   "mimetype": "text/x-python",
   "name": "python",
   "nbconvert_exporter": "python",
   "pygments_lexer": "ipython3",
   "version": "3.11.4"
  }
 },
 "nbformat": 4,
 "nbformat_minor": 5
}

{
 "cells": [
  {
   "cell_type": "code",
   "execution_count": 15,
   "id": "aedfeb72",
   "metadata": {},
   "outputs": [],
   "source": [
    "from entsoe import EntsoePandasClient\n",
    "import pandas as pd\n",
    "import math\n",
    "\n",
    "client = EntsoePandasClient(api_key=\"b18dfce9-f1e3-4d07-822f-4abd1438e602\")"
   ]
  },
  {
   "cell_type": "code",
   "execution_count": 4,
   "id": "841174e4",
   "metadata": {},
   "outputs": [],
   "source": [
    "start = pd.Timestamp('20220901', tz='Europe/Amsterdam')\n",
    "end = pd.Timestamp('20230331', tz='Europe/Amsterdam')\n",
    "\n",
    "start_cap = pd.Timestamp('20200101', tz='Europe/Amsterdam')\n",
    "end_cap = pd.Timestamp('20230101', tz='Europe/Amsterdam')\n",
    "\n",
    "countries = ['AT', 'BE', 'CZ', 'DE_LU', 'FR', 'HR', 'HU', 'NL', 'PL', 'RO', 'SI', 'SK']\n",
    "non_fbmc_countries = ['CH', 'GB', 'ES', 'IT_NORD']\n",
    "\n",
    "hubs = ['ALBE', 'ALDE', 'AT', 'BE', 'CZ', 'DE_LU', 'FR', 'HR', 'HU', 'NL', 'PL', 'RO', 'SI', 'SK']\n",
    "\n",
    "borders = [\n",
    "    ['FR', 'CH'],\n",
    "    ['FR', 'ES'],\n",
    "    ['FR', 'GB'],\n",
    "    ['FR', 'IT_NORD'],\n",
    "    ['AT', 'IT_NORD'],\n",
    "    ['AT', 'CH'],\n",
    "    ['BE', 'GB'],\n",
    "    ['NL', 'GB'],\n",
    "    ['SI', 'IT_NORD'],\n",
    "    ['DE_LU', 'CH'],\n",
    "    ['IT_NORD', 'CH'],\n",
    "]\n",
    "\n",
    "gen_types = [\n",
    "    'Biomass', 'Fossil Brown coal/Lignite', 'Fossil Coal-derived gas', 'Fossil Gas', 'Fossil Hard coal', \n",
    "    'Fossil Oil', 'Fossil Oil shale', 'Fossil Peat', 'Geothermal', 'Hydro Pumped Storage', \n",
    "    'Hydro Run-of-river and poundage', 'Hydro Water Reservoir', 'Marine', 'Nuclear', 'Other',\n",
    "    'Other renewable', 'Solar', 'Waste', 'Wind Offshore', 'Wind Onshore'\n",
    "]\n",
    "\n",
    "standardized_gen_types = [\n",
    "    'biomass', 'brown_coal', 'coal_gas', 'natural_gas', 'hard_coal', 'oil', 'oil_shale', 'peat', 'geothermal', \n",
    "    'hydro_pumped_storage', 'hydro_run_of_river', 'hydro_reservoir', 'marine', 'nuclear', 'other', 'other_renewable',\n",
    "    'solar', 'waste', 'wind_offshore', 'wind_onshore'\n",
    "]\n",
    "\n",
    "reduced_gen_types = [\n",
    "    'biomass', 'brown_coal', 'coal_gas', 'natural_gas', 'hard_coal', 'oil', 'hydro', \n",
    "    'nuclear', 'waste', 'other', 'solar', 'wind_onshore', 'wind_offshore', 'other_renewable'\n",
    "]"
   ]
  },
  {
   "cell_type": "code",
   "execution_count": 5,
   "id": "488c63cf",
   "metadata": {},
   "outputs": [],
   "source": [
    "def standardize_generation_data(df_gen):\n",
    "    for gen_type in gen_types:\n",
    "        if gen_type not in df_gen:\n",
    "            df_gen[gen_type] = 0.0\n",
    "\n",
    "    for gen_type in gen_types:\n",
    "        if (gen_type, 'Actual Consumption') in df_gen:\n",
    "            df_gen = df_gen.drop(columns=[(gen_type, 'Actual Consumption')], axis=1)\n",
    "\n",
    "    df_gen = df_gen[gen_types]\n",
    "    df_gen.columns = standardized_gen_types\n",
    "\n",
    "    df_gen = df_gen.tz_localize(None)\n",
    "\n",
    "    df_gen = df_gen.resample(\"H\").agg([\"mean\"])\n",
    "    df_gen.columns = standardized_gen_types\n",
    "    \n",
    "    return df_gen"
   ]
  },
  {
   "cell_type": "markdown",
   "id": "c1b4f372",
   "metadata": {},
   "source": [
    "## Day-ahead prices: FBMC"
   ]
  },
  {
   "cell_type": "code",
   "execution_count": 6,
   "id": "e720d869",
   "metadata": {},
   "outputs": [
    {
     "name": "stdout",
     "output_type": "stream",
     "text": [
      "AT\n",
      "BE\n",
      "CZ\n",
      "DE_LU\n",
      "FR\n",
      "HR\n",
      "HU\n",
      "NL\n",
      "PL\n",
      "RO\n",
      "SI\n",
      "SK\n"
     ]
    }
   ],
   "source": [
    "df_da_prices = pd.DataFrame()\n",
    "for country_code in countries:\n",
    "    df_da = client.query_day_ahead_prices(country_code, start=start, end=end)\n",
    "    print(country_code)\n",
    "    \n",
    "    df_da = df_da.to_frame()\n",
    "    df_da = df_da.rename(columns={\n",
    "        0: country_code, \n",
    "    })\n",
    "\n",
    "    df_da = df_da.tz_localize(None)\n",
    "    df_da = df_da.resample(\"H\").agg([\"mean\"])\n",
    "    df_da.columns = [country_code]\n",
    "    \n",
    "    if df_da_prices.empty:\n",
    "        df_da_prices = df_da.copy()\n",
    "    else:\n",
    "        df_da_prices[country_code] = df_da[country_code]\n",
    "\n",
    "df_da_prices['ALBE'] = df_da_prices['BE']\n",
    "df_da_prices['ALDE'] = df_da_prices['DE_LU']\n",
    "df_da_prices = df_da_prices[hubs]\n",
    "\n",
    "df_da_prices.to_excel(\"./data/day_ahead_prices.xlsx\")"
   ]
  },
  {
   "cell_type": "markdown",
   "id": "49ea55d1",
   "metadata": {},
   "source": [
    "## Day-ahead prices: Non-FBMC"
   ]
  },
  {
   "cell_type": "code",
   "execution_count": 8,
   "id": "d9f458fe",
   "metadata": {},
   "outputs": [
    {
     "name": "stdout",
     "output_type": "stream",
     "text": [
      "CH\n",
      "ES\n",
      "IT_NORD\n"
     ]
    }
   ],
   "source": [
    "df_da_prices = pd.DataFrame()\n",
    "for country_code in [x for x in non_fbmc_countries if x != \"GB\"]:\n",
    "    df_da = client.query_day_ahead_prices(country_code, start=start, end=end)\n",
    "    print(country_code)\n",
    "    \n",
    "    df_da = df_da.to_frame()\n",
    "    df_da = df_da.rename(columns={\n",
    "        0: country_code, \n",
    "    })\n",
    "\n",
    "    df_da = df_da.tz_localize(None)\n",
    "    df_da = df_da.resample(\"H\").agg([\"mean\"])\n",
    "    df_da.columns = [country_code]\n",
    "    \n",
    "    if df_da_prices.empty:\n",
    "        df_da_prices = df_da.copy()\n",
    "    else:\n",
    "        df_da_prices[country_code] = df_da[country_code]\n",
    "\n",
    "df_da_prices.to_excel(\"./data/day_ahead_prices_non_fbmc.xlsx\")\n",
    "\n",
    "# UK: DAY-AHEAD PRICES\n",
    "df_uk_settlements = pd.read_excel(\"./data/uk_settlements.xlsx\", index_col=0)\n",
    "df_uk_settlements = df_uk_settlements[[\"EPEX UK EUR\"]]\n",
    "df_uk_settlements = df_uk_settlements.tz_localize(None)\n",
    "df_uk_settlements = df_uk_settlements.resample(\"H\").agg([\"mean\"])\n",
    "df_uk_settlements.columns = ['epex']\n",
    "\n",
    "df_da_prices['GB'] = df_uk_settlements['epex']\n",
    "df_da_prices = df_da_prices[non_fbmc_countries]\n",
    "\n",
    "df_da_prices.to_excel(\"./data/day_ahead_prices_non_fbmc.xlsx\")"
   ]
  },
  {
   "cell_type": "markdown",
   "id": "acf9b7d9",
   "metadata": {},
   "source": [
    "## Demand: FBMC"
   ]
  },
  {
   "cell_type": "code",
   "execution_count": 9,
   "id": "3a905c76",
   "metadata": {},
   "outputs": [],
   "source": [
    "df_demand = pd.DataFrame()\n",
    "for country_code in countries:\n",
    "    df_da = client.query_load_forecast(country_code, start=start, end=end)\n",
    "    print(country_code)\n",
    "\n",
    "    df_da = df_da.rename(columns={\n",
    "        'Forecasted Load': country_code, \n",
    "    })\n",
    "    \n",
    "    df_da = df_da.tz_localize(None)\n",
    "    df_da = df_da.resample(\"H\").agg([\"mean\"])\n",
    "    df_da.columns = [country_code]\n",
    "    \n",
    "    if df_demand.empty:\n",
    "        df_demand = df_da.copy()\n",
    "    else:\n",
    "        df_demand[country_code] = df_da[country_code]\n",
    "        \n",
    "df_demand['ALBE'] = 0\n",
    "df_demand['ALDE'] = 0\n",
    "df_demand = df_demand[hubs]\n",
    "        \n",
    "df_demand.to_excel(\"./data/demand.xlsx\")"
   ]
  },
  {
   "cell_type": "markdown",
   "id": "b2fe2d7f",
   "metadata": {},
   "source": [
    "## Demand: Non-FBMC"
   ]
  },
  {
   "cell_type": "code",
   "execution_count": 11,
   "id": "ec78b01c",
   "metadata": {},
   "outputs": [
    {
     "name": "stdout",
     "output_type": "stream",
     "text": [
      "CH\n",
      "ES\n",
      "IT_NORD\n"
     ]
    }
   ],
   "source": [
    "df_demand = pd.DataFrame()\n",
    "for country_code in [x for x in non_fbmc_countries if x != \"GB\"]: # NO GB\n",
    "    df_da = client.query_load_forecast(country_code, start=start, end=end)\n",
    "    print(country_code)\n",
    "    \n",
    "    df_da = df_da.rename(columns={\n",
    "        'Forecasted Load': country_code, \n",
    "    })\n",
    "    \n",
    "    df_da = df_da.tz_localize(None)\n",
    "    df_da = df_da.resample(\"H\").agg([\"mean\"])\n",
    "    df_da.columns = [country_code]\n",
    "    \n",
    "    if df_demand.empty:\n",
    "        df_demand = df_da.copy()\n",
    "    else:\n",
    "        df_demand[country_code] = df_da[country_code]\n",
    "        \n",
    "df_demand.to_excel(\"./data/demand_non_fbmc.xlsx\")\n",
    "\n",
    "# UK\n",
    "df_uk_gridwatch = pd.read_csv(\"./data/uk_gridwatch.csv\", index_col=1)\n",
    "df_uk_gridwatch.index = pd.to_datetime(df_uk_gridwatch.index)\n",
    "df_uk_gridwatch = df_uk_gridwatch[[\n",
    "    ' demand', ' coal', ' nuclear', ' ccgt', ' pumped', ' hydro', ' biomass', ' oil', ' ocgt', ' wind', ' solar' \n",
    "]]\n",
    "df_uk_gridwatch = df_uk_gridwatch.tz_localize(None)\n",
    "df_uk_gridwatch = df_uk_gridwatch.resample(\"H\").agg([\"mean\"])\n",
    "df_uk_gridwatch.columns = [\n",
    "    'demand', 'coal', 'nuclear', 'ccgt', 'pumped', 'hydro', 'biomass', 'oil', 'ocgt', 'wind', 'solar'  \n",
    "]\n",
    "\n",
    "df_demand['GB'] = df_uk_gridwatch['demand']\n",
    "df_demand = df_demand[non_fbmc_countries]\n",
    "df_demand.to_excel(\"./data/demand_non_fbmc.xlsx\")"
   ]
  },
  {
   "cell_type": "markdown",
   "id": "eb84458e",
   "metadata": {},
   "source": [
    "## Generation: FBMC"
   ]
  },
  {
   "cell_type": "code",
   "execution_count": 12,
   "id": "13e32bba",
   "metadata": {},
   "outputs": [
    {
     "name": "stdout",
     "output_type": "stream",
     "text": [
      "AT\n",
      "BE\n",
      "CZ\n",
      "DE_LU\n",
      "FR\n",
      "HR\n",
      "HU\n",
      "NL\n",
      "PL\n",
      "RO\n",
      "SI\n",
      "SK\n"
     ]
    }
   ],
   "source": [
    "with pd.ExcelWriter(\"./data/generation.xlsx\") as writer:  \n",
    "    for country_code in countries:\n",
    "        df_gen = client.query_generation(country_code, start=start,end=end)\n",
    "        print(country_code)\n",
    "\n",
    "        df_gen = standardize_generation_data(df_gen)\n",
    "        df_gen.loc[:, 'hydro'] = df_gen['hydro_pumped_storage'] + df_gen['hydro_run_of_river'] + df_gen['hydro_reservoir']\n",
    "        df_gen = df_gen[reduced_gen_types]\n",
    "        \n",
    "        df_gen.to_excel(writer, sheet_name=country_code) "
   ]
  },
  {
   "cell_type": "markdown",
   "id": "a89ff3f5",
   "metadata": {},
   "source": [
    "## Generation: Non-FBMC"
   ]
  },
  {
   "cell_type": "code",
   "execution_count": 13,
   "id": "94dba94f",
   "metadata": {},
   "outputs": [
    {
     "name": "stdout",
     "output_type": "stream",
     "text": [
      "CH\n",
      "ES\n",
      "IT_NORD\n"
     ]
    }
   ],
   "source": [
    "with pd.ExcelWriter(\"./data/generation_non_fbmc.xlsx\") as writer:  \n",
    "    for country_code in [x for x in non_fbmc_countries if x != \"GB\"]: # NO GB\n",
    "        df_gen = client.query_generation(country_code, start=start,end=end)\n",
    "        print(country_code)\n",
    "        \n",
    "        df_gen = standardize_generation_data(df_gen)\n",
    "        df_gen.loc[:, 'hydro'] = df_gen['hydro_pumped_storage'] + df_gen['hydro_run_of_river'] + df_gen['hydro_reservoir']\n",
    "        df_gen = df_gen[reduced_gen_types]\n",
    "   \n",
    "        df_gen.to_excel(writer, sheet_name=country_code) \n",
    "    \n",
    "# UK\n",
    "df_gen = pd.read_excel(\"./optimisation/data/generation_non_fbmc.xlsx\", sheet_name='CH', index_col=0)\n",
    "df_gen_uk = pd.DataFrame()\n",
    "df_gen_uk.index = df_gen.index\n",
    "\n",
    "df_gen_uk['biomass'] = df_uk_gridwatch['biomass']\n",
    "df_gen_uk['brown_coal'] = 0\n",
    "df_gen_uk['coal_gas'] = 0\n",
    "df_gen_uk['natural_gas'] = df_uk_gridwatch['ccgt'] + df_uk_gridwatch['ocgt']\n",
    "df_gen_uk['hard_coal'] = df_uk_gridwatch['coal']\n",
    "df_gen_uk['oil'] = df_uk_gridwatch['oil']\n",
    "df_gen_uk['hydro'] = df_uk_gridwatch['pumped'] + df_uk_gridwatch['hydro']\n",
    "df_gen_uk['nuclear'] = df_uk_gridwatch['nuclear']\n",
    "df_gen_uk['waste'] = 0\n",
    "df_gen_uk['other'] = 0\n",
    "\n",
    "df_gen_uk['solar'] = df_uk_gridwatch['solar']\n",
    "df_gen_uk['wind_onshore'] = 0\n",
    "df_gen_uk['wind_offshore'] = df_uk_gridwatch['wind']\n",
    "df_gen_uk['other_renewable'] = 0\n",
    "\n",
    "df_gen_uk = df_gen_uk[reduced_gen_types]\n",
    "df_gen_uk.to_excel(\"./data/generation_uk_non_fbmc.xlsx\") # COPY THIS TO generation_non_fbmc.xlsx UK TAB!"
   ]
  },
  {
   "cell_type": "markdown",
   "id": "59800a84",
   "metadata": {},
   "source": [
    "## Installed capacities: FBMC"
   ]
  },
  {
   "cell_type": "code",
   "execution_count": 16,
   "id": "9b78b527",
   "metadata": {},
   "outputs": [
    {
     "name": "stdout",
     "output_type": "stream",
     "text": [
      "AT\n",
      "BE\n",
      "CZ\n",
      "DE_LU\n",
      "FR\n",
      "HR\n",
      "HU\n",
      "NL\n",
      "PL\n",
      "RO\n",
      "SI\n",
      "SK\n",
      "BE ,  other , max:  19.0 , gen:  2049\n",
      "CZ ,  natural_gas , max:  1240.0 , gen:  1279\n",
      "CZ ,  oil , max:  0.0 , gen:  35\n",
      "CZ ,  other , max:  0.0 , gen:  123\n",
      "DE_LU ,  nuclear , max:  4056.0 , gen:  4091\n",
      "FR ,  hard_coal , max:  1816.0 , gen:  1840\n",
      "HR ,  waste , max:  6.0 , gen:  9\n",
      "HU ,  hard_coal , max:  42.0 , gen:  43\n",
      "HU ,  nuclear , max:  1916.0 , gen:  1960\n",
      "HU ,  other , max:  0.0 , gen:  96\n",
      "NL ,  nuclear , max:  486.0 , gen:  490\n",
      "NL ,  other , max:  1.0 , gen:  5100\n",
      "PL ,  solar , max:  6664.0 , gen:  6711\n",
      "RO ,  nuclear , max:  1300.0 , gen:  1420\n",
      "SI ,  oil , max:  58.0 , gen:  60\n",
      "SI ,  nuclear , max:  696.0 , gen:  702\n",
      "SI ,  wind_onshore , max:  2.0 , gen:  3\n",
      "SK ,  hard_coal , max:  1.0 , gen:  165\n",
      "SK ,  nuclear , max:  2003.0 , gen:  2009\n"
     ]
    }
   ],
   "source": [
    "df_capacities = pd.DataFrame()\n",
    "for country_code in countries:\n",
    "    df_cap = client.query_installed_generation_capacity(country_code, start=start_cap, end=end_cap)\n",
    "    print(country_code)\n",
    "    \n",
    "    for gen_type in gen_types:\n",
    "        if gen_type not in df_cap:\n",
    "            df_cap[gen_type] = 0.0\n",
    "\n",
    "    df_cap = df_cap[gen_types]\n",
    "    df_cap.columns = standardized_gen_types\n",
    "    \n",
    "    df_cap = df_cap.iloc[-1].to_frame()\n",
    "    df_cap = df_cap.rename(columns={\n",
    "        df_cap.columns[0]: country_code\n",
    "    })\n",
    "    \n",
    "    if df_capacities.empty:\n",
    "        df_capacities = df_cap.copy()\n",
    "    else:\n",
    "        df_capacities[country_code] = df_cap[country_code]\n",
    "        \n",
    "df_capacities = df_capacities.drop([df_capacities.index[6], df_capacities.index[7], df_capacities.index[8], df_capacities.index[12]])\n",
    "df_capacities = df_capacities.rename(index={'hydro_pumped_storage': 'hydro'})\n",
    "    \n",
    "for column in df_capacities:\n",
    "    df_capacities.loc['hydro', column] = df_capacities.loc['hydro', column] + df_capacities.loc['hydro_run_of_river', column] + df_capacities.loc['hydro_reservoir', column]\n",
    "\n",
    "df_capacities = df_capacities.drop([df_capacities.index[7], df_capacities.index[8]])\n",
    "\n",
    "df_capacities['ALBE'] = 0\n",
    "df_capacities['ALDE'] = 0\n",
    "df_capacities = df_capacities[hubs]\n",
    "\n",
    "df_capacities = df_capacities.reindex(reduced_gen_types)\n",
    "\n",
    "# capacity correction for larger generation values\n",
    "for zone in countries:\n",
    "    for gen_type in reduced_gen_types:\n",
    "        df_gen = pd.read_excel(\"./optimisation/data/training/generation.xlsx\", sheet_name=zone, index_col=0)\n",
    "        if not df_gen[df_gen[gen_type] > df_capacities[zone].loc[gen_type]].empty:\n",
    "            df_excess_gen = df_gen[df_gen[gen_type] > df_capacities[zone].loc[gen_type]]\n",
    "            print(zone, ', ', gen_type, ', max: ', df_capacities[zone].loc[gen_type], ', gen: ', math.ceil(df_excess_gen[gen_type].max()))\n",
    "            df_capacities.loc[gen_type, zone] = math.ceil(df_excess_gen[gen_type].max())\n",
    "        \n",
    "df_capacities.to_excel(\"./data/installed_capacities.xlsx\")"
   ]
  },
  {
   "cell_type": "markdown",
   "id": "ce4ae628",
   "metadata": {},
   "source": [
    "## Installed capacities: Non-FBMC"
   ]
  },
  {
   "cell_type": "code",
   "execution_count": 17,
   "id": "e15813f1",
   "metadata": {},
   "outputs": [
    {
     "name": "stdout",
     "output_type": "stream",
     "text": [
      "CH\n",
      "GB\n",
      "ES\n"
     ]
    }
   ],
   "source": [
    "df_capacities = pd.DataFrame()\n",
    "for country_code in [x for x in non_fbmc_countries if x != \"IT_NORD\"]: # NO IT_NORD\n",
    "    df_cap = client.query_installed_generation_capacity(country_code, start=start_cap, end=end_cap)\n",
    "    print(country_code)\n",
    "    \n",
    "    for gen_type in gen_types:\n",
    "        if gen_type not in df_cap:\n",
    "            df_cap[gen_type] = 0.0\n",
    "\n",
    "    df_cap = df_cap[gen_types]\n",
    "    df_cap.columns = standardized_gen_types\n",
    "    \n",
    "    df_cap = df_cap.iloc[-1].to_frame()\n",
    "    df_cap = df_cap.rename(columns={\n",
    "        df_cap.columns[0]: country_code\n",
    "    })\n",
    "    \n",
    "    if df_capacities.empty:\n",
    "        df_capacities = df_cap.copy()\n",
    "    else:\n",
    "        df_capacities[country_code] = df_cap[country_code]\n",
    "         \n",
    "df_capacities = df_capacities.drop([df_capacities.index[6], df_capacities.index[7], df_capacities.index[8], df_capacities.index[12]])\n",
    "df_capacities = df_capacities.rename(index={'hydro_pumped_storage': 'hydro'})\n",
    "    \n",
    "for column in df_capacities:\n",
    "    df_capacities.loc['hydro', column] = df_capacities.loc['hydro', column] + df_capacities.loc['hydro_run_of_river', column] + df_capacities.loc['hydro_reservoir', column]\n",
    "\n",
    "df_capacities = df_capacities.drop([df_capacities.index[7], df_capacities.index[8]])\n",
    "\n",
    "df_capacities = df_capacities.reindex(reduced_gen_types)\n",
    "\n",
    "df_capacities.to_excel(\"./data/installed_capacities_non_fbmc.xlsx\")\n",
    "\n",
    "# Update IT North capacities manually"
   ]
  },
  {
   "cell_type": "markdown",
   "id": "3b72cd26",
   "metadata": {},
   "source": [
    "## Generation outages: FBMC"
   ]
  },
  {
   "cell_type": "code",
   "execution_count": 18,
   "id": "6dc36cd7",
   "metadata": {},
   "outputs": [
    {
     "name": "stdout",
     "output_type": "stream",
     "text": [
      "AT\n",
      "BE\n",
      "CZ\n",
      "DE_LU\n",
      "FR\n",
      "HR\n",
      "An exception occurred\n",
      "HU\n",
      "NL\n",
      "PL\n",
      "RO\n",
      "SI\n",
      "SK\n"
     ]
    }
   ],
   "source": [
    "df_gen = pd.read_excel('./data/generation.xlsx', sheet_name='AT', index_col=0)\n",
    "\n",
    "with pd.ExcelWriter(\"./data/generation_outages.xlsx\") as writer:\n",
    "    for country_code in countries:\n",
    "        print(country_code)\n",
    "        \n",
    "        try:\n",
    "            df_out_gen = client.query_unavailability_of_generation_units(country_code, start=start, end=end)\n",
    "            df_out_gen = df_out_gen.tz_localize(None)\n",
    "            df_out_gen['end'] = df_out_gen['end'].dt.tz_localize(None)\n",
    "            df_out_gen['start'] = df_out_gen['start'].dt.tz_localize(None)\n",
    "\n",
    "            df_outages_zone = pd.DataFrame()\n",
    "\n",
    "            for gen_date in df_gen.index:\n",
    "                df_out_gen_test = df_out_gen[(df_out_gen.start <= gen_date) & (df_out_gen.end >= gen_date) & (df_out_gen.docstatus != 'Cancelled')]\n",
    "\n",
    "                for gen_type in standardized_gen_types:\n",
    "                        df_outages_zone.loc[gen_date, gen_type] = 0\n",
    "\n",
    "                for index, row in df_out_gen_test.iterrows():\n",
    "                    df_outages_zone.loc[gen_date, standardized_gen_types[gen_types.index(row['plant_type'])]] += float(row['nominal_power']) - float(row['avail_qty'])\n",
    "                    df_outages_zone.loc[gen_date, 'hydro'] = df_outages_zone.loc[gen_date, 'hydro_pumped_storage'] + df_outages_zone.loc[gen_date, 'hydro_run_of_river'] + df_outages_zone.loc[gen_date, 'hydro_reservoir']\n",
    "\n",
    "            df_outages_zone = df_outages_zone[reduced_gen_types]\n",
    "            df_outages_zone.to_excel(writer, sheet_name=country_code)\n",
    "        except:\n",
    "            print(\"An exception occurred\")\n",
    "            df_outages_zone = pd.DataFrame()\n",
    "            for gen_date in df_gen.index:\n",
    "                for gen_type in reduced_gen_types:\n",
    "                    df_outages_zone.loc[gen_date, gen_type] = 0\n",
    "            df_outages_zone.to_excel(writer, sheet_name=country_code)"
   ]
  },
  {
   "cell_type": "markdown",
   "id": "51c4d237",
   "metadata": {},
   "source": [
    "## Generation outages: Non-FBMC"
   ]
  },
  {
   "cell_type": "code",
   "execution_count": 19,
   "id": "b3bf5fda",
   "metadata": {},
   "outputs": [
    {
     "name": "stdout",
     "output_type": "stream",
     "text": [
      "CH\n",
      "GB\n",
      "ES\n",
      "IT_NORD\n"
     ]
    }
   ],
   "source": [
    "with pd.ExcelWriter(\"./data/generation_outages_non_fbmc.xlsx\") as writer:\n",
    "    for country_code in non_fbmc_countries:\n",
    "        print(country_code)\n",
    "        \n",
    "        try:\n",
    "            df_out_gen = client.query_unavailability_of_generation_units(country_code, start=start, end=end)\n",
    "            df_out_gen = df_out_gen.tz_localize(None)\n",
    "            df_out_gen['end'] = df_out_gen['end'].dt.tz_localize(None)\n",
    "            df_out_gen['start'] = df_out_gen['start'].dt.tz_localize(None)\n",
    "\n",
    "            df_outages_zone = pd.DataFrame()\n",
    "\n",
    "            for gen_date in df_gen.index:\n",
    "                df_out_gen_test = df_out_gen[(df_out_gen.start <= gen_date) & (df_out_gen.end >= gen_date) & (df_out_gen.docstatus != 'Cancelled')]\n",
    "\n",
    "                for gen_type in standardized_gen_types:\n",
    "                        df_outages_zone.loc[gen_date, gen_type] = 0\n",
    "\n",
    "                for index, row in df_out_gen_test.iterrows():\n",
    "                    df_outages_zone.loc[gen_date, standardized_gen_types[gen_types.index(row['plant_type'])]] += float(row['nominal_power']) - float(row['avail_qty'])\n",
    "                    df_outages_zone.loc[gen_date, 'hydro'] = df_outages_zone.loc[gen_date, 'hydro_pumped_storage'] + df_outages_zone.loc[gen_date, 'hydro_run_of_river'] + df_outages_zone.loc[gen_date, 'hydro_reservoir']\n",
    "\n",
    "            df_outages_zone = df_outages_zone[reduced_gen_types]\n",
    "            df_outages_zone.to_excel(writer, sheet_name=country_code)\n",
    "        except:\n",
    "            print(\"An exception occurred\")\n",
    "            df_outages_zone = pd.DataFrame()\n",
    "            for gen_date in df_gen.index:\n",
    "                for gen_type in reduced_gen_types:\n",
    "                    df_outages_zone.loc[gen_date, gen_type] = 0\n",
    "            df_outages_zone.to_excel(writer, sheet_name=country_code)"
   ]
  },
  {
   "cell_type": "markdown",
   "id": "67b37744",
   "metadata": {},
   "source": [
    "## Renewable generation forecast: FBMC"
   ]
  },
  {
   "cell_type": "code",
   "execution_count": 20,
   "id": "162e0194",
   "metadata": {},
   "outputs": [],
   "source": [
    "df_ren_gen = pd.DataFrame()\n",
    "\n",
    "for country_code in countries:\n",
    "    df_gen = client.query_wind_and_solar_forecast(country_code, start=start,end=end)\n",
    "    if 'Solar' not in df_gen:\n",
    "        df_gen['Solar'] = 0\n",
    "    if 'Wind Onshore' not in df_gen:\n",
    "        df_gen['Wind Onshore'] = 0\n",
    "    if 'Wind Offshore' not in df_gen:\n",
    "        df_gen['Wind Offshore'] = 0\n",
    "\n",
    "    df_gen = df_gen.tz_localize(None)\n",
    "    df_gen = df_gen.resample(\"H\").agg([\"mean\"])\n",
    "\n",
    "    df_ren_gen[country_code] = df_gen['Solar'] + df_gen['Wind Onshore'] + df_gen['Wind Offshore']\n",
    "    \n",
    "df_ren_gen['ALBE'] = 0\n",
    "df_ren_gen['ALDE'] = 0\n",
    "\n",
    "df_ren_gen = df_ren_gen[hubs]\n",
    "\n",
    "df_ren_gen.to_excel(\"./data/renewable_generation.xlsx\")"
   ]
  },
  {
   "cell_type": "markdown",
   "id": "a19d378f",
   "metadata": {},
   "source": [
    "## Renewable generation forecast: Non-FBMC"
   ]
  },
  {
   "cell_type": "code",
   "execution_count": 21,
   "id": "3cd6a750",
   "metadata": {},
   "outputs": [
    {
     "name": "stdout",
     "output_type": "stream",
     "text": [
      "CH\n",
      "ES\n",
      "IT_NORD\n"
     ]
    }
   ],
   "source": [
    "df_ren_gen = pd.DataFrame()\n",
    "\n",
    "for country_code in [x for x in non_fbmc_countries if x != \"GB\"]: # NO GB\n",
    "    df_gen = client.query_wind_and_solar_forecast(country_code, start=start,end=end)\n",
    "    print(country_code)\n",
    "    \n",
    "    if 'Solar' not in df_gen:\n",
    "        df_gen['Solar'] = 0\n",
    "    if 'Wind Onshore' not in df_gen:\n",
    "        df_gen['Wind Onshore'] = 0\n",
    "    if 'Wind Offshore' not in df_gen:\n",
    "        df_gen['Wind Offshore'] = 0\n",
    "\n",
    "    df_gen = df_gen.tz_localize(None)\n",
    "    df_gen = df_gen.resample(\"H\").agg([\"mean\"])\n",
    "\n",
    "    df_ren_gen[country_code] = df_gen['Solar'] + df_gen['Wind Onshore'] + df_gen['Wind Offshore']\n",
    "    \n",
    "df_ren_gen.to_excel(\"./data/renewable_generation_non_fbmc.xlsx\")\n",
    "\n",
    "# UK: RENEWABLE GENERATION (FORECAST)\n",
    "df_ren_gen['GB'] = df_uk_gridwatch['wind'] + df_uk_gridwatch['solar']\n",
    "df_ren_gen = df_ren_gen[non_fbmc_countries]\n",
    "df_ren_gen.to_excel(\"./data/renewable_generation_non_fbmc.xlsx\")"
   ]
  },
  {
   "cell_type": "markdown",
   "id": "95fe0bbe",
   "metadata": {},
   "source": [
    "## ATC"
   ]
  },
  {
   "cell_type": "code",
   "execution_count": 22,
   "id": "80e232cf",
   "metadata": {},
   "outputs": [],
   "source": [
    "df_atc = pd.DataFrame()\n",
    "\n",
    "for border in borders:\n",
    "    atc_1 = client.query_net_transfer_capacity_dayahead(border[0], border[1], start=start, end=end)\n",
    "    atc_2 = client.query_net_transfer_capacity_dayahead(border[1], border[0], start=start, end=end)\n",
    "    \n",
    "    atc_1 = atc_1.tz_localize(None)\n",
    "    atc_2 = atc_2.tz_localize(None)\n",
    "    \n",
    "    atc_1 = atc_1[~atc_1.index.duplicated()]\n",
    "    atc_2 = atc_2[~atc_2.index.duplicated()]\n",
    "    \n",
    "    df_atc[border[0] + '_' + border[1]] = atc_1\n",
    "    df_atc[border[1] + '_' + border[0]] = atc_2\n",
    "    \n",
    "df_atc.to_excel(\"./data/atc.xlsx\")"
   ]
  }
 ],
 "metadata": {
  "kernelspec": {
   "display_name": "fbmc_env",
   "language": "python",
   "name": "fbmc_env"
  },
  "language_info": {
   "codemirror_mode": {
    "name": "ipython",
    "version": 3
   },
   "file_extension": ".py",
   "mimetype": "text/x-python",
   "name": "python",
   "nbconvert_exporter": "python",
   "pygments_lexer": "ipython3",
   "version": "3.10.6"
  }
 },
 "nbformat": 4,
 "nbformat_minor": 5
}

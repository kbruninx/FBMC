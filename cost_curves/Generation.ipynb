{
 "cells": [
  {
   "cell_type": "code",
   "execution_count": 22,
   "id": "608db186",
   "metadata": {},
   "outputs": [],
   "source": [
    "from entsoe import EntsoePandasClient\n",
    "from entsoe.mappings import Area, NEIGHBOURS, lookup_area\n",
    "from entsoe.parsers import parse_generation\n",
    "import pandas as pd\n",
    "import matplotlib.pyplot as plt\n",
    "from typing import Union, Optional, Dict, List, Literal\n",
    "\n",
    "client = EntsoePandasClient(api_key=\"b18dfce9-f1e3-4d07-822f-4abd1438e602\")"
   ]
  },
  {
   "cell_type": "code",
   "execution_count": 31,
   "id": "ce595f6d",
   "metadata": {},
   "outputs": [],
   "source": [
    "start = pd.Timestamp('20220901', tz='Europe/Amsterdam')\n",
    "end = pd.Timestamp('20220902', tz='Europe/Amsterdam')\n",
    "#end = pd.Timestamp('20230228', tz='Europe/Amsterdam')\n",
    "\n",
    "countries = ['AT', 'BE', 'CZ', 'DE_LU', 'FR', 'HR', 'HU', 'NL', 'PL', 'RO', 'SI', 'SK']\n",
    "\n",
    "gen_types = [\n",
    "    'Biomass', 'Fossil Brown coal/Lignite', 'Fossil Coal-derived gas', 'Fossil Gas', 'Fossil Hard coal', \n",
    "    'Fossil Oil', 'Fossil Oil shale', 'Fossil Peat', 'Geothermal', 'Hydro Pumped Storage', \n",
    "    'Hydro Run-of-river and poundage', 'Hydro Water Reservoir', 'Marine', 'Nuclear', 'Other',\n",
    "    'Other renewable', 'Solar', 'Waste', 'Wind Offshore', 'Wind Onshore'\n",
    "]\n",
    "\n",
    "standardized_gen_types = [\n",
    "    'biomass', 'brown_coal', 'coal_gas', 'natural_gas', 'hard_coal', 'oil', 'oil_shale', 'peat', 'geothermal', \n",
    "    'hydro_pumped_storage', 'hydro_run_of_river', 'hydro_reservoir', 'marine', 'nuclear', 'other', 'other_renewable',\n",
    "    'solar', 'waste', 'wind_offshore', 'wind_onshore'\n",
    "]"
   ]
  },
  {
   "cell_type": "code",
   "execution_count": 33,
   "id": "99b4b3f4",
   "metadata": {},
   "outputs": [],
   "source": [
    "def query_generation_day_ahead(\n",
    "            country_code: Union[Area, str], start: pd.Timestamp,\n",
    "            end: pd.Timestamp):\n",
    "        \"\"\"\n",
    "        Parameters\n",
    "        ----------\n",
    "        country_code : Area|str\n",
    "        start : pd.Timestamp\n",
    "        end : pd.Timestamp\n",
    "        psr_type : str\n",
    "            filter on a single psr type\n",
    "        Returns\n",
    "        -------\n",
    "        str\n",
    "        \"\"\"\n",
    "        area = lookup_area(country_code)\n",
    "        params = {\n",
    "            'documentType': 'A75',\n",
    "            'processType': 'A01',\n",
    "            'in_Domain': area.code,\n",
    "        }\n",
    "        response = client._base_request(params=params, start=start, end=end)\n",
    "        print(response.text)\n",
    "        df = parse_generation(response.text, nett=False)\n",
    "        df = df.tz_convert(area.tz)\n",
    "        df = df.truncate(before=start, after=end)\n",
    "        return df"
   ]
  },
  {
   "cell_type": "code",
   "execution_count": 7,
   "id": "1097602c",
   "metadata": {},
   "outputs": [],
   "source": [
    "def standardize_generation_data(df_gen):\n",
    "    for gen_type in gen_types:\n",
    "        if gen_type not in df_gen:\n",
    "            df_gen[gen_type] = 0.0\n",
    "\n",
    "    for gen_type in gen_types:\n",
    "        if (gen_type, 'Actual Consumption') in df_gen:\n",
    "            df_gen = df_gen.drop(columns=[(gen_type, 'Actual Consumption')], axis=1)\n",
    "\n",
    "    df_gen = df_gen[gen_types]\n",
    "    df_gen.columns = standardized_gen_types\n",
    "\n",
    "    df_gen = df_gen.tz_localize(None)\n",
    "\n",
    "    df_gen = df_gen.resample(\"H\").agg([\"mean\"])\n",
    "    df_gen.columns = standardized_gen_types\n",
    "    \n",
    "    return df_gen"
   ]
  },
  {
   "cell_type": "code",
   "execution_count": 9,
   "id": "5a66f92c",
   "metadata": {},
   "outputs": [
    {
     "name": "stdout",
     "output_type": "stream",
     "text": [
      "AT\n",
      "BE\n",
      "CZ\n",
      "DE_LU\n",
      "FR\n",
      "HR\n",
      "HU\n",
      "NL\n",
      "PL\n",
      "RO\n",
      "SI\n",
      "SK\n"
     ]
    }
   ],
   "source": [
    "with pd.ExcelWriter(\"generation.xlsx\") as writer:  \n",
    "    for country_code in countries:\n",
    "        df_gen = client.query_generation(country_code, start=start,end=end)\n",
    "        print(country_code)\n",
    "\n",
    "        df_gen = standardize_generation_data(df_gen)    \n",
    "        df_gen.to_excel(writer, sheet_name=country_code) "
   ]
  },
  {
   "cell_type": "code",
   "execution_count": 34,
   "id": "5b95628b",
   "metadata": {},
   "outputs": [
    {
     "ename": "HTTPError",
     "evalue": "400 Client Error: Bad Request for url: https://web-api.tp.entsoe.eu/api?documentType=A75&processType=A01&in_Domain=10YNL----------L&securityToken=b18dfce9-f1e3-4d07-822f-4abd1438e602&periodStart=202208312200&periodEnd=202209012200",
     "output_type": "error",
     "traceback": [
      "\u001b[1;31m---------------------------------------------------------------------------\u001b[0m",
      "\u001b[1;31mHTTPError\u001b[0m                                 Traceback (most recent call last)",
      "Cell \u001b[1;32mIn[34], line 1\u001b[0m\n\u001b[1;32m----> 1\u001b[0m df_gen \u001b[38;5;241m=\u001b[39m \u001b[43mquery_generation_day_ahead\u001b[49m\u001b[43m(\u001b[49m\u001b[38;5;124;43m'\u001b[39;49m\u001b[38;5;124;43mNL\u001b[39;49m\u001b[38;5;124;43m'\u001b[39;49m\u001b[43m,\u001b[49m\u001b[43m \u001b[49m\u001b[43mstart\u001b[49m\u001b[38;5;241;43m=\u001b[39;49m\u001b[43mstart\u001b[49m\u001b[43m,\u001b[49m\u001b[43mend\u001b[49m\u001b[38;5;241;43m=\u001b[39;49m\u001b[43mend\u001b[49m\u001b[43m)\u001b[49m\n\u001b[0;32m      2\u001b[0m display(df_gen)\n",
      "Cell \u001b[1;32mIn[33], line 22\u001b[0m, in \u001b[0;36mquery_generation_day_ahead\u001b[1;34m(country_code, start, end)\u001b[0m\n\u001b[0;32m     16\u001b[0m area \u001b[38;5;241m=\u001b[39m lookup_area(country_code)\n\u001b[0;32m     17\u001b[0m params \u001b[38;5;241m=\u001b[39m {\n\u001b[0;32m     18\u001b[0m     \u001b[38;5;124m'\u001b[39m\u001b[38;5;124mdocumentType\u001b[39m\u001b[38;5;124m'\u001b[39m: \u001b[38;5;124m'\u001b[39m\u001b[38;5;124mA75\u001b[39m\u001b[38;5;124m'\u001b[39m,\n\u001b[0;32m     19\u001b[0m     \u001b[38;5;124m'\u001b[39m\u001b[38;5;124mprocessType\u001b[39m\u001b[38;5;124m'\u001b[39m: \u001b[38;5;124m'\u001b[39m\u001b[38;5;124mA01\u001b[39m\u001b[38;5;124m'\u001b[39m,\n\u001b[0;32m     20\u001b[0m     \u001b[38;5;124m'\u001b[39m\u001b[38;5;124min_Domain\u001b[39m\u001b[38;5;124m'\u001b[39m: area\u001b[38;5;241m.\u001b[39mcode,\n\u001b[0;32m     21\u001b[0m }\n\u001b[1;32m---> 22\u001b[0m response \u001b[38;5;241m=\u001b[39m \u001b[43mclient\u001b[49m\u001b[38;5;241;43m.\u001b[39;49m\u001b[43m_base_request\u001b[49m\u001b[43m(\u001b[49m\u001b[43mparams\u001b[49m\u001b[38;5;241;43m=\u001b[39;49m\u001b[43mparams\u001b[49m\u001b[43m,\u001b[49m\u001b[43m \u001b[49m\u001b[43mstart\u001b[49m\u001b[38;5;241;43m=\u001b[39;49m\u001b[43mstart\u001b[49m\u001b[43m,\u001b[49m\u001b[43m \u001b[49m\u001b[43mend\u001b[49m\u001b[38;5;241;43m=\u001b[39;49m\u001b[43mend\u001b[49m\u001b[43m)\u001b[49m\n\u001b[0;32m     23\u001b[0m \u001b[38;5;28mprint\u001b[39m(response\u001b[38;5;241m.\u001b[39mtext)\n\u001b[0;32m     24\u001b[0m df \u001b[38;5;241m=\u001b[39m parse_generation(response\u001b[38;5;241m.\u001b[39mtext, nett\u001b[38;5;241m=\u001b[39m\u001b[38;5;28;01mFalse\u001b[39;00m)\n",
      "File \u001b[1;32m~\\FBMC\\fbmc_env\\lib\\site-packages\\entsoe\\decorators.py:22\u001b[0m, in \u001b[0;36mretry.<locals>.retry_wrapper\u001b[1;34m(*args, **kwargs)\u001b[0m\n\u001b[0;32m     20\u001b[0m \u001b[38;5;28;01mfor\u001b[39;00m _ \u001b[38;5;129;01min\u001b[39;00m \u001b[38;5;28mrange\u001b[39m(\u001b[38;5;28mself\u001b[39m\u001b[38;5;241m.\u001b[39mretry_count):\n\u001b[0;32m     21\u001b[0m     \u001b[38;5;28;01mtry\u001b[39;00m:\n\u001b[1;32m---> 22\u001b[0m         result \u001b[38;5;241m=\u001b[39m func(\u001b[38;5;241m*\u001b[39margs, \u001b[38;5;241m*\u001b[39m\u001b[38;5;241m*\u001b[39mkwargs)\n\u001b[0;32m     23\u001b[0m     \u001b[38;5;28;01mexcept\u001b[39;00m (requests\u001b[38;5;241m.\u001b[39mConnectionError, gaierror) \u001b[38;5;28;01mas\u001b[39;00m e:\n\u001b[0;32m     24\u001b[0m         error \u001b[38;5;241m=\u001b[39m e\n",
      "File \u001b[1;32m~\\FBMC\\fbmc_env\\lib\\site-packages\\entsoe\\entsoe.py:124\u001b[0m, in \u001b[0;36mEntsoeRawClient._base_request\u001b[1;34m(self, params, start, end)\u001b[0m\n\u001b[0;32m    119\u001b[0m             allowed \u001b[38;5;241m=\u001b[39m error_text\u001b[38;5;241m.\u001b[39msplit(\u001b[38;5;124m'\u001b[39m\u001b[38;5;124m \u001b[39m\u001b[38;5;124m'\u001b[39m)[\u001b[38;5;241m-\u001b[39m\u001b[38;5;241m30\u001b[39m][:\u001b[38;5;241m-\u001b[39m\u001b[38;5;241m2\u001b[39m]\n\u001b[0;32m    120\u001b[0m             \u001b[38;5;28;01mraise\u001b[39;00m PaginationError(\n\u001b[0;32m    121\u001b[0m                 \u001b[38;5;124mf\u001b[39m\u001b[38;5;124m\"\u001b[39m\u001b[38;5;124mThe API is limited to \u001b[39m\u001b[38;5;132;01m{\u001b[39;00mallowed\u001b[38;5;132;01m}\u001b[39;00m\u001b[38;5;124m elements per \u001b[39m\u001b[38;5;124m\"\u001b[39m\n\u001b[0;32m    122\u001b[0m                 \u001b[38;5;124mf\u001b[39m\u001b[38;5;124m\"\u001b[39m\u001b[38;5;124mrequest. This query requested for \u001b[39m\u001b[38;5;132;01m{\u001b[39;00mrequested\u001b[38;5;132;01m}\u001b[39;00m\u001b[38;5;124m \u001b[39m\u001b[38;5;124m\"\u001b[39m\n\u001b[0;32m    123\u001b[0m                 \u001b[38;5;124mf\u001b[39m\u001b[38;5;124m\"\u001b[39m\u001b[38;5;124mdocuments and cannot be fulfilled as is.\u001b[39m\u001b[38;5;124m\"\u001b[39m)\n\u001b[1;32m--> 124\u001b[0m     \u001b[38;5;28;01mraise\u001b[39;00m e\n\u001b[0;32m    125\u001b[0m \u001b[38;5;28;01melse\u001b[39;00m:\n\u001b[0;32m    126\u001b[0m     \u001b[38;5;66;03m# ENTSO-E has changed their server to also respond with 200 if there is no data but all parameters are valid\u001b[39;00m\n\u001b[0;32m    127\u001b[0m     \u001b[38;5;66;03m# this means we need to check the contents for this error even when status code 200 is returned\u001b[39;00m\n\u001b[0;32m    128\u001b[0m     \u001b[38;5;66;03m# to prevent parsing the full response do a text matching instead of full parsing\u001b[39;00m\n\u001b[0;32m    129\u001b[0m     \u001b[38;5;66;03m# also only do this when response type content is text and not for example a zip file\u001b[39;00m\n\u001b[0;32m    130\u001b[0m     \u001b[38;5;28;01mif\u001b[39;00m response\u001b[38;5;241m.\u001b[39mheaders\u001b[38;5;241m.\u001b[39mget(\u001b[38;5;124m'\u001b[39m\u001b[38;5;124mcontent-type\u001b[39m\u001b[38;5;124m'\u001b[39m, \u001b[38;5;124m'\u001b[39m\u001b[38;5;124m'\u001b[39m) \u001b[38;5;241m==\u001b[39m \u001b[38;5;124m'\u001b[39m\u001b[38;5;124mapplication/xml\u001b[39m\u001b[38;5;124m'\u001b[39m:\n",
      "File \u001b[1;32m~\\FBMC\\fbmc_env\\lib\\site-packages\\entsoe\\entsoe.py:98\u001b[0m, in \u001b[0;36mEntsoeRawClient._base_request\u001b[1;34m(self, params, start, end)\u001b[0m\n\u001b[0;32m     95\u001b[0m response \u001b[38;5;241m=\u001b[39m \u001b[38;5;28mself\u001b[39m\u001b[38;5;241m.\u001b[39msession\u001b[38;5;241m.\u001b[39mget(url\u001b[38;5;241m=\u001b[39mURL, params\u001b[38;5;241m=\u001b[39mparams,\n\u001b[0;32m     96\u001b[0m                             proxies\u001b[38;5;241m=\u001b[39m\u001b[38;5;28mself\u001b[39m\u001b[38;5;241m.\u001b[39mproxies, timeout\u001b[38;5;241m=\u001b[39m\u001b[38;5;28mself\u001b[39m\u001b[38;5;241m.\u001b[39mtimeout)\n\u001b[0;32m     97\u001b[0m \u001b[38;5;28;01mtry\u001b[39;00m:\n\u001b[1;32m---> 98\u001b[0m     \u001b[43mresponse\u001b[49m\u001b[38;5;241;43m.\u001b[39;49m\u001b[43mraise_for_status\u001b[49m\u001b[43m(\u001b[49m\u001b[43m)\u001b[49m\n\u001b[0;32m     99\u001b[0m \u001b[38;5;28;01mexcept\u001b[39;00m requests\u001b[38;5;241m.\u001b[39mHTTPError \u001b[38;5;28;01mas\u001b[39;00m e:\n\u001b[0;32m    100\u001b[0m     soup \u001b[38;5;241m=\u001b[39m BeautifulSoup(response\u001b[38;5;241m.\u001b[39mtext, \u001b[38;5;124m'\u001b[39m\u001b[38;5;124mhtml.parser\u001b[39m\u001b[38;5;124m'\u001b[39m)\n",
      "File \u001b[1;32m~\\FBMC\\fbmc_env\\lib\\site-packages\\requests\\models.py:1021\u001b[0m, in \u001b[0;36mResponse.raise_for_status\u001b[1;34m(self)\u001b[0m\n\u001b[0;32m   1016\u001b[0m     http_error_msg \u001b[38;5;241m=\u001b[39m (\n\u001b[0;32m   1017\u001b[0m         \u001b[38;5;124mf\u001b[39m\u001b[38;5;124m\"\u001b[39m\u001b[38;5;132;01m{\u001b[39;00m\u001b[38;5;28mself\u001b[39m\u001b[38;5;241m.\u001b[39mstatus_code\u001b[38;5;132;01m}\u001b[39;00m\u001b[38;5;124m Server Error: \u001b[39m\u001b[38;5;132;01m{\u001b[39;00mreason\u001b[38;5;132;01m}\u001b[39;00m\u001b[38;5;124m for url: \u001b[39m\u001b[38;5;132;01m{\u001b[39;00m\u001b[38;5;28mself\u001b[39m\u001b[38;5;241m.\u001b[39murl\u001b[38;5;132;01m}\u001b[39;00m\u001b[38;5;124m\"\u001b[39m\n\u001b[0;32m   1018\u001b[0m     )\n\u001b[0;32m   1020\u001b[0m \u001b[38;5;28;01mif\u001b[39;00m http_error_msg:\n\u001b[1;32m-> 1021\u001b[0m     \u001b[38;5;28;01mraise\u001b[39;00m HTTPError(http_error_msg, response\u001b[38;5;241m=\u001b[39m\u001b[38;5;28mself\u001b[39m)\n",
      "\u001b[1;31mHTTPError\u001b[0m: 400 Client Error: Bad Request for url: https://web-api.tp.entsoe.eu/api?documentType=A75&processType=A01&in_Domain=10YNL----------L&securityToken=b18dfce9-f1e3-4d07-822f-4abd1438e602&periodStart=202208312200&periodEnd=202209012200"
     ]
    }
   ],
   "source": [
    "df_gen = query_generation_day_ahead('NL', start=start,end=end)\n",
    "display(df_gen)"
   ]
  },
  {
   "cell_type": "code",
   "execution_count": null,
   "id": "0f764a03",
   "metadata": {},
   "outputs": [],
   "source": []
  }
 ],
 "metadata": {
  "kernelspec": {
   "display_name": "fbmc_env",
   "language": "python",
   "name": "fbmc_env"
  },
  "language_info": {
   "codemirror_mode": {
    "name": "ipython",
    "version": 3
   },
   "file_extension": ".py",
   "mimetype": "text/x-python",
   "name": "python",
   "nbconvert_exporter": "python",
   "pygments_lexer": "ipython3",
   "version": "3.10.5"
  }
 },
 "nbformat": 4,
 "nbformat_minor": 5
}

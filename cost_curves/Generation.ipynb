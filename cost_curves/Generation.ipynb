{
 "cells": [
  {
   "cell_type": "code",
   "execution_count": 94,
   "id": "608db186",
   "metadata": {},
   "outputs": [],
   "source": [
    "from entsoe import EntsoePandasClient\n",
    "import pandas as pd\n",
    "import matplotlib.pyplot as plt\n",
    "\n",
    "client = EntsoePandasClient(api_key=\"b18dfce9-f1e3-4d07-822f-4abd1438e602\")"
   ]
  },
  {
   "cell_type": "code",
   "execution_count": 95,
   "id": "ce595f6d",
   "metadata": {},
   "outputs": [],
   "source": [
    "start = pd.Timestamp('20230314', tz='Europe/Amsterdam')\n",
    "end = pd.Timestamp('20230315', tz='Europe/Amsterdam')\n",
    "\n",
    "countries = ['AT', 'BE', 'CZ', 'DE_LU', 'FR', 'HR', 'HU', 'NL', 'PL', 'RO', 'SI', 'SK']\n",
    "\n",
    "gen_types = [\n",
    "    'Biomass', 'Fossil Brown coal/Lignite', 'Fossil Coal-derived gas', 'Fossil Gas', 'Fossil Hard coal', \n",
    "    'Fossil Oil', 'Fossil Oil shale', 'Fossil Peat', 'Geothermal', 'Hydro Pumped Storage', \n",
    "    'Hydro Run-of-river and poundage', 'Hydro Water Reservoir', 'Marine', 'Nuclear', 'Other',\n",
    "    'Other renewable', 'Solar', 'Waste', 'Wind Offshore', 'Wind Onshore'\n",
    "]\n",
    "\n",
    "standardized_gen_types = [\n",
    "    'biomass', 'brown_coal', 'coal_gas', 'natural_gas', 'hard_coal', 'oil', 'oil_shale', 'peat', 'geothermal', \n",
    "    'hydro_pumped_storage', 'hydro_run_of_river', 'hydro_reservoir', 'marine', 'nuclear', 'other', 'other_renewable',\n",
    "    'solar', 'waste', 'wind_offshore', 'wind_onshore'\n",
    "]"
   ]
  },
  {
   "cell_type": "code",
   "execution_count": 96,
   "id": "1097602c",
   "metadata": {},
   "outputs": [],
   "source": [
    "def standardize_generation_data(df_gen):\n",
    "    for gen_type in gen_types:\n",
    "        if gen_type not in df_gen:\n",
    "            df_gen[gen_type] = 0.0\n",
    "\n",
    "    for gen_type in gen_types:\n",
    "        if (gen_type, 'Actual Consumption') in df_gen:\n",
    "            df_gen = df_gen.drop(columns=[(gen_type, 'Actual Consumption')], axis=1)\n",
    "\n",
    "    df_gen = df_gen[gen_types]\n",
    "    df_gen.columns = standardized_gen_types\n",
    "\n",
    "    df_gen = df_gen.tz_localize(None)\n",
    "\n",
    "    df_gen = df_gen.resample(\"H\").agg([\"mean\"])\n",
    "    df_gen.columns = standardized_gen_types\n",
    "    \n",
    "    return df_gen"
   ]
  },
  {
   "cell_type": "code",
   "execution_count": 98,
   "id": "5a66f92c",
   "metadata": {},
   "outputs": [
    {
     "name": "stdout",
     "output_type": "stream",
     "text": [
      "AT\n",
      "BE\n",
      "CZ\n",
      "DE_LU\n",
      "FR\n",
      "HR\n",
      "HU\n",
      "NL\n",
      "PL\n",
      "RO\n",
      "SI\n",
      "SK\n"
     ]
    }
   ],
   "source": [
    "with pd.ExcelWriter(\"generation.xlsx\") as writer:  \n",
    "    for country_code in countries:\n",
    "        df_gen = client.query_generation(country_code, start=start,end=end)\n",
    "        print(country_code)\n",
    "\n",
    "        df_gen = standardize_generation_data(df_gen)    \n",
    "        df_gen.to_excel(writer, sheet_name=country_code) "
   ]
  },
  {
   "cell_type": "code",
   "execution_count": null,
   "id": "5b95628b",
   "metadata": {},
   "outputs": [],
   "source": []
  }
 ],
 "metadata": {
  "kernelspec": {
   "display_name": "fbmc_env",
   "language": "python",
   "name": "fbmc_env"
  },
  "language_info": {
   "codemirror_mode": {
    "name": "ipython",
    "version": 3
   },
   "file_extension": ".py",
   "mimetype": "text/x-python",
   "name": "python",
   "nbconvert_exporter": "python",
   "pygments_lexer": "ipython3",
   "version": "3.9.13"
  }
 },
 "nbformat": 4,
 "nbformat_minor": 5
}

{
 "cells": [
  {
   "cell_type": "code",
   "execution_count": 7,
   "id": "b663b9ec",
   "metadata": {},
   "outputs": [],
   "source": [
    "import pandas as pd\n",
    "import math\n",
    "\n",
    "reduced_gen_types = [\n",
    "    'biomass', 'brown_coal', 'coal_gas', 'natural_gas', 'hard_coal', 'oil', 'hydro', \n",
    "    'nuclear', 'waste', 'other', 'solar', 'wind_onshore', 'wind_offshore', 'other_renewable'\n",
    "]\n",
    "\n",
    "hubs = ['ALBE', 'ALDE', 'AT', 'BE', 'CZ', 'DE_LU', 'FR', 'HR', 'HU', 'NL', 'PL', 'RO', 'SI', 'SK']\n",
    "countries = ['AT', 'BE', 'CZ', 'DE_LU', 'FR', 'HR', 'HU', 'NL', 'PL', 'RO', 'SI', 'SK']"
   ]
  },
  {
   "cell_type": "code",
   "execution_count": 14,
   "id": "93d35ddb",
   "metadata": {},
   "outputs": [],
   "source": [
    "df_capacities = pd.read_excel(\"./optimisation/data/installed_capacities.xlsx\", index_col=0)\n",
    "df_gen = pd.read_excel(\"./optimisation/data/training/generation.xlsx\", index_col=0)"
   ]
  },
  {
   "cell_type": "code",
   "execution_count": 18,
   "id": "f3e8f0af",
   "metadata": {},
   "outputs": [
    {
     "ename": "NameError",
     "evalue": "name 'ceil' is not defined",
     "output_type": "error",
     "traceback": [
      "\u001b[1;31m---------------------------------------------------------------------------\u001b[0m",
      "\u001b[1;31mNameError\u001b[0m                                 Traceback (most recent call last)",
      "Cell \u001b[1;32mIn[18], line 6\u001b[0m\n\u001b[0;32m      4\u001b[0m \u001b[38;5;28;01mif\u001b[39;00m \u001b[38;5;129;01mnot\u001b[39;00m df_gen[df_gen[gen_type] \u001b[38;5;241m>\u001b[39m df_capacities[zone]\u001b[38;5;241m.\u001b[39mloc[gen_type]]\u001b[38;5;241m.\u001b[39mempty:\n\u001b[0;32m      5\u001b[0m     df_excess_gen \u001b[38;5;241m=\u001b[39m df_gen[df_gen[gen_type] \u001b[38;5;241m>\u001b[39m df_capacities[zone]\u001b[38;5;241m.\u001b[39mloc[gen_type]]\n\u001b[1;32m----> 6\u001b[0m     \u001b[38;5;28mprint\u001b[39m(zone, \u001b[38;5;124m'\u001b[39m\u001b[38;5;124m, \u001b[39m\u001b[38;5;124m'\u001b[39m, gen_type, \u001b[38;5;124m'\u001b[39m\u001b[38;5;124m, max: \u001b[39m\u001b[38;5;124m'\u001b[39m, df_capacities[zone]\u001b[38;5;241m.\u001b[39mloc[gen_type], \u001b[38;5;124m'\u001b[39m\u001b[38;5;124m, gen: \u001b[39m\u001b[38;5;124m'\u001b[39m, \u001b[43mceil\u001b[49m(df_excess_gen[gen_type]\u001b[38;5;241m.\u001b[39mmax()))\n\u001b[0;32m      7\u001b[0m     df_capacities\u001b[38;5;241m.\u001b[39mloc[gen_type, zone] \u001b[38;5;241m=\u001b[39m ceil(df_excess_gen[gen_type]\u001b[38;5;241m.\u001b[39mmax())\n",
      "\u001b[1;31mNameError\u001b[0m: name 'ceil' is not defined"
     ]
    }
   ],
   "source": [
    "for zone in countries:\n",
    "    for gen_type in reduced_gen_types:\n",
    "        df_gen = pd.read_excel(\"./optimisation/data/training/generation.xlsx\", sheet_name=zone, index_col=0)\n",
    "        if not df_gen[df_gen[gen_type] > df_capacities[zone].loc[gen_type]].empty:\n",
    "            df_excess_gen = df_gen[df_gen[gen_type] > df_capacities[zone].loc[gen_type]]\n",
    "            print(zone, ', ', gen_type, ', max: ', df_capacities[zone].loc[gen_type], ', gen: ', math.ceil(df_excess_gen[gen_type].max()))\n",
    "            df_capacities.loc[gen_type, zone] = math.ceil(df_excess_gen[gen_type].max())\n",
    "                "
   ]
  },
  {
   "cell_type": "code",
   "execution_count": null,
   "id": "db2c453c",
   "metadata": {},
   "outputs": [],
   "source": [
    "df_capacities.to_excel(\"./optimisation/data/installed_capacities_corrected.xlsx\")"
   ]
  }
 ],
 "metadata": {
  "kernelspec": {
   "display_name": "fbmc_env",
   "language": "python",
   "name": "fbmc_env"
  },
  "language_info": {
   "codemirror_mode": {
    "name": "ipython",
    "version": 3
   },
   "file_extension": ".py",
   "mimetype": "text/x-python",
   "name": "python",
   "nbconvert_exporter": "python",
   "pygments_lexer": "ipython3",
   "version": "3.10.5"
  }
 },
 "nbformat": 4,
 "nbformat_minor": 5
}

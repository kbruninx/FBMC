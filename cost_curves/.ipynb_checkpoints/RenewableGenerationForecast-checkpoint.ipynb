{
 "cells": [
  {
   "cell_type": "code",
   "execution_count": 11,
   "id": "c35b7497",
   "metadata": {},
   "outputs": [],
   "source": [
    "from entsoe import EntsoePandasClient\n",
    "import pandas as pd\n",
    "import matplotlib.pyplot as plt\n",
    "import numpy as np\n",
    "\n",
    "client = EntsoePandasClient(api_key=\"b18dfce9-f1e3-4d07-822f-4abd1438e602\")"
   ]
  },
  {
   "cell_type": "code",
   "execution_count": 3,
   "id": "9a7edbf5",
   "metadata": {},
   "outputs": [],
   "source": [
    "start = pd.Timestamp('20220901', tz='Europe/Amsterdam')\n",
    "end = pd.Timestamp('20230228', tz='Europe/Amsterdam')\n",
    "\n",
    "countries = ['AT', 'BE', 'CZ', 'DE_LU', 'FR', 'HR', 'HU', 'NL', 'PL', 'RO', 'SI', 'SK']"
   ]
  },
  {
   "cell_type": "code",
   "execution_count": 9,
   "id": "e3a164e2",
   "metadata": {
    "scrolled": false
   },
   "outputs": [
    {
     "name": "stdout",
     "output_type": "stream",
     "text": [
      "AT\n",
      "BE\n",
      "CZ\n",
      "DE_LU\n",
      "FR\n",
      "HR\n",
      "HU\n",
      "NL\n",
      "PL\n",
      "RO\n",
      "SI\n",
      "SK\n"
     ]
    }
   ],
   "source": [
    "df_ren_gen = pd.DataFrame()\n",
    "\n",
    "for country_code in countries:\n",
    "    df_gen = client.query_wind_and_solar_forecast(country_code, start=start,end=end)\n",
    "    if 'Solar' not in df_gen:\n",
    "        df_gen['Solar'] = 0\n",
    "    if 'Wind Onshore' not in df_gen:\n",
    "        df_gen['Wind Onshore'] = 0\n",
    "    if 'Wind Offshore' not in df_gen:\n",
    "        df_gen['Wind Offshore'] = 0\n",
    "\n",
    "    df_gen = df_gen.tz_localize(None)\n",
    "    df_gen = df_gen.resample(\"H\").agg([\"mean\"])\n",
    "\n",
    "    df_ren_gen[country_code] = df_gen['Solar'] + df_gen['Wind Onshore'] + df_gen['Wind Offshore']"
   ]
  },
  {
   "cell_type": "code",
   "execution_count": 12,
   "id": "26dcf27f",
   "metadata": {},
   "outputs": [],
   "source": [
    "start_autumn_test = np.datetime64(\"2022-11-01\")\n",
    "end_autumn_test = np.datetime64(\"2022-11-30\")\n",
    "\n",
    "start_winter_test = np.datetime64(\"2023-02-01\")\n",
    "end_winter_test = np.datetime64(\"2023-02-28\")\n",
    "\n",
    "def validation_mask(df):\n",
    "    return ((df.index >= start_autumn_test) & (df.index <= end_autumn_test)) | ((df.index >= start_winter_test) & (df.index <= end_winter_test))"
   ]
  },
  {
   "cell_type": "code",
   "execution_count": 14,
   "id": "dca9e8c1",
   "metadata": {},
   "outputs": [],
   "source": [
    "df_ren_gen_test = df_ren_gen.loc[validation_mask(df_gen)]\n",
    "df_gen_test.to_excel(\"./optimisation/data/validation/renewable_generation.xlsx\")"
   ]
  }
 ],
 "metadata": {
  "kernelspec": {
   "display_name": "fbmc_env",
   "language": "python",
   "name": "fbmc_env"
  },
  "language_info": {
   "codemirror_mode": {
    "name": "ipython",
    "version": 3
   },
   "file_extension": ".py",
   "mimetype": "text/x-python",
   "name": "python",
   "nbconvert_exporter": "python",
   "pygments_lexer": "ipython3",
   "version": "3.9.13"
  }
 },
 "nbformat": 4,
 "nbformat_minor": 5
}

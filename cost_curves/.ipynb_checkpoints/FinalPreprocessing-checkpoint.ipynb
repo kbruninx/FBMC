{
 "cells": [
  {
   "cell_type": "code",
   "execution_count": 9,
   "id": "ce7fa528",
   "metadata": {},
   "outputs": [],
   "source": [
    "import pandas as pd\n",
    "import numpy as np\n",
    "\n",
    "countries = ['AT', 'BE', 'CZ', 'DE_LU', 'FR', 'HR', 'HU', 'NL', 'PL', 'RO', 'SI', 'SK']\n",
    "hubs = ['ALBE', 'ALDE', 'AT', 'BE', 'CZ', 'DE_LU', 'FR', 'HR', 'HU', 'NL', 'PL', 'RO', 'SI', 'SK']"
   ]
  },
  {
   "cell_type": "code",
   "execution_count": 10,
   "id": "02690d77",
   "metadata": {},
   "outputs": [],
   "source": [
    "df_fuel = pd.read_excel(\"./for_io/fuel_prices.xlsx\", index_col=0)\n",
    "\n",
    "#df_netpos = pd.read_excel(\"./for_io/net_positions.xlsx\", index_col=0)\n",
    "#df_ptdf = pd.read_excel(\"./for_io/ptdfs.xlsx\", index_col=0)\n",
    "df_atc = pd.read_excel(\"./for_io/atc.xlsx\", index_col=0)\n",
    "\n",
    "df_da_prices = pd.read_excel(\"./for_io/day_ahead_prices.xlsx\", index_col=0)\n",
    "df_da_prices_non_fbmc = pd.read_excel(\"./for_io/day_ahead_prices_non_fbmc.xlsx\", index_col=0)\n",
    "\n",
    "df_demand = pd.read_excel(\"./for_io/demand.xlsx\", index_col=0)"
   ]
  },
  {
   "cell_type": "code",
   "execution_count": 11,
   "id": "71929f85",
   "metadata": {},
   "outputs": [],
   "source": [
    "# Adding ALBE and ALDE columns to the dataset\n",
    "\n",
    "df_da_prices['ALBE'] = df_da_prices['BE']\n",
    "df_da_prices['ALDE'] = df_da_prices['DE_LU']\n",
    "df_da_prices = df_da_prices[hubs]\n",
    "\n",
    "df_demand['ALBE'] = 0\n",
    "df_demand['ALDE'] = 0\n",
    "df_demand = df_demand[hubs]"
   ]
  },
  {
   "cell_type": "code",
   "execution_count": 12,
   "id": "c238b833",
   "metadata": {},
   "outputs": [],
   "source": [
    "start_autumn_train = np.datetime64(\"2022-09-01\")\n",
    "end_autumn_train = np.datetime64(\"2022-10-31\")\n",
    "\n",
    "start_autumn_test = np.datetime64(\"2022-11-01\")\n",
    "end_autumn_test = np.datetime64(\"2022-11-30\")\n",
    "\n",
    "start_winter_train = np.datetime64(\"2022-12-01\")\n",
    "end_winter_train = np.datetime64(\"2023-01-31\")\n",
    "\n",
    "start_winter_test = np.datetime64(\"2023-02-01\")\n",
    "end_winter_test = np.datetime64(\"2023-02-28\")\n",
    "\n",
    "def training_mask(df):\n",
    "    return ((df.index >= start_autumn_train) & (df.index <= end_autumn_train)) | ((df.index >= start_winter_train) & (df.index <= end_winter_train))\n",
    "\n",
    "def validation_mask(df):\n",
    "    return ((df.index >= start_autumn_test) & (df.index <= end_autumn_test)) | ((df.index >= start_winter_test) & (df.index <= end_winter_test))\n"
   ]
  },
  {
   "cell_type": "code",
   "execution_count": 14,
   "id": "24fa6e87",
   "metadata": {},
   "outputs": [],
   "source": [
    "df_fuel_train = df_fuel.loc[training_mask(df_fuel)]\n",
    "df_demand_train = df_demand.loc[training_mask(df_demand)]\n",
    "#df_netpos_train = df_netpos.loc[training_mask(df_netpos)]\n",
    "#df_ptdf_train = df_ptdf.loc[training_mask(df_ptdf)]\n",
    "df_atc_train = df_atc.loc[training_mask(df_atc)]\n",
    "df_da_prices_train = df_da_prices.loc[training_mask(df_da_prices)]\n",
    "df_da_prices_non_fbmc_train = df_da_prices_non_fbmc.loc[training_mask(df_da_prices_non_fbmc)]\n",
    "\n",
    "df_fuel_test = df_fuel.loc[validation_mask(df_fuel)]\n",
    "df_demand_test = df_demand.loc[validation_mask(df_demand)]\n",
    "#df_netpos_test = df_netpos.loc[validation_mask(df_netpos)]\n",
    "#df_ptdf_test = df_ptdf.loc[validation_mask(df_ptdf)]\n",
    "df_atc_test = df_atc.loc[validation_mask(df_atc)]\n",
    "df_da_prices_test = df_da_prices.loc[validation_mask(df_da_prices)]\n",
    "df_da_prices_non_fbmc_test = df_da_prices_non_fbmc.loc[validation_mask(df_da_prices_non_fbmc)]\n",
    "\n",
    "df_fuel_train.to_excel(\"./optimisation/data/training/fuel_prices.xlsx\")\n",
    "df_demand_train.to_excel(\"./optimisation/data/training/demand.xlsx\")\n",
    "#df_netpos_train.to_excel(\"./optimisation/data/training/net_positions.xlsx\")\n",
    "#df_ptdf_train.to_excel(\"./optimisation/data/training/ptdfs.xlsx\")\n",
    "df_atc_train.to_excel(\"./optimisation/data/training/atc.xlsx\")\n",
    "df_da_prices_train.to_excel(\"./optimisation/data/training/day_ahead_prices.xlsx\")\n",
    "df_da_prices_non_fbmc_train.to_excel(\"./optimisation/data/training/day_ahead_prices_non_fbm.xlsx\")\n",
    "\n",
    "df_fuel_test.to_excel(\"./optimisation/data/validation/fuel_prices.xlsx\")\n",
    "df_demand_test.to_excel(\"./optimisation/data/validation/demand.xlsx\")\n",
    "#df_netpos_test.to_excel(\"./optimisation/data/validation/net_positions.xlsx\")\n",
    "#df_ptdf_test.to_excel(\"./optimisation/data/validation/ptdfs.xlsx\")\n",
    "df_atc_test.to_excel(\"./optimisation/data/validation/atc.xlsx\")\n",
    "df_da_prices_test.to_excel(\"./optimisation/data/validation/day_ahead_prices.xlsx\")\n",
    "df_da_prices_non_fbmc_test.to_excel(\"./optimisation/data/validation/day_ahead_prices_non_fbm.xlsx\")"
   ]
  },
  {
   "cell_type": "code",
   "execution_count": null,
   "id": "31b2dfe6",
   "metadata": {},
   "outputs": [
    {
     "name": "stdout",
     "output_type": "stream",
     "text": [
      "Training set,  AT\n",
      "Training set,  BE\n",
      "Training set,  CZ\n",
      "Training set,  DE_LU\n",
      "Training set,  FR\n",
      "Training set,  HR\n",
      "Training set,  HU\n",
      "Training set,  NL\n",
      "Training set,  PL\n",
      "Training set,  RO\n",
      "Training set,  SI\n",
      "Training set,  SK\n",
      "Validation set,  AT\n",
      "Validation set,  BE\n",
      "Validation set,  CZ\n",
      "Validation set,  DE_LU\n",
      "Validation set,  FR\n",
      "Validation set,  HR\n",
      "Validation set,  HU\n",
      "Validation set,  NL\n",
      "Validation set,  PL\n",
      "Validation set,  RO\n",
      "Validation set,  SI\n",
      "Validation set,  SK\n"
     ]
    }
   ],
   "source": [
    "df_ren_gen_train = pd.DataFrame()\n",
    "df_ren_gen_train.index = df_demand_train.index\n",
    "df_ren_gen_train['ALBE'] = 0\n",
    "df_ren_gen_train['ALDE'] = 0\n",
    "\n",
    "df_ren_gen_test = pd.DataFrame()\n",
    "df_ren_gen_test.index = df_demand_test.index\n",
    "df_ren_gen_test['ALBE'] = 0\n",
    "df_ren_gen_test['ALDE'] = 0\n",
    "\n",
    "with pd.ExcelWriter(\"./optimisation/data/training/generation.xlsx\") as writer:  \n",
    "    for country_code in countries:\n",
    "        df_gen = pd.read_excel(\"./for_io/generation.xlsx\", sheet_name=country_code, index_col=0)\n",
    "        \n",
    "        print('Training set, ', country_code)\n",
    "        df_gen_train = df_gen.loc[training_mask(df_gen)]\n",
    "        \n",
    "        df_ren_gen_train[country_code] = df_gen_train['solar'] + df_gen_train['wind_offshore'] + df_gen_train['wind_onshore'] + df_gen_train['other_renewable']\n",
    "        \n",
    "        df_gen_train.to_excel(writer, sheet_name=country_code) \n",
    "        \n",
    "with pd.ExcelWriter(\"./optimisation/data/validation/generation.xlsx\") as writer:  \n",
    "    for country_code in countries:\n",
    "        df_gen = pd.read_excel(\"./for_io/generation.xlsx\", sheet_name=country_code, index_col=0)\n",
    "        \n",
    "        print('Validation set, ', country_code)\n",
    "        df_gen_test = df_gen.loc[validation_mask(df_gen)]\n",
    "        \n",
    "        df_ren_gen_test[country_code] = df_gen_test['solar'] + df_gen_test['wind_offshore'] + df_gen_test['wind_onshore'] + df_gen_test['other_renewable']\n",
    "        \n",
    "        df_gen_test.to_excel(writer, sheet_name=country_code) \n",
    "        \n",
    "df_ren_gen_train.to_excel(\"./optimisation/data/training/renewable_generation.xlsx\")\n",
    "df_ren_gen_test.to_excel(\"./optimisation/data/validation/renewable_generation.xlsx\")"
   ]
  },
  {
   "cell_type": "code",
   "execution_count": null,
   "id": "2134aa1b",
   "metadata": {},
   "outputs": [],
   "source": []
  }
 ],
 "metadata": {
  "kernelspec": {
   "display_name": "fbmc_env",
   "language": "python",
   "name": "fbmc_env"
  },
  "language_info": {
   "codemirror_mode": {
    "name": "ipython",
    "version": 3
   },
   "file_extension": ".py",
   "mimetype": "text/x-python",
   "name": "python",
   "nbconvert_exporter": "python",
   "pygments_lexer": "ipython3",
   "version": "3.10.5"
  }
 },
 "nbformat": 4,
 "nbformat_minor": 5
}

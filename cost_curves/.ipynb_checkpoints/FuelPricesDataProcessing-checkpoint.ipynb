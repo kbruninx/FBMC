{
 "cells": [
  {
   "cell_type": "code",
   "execution_count": 1,
   "id": "64efbe34",
   "metadata": {},
   "outputs": [],
   "source": [
    "import pandas as pd"
   ]
  },
  {
   "cell_type": "code",
   "execution_count": 2,
   "id": "bf5ec135",
   "metadata": {},
   "outputs": [],
   "source": [
    "df_fuel = pd.read_excel(\"./for_io/fuel_prices.xlsx\", index_col=0)\n",
    "df_demand = pd.read_excel(\"./for_io/demand.xlsx\", index_col=0)"
   ]
  },
  {
   "cell_type": "code",
   "execution_count": null,
   "id": "c3ca21ee",
   "metadata": {},
   "outputs": [],
   "source": [
    "df_fuel_expanded = pd.DataFrame()\n",
    "df_fuel_expanded.index = df_demand.index\n",
    "\n",
    "for index, row in df_fuel_expanded.iterrows():\n",
    "    df_fuel_expanded[index, 'coal'] = df_fuel[index.date, 'coal']\n",
    "    df_fuel_expanded[index, 'oil'] = df_fuel[index.date, 'oil']\n",
    "    df_fuel_expanded[index, 'gas'] = df_fuel[index.date, 'gas']\n",
    "    df_fuel_expanded[index, 'eua'] = df_fuel[index.date, 'eua']\n",
    "    \n",
    "display(df_fuel_expanded)"
   ]
  }
 ],
 "metadata": {
  "kernelspec": {
   "display_name": "fbmc_env",
   "language": "python",
   "name": "fbmc_env"
  },
  "language_info": {
   "codemirror_mode": {
    "name": "ipython",
    "version": 3
   },
   "file_extension": ".py",
   "mimetype": "text/x-python",
   "name": "python",
   "nbconvert_exporter": "python",
   "pygments_lexer": "ipython3",
   "version": "3.10.5"
  }
 },
 "nbformat": 4,
 "nbformat_minor": 5
}

{
 "cells": [
  {
   "cell_type": "code",
   "execution_count": 22,
   "id": "608db186",
   "metadata": {},
   "outputs": [],
   "source": [
    "from entsoe import EntsoePandasClient\n",
    "from entsoe.mappings import Area, NEIGHBOURS, lookup_area\n",
    "from entsoe.parsers import parse_generation\n",
    "import pandas as pd\n",
    "import matplotlib.pyplot as plt\n",
    "from typing import Union, Optional, Dict, List, Literal\n",
    "\n",
    "client = EntsoePandasClient(api_key=\"b18dfce9-f1e3-4d07-822f-4abd1438e602\")"
   ]
  },
  {
   "cell_type": "code",
   "execution_count": 3,
   "id": "ce595f6d",
   "metadata": {},
   "outputs": [],
   "source": [
    "start = pd.Timestamp('20220901', tz='Europe/Amsterdam')\n",
    "end = pd.Timestamp('20220902', tz='Europe/Amsterdam')\n",
    "#end = pd.Timestamp('20230228', tz='Europe/Amsterdam')\n",
    "\n",
    "countries = ['AT', 'BE', 'CZ', 'DE_LU', 'FR', 'HR', 'HU', 'NL', 'PL', 'RO', 'SI', 'SK']\n",
    "\n",
    "gen_types = [\n",
    "    'Biomass', 'Fossil Brown coal/Lignite', 'Fossil Coal-derived gas', 'Fossil Gas', 'Fossil Hard coal', \n",
    "    'Fossil Oil', 'Fossil Oil shale', 'Fossil Peat', 'Geothermal', 'Hydro Pumped Storage', \n",
    "    'Hydro Run-of-river and poundage', 'Hydro Water Reservoir', 'Marine', 'Nuclear', 'Other',\n",
    "    'Other renewable', 'Solar', 'Waste', 'Wind Offshore', 'Wind Onshore'\n",
    "]\n",
    "\n",
    "standardized_gen_types = [\n",
    "    'biomass', 'brown_coal', 'coal_gas', 'natural_gas', 'hard_coal', 'oil', 'oil_shale', 'peat', 'geothermal', \n",
    "    'hydro_pumped_storage', 'hydro_run_of_river', 'hydro_reservoir', 'marine', 'nuclear', 'other', 'other_renewable',\n",
    "    'solar', 'waste', 'wind_offshore', 'wind_onshore'\n",
    "]"
   ]
  },
  {
   "cell_type": "code",
   "execution_count": 29,
   "id": "8570e7d2",
   "metadata": {},
   "outputs": [],
   "source": [
    "def query_generation_day_ahead(\n",
    "            country_code: Union[Area, str], start: pd.Timestamp,\n",
    "            end: pd.Timestamp):\n",
    "        \"\"\"\n",
    "        Parameters\n",
    "        ----------\n",
    "        country_code : Area|str\n",
    "        start : pd.Timestamp\n",
    "        end : pd.Timestamp\n",
    "        psr_type : str\n",
    "            filter on a single psr type\n",
    "        Returns\n",
    "        -------\n",
    "        str\n",
    "        \"\"\"\n",
    "        area = lookup_area(country_code)\n",
    "        params = {\n",
    "            'documentType': 'A75',\n",
    "            'processType': 'A16',\n",
    "            'in_Domain': area.code,\n",
    "        }\n",
    "        response = client._base_request(params=params, start=start, end=end)\n",
    "        print(response.text)\n",
    "        df = parse_generation(response.text, nett=False)\n",
    "        df = df.tz_convert(area.tz)\n",
    "        df = df.truncate(before=start, after=end)\n",
    "        return df"
   ]
  },
  {
   "cell_type": "code",
   "execution_count": 7,
   "id": "1097602c",
   "metadata": {},
   "outputs": [],
   "source": [
    "def standardize_generation_data(df_gen):\n",
    "    for gen_type in gen_types:\n",
    "        if gen_type not in df_gen:\n",
    "            df_gen[gen_type] = 0.0\n",
    "\n",
    "    for gen_type in gen_types:\n",
    "        if (gen_type, 'Actual Consumption') in df_gen:\n",
    "            df_gen = df_gen.drop(columns=[(gen_type, 'Actual Consumption')], axis=1)\n",
    "\n",
    "    df_gen = df_gen[gen_types]\n",
    "    df_gen.columns = standardized_gen_types\n",
    "\n",
    "    df_gen = df_gen.tz_localize(None)\n",
    "\n",
    "    df_gen = df_gen.resample(\"H\").agg([\"mean\"])\n",
    "    df_gen.columns = standardized_gen_types\n",
    "    \n",
    "    return df_gen"
   ]
  },
  {
   "cell_type": "code",
   "execution_count": 9,
   "id": "5a66f92c",
   "metadata": {},
   "outputs": [
    {
     "name": "stdout",
     "output_type": "stream",
     "text": [
      "AT\n",
      "BE\n",
      "CZ\n",
      "DE_LU\n",
      "FR\n",
      "HR\n",
      "HU\n",
      "NL\n",
      "PL\n",
      "RO\n",
      "SI\n",
      "SK\n"
     ]
    }
   ],
   "source": [
    "with pd.ExcelWriter(\"generation.xlsx\") as writer:  \n",
    "    for country_code in countries:\n",
    "        df_gen = client.query_generation(country_code, start=start,end=end)\n",
    "        print(country_code)\n",
    "\n",
    "        df_gen = standardize_generation_data(df_gen)    \n",
    "        df_gen.to_excel(writer, sheet_name=country_code) "
   ]
  },
  {
   "cell_type": "code",
   "execution_count": null,
   "id": "5b95628b",
   "metadata": {},
   "outputs": [],
   "source": [
    "df_gen = query_generation_day_ahead('NL', start=start,end=end)\n",
    "display(df_gen)"
   ]
  },
  {
   "cell_type": "code",
   "execution_count": null,
   "id": "2299eace",
   "metadata": {},
   "outputs": [],
   "source": []
  }
 ],
 "metadata": {
  "kernelspec": {
   "display_name": "fbmc_env",
   "language": "python",
   "name": "fbmc_env"
  },
  "language_info": {
   "codemirror_mode": {
    "name": "ipython",
    "version": 3
   },
   "file_extension": ".py",
   "mimetype": "text/x-python",
   "name": "python",
   "nbconvert_exporter": "python",
   "pygments_lexer": "ipython3",
   "version": "3.9.13"
  }
 },
 "nbformat": 4,
 "nbformat_minor": 5
}

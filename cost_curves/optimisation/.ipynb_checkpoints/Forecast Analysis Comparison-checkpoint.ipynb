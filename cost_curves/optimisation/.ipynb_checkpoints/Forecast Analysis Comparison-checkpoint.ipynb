{
 "cells": [
  {
   "cell_type": "code",
   "execution_count": 27,
   "id": "c615e9a4",
   "metadata": {},
   "outputs": [],
   "source": [
    "import pandas as pd\n",
    "from matplotlib import pyplot as plt\n",
    "\n",
    "countries = ['AT', 'BE', 'CZ', 'DE_LU', 'FR', 'HR', 'HU', 'NL', 'PL', 'RO', 'SI', 'SK']\n",
    "\n",
    "pd.set_option('display.max_rows', 20)"
   ]
  },
  {
   "cell_type": "code",
   "execution_count": 11,
   "id": "7f069f14",
   "metadata": {},
   "outputs": [],
   "source": [
    "df_observed = pd.read_excel(\"./data/validation/day_ahead_prices.xlsx\", index_col=0)\n",
    "df_observed_non_fbmc = pd.read_excel(\"./data/validation/day_ahead_prices_non_fbmc.xlsx\", index_col=0)\n",
    "df_observed = df_observed.drop(columns=['ALBE', 'ALDE'])\n",
    "df_observed = df_observed[0:24*56]\n",
    "\n",
    "df_observed_november = df_observed.iloc[0:24*29]\n",
    "df_observed_february = df_observed.iloc[24*30:24*56]\n",
    "\n",
    "df_forecast = pd.read_excel(\"price_forecast_weighted_no_sd.xlsx\")\n",
    "df_forecast_november = df_forecast.iloc[0:24*29]\n",
    "df_forecast_february = df_forecast.iloc[24*30:24*56]\n",
    "\n",
    "df_volue_nov = pd.DataFrame()\n",
    "df_volue_nov.index = df_forecast_november.index"
   ]
  },
  {
   "cell_type": "code",
   "execution_count": 26,
   "id": "cce1fc87",
   "metadata": {},
   "outputs": [],
   "source": [
    "df_volue_de_nov_raw = pd.read_excel('./data/volue/de_nov.xlsx', skiprows=3, index_col=0)\n",
    "df_volue_de_nov_raw.index = pd.to_datetime(df_volue_de_nov_raw.index)\n",
    "df_volue_nov['DE'] = df_volue_de_nov_raw['ECMonthly 31.10']"
   ]
  },
  {
   "cell_type": "code",
   "execution_count": null,
   "id": "52890168",
   "metadata": {},
   "outputs": [],
   "source": [
    "plt.figure(figsize=(15,6))\n",
    "    ax = df_observed.iloc[0:24*29][zone].plot()\n",
    "ax)\n",
    "    df_forecast5.iloc[0:24*29][zone].plot(ax=ax)\n",
    "    df_forecast6.iloc[0:24*29][zone].plot(ax=ax)\n",
    "    plt.title(\"{0} day-ahead market prices in November, 2022 (w/o NP obs)\".format(zone))\n",
    "    plt.ylabel('Price [€]')\n",
    "    plt.xlabel('Time [day] (hourly resolution)')\n",
    "    ax.legend(['observed', 'forecast with outages', 'forecast without outages', 'forecast with fuel-dep alpha', 'forecast objective weighted', 'forecast objective weighted weak duality', 'forecast with e/i'])\n",
    "    plt.show()"
   ]
  }
 ],
 "metadata": {
  "kernelspec": {
   "display_name": "fbmc_env",
   "language": "python",
   "name": "fbmc_env"
  },
  "language_info": {
   "codemirror_mode": {
    "name": "ipython",
    "version": 3
   },
   "file_extension": ".py",
   "mimetype": "text/x-python",
   "name": "python",
   "nbconvert_exporter": "python",
   "pygments_lexer": "ipython3",
   "version": "3.10.5"
  }
 },
 "nbformat": 4,
 "nbformat_minor": 5
}

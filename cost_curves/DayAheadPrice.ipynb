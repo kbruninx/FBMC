{
 "cells": [
  {
   "cell_type": "code",
   "execution_count": 1,
   "id": "f114490d",
   "metadata": {},
   "outputs": [],
   "source": [
    "from entsoe import EntsoePandasClient\n",
    "import pandas as pd\n",
    "import matplotlib.pyplot as plt\n",
    "\n",
    "client = EntsoePandasClient(api_key=\"b18dfce9-f1e3-4d07-822f-4abd1438e602\")"
   ]
  },
  {
   "cell_type": "code",
   "execution_count": 2,
   "id": "92109755",
   "metadata": {},
   "outputs": [],
   "source": [
    "start = pd.Timestamp('20230101', tz='Europe/Amsterdam')\n",
    "end = pd.Timestamp('20230331', tz='Europe/Amsterdam')\n",
    "\n",
    "countries = ['AT', 'BE', 'CZ', 'DE_LU', 'FR', 'HR', 'HU', 'NL', 'PL', 'RO', 'SI', 'SK']"
   ]
  },
  {
   "cell_type": "code",
   "execution_count": 3,
   "id": "b18c71e4",
   "metadata": {},
   "outputs": [
    {
     "name": "stdout",
     "output_type": "stream",
     "text": [
      "AT\n",
      "BE\n",
      "CZ\n",
      "DE_LU\n",
      "FR\n",
      "HR\n",
      "HU\n",
      "NL\n",
      "PL\n",
      "RO\n",
      "SI\n",
      "SK\n"
     ]
    }
   ],
   "source": [
    "df_da_prices = pd.DataFrame()\n",
    "for country_code in countries:\n",
    "    df_da = client.query_day_ahead_prices(country_code, start=start, end=end)\n",
    "    print(country_code)\n",
    "    \n",
    "    df_da = df_da.to_frame()\n",
    "    df_da = df_da.rename(columns={\n",
    "        0: country_code, \n",
    "    })\n",
    "\n",
    "    df_da = df_da.tz_localize(None)\n",
    "    df_da = df_da.resample(\"H\").agg([\"mean\"])\n",
    "    df_da.columns = [country_code]\n",
    "    \n",
    "    if df_da_prices.empty:\n",
    "        df_da_prices = df_da.copy()\n",
    "    else:\n",
    "        df_da_prices[country_code] = df_da[country_code]\n",
    "        \n",
    "\n",
    "df_da_prices.to_excel(\"./optimisation/data/day_ahead_prices.xlsx\")"
   ]
  }
 ],
 "metadata": {
  "kernelspec": {
   "display_name": "fbmc_env",
   "language": "python",
   "name": "fbmc_env"
  },
  "language_info": {
   "codemirror_mode": {
    "name": "ipython",
    "version": 3
   },
   "file_extension": ".py",
   "mimetype": "text/x-python",
   "name": "python",
   "nbconvert_exporter": "python",
   "pygments_lexer": "ipython3",
   "version": "3.9.13"
  }
 },
 "nbformat": 4,
 "nbformat_minor": 5
}

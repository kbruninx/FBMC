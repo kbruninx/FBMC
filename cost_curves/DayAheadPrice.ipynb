{
 "cells": [
  {
   "cell_type": "code",
   "execution_count": 1,
   "id": "f114490d",
   "metadata": {},
   "outputs": [],
   "source": [
    "from entsoe import EntsoePandasClient\n",
    "import pandas as pd\n",
    "import matplotlib.pyplot as plt\n",
    "\n",
    "client = EntsoePandasClient(api_key=\"b18dfce9-f1e3-4d07-822f-4abd1438e602\")"
   ]
  },
  {
   "cell_type": "code",
   "execution_count": 2,
   "id": "92109755",
   "metadata": {},
   "outputs": [],
   "source": [
    "start = pd.Timestamp('20220901', tz='Europe/Amsterdam')\n",
    "end = pd.Timestamp('20230228', tz='Europe/Amsterdam')\n",
    "\n",
    "countries = ['AT', 'BE', 'CZ', 'DE_LU', 'FR', 'HR', 'HU', 'NL', 'PL', 'RO', 'SI', 'SK']\n",
    "non_fbmc_countries = ['DK_1', 'ES', 'IT_NORD', 'BG']"
   ]
  },
  {
   "cell_type": "code",
   "execution_count": 3,
   "id": "b18c71e4",
   "metadata": {},
   "outputs": [
    {
     "name": "stdout",
     "output_type": "stream",
     "text": [
      "AT\n",
      "BE\n",
      "CZ\n",
      "DE_LU\n",
      "FR\n",
      "HR\n",
      "HU\n",
      "NL\n",
      "PL\n",
      "RO\n",
      "SI\n",
      "SK\n"
     ]
    }
   ],
   "source": [
    "df_da_prices = pd.DataFrame()\n",
    "for country_code in countries:\n",
    "    df_da = client.query_day_ahead_prices(country_code, start=start, end=end)\n",
    "    print(country_code)\n",
    "    \n",
    "    df_da = df_da.to_frame()\n",
    "    df_da = df_da.rename(columns={\n",
    "        0: country_code, \n",
    "    })\n",
    "\n",
    "    df_da = df_da.tz_localize(None)\n",
    "    df_da = df_da.resample(\"H\").agg([\"mean\"])\n",
    "    df_da.columns = [country_code]\n",
    "    \n",
    "    if df_da_prices.empty:\n",
    "        df_da_prices = df_da.copy()\n",
    "    else:\n",
    "        df_da_prices[country_code] = df_da[country_code]\n",
    "        \n",
    "\n",
    "df_da_prices.to_excel(\"day_ahead_prices.xlsx\")"
   ]
  },
  {
   "cell_type": "code",
   "execution_count": 4,
   "id": "a8d4243b",
   "metadata": {},
   "outputs": [
    {
     "name": "stdout",
     "output_type": "stream",
     "text": [
      "DK_1\n",
      "ES\n",
      "IT_NORD\n",
      "BG\n"
     ]
    }
   ],
   "source": [
    "df_da_prices_non_fbmc = pd.DataFrame()\n",
    "for country_code in non_fbmc_countries:\n",
    "    df_da = client.query_day_ahead_prices(country_code, start=start, end=end)\n",
    "    print(country_code)\n",
    "    \n",
    "    df_da = df_da.to_frame()\n",
    "    df_da = df_da.rename(columns={\n",
    "        0: country_code, \n",
    "    })\n",
    "\n",
    "    df_da = df_da.tz_localize(None)\n",
    "    df_da = df_da.resample(\"H\").agg([\"mean\"])\n",
    "    df_da.columns = [country_code]\n",
    "    \n",
    "    if df_da_prices_non_fbmc.empty:\n",
    "        df_da_prices_non_fbmc = df_da.copy()\n",
    "    else:\n",
    "        df_da_prices_non_fbmc[country_code] = df_da[country_code]\n",
    "\n",
    "df_da_prices_non_fbmc = df_da_prices_non_fbmc.rename(columns={\n",
    "    'DK_1': 'DK1',\n",
    "    'IT_NORD': 'IT'\n",
    "})\n",
    "df_da_prices_non_fbmc.to_excel(\"day_ahead_prices_non_fbmc.xlsx\")"
   ]
  },
  {
   "cell_type": "code",
   "execution_count": null,
   "id": "7401f01f",
   "metadata": {},
   "outputs": [],
   "source": []
  }
 ],
 "metadata": {
  "kernelspec": {
   "display_name": "fbmc_env",
   "language": "python",
   "name": "fbmc_env"
  },
  "language_info": {
   "codemirror_mode": {
    "name": "ipython",
    "version": 3
   },
   "file_extension": ".py",
   "mimetype": "text/x-python",
   "name": "python",
   "nbconvert_exporter": "python",
   "pygments_lexer": "ipython3",
   "version": "3.10.5"
  }
 },
 "nbformat": 4,
 "nbformat_minor": 5
}

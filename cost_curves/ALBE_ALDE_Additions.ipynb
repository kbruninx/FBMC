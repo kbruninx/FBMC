{
 "cells": [
  {
   "cell_type": "code",
   "execution_count": 1,
   "id": "5c65d868",
   "metadata": {},
   "outputs": [],
   "source": [
    "import pandas as pd\n",
    "import numpy as np\n",
    "\n",
    "countries = ['AT', 'BE', 'CZ', 'DE_LU', 'FR', 'HR', 'HU', 'NL', 'PL', 'RO', 'SI', 'SK']\n",
    "hubs = ['ALBE', 'ALDE', 'AT', 'BE', 'CZ', 'DE_LU', 'FR', 'HR', 'HU', 'NL', 'PL', 'RO', 'SI', 'SK']"
   ]
  },
  {
   "cell_type": "code",
   "execution_count": 2,
   "id": "46d4f9e7",
   "metadata": {},
   "outputs": [],
   "source": [
    "df_da_prices = pd.read_excel(\"./for_io/day_ahead_prices.xlsx\", index_col=0)\n",
    "df_demand = pd.read_excel(\"./for_io/demand.xlsx\", index_col=0)"
   ]
  },
  {
   "cell_type": "code",
   "execution_count": 3,
   "id": "5b755c6f",
   "metadata": {},
   "outputs": [],
   "source": [
    "# Adding ALBE and ALDE columns to the dataset\n",
    "\n",
    "df_da_prices['ALBE'] = df_da_prices['BE']\n",
    "df_da_prices['ALDE'] = df_da_prices['DE_LU']\n",
    "df_da_prices = df_da_prices[hubs]\n",
    "\n",
    "df_demand['ALBE'] = 0\n",
    "df_demand['ALDE'] = 0\n",
    "df_demand = df_demand[hubs]"
   ]
  },
  {
   "cell_type": "code",
   "execution_count": 5,
   "id": "c403bf4e",
   "metadata": {},
   "outputs": [],
   "source": [
    "df_demand.to_excel(\"./optimisation/data/demand.xlsx\")\n",
    "df_da_prices.to_excel(\"./optimisation/data/day_ahead_prices.xlsx\")"
   ]
  },
  {
   "cell_type": "code",
   "execution_count": null,
   "id": "6ad02fa8",
   "metadata": {},
   "outputs": [],
   "source": []
  }
 ],
 "metadata": {
  "kernelspec": {
   "display_name": "fbmc_env",
   "language": "python",
   "name": "fbmc_env"
  },
  "language_info": {
   "codemirror_mode": {
    "name": "ipython",
    "version": 3
   },
   "file_extension": ".py",
   "mimetype": "text/x-python",
   "name": "python",
   "nbconvert_exporter": "python",
   "pygments_lexer": "ipython3",
   "version": "3.10.5"
  }
 },
 "nbformat": 4,
 "nbformat_minor": 5
}

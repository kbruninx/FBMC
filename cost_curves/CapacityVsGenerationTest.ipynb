{
 "cells": [
  {
   "cell_type": "code",
   "execution_count": 19,
   "id": "4e54f314",
   "metadata": {},
   "outputs": [],
   "source": [
    "import pandas as pd\n",
    "import math\n",
    "\n",
    "reduced_gen_types = [\n",
    "    'biomass', 'brown_coal', 'coal_gas', 'natural_gas', 'hard_coal', 'oil', 'hydro', \n",
    "    'nuclear', 'waste', 'other', 'solar', 'wind_onshore', 'wind_offshore', 'other_renewable'\n",
    "]\n",
    "\n",
    "hubs = ['ALBE', 'ALDE', 'AT', 'BE', 'CZ', 'DE_LU', 'FR', 'HR', 'HU', 'NL', 'PL', 'RO', 'SI', 'SK']\n",
    "countries = ['AT', 'BE', 'CZ', 'DE_LU', 'FR', 'HR', 'HU', 'NL', 'PL', 'RO', 'SI', 'SK']"
   ]
  },
  {
   "cell_type": "code",
   "execution_count": 20,
   "id": "fae480ef",
   "metadata": {},
   "outputs": [],
   "source": [
    "df_capacities = pd.read_excel(\"./optimisation/data/installed_capacities.xlsx\", index_col=0)\n",
    "df_gen = pd.read_excel(\"./optimisation/data/training/generation.xlsx\", index_col=0)"
   ]
  },
  {
   "cell_type": "code",
   "execution_count": 21,
   "id": "855367ea",
   "metadata": {},
   "outputs": [
    {
     "name": "stdout",
     "output_type": "stream",
     "text": [
      "BE ,  other , max:  19 , gen:  2049\n",
      "CZ ,  natural_gas , max:  1240 , gen:  1279\n",
      "CZ ,  oil , max:  0 , gen:  35\n",
      "CZ ,  other , max:  0 , gen:  123\n",
      "DE_LU ,  nuclear , max:  4056 , gen:  4091\n",
      "FR ,  hard_coal , max:  1816 , gen:  1840\n",
      "HR ,  waste , max:  6 , gen:  9\n",
      "HU ,  hard_coal , max:  42 , gen:  43\n",
      "HU ,  nuclear , max:  1916 , gen:  1960\n",
      "HU ,  other , max:  0 , gen:  96\n",
      "NL ,  nuclear , max:  486 , gen:  490\n",
      "NL ,  other , max:  1 , gen:  5100\n",
      "PL ,  solar , max:  6664 , gen:  6711\n",
      "RO ,  nuclear , max:  1300 , gen:  1420\n",
      "SI ,  oil , max:  58 , gen:  60\n",
      "SI ,  nuclear , max:  696 , gen:  702\n",
      "SI ,  wind_onshore , max:  2 , gen:  3\n",
      "SK ,  hard_coal , max:  1 , gen:  165\n",
      "SK ,  nuclear , max:  2003 , gen:  2009\n"
     ]
    }
   ],
   "source": [
    "for zone in countries:\n",
    "    for gen_type in reduced_gen_types:\n",
    "        df_gen = pd.read_excel(\"./optimisation/data/training/generation.xlsx\", sheet_name=zone, index_col=0)\n",
    "        if not df_gen[df_gen[gen_type] > df_capacities[zone].loc[gen_type]].empty:\n",
    "            df_excess_gen = df_gen[df_gen[gen_type] > df_capacities[zone].loc[gen_type]]\n",
    "            print(zone, ', ', gen_type, ', max: ', df_capacities[zone].loc[gen_type], ', gen: ', math.ceil(df_excess_gen[gen_type].max()))\n",
    "            df_capacities.loc[gen_type, zone] = math.ceil(df_excess_gen[gen_type].max())\n",
    "                "
   ]
  },
  {
   "cell_type": "code",
   "execution_count": 22,
   "id": "9c4826c7",
   "metadata": {},
   "outputs": [],
   "source": [
    "df_capacities.to_excel(\"./optimisation/data/installed_capacities_corrected.xlsx\")"
   ]
  },
  {
   "cell_type": "code",
   "execution_count": null,
   "id": "aab0e8e3",
   "metadata": {},
   "outputs": [],
   "source": []
  }
 ],
 "metadata": {
  "kernelspec": {
   "display_name": "fbmc_env",
   "language": "python",
   "name": "fbmc_env"
  },
  "language_info": {
   "codemirror_mode": {
    "name": "ipython",
    "version": 3
   },
   "file_extension": ".py",
   "mimetype": "text/x-python",
   "name": "python",
   "nbconvert_exporter": "python",
   "pygments_lexer": "ipython3",
   "version": "3.10.5"
  }
 },
 "nbformat": 4,
 "nbformat_minor": 5
}

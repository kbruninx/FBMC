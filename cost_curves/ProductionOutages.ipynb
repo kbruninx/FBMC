{
 "cells": [
  {
   "cell_type": "code",
   "execution_count": 1,
   "id": "9d0a31a5",
   "metadata": {},
   "outputs": [],
   "source": [
    "from entsoe import EntsoePandasClient\n",
    "import pandas as pd\n",
    "import matplotlib.pyplot as plt\n",
    "import numpy as np\n",
    "\n",
    "client = EntsoePandasClient(api_key=\"b18dfce9-f1e3-4d07-822f-4abd1438e602\")"
   ]
  },
  {
   "cell_type": "code",
   "execution_count": 28,
   "id": "eff067db",
   "metadata": {},
   "outputs": [],
   "source": [
    "start = pd.Timestamp('20220901', tz='Europe/Amsterdam')\n",
    "end = pd.Timestamp('20230228', tz='Europe/Amsterdam')\n",
    "\n",
    "countries = ['AT', 'BE', 'CZ', 'DE_LU', 'FR', 'HR', 'HU', 'NL', 'PL', 'RO', 'SI', 'SK']\n",
    "\n",
    "gen_types = [\n",
    "    'Biomass', 'Fossil Brown coal/Lignite', 'Fossil Coal-derived gas', 'Fossil Gas', 'Fossil Hard coal', \n",
    "    'Fossil Oil', 'Fossil Oil shale', 'Fossil Peat', 'Geothermal', 'Hydro Pumped Storage', \n",
    "    'Hydro Run-of-river and poundage', 'Hydro Water Reservoir', 'Marine', 'Nuclear', 'Other',\n",
    "    'Other renewable', 'Solar', 'Waste', 'Wind Offshore', 'Wind Onshore'\n",
    "]\n",
    "\n",
    "standardized_gen_types = [\n",
    "    'biomass', 'brown_coal', 'coal_gas', 'natural_gas', 'hard_coal', 'oil', 'oil_shale', 'peat', 'geothermal', \n",
    "    'hydro_pumped_storage', 'hydro_run_of_river', 'hydro_reservoir', 'marine', 'nuclear', 'other', 'other_renewable',\n",
    "    'solar', 'waste', 'wind_offshore', 'wind_onshore'\n",
    "]\n",
    "\n",
    "reduced_gen_types = [\n",
    "    'biomass', 'brown_coal', 'coal_gas', 'natural_gas', 'hard_coal', 'oil', 'hydro', \n",
    "    'nuclear', 'waste', 'other', 'solar', 'wind_onshore', 'wind_offshore', 'other_renewable'\n",
    "]"
   ]
  },
  {
   "cell_type": "code",
   "execution_count": 16,
   "id": "3099415e",
   "metadata": {},
   "outputs": [],
   "source": [
    "df_gen = pd.read_excel('./generation.xlsx', sheet_name='AT', index_col=0)"
   ]
  },
  {
   "cell_type": "code",
   "execution_count": 25,
   "id": "cba13227",
   "metadata": {
    "scrolled": false
   },
   "outputs": [
    {
     "name": "stdout",
     "output_type": "stream",
     "text": [
      "FR\n"
     ]
    }
   ],
   "source": [
    "with pd.ExcelWriter(\"generation_outages.xlsx\") as writer:\n",
    "    for country_code in countries:\n",
    "        print(country_code)\n",
    "        \n",
    "        try:\n",
    "            df_out_gen = client.query_unavailability_of_generation_units(country_code, start=start, end=end)\n",
    "            df_out_gen = df_out_gen.tz_localize(None)\n",
    "            df_out_gen['end'] = df_out_gen['end'].dt.tz_localize(None)\n",
    "            df_out_gen['start'] = df_out_gen['start'].dt.tz_localize(None)\n",
    "\n",
    "            df_outages_zone = pd.DataFrame()\n",
    "\n",
    "            for gen_date in df_gen.index:\n",
    "                df_out_gen_test = df_out_gen[(df_out_gen.start <= gen_date) & (df_out_gen.end >= gen_date) & (df_out_gen.docstatus != 'Cancelled')]\n",
    "\n",
    "                for gen_type in standardized_gen_types:\n",
    "                        df_outages_zone.loc[gen_date, gen_type] = 0\n",
    "\n",
    "                for index, row in df_out_gen_test.iterrows():\n",
    "                    df_outages_zone.loc[gen_date, standardized_gen_types[gen_types.index(row['plant_type'])]] += float(row['nominal_power']) - float(row['avail_qty'])\n",
    "                    df_outages_zone.loc[gen_date, 'hydro'] = df_outages_zone.loc[gen_date, 'hydro_pumped_storage'] + df_outages_zone.loc[gen_date, 'hydro_run_of_river'] + df_outages_zone.loc[gen_date, 'hydro_reservoir']\n",
    "\n",
    "            df_outages_zone = df_outages_zone[reduced_gen_types]\n",
    "            df_outages_zone.to_excel(writer, sheet_name=country_code)\n",
    "        except:\n",
    "            print(\"An exception occurred\")\n",
    "            df_outages_zone = pd.DataFrame()\n",
    "            for gen_date in df_gen.index:\n",
    "                for gen_type in reduced_gen_types:\n",
    "                    df_outages_zone.loc[gen_date, gen_type] = 0\n",
    "            df_outages_zone.to_excel(writer, sheet_name=country_code)\n",
    "            "
   ]
  },
  {
   "cell_type": "code",
   "execution_count": 26,
   "id": "76c18b77",
   "metadata": {},
   "outputs": [],
   "source": [
    "start_autumn_train = np.datetime64(\"2022-09-01\")\n",
    "end_autumn_train = np.datetime64(\"2022-10-31\")\n",
    "\n",
    "start_autumn_test = np.datetime64(\"2022-11-01\")\n",
    "end_autumn_test = np.datetime64(\"2022-11-30\")\n",
    "\n",
    "start_winter_train = np.datetime64(\"2022-12-01\")\n",
    "end_winter_train = np.datetime64(\"2023-01-31\")\n",
    "\n",
    "start_winter_test = np.datetime64(\"2023-02-01\")\n",
    "end_winter_test = np.datetime64(\"2023-02-28\")\n",
    "\n",
    "def training_mask(df):\n",
    "    return ((df.index >= start_autumn_train) & (df.index <= end_autumn_train)) | ((df.index >= start_winter_train) & (df.index <= end_winter_train))\n",
    "\n",
    "def validation_mask(df):\n",
    "    return ((df.index >= start_autumn_test) & (df.index <= end_autumn_test)) | ((df.index >= start_winter_test) & (df.index <= end_winter_test))\n"
   ]
  },
  {
   "cell_type": "code",
   "execution_count": 29,
   "id": "85ee81cd",
   "metadata": {},
   "outputs": [
    {
     "name": "stdout",
     "output_type": "stream",
     "text": [
      "Training set,  AT\n",
      "Training set,  BE\n",
      "Training set,  CZ\n",
      "Training set,  DE_LU\n",
      "Training set,  FR\n",
      "Training set,  HR\n",
      "Training set,  HU\n",
      "Training set,  NL\n",
      "Training set,  PL\n",
      "Training set,  RO\n",
      "Training set,  SI\n",
      "Training set,  SK\n",
      "Validation set,  AT\n",
      "Validation set,  BE\n",
      "Validation set,  CZ\n",
      "Validation set,  DE_LU\n",
      "Validation set,  FR\n",
      "Validation set,  HR\n",
      "Validation set,  HU\n",
      "Validation set,  NL\n",
      "Validation set,  PL\n",
      "Validation set,  RO\n",
      "Validation set,  SI\n",
      "Validation set,  SK\n"
     ]
    }
   ],
   "source": [
    "with pd.ExcelWriter(\"./optimisation/data/validation/generation_outages.xlsx\") as writer:  \n",
    "    for country_code in countries:\n",
    "        df_gen = pd.read_excel(\"./for_io/generation_outages.xlsx\", sheet_name=country_code, index_col=0)\n",
    "        \n",
    "        print('Training set, ', country_code)\n",
    "        df_gen_train = df_gen.loc[training_mask(df_gen)]\n",
    "\n",
    "        df_gen_train.to_excel(writer, sheet_name=country_code) \n",
    "        \n",
    "with pd.ExcelWriter(\"./optimisation/data/training/generation_outages.xlsx\") as writer:  \n",
    "    for country_code in countries:\n",
    "        df_gen = pd.read_excel(\"./for_io/generation_outages.xlsx\", sheet_name=country_code, index_col=0)\n",
    "        \n",
    "        print('Validation set, ', country_code)\n",
    "        df_gen_test = df_gen.loc[validation_mask(df_gen)]\n",
    "        \n",
    "        df_gen_test.to_excel(writer, sheet_name=country_code) "
   ]
  }
 ],
 "metadata": {
  "kernelspec": {
   "display_name": "fbmc_env",
   "language": "python",
   "name": "fbmc_env"
  },
  "language_info": {
   "codemirror_mode": {
    "name": "ipython",
    "version": 3
   },
   "file_extension": ".py",
   "mimetype": "text/x-python",
   "name": "python",
   "nbconvert_exporter": "python",
   "pygments_lexer": "ipython3",
   "version": "3.10.5"
  }
 },
 "nbformat": 4,
 "nbformat_minor": 5
}

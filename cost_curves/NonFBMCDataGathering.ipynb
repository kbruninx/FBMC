{
 "cells": [
  {
   "cell_type": "code",
   "execution_count": 1,
   "id": "5ca43e29",
   "metadata": {},
   "outputs": [],
   "source": [
    "from entsoe import EntsoePandasClient\n",
    "import pandas as pd\n",
    "import matplotlib.pyplot as plt\n",
    "\n",
    "client = EntsoePandasClient(api_key=\"b18dfce9-f1e3-4d07-822f-4abd1438e602\")"
   ]
  },
  {
   "cell_type": "code",
   "execution_count": 2,
   "id": "4d782111",
   "metadata": {},
   "outputs": [],
   "source": [
    "start = pd.Timestamp('20220901', tz='Europe/Amsterdam')\n",
    "end = pd.Timestamp('20230228', tz='Europe/Amsterdam')\n",
    "\n",
    "non_fbmc_countries = ['CH', 'GB', 'ES', 'IT_NORD', 'DK_1', 'NO_2']\n",
    "\n",
    "gen_types = [\n",
    "    'Biomass', 'Fossil Brown coal/Lignite', 'Fossil Coal-derived gas', 'Fossil Gas', 'Fossil Hard coal', \n",
    "    'Fossil Oil', 'Fossil Oil shale', 'Fossil Peat', 'Geothermal', 'Hydro Pumped Storage', \n",
    "    'Hydro Run-of-river and poundage', 'Hydro Water Reservoir', 'Marine', 'Nuclear', 'Other',\n",
    "    'Other renewable', 'Solar', 'Waste', 'Wind Offshore', 'Wind Onshore'\n",
    "]\n",
    "\n",
    "standardized_gen_types = [\n",
    "    'biomass', 'brown_coal', 'coal_gas', 'natural_gas', 'hard_coal', 'oil', 'oil_shale', 'peat', 'geothermal', \n",
    "    'hydro_pumped_storage', 'hydro_run_of_river', 'hydro_reservoir', 'marine', 'nuclear', 'other', 'other_renewable',\n",
    "    'solar', 'waste', 'wind_offshore', 'wind_onshore'\n",
    "]\n",
    "\n",
    "reduced_gen_types = [\n",
    "    'biomass', 'brown_coal', 'coal_gas', 'natural_gas', 'hard_coal', 'oil', 'hydro', \n",
    "    'nuclear', 'waste', 'other', 'solar', 'wind_onshore', 'wind_offshore', 'other_renewable'\n",
    "]"
   ]
  },
  {
   "cell_type": "code",
   "execution_count": 3,
   "id": "8b6d5bf2",
   "metadata": {},
   "outputs": [],
   "source": [
    "def standardize_generation_data(df_gen):\n",
    "    for gen_type in gen_types:\n",
    "        if gen_type not in df_gen:\n",
    "            df_gen[gen_type] = 0.0\n",
    "\n",
    "    for gen_type in gen_types:\n",
    "        if (gen_type, 'Actual Consumption') in df_gen:\n",
    "            df_gen = df_gen.drop(columns=[(gen_type, 'Actual Consumption')], axis=1)\n",
    "\n",
    "    df_gen = df_gen[gen_types]\n",
    "    df_gen.columns = standardized_gen_types\n",
    "\n",
    "    df_gen = df_gen.tz_localize(None)\n",
    "\n",
    "    df_gen = df_gen.resample(\"H\").agg([\"mean\"])\n",
    "    df_gen.columns = standardized_gen_types\n",
    "    \n",
    "    return df_gen"
   ]
  },
  {
   "cell_type": "code",
   "execution_count": 12,
   "id": "4af95697",
   "metadata": {},
   "outputs": [
    {
     "name": "stdout",
     "output_type": "stream",
     "text": [
      "CH\n",
      "ES\n",
      "IT_NORD\n",
      "DK_1\n",
      "NO_2\n"
     ]
    }
   ],
   "source": [
    "# DAY-AHEAD PRICES\n",
    "\n",
    "df_da_prices = pd.DataFrame()\n",
    "for country_code in [x for x in non_fbmc_countries if x != \"GB\"]:\n",
    "    df_da = client.query_day_ahead_prices(country_code, start=start, end=end)\n",
    "    print(country_code)\n",
    "    \n",
    "    df_da = df_da.to_frame()\n",
    "    df_da = df_da.rename(columns={\n",
    "        0: country_code, \n",
    "    })\n",
    "\n",
    "    df_da = df_da.tz_localize(None)\n",
    "    df_da = df_da.resample(\"H\").agg([\"mean\"])\n",
    "    df_da.columns = [country_code]\n",
    "    \n",
    "    if df_da_prices.empty:\n",
    "        df_da_prices = df_da.copy()\n",
    "    else:\n",
    "        df_da_prices[country_code] = df_da[country_code]\n",
    "\n",
    "df_da_prices.to_excel(\"./optimisation/data/day_ahead_prices_non_fbmc.xlsx\")"
   ]
  },
  {
   "cell_type": "code",
   "execution_count": 18,
   "id": "b674d814",
   "metadata": {},
   "outputs": [
    {
     "name": "stdout",
     "output_type": "stream",
     "text": [
      "CH\n",
      "ES\n",
      "IT_NORD\n",
      "DK_1\n",
      "NO_2\n"
     ]
    }
   ],
   "source": [
    "# DEMAND\n",
    "\n",
    "df_demand = pd.DataFrame()\n",
    "for country_code in [x for x in non_fbmc_countries if x != \"GB\"]: # NO GB\n",
    "    df_da = client.query_load_forecast(country_code, start=start, end=end)\n",
    "    print(country_code)\n",
    "    \n",
    "    df_da = df_da.rename(columns={\n",
    "        'Forecasted Load': country_code, \n",
    "    })\n",
    "    \n",
    "    df_da = df_da.tz_localize(None)\n",
    "    df_da = df_da.resample(\"H\").agg([\"mean\"])\n",
    "    df_da.columns = [country_code]\n",
    "    \n",
    "    if df_demand.empty:\n",
    "        df_demand = df_da.copy()\n",
    "    else:\n",
    "        df_demand[country_code] = df_da[country_code]\n",
    "        \n",
    "df_demand.to_excel(\"./optimisation/data/demand_non_fbmc.xlsx\")"
   ]
  },
  {
   "cell_type": "code",
   "execution_count": 20,
   "id": "7abed272",
   "metadata": {},
   "outputs": [
    {
     "name": "stdout",
     "output_type": "stream",
     "text": [
      "CH\n",
      "ES\n",
      "IT_NORD\n",
      "DK_1\n",
      "NO_2\n"
     ]
    }
   ],
   "source": [
    "# GENERATION\n",
    "\n",
    "with pd.ExcelWriter(\"./optimisation/data/generation_non_fbmc.xlsx\") as writer:  \n",
    "    for country_code in [x for x in non_fbmc_countries if x != \"GB\"]: # NO GB\n",
    "        df_gen = client.query_generation(country_code, start=start,end=end)\n",
    "        print(country_code)\n",
    "        \n",
    "        df_gen = standardize_generation_data(df_gen)\n",
    "        df_gen.loc[:, 'hydro'] = df_gen['hydro_pumped_storage'] + df_gen['hydro_run_of_river'] + df_gen['hydro_reservoir']\n",
    "        df_gen = df_gen[reduced_gen_types]\n",
    "   \n",
    "        df_gen.to_excel(writer, sheet_name=country_code) "
   ]
  },
  {
   "cell_type": "code",
   "execution_count": 22,
   "id": "004400cc",
   "metadata": {},
   "outputs": [
    {
     "name": "stdout",
     "output_type": "stream",
     "text": [
      "CH\n",
      "GB\n",
      "ES\n",
      "DK_1\n",
      "NO_2\n"
     ]
    }
   ],
   "source": [
    "# INSTALLED CAPACITIES\n",
    "\n",
    "start_inst = pd.Timestamp('20200101', tz='Europe/Amsterdam')\n",
    "end_inst = pd.Timestamp('20230101', tz='Europe/Amsterdam')\n",
    "\n",
    "df_capacities = pd.DataFrame()\n",
    "for country_code in [x for x in non_fbmc_countries if x != \"IT_NORD\"]: # NO IT_NORD\n",
    "    df_cap = client.query_installed_generation_capacity(country_code, start=start_inst, end=end_inst)\n",
    "    print(country_code)\n",
    "    \n",
    "    for gen_type in gen_types:\n",
    "        if gen_type not in df_cap:\n",
    "            df_cap[gen_type] = 0.0\n",
    "\n",
    "    df_cap = df_cap[gen_types]\n",
    "    df_cap.columns = standardized_gen_types\n",
    "    \n",
    "    df_cap = df_cap.iloc[-1].to_frame()\n",
    "    df_cap = df_cap.rename(columns={\n",
    "        df_cap.columns[0]: country_code\n",
    "    })\n",
    "    \n",
    "    if df_capacities.empty:\n",
    "        df_capacities = df_cap.copy()\n",
    "    else:\n",
    "        df_capacities[country_code] = df_cap[country_code]\n",
    "         \n",
    "df_capacities = df_capacities.drop([df_capacities.index[6], df_capacities.index[7], df_capacities.index[8], df_capacities.index[12]])\n",
    "df_capacities = df_capacities.rename(index={'hydro_pumped_storage': 'hydro'})\n",
    "    \n",
    "for column in df_capacities:\n",
    "    df_capacities.loc['hydro', column] = df_capacities.loc['hydro', column] + df_capacities.loc['hydro_run_of_river', column] + df_capacities.loc['hydro_reservoir', column]\n",
    "\n",
    "df_capacities = df_capacities.drop([df_capacities.index[7], df_capacities.index[8]])\n",
    "\n",
    "df_capacities = df_capacities.reindex(reduced_gen_types)\n",
    "\n",
    "df_capacities.to_excel(\"./optimisation/data/installed_capacities_non_fbmc.xlsx\")"
   ]
  },
  {
   "cell_type": "code",
   "execution_count": 23,
   "id": "cc6fcc29",
   "metadata": {},
   "outputs": [
    {
     "name": "stdout",
     "output_type": "stream",
     "text": [
      "CH\n",
      "GB\n",
      "ES\n",
      "IT_NORD\n",
      "DK_1\n",
      "NO_2\n"
     ]
    }
   ],
   "source": [
    "# GENERATION OUTAGES\n",
    "\n",
    "with pd.ExcelWriter(\"./optimisation/data/generation_outages_non_fbmc.xlsx\") as writer:\n",
    "    for country_code in non_fbmc_countries:\n",
    "        print(country_code)\n",
    "        \n",
    "        try:\n",
    "            df_out_gen = client.query_unavailability_of_generation_units(country_code, start=start, end=end)\n",
    "            df_out_gen = df_out_gen.tz_localize(None)\n",
    "            df_out_gen['end'] = df_out_gen['end'].dt.tz_localize(None)\n",
    "            df_out_gen['start'] = df_out_gen['start'].dt.tz_localize(None)\n",
    "\n",
    "            df_outages_zone = pd.DataFrame()\n",
    "\n",
    "            for gen_date in df_gen.index:\n",
    "                df_out_gen_test = df_out_gen[(df_out_gen.start <= gen_date) & (df_out_gen.end >= gen_date) & (df_out_gen.docstatus != 'Cancelled')]\n",
    "\n",
    "                for gen_type in standardized_gen_types:\n",
    "                        df_outages_zone.loc[gen_date, gen_type] = 0\n",
    "\n",
    "                for index, row in df_out_gen_test.iterrows():\n",
    "                    df_outages_zone.loc[gen_date, standardized_gen_types[gen_types.index(row['plant_type'])]] += float(row['nominal_power']) - float(row['avail_qty'])\n",
    "                    df_outages_zone.loc[gen_date, 'hydro'] = df_outages_zone.loc[gen_date, 'hydro_pumped_storage'] + df_outages_zone.loc[gen_date, 'hydro_run_of_river'] + df_outages_zone.loc[gen_date, 'hydro_reservoir']\n",
    "\n",
    "            df_outages_zone = df_outages_zone[reduced_gen_types]\n",
    "            df_outages_zone.to_excel(writer, sheet_name=country_code)\n",
    "        except:\n",
    "            print(\"An exception occurred\")\n",
    "            df_outages_zone = pd.DataFrame()\n",
    "            for gen_date in df_gen.index:\n",
    "                for gen_type in reduced_gen_types:\n",
    "                    df_outages_zone.loc[gen_date, gen_type] = 0\n",
    "            df_outages_zone.to_excel(writer, sheet_name=country_code)"
   ]
  },
  {
   "cell_type": "code",
   "execution_count": 26,
   "id": "c1a40a3e",
   "metadata": {},
   "outputs": [
    {
     "name": "stdout",
     "output_type": "stream",
     "text": [
      "CH\n",
      "ES\n",
      "IT_NORD\n",
      "DK_1\n",
      "NO_2\n"
     ]
    }
   ],
   "source": [
    "# RENEWABLE GENERATION FORECAST\n",
    "\n",
    "df_ren_gen = pd.DataFrame()\n",
    "\n",
    "for country_code in [x for x in non_fbmc_countries if x != \"GB\"]: # NO GB\n",
    "    df_gen = client.query_wind_and_solar_forecast(country_code, start=start,end=end)\n",
    "    print(country_code)\n",
    "    \n",
    "    if 'Solar' not in df_gen:\n",
    "        df_gen['Solar'] = 0\n",
    "    if 'Wind Onshore' not in df_gen:\n",
    "        df_gen['Wind Onshore'] = 0\n",
    "    if 'Wind Offshore' not in df_gen:\n",
    "        df_gen['Wind Offshore'] = 0\n",
    "\n",
    "    df_gen = df_gen.tz_localize(None)\n",
    "    df_gen = df_gen.resample(\"H\").agg([\"mean\"])\n",
    "\n",
    "    df_ren_gen[country_code] = df_gen['Solar'] + df_gen['Wind Onshore'] + df_gen['Wind Offshore']\n",
    "    \n",
    "df_ren_gen.to_excel(\"./optimisation/data/renewable_generation_non_fbmc.xlsx\")"
   ]
  },
  {
   "cell_type": "code",
   "execution_count": 9,
   "id": "4a1e008e",
   "metadata": {},
   "outputs": [],
   "source": [
    "# UK: DAY-AHEAD PRICES\n",
    "df_da_prices = pd.read_excel(\"./optimisation/data/day_ahead_prices_non_fbmc.xlsx\", index_col=0)\n",
    "\n",
    "df_uk_settlements = pd.read_excel(\"./uk_settlements.xlsx\", index_col=0)\n",
    "df_uk_settlements = df_uk_settlements[[\"EPEX UK EUR\"]]\n",
    "df_uk_settlements = df_uk_settlements.tz_localize(None)\n",
    "df_uk_settlements = df_uk_settlements.resample(\"H\").agg([\"mean\"])\n",
    "df_uk_settlements.columns = ['epex']\n",
    "\n",
    "df_da_prices['GB'] = df_uk_settlements['epex']\n",
    "df_da_prices = df_da_prices[non_fbmc_countries]\n",
    "\n",
    "df_da_prices.to_excel(\"./optimisation/data/day_ahead_prices_non_fbmc.xlsx\")"
   ]
  },
  {
   "cell_type": "code",
   "execution_count": 28,
   "id": "496d1df3",
   "metadata": {},
   "outputs": [],
   "source": [
    "# UK: DEMAND\n",
    "\n",
    "df_demand = pd.read_excel(\"./optimisation/data/demand_non_fbmc.xlsx\", index_col=0)\n",
    "\n",
    "df_uk_gridwatch = pd.read_csv(\"./uk_gridwatch.csv\", index_col=1)\n",
    "df_uk_gridwatch.index = pd.to_datetime(df_uk_gridwatch.index)\n",
    "df_uk_gridwatch = df_uk_gridwatch[[\n",
    "    ' demand', ' coal', ' nuclear', ' ccgt', ' pumped', ' hydro', ' biomass', ' oil', ' ocgt', ' wind', ' solar' \n",
    "]]\n",
    "df_uk_gridwatch = df_uk_gridwatch.tz_localize(None)\n",
    "df_uk_gridwatch = df_uk_gridwatch.resample(\"H\").agg([\"mean\"])\n",
    "df_uk_gridwatch.columns = [\n",
    "    'demand', 'coal', 'nuclear', 'ccgt', 'pumped', 'hydro', 'biomass', 'oil', 'ocgt', 'wind', 'solar'  \n",
    "]\n",
    "\n",
    "df_demand['GB'] = df_uk_gridwatch['demand']\n",
    "df_demand = df_demand[non_fbmc_countries]\n",
    "df_demand.to_excel(\"./optimisation/data/demand_non_fbmc.xlsx\")"
   ]
  },
  {
   "cell_type": "code",
   "execution_count": 33,
   "id": "609aa921",
   "metadata": {},
   "outputs": [],
   "source": [
    "# UK: GENERATION\n",
    "\n",
    "df_gen = pd.read_excel(\"./optimisation/data/generation_non_fbmc.xlsx\", sheet_name='CH', index_col=0)\n",
    "df_gen_uk = pd.DataFrame()\n",
    "df_gen_uk.index = df_gen.index\n",
    "\n",
    "df_gen_uk['biomass'] = df_uk_gridwatch['biomass']\n",
    "df_gen_uk['brown_coal'] = 0\n",
    "df_gen_uk['coal_gas'] = 0\n",
    "df_gen_uk['natural_gas'] = df_uk_gridwatch['ccgt'] + df_uk_gridwatch['ocgt']\n",
    "df_gen_uk['hard_coal'] = df_uk_gridwatch['coal']\n",
    "df_gen_uk['oil'] = df_uk_gridwatch['oil']\n",
    "df_gen_uk['hydro'] = df_uk_gridwatch['pumped'] + df_uk_gridwatch['hydro']\n",
    "df_gen_uk['nuclear'] = df_uk_gridwatch['nuclear']\n",
    "df_gen_uk['waste'] = 0\n",
    "df_gen_uk['other'] = 0\n",
    "\n",
    "df_gen_uk['solar'] = df_uk_gridwatch['solar']\n",
    "df_gen_uk['wind_onshore'] = 0\n",
    "df_gen_uk['wind_offshore'] = df_uk_gridwatch['wind']\n",
    "df_gen_uk['other_renewable'] = 0\n",
    "\n",
    "df_gen_uk = df_gen_uk[reduced_gen_types]\n",
    "df_gen_uk.to_excel(\"./optimisation/data/generation_uk_non_fbmc.xlsx\")"
   ]
  },
  {
   "cell_type": "code",
   "execution_count": 39,
   "id": "63f67896",
   "metadata": {},
   "outputs": [],
   "source": [
    "# UK: RENEWABLE GENERATION (FORECAST)\n",
    "\n",
    "df_ren_gen = pd.read_excel(\"./optimisation/data/renewable_generation_non_fbmc.xlsx\", index_col=0)\n",
    "df_ren_gen['GB'] = df_uk_gridwatch['wind'] + df_uk_gridwatch['solar']\n",
    "df_ren_gen = df_ren_gen[non_fbmc_countries]\n",
    "df_ren_gen.to_excel(\"./optimisation/data/renewable_generation_non_fbmc.xlsx\")"
   ]
  },
  {
   "cell_type": "code",
   "execution_count": 44,
   "id": "2fbc1f01",
   "metadata": {},
   "outputs": [],
   "source": [
    "# IT: INSTALLED CAPACITIES\n",
    "\n",
    "df_capacities = pd.read_excel(\"./optimisation/data/installed_capacities_non_fbmc.xlsx\", index_col=0)\n",
    "\n",
    "df_capacities.loc['biomass', 'IT_NORD'] = 1534\n",
    "df_capacities.loc['brown_coal', 'IT_NORD'] = 0\n",
    "df_capacities.loc['coal_gas', 'IT_NORD'] = 2072\n",
    "df_capacities.loc['natural_gas', 'IT_NORD'] = 44215\n",
    "df_capacities.loc['hard_coal', 'IT_NORD'] = 5576\n",
    "df_capacities.loc['oil', 'IT_NORD'] = 1543\n",
    "df_capacities.loc['hydro', 'IT_NORD'] = 10553 + 4440 + 7256\n",
    "df_capacities.loc['nuclear', 'IT_NORD'] = 0\n",
    "df_capacities.loc['waste', 'IT_NORD'] = 120\n",
    "df_capacities.loc['other', 'IT_NORD'] = 869 + 853\n",
    "\n",
    "df_capacities.loc['solar', 'IT_NORD'] = 5431\n",
    "df_capacities.loc['wind_onshore', 'IT_NORD'] = 11204\n",
    "df_capacities.loc['wind_offshore', 'IT_NORD'] = 30\n",
    "df_capacities.loc['other_renewable', 'IT_NORD'] = 0\n",
    "\n",
    "df_capacities = df_capacities[non_fbmc_countries]\n",
    "df_capacities.to_excel(\"./optimisation/data/installed_capacities_non_fbmc.xlsx\")"
   ]
  }
 ],
 "metadata": {
  "kernelspec": {
   "display_name": "fbmc_env",
   "language": "python",
   "name": "fbmc_env"
  },
  "language_info": {
   "codemirror_mode": {
    "name": "ipython",
    "version": 3
   },
   "file_extension": ".py",
   "mimetype": "text/x-python",
   "name": "python",
   "nbconvert_exporter": "python",
   "pygments_lexer": "ipython3",
   "version": "3.9.13"
  }
 },
 "nbformat": 4,
 "nbformat_minor": 5
}

{
 "cells": [
  {
   "cell_type": "code",
   "execution_count": 1,
   "id": "07098141",
   "metadata": {},
   "outputs": [],
   "source": [
    "import pandas as pd"
   ]
  },
  {
   "cell_type": "code",
   "execution_count": 2,
   "id": "7e814d0e",
   "metadata": {},
   "outputs": [],
   "source": [
    "df_fuel = pd.read_excel(\"./for_io/fuel_prices.xlsx\", index_col=0)\n",
    "df_demand = pd.read_excel(\"./for_io/demand.xlsx\", index_col=0)"
   ]
  },
  {
   "cell_type": "code",
   "execution_count": 28,
   "id": "f5977a83",
   "metadata": {},
   "outputs": [
    {
     "data": {
      "text/plain": [
       "DatetimeIndex(['2022-09-01 00:00:00', '2022-09-01 01:00:00',\n",
       "               '2022-09-01 02:00:00', '2022-09-01 03:00:00',\n",
       "               '2022-09-01 04:00:00', '2022-09-01 05:00:00',\n",
       "               '2022-09-01 06:00:00', '2022-09-01 07:00:00',\n",
       "               '2022-09-01 08:00:00', '2022-09-01 09:00:00',\n",
       "               ...\n",
       "               '2023-02-27 14:00:00', '2023-02-27 15:00:00',\n",
       "               '2023-02-27 16:00:00', '2023-02-27 17:00:00',\n",
       "               '2023-02-27 18:00:00', '2023-02-27 19:00:00',\n",
       "               '2023-02-27 20:00:00', '2023-02-27 21:00:00',\n",
       "               '2023-02-27 22:00:00', '2023-02-27 23:00:00'],\n",
       "              dtype='datetime64[ns]', length=4320, freq=None)"
      ]
     },
     "metadata": {},
     "output_type": "display_data"
    },
    {
     "data": {
      "text/html": [
       "<div>\n",
       "<style scoped>\n",
       "    .dataframe tbody tr th:only-of-type {\n",
       "        vertical-align: middle;\n",
       "    }\n",
       "\n",
       "    .dataframe tbody tr th {\n",
       "        vertical-align: top;\n",
       "    }\n",
       "\n",
       "    .dataframe thead th {\n",
       "        text-align: right;\n",
       "    }\n",
       "</style>\n",
       "<table border=\"1\" class=\"dataframe\">\n",
       "  <thead>\n",
       "    <tr style=\"text-align: right;\">\n",
       "      <th></th>\n",
       "      <th>coal</th>\n",
       "      <th>oil</th>\n",
       "      <th>gas</th>\n",
       "      <th>eua</th>\n",
       "    </tr>\n",
       "  </thead>\n",
       "  <tbody>\n",
       "    <tr>\n",
       "      <th>2022-09-01 00:00:00</th>\n",
       "      <td>358.0</td>\n",
       "      <td>92.360000</td>\n",
       "      <td>268.00</td>\n",
       "      <td>89.05</td>\n",
       "    </tr>\n",
       "    <tr>\n",
       "      <th>2022-09-01 01:00:00</th>\n",
       "      <td>358.0</td>\n",
       "      <td>92.360000</td>\n",
       "      <td>268.00</td>\n",
       "      <td>89.05</td>\n",
       "    </tr>\n",
       "    <tr>\n",
       "      <th>2022-09-01 02:00:00</th>\n",
       "      <td>358.0</td>\n",
       "      <td>92.360000</td>\n",
       "      <td>268.00</td>\n",
       "      <td>89.05</td>\n",
       "    </tr>\n",
       "    <tr>\n",
       "      <th>2022-09-01 03:00:00</th>\n",
       "      <td>358.0</td>\n",
       "      <td>92.360000</td>\n",
       "      <td>268.00</td>\n",
       "      <td>89.05</td>\n",
       "    </tr>\n",
       "    <tr>\n",
       "      <th>2022-09-01 04:00:00</th>\n",
       "      <td>358.0</td>\n",
       "      <td>92.360000</td>\n",
       "      <td>268.00</td>\n",
       "      <td>89.05</td>\n",
       "    </tr>\n",
       "    <tr>\n",
       "      <th>...</th>\n",
       "      <td>...</td>\n",
       "      <td>...</td>\n",
       "      <td>...</td>\n",
       "      <td>...</td>\n",
       "    </tr>\n",
       "    <tr>\n",
       "      <th>2023-02-27 19:00:00</th>\n",
       "      <td>149.0</td>\n",
       "      <td>77.783019</td>\n",
       "      <td>52.25</td>\n",
       "      <td>105.16</td>\n",
       "    </tr>\n",
       "    <tr>\n",
       "      <th>2023-02-27 20:00:00</th>\n",
       "      <td>149.0</td>\n",
       "      <td>77.783019</td>\n",
       "      <td>52.25</td>\n",
       "      <td>105.16</td>\n",
       "    </tr>\n",
       "    <tr>\n",
       "      <th>2023-02-27 21:00:00</th>\n",
       "      <td>149.0</td>\n",
       "      <td>77.783019</td>\n",
       "      <td>52.25</td>\n",
       "      <td>105.16</td>\n",
       "    </tr>\n",
       "    <tr>\n",
       "      <th>2023-02-27 22:00:00</th>\n",
       "      <td>149.0</td>\n",
       "      <td>77.783019</td>\n",
       "      <td>52.25</td>\n",
       "      <td>105.16</td>\n",
       "    </tr>\n",
       "    <tr>\n",
       "      <th>2023-02-27 23:00:00</th>\n",
       "      <td>149.0</td>\n",
       "      <td>77.783019</td>\n",
       "      <td>52.25</td>\n",
       "      <td>105.16</td>\n",
       "    </tr>\n",
       "  </tbody>\n",
       "</table>\n",
       "<p>4320 rows × 4 columns</p>\n",
       "</div>"
      ],
      "text/plain": [
       "                      coal        oil     gas     eua\n",
       "2022-09-01 00:00:00  358.0  92.360000  268.00   89.05\n",
       "2022-09-01 01:00:00  358.0  92.360000  268.00   89.05\n",
       "2022-09-01 02:00:00  358.0  92.360000  268.00   89.05\n",
       "2022-09-01 03:00:00  358.0  92.360000  268.00   89.05\n",
       "2022-09-01 04:00:00  358.0  92.360000  268.00   89.05\n",
       "...                    ...        ...     ...     ...\n",
       "2023-02-27 19:00:00  149.0  77.783019   52.25  105.16\n",
       "2023-02-27 20:00:00  149.0  77.783019   52.25  105.16\n",
       "2023-02-27 21:00:00  149.0  77.783019   52.25  105.16\n",
       "2023-02-27 22:00:00  149.0  77.783019   52.25  105.16\n",
       "2023-02-27 23:00:00  149.0  77.783019   52.25  105.16\n",
       "\n",
       "[4320 rows x 4 columns]"
      ]
     },
     "metadata": {},
     "output_type": "display_data"
    }
   ],
   "source": [
    "df_fuel_expanded = pd.DataFrame()\n",
    "df_fuel_expanded.index = df_demand.index\n",
    "\n",
    "df_fuel_expanded.index = pd.to_datetime(df_fuel_expanded.index)\n",
    "display(df_fuel_expanded.index)\n",
    "\n",
    "for index, row in df_fuel_expanded.iterrows():\n",
    "    df_fuel_expanded.loc[index, 'coal'] = df_fuel.loc[index.replace(hour=0, minute=0), 'coal']\n",
    "    df_fuel_expanded.loc[index, 'oil'] = df_fuel.loc[index.replace(hour=0, minute=0), 'oil']\n",
    "    df_fuel_expanded.loc[index, 'gas'] = df_fuel.loc[index.replace(hour=0, minute=0), 'gas']\n",
    "    df_fuel_expanded.loc[index, 'eua'] = df_fuel.loc[index.replace(hour=0, minute=0), 'eua']\n",
    "    \n",
    "display(df_fuel_expanded)"
   ]
  },
  {
   "cell_type": "code",
   "execution_count": 30,
   "id": "3c32ca80",
   "metadata": {},
   "outputs": [],
   "source": [
    "df_fuel_expanded.to_excel(\"./for_io/fuel_prices.xlsx\")"
   ]
  },
  {
   "cell_type": "code",
   "execution_count": null,
   "id": "604b7aba",
   "metadata": {},
   "outputs": [],
   "source": []
  }
 ],
 "metadata": {
  "kernelspec": {
   "display_name": "fbmc_env",
   "language": "python",
   "name": "fbmc_env"
  },
  "language_info": {
   "codemirror_mode": {
    "name": "ipython",
    "version": 3
   },
   "file_extension": ".py",
   "mimetype": "text/x-python",
   "name": "python",
   "nbconvert_exporter": "python",
   "pygments_lexer": "ipython3",
   "version": "3.9.13"
  }
 },
 "nbformat": 4,
 "nbformat_minor": 5
}

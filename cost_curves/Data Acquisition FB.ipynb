{
 "cells": [
  {
   "cell_type": "code",
   "execution_count": 1,
   "id": "37e981fc",
   "metadata": {},
   "outputs": [],
   "source": [
    "import pandas as pd\n",
    "import requests\n",
    "import numpy as np\n",
    "from datetime import datetime, timedelta"
   ]
  },
  {
   "cell_type": "code",
   "execution_count": 4,
   "id": "7e787d01",
   "metadata": {},
   "outputs": [],
   "source": [
    "hubs = ['ALBE', 'ALDE', 'AT', 'BE', 'CZ', 'DE_LU', 'FR', 'HR', 'HU', 'NL', 'PL', 'RO', 'SI', 'SK']\n",
    "\n",
    "start = datetime(2022, 9, 1).strftime('%Y-%m-%d')\n",
    "end = datetime(2023, 3, 31).strftime('%Y-%m-%d')"
   ]
  },
  {
   "cell_type": "code",
   "execution_count": 5,
   "id": "f66a596e",
   "metadata": {},
   "outputs": [],
   "source": [
    "def retrieve_net_positions(fromDate, toDate):\n",
    "    data = {\n",
    "        'fromUtc': f'{fromDate}T00:00:00.000Z',\n",
    "        'toUtc': f'{toDate}T23:00:00.000Z',\n",
    "    }\n",
    "\n",
    "    try:\n",
    "        response = requests.post('https://publicationtool.jao.eu/core/api/data/netPos', json=data)\n",
    "        response.raise_for_status()\n",
    "    except requests.exceptions.HTTPError as err:\n",
    "        print(err)\n",
    "        \n",
    "    return pd.DataFrame(response.json()['data'])"
   ]
  },
  {
   "cell_type": "code",
   "execution_count": 9,
   "id": "da08a2ea",
   "metadata": {},
   "outputs": [],
   "source": [
    "def retrieve_ptdf(fromDate, toDate):\n",
    "    data = {\n",
    "        'fromUtc': f'{fromDate}T00:00:00.000Z',\n",
    "        'toUtc': f'{toDate}T23:00:00.000Z',\n",
    "    }\n",
    "\n",
    "    try:\n",
    "        response = requests.post('https://publicationtool.jao.eu/core/api/data/preFinalComputation', json=data)\n",
    "        response.raise_for_status()\n",
    "    except requests.exceptions.HTTPError as err:\n",
    "        print(err)\n",
    "   \n",
    "    return pd.DataFrame(response.json()['data'])"
   ]
  },
  {
   "cell_type": "code",
   "execution_count": 7,
   "id": "35670684",
   "metadata": {},
   "outputs": [],
   "source": [
    "# NET POSITIONS\n",
    "df_netpos = retrieve_net_positions(start, end)\n",
    "\n",
    "df_netpos = df_netpos.rename(columns={\n",
    "    'dateTimeUtc': 'DateTime'\n",
    "})\n",
    "df_netpos = df_netpos.set_index('DateTime')\n",
    "df_netpos.index = pd.to_datetime(df_netpos.index)\n",
    "df_netpos = df_netpos.tz_localize(None)\n",
    "\n",
    "df_netpos = df_netpos[[\n",
    "    'hub_ALBE', 'hub_ALDE', 'hub_AT', 'hub_BE', 'hub_CZ', 'hub_DE', 'hub_FR', 'hub_HR', 'hub_HU', 'hub_NL', \n",
    "    'hub_PL', 'hub_RO', 'hub_SI', 'hub_SK'\n",
    "]]\n",
    "\n",
    "df_netpos.columns = hubs\n",
    "\n",
    "df_netpos.to_excel(\"./data/net_positions.xlsx\")"
   ]
  },
  {
   "cell_type": "code",
   "execution_count": 10,
   "id": "c6167eee",
   "metadata": {},
   "outputs": [
    {
     "name": "stderr",
     "output_type": "stream",
     "text": [
      "IOPub data rate exceeded.\n",
      "The notebook server will temporarily stop sending output\n",
      "to the client in order to avoid crashing it.\n",
      "To change this limit, set the config variable\n",
      "`--NotebookApp.iopub_data_rate_limit`.\n",
      "\n",
      "Current values:\n",
      "NotebookApp.iopub_data_rate_limit=1000000.0 (bytes/sec)\n",
      "NotebookApp.rate_limit_window=3.0 (secs)\n",
      "\n"
     ]
    }
   ],
   "source": [
    "# ZONAL PTDF and RAM\n",
    "df_ptdf = retrieve_ptdf(start, end)\n",
    "\n",
    "df_ptdf = df_ptdf.rename(columns={\n",
    "    'dateTimeUtc': 'DateTime'\n",
    "})\n",
    "df_ptdf = df_ptdf.set_index('DateTime')\n",
    "df_ptdf.index = pd.to_datetime(df_ptdf.index)\n",
    "df_ptdf = df_ptdf.tz_localize(None)\n",
    "\n",
    "df_ptdf = df_ptdf[df_ptdf.cneEic != 'NA']\n",
    "df_ptdf = df_ptdf[[\n",
    "    'cneEic', 'ram', 'ptdf_ALBE', 'ptdf_ALDE', 'ptdf_AT', 'ptdf_BE', 'ptdf_CZ', 'ptdf_DE', 'ptdf_FR', 'ptdf_HR', 'ptdf_HU', 'ptdf_NL', \n",
    "    'ptdf_PL', 'ptdf_RO', 'ptdf_SI', 'ptdf_SK'\n",
    "]]\n",
    "\n",
    "df_ptdf.columns = ['eic', 'ram'] + hubs\n",
    "\n",
    "df_ptdf.to_excel(\"./data/ptdfs.xlsx\")"
   ]
  }
 ],
 "metadata": {
  "kernelspec": {
   "display_name": "fbmc_env",
   "language": "python",
   "name": "fbmc_env"
  },
  "language_info": {
   "codemirror_mode": {
    "name": "ipython",
    "version": 3
   },
   "file_extension": ".py",
   "mimetype": "text/x-python",
   "name": "python",
   "nbconvert_exporter": "python",
   "pygments_lexer": "ipython3",
   "version": "3.9.13"
  }
 },
 "nbformat": 4,
 "nbformat_minor": 5
}

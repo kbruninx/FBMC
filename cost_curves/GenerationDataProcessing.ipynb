{
 "cells": [
  {
   "cell_type": "code",
   "execution_count": 8,
   "id": "0c106123",
   "metadata": {},
   "outputs": [],
   "source": [
    "import pandas as pd\n",
    "\n",
    "countries = ['AT', 'BE', 'CZ', 'DE_LU', 'FR', 'HR', 'HU', 'NL', 'PL', 'RO', 'SI', 'SK']\n",
    "\n",
    "gen_types = [\n",
    "    'biomass', 'brown_coal', 'coal_gas', 'natural_gas', 'hard_coal', 'oil', 'oil_shale', 'peat', 'geothermal', \n",
    "    'hydro_pumped_storage', 'hydro_run_of_river', 'hydro_reservoir', 'marine', 'nuclear', 'other', 'other_renewable',\n",
    "    'solar', 'waste', 'wind_offshore', 'wind_onshore'\n",
    "]\n",
    "\n",
    "reduced_gen_types = [\n",
    "    'biomass', 'brown_coal', 'coal_gas', 'natural_gas', 'hard_coal', 'oil', 'hydro', \n",
    "    'nuclear', 'waste', 'other', 'solar', 'wind_onshore', 'wind_offshore', 'other_renewable'\n",
    "]"
   ]
  },
  {
   "cell_type": "code",
   "execution_count": 9,
   "id": "04812da5",
   "metadata": {},
   "outputs": [
    {
     "name": "stderr",
     "output_type": "stream",
     "text": [
      "Exception ignored in: <function ZipFile.__del__ at 0x000002179FFCA7A0>\n",
      "Traceback (most recent call last):\n",
      "  File \"C:\\Users\\balaz\\AppData\\Local\\Programs\\Python\\Python310\\lib\\zipfile.py\", line 1819, in __del__\n",
      "    self.close()\n",
      "  File \"C:\\Users\\balaz\\AppData\\Local\\Programs\\Python\\Python310\\lib\\zipfile.py\", line 1836, in close\n",
      "    self.fp.seek(self.start_dir)\n",
      "ValueError: seek of closed file\n"
     ]
    },
    {
     "name": "stdout",
     "output_type": "stream",
     "text": [
      "AT\n",
      "BE\n",
      "CZ\n",
      "DE_LU\n",
      "FR\n",
      "HR\n",
      "HU\n",
      "NL\n",
      "PL\n",
      "RO\n",
      "SI\n",
      "SK\n"
     ]
    }
   ],
   "source": [
    "with pd.ExcelWriter(\"./for_io/generation.xlsx\") as writer:  \n",
    "    for country_code in countries:\n",
    "        df_gen = pd.read_excel(\"generation.xlsx\", sheet_name=country_code, index_col=0)\n",
    "        print(country_code)\n",
    "        \n",
    "        df_gen.loc[:, 'hydro'] = df_gen['hydro_pumped_storage'] + df_gen['hydro_run_of_river'] + df_gen['hydro_reservoir']\n",
    "        df_gen = df_gen[reduced_gen_types]\n",
    "        \n",
    "        df_gen.to_excel(writer, sheet_name=country_code)"
   ]
  },
  {
   "cell_type": "code",
   "execution_count": null,
   "id": "4d1a6013",
   "metadata": {},
   "outputs": [],
   "source": []
  }
 ],
 "metadata": {
  "kernelspec": {
   "display_name": "fbmc_env",
   "language": "python",
   "name": "fbmc_env"
  },
  "language_info": {
   "codemirror_mode": {
    "name": "ipython",
    "version": 3
   },
   "file_extension": ".py",
   "mimetype": "text/x-python",
   "name": "python",
   "nbconvert_exporter": "python",
   "pygments_lexer": "ipython3",
   "version": "3.10.5"
  }
 },
 "nbformat": 4,
 "nbformat_minor": 5
}

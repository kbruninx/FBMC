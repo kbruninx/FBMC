{
 "cells": [
  {
   "cell_type": "code",
   "execution_count": 4,
   "id": "29ab08a7",
   "metadata": {},
   "outputs": [],
   "source": [
    "import matplotlib.pyplot as plt\n",
    "import matplotlib\n",
    "import pandas as pd\n",
    "import numpy as np\n",
    "import h5py"
   ]
  },
  {
   "cell_type": "code",
   "execution_count": 18,
   "id": "0b5cb3a4",
   "metadata": {},
   "outputs": [],
   "source": [
    "zones = ['AT', 'BE', 'CZ', 'DE_LU', 'FR', 'HR', 'HU', 'NL', 'PL', 'RO', 'SI', 'SK']\n",
    "\n",
    "borders = [\n",
    "    [\"AT\", \"CZ\"], [\"AT\", \"DE_LU\"], [\"AT\", \"HU\"], [\"AT\", \"SI\"], [\"BE\", \"FR\"],\n",
    "    [\"BE\", \"NL\"], [\"CZ\", \"DE_LU\"], [\"CZ\", \"PL\"], [\"CZ\", \"SK\"], [\"DE_LU\", \"FR\"],\n",
    "    [\"DE_LU\", \"NL\"], [\"HR\", \"HU\"], [\"HR\", \"SI\"], [\"HU\", \"SK\"], [\"HU\", \"RO\"],\n",
    "    [\"BE\", \"DE_LU\"], [\"DE_LU\", \"PL\"], [\"HU\", \"SI\"], [\"PL\", \"SK\"], [\"AT\", \"SK\"],\n",
    "]"
   ]
  },
  {
   "cell_type": "code",
   "execution_count": 16,
   "id": "328a3f37",
   "metadata": {},
   "outputs": [],
   "source": [
    "df_grid = pd.read_excel('./grid.xlsx', index_col=0)"
   ]
  },
  {
   "cell_type": "code",
   "execution_count": 7,
   "id": "8165dad4",
   "metadata": {},
   "outputs": [],
   "source": [
    "start_date_feb = pd.Timestamp('20230201')\n",
    "end_date_feb = pd.Timestamp('20230301')"
   ]
  },
  {
   "cell_type": "code",
   "execution_count": 36,
   "id": "e8c75018",
   "metadata": {},
   "outputs": [],
   "source": [
    "hf_d = h5py.File(\"./border_distance_matrix.jld\", \"r\")\n",
    "hf_d_c = h5py.File(\"./border_distance_c_matrix.jld\", \"r\")\n",
    "\n",
    "border_distance = np.transpose(hf_d.get(\"data\"))\n",
    "border_distance_c = np.transpose(hf_d_c.get(\"data\"))"
   ]
  },
  {
   "cell_type": "code",
   "execution_count": 11,
   "id": "81aa58b0",
   "metadata": {},
   "outputs": [],
   "source": [
    "df_ptdf_obs = pd.read_excel('./ptdf_z_obs.xlsx', index_col=0)"
   ]
  },
  {
   "cell_type": "code",
   "execution_count": 12,
   "id": "e0d39a30",
   "metadata": {},
   "outputs": [
    {
     "name": "stdout",
     "output_type": "stream",
     "text": [
      "alpha 10\n",
      "alpha 5\n",
      "naive\n"
     ]
    }
   ],
   "source": [
    "df_ptdf_forecasts = []\n",
    "print('alpha 10')\n",
    "df_ptdf_forecasts.append(pd.read_excel('./ptdf_z_calc_nuts.xlsx', index_col=0))\n",
    "print('alpha 5')\n",
    "df_ptdf_forecasts.append(pd.read_excel('./ptdf_z_calc_nuts_feb_5.xlsx', index_col=0))\n",
    "print('naive')\n",
    "df_ptdf_forecasts.append(pd.read_excel('./ptdf_z_naive.xlsx', index_col=0))"
   ]
  },
  {
   "cell_type": "code",
   "execution_count": 14,
   "id": "36368735",
   "metadata": {},
   "outputs": [],
   "source": [
    "df_np_observed = pd.read_excel(\"../cost_curves/data/net_positions.xlsx\", index_col=0)\n",
    "df_np_observed = df_np_observed.loc[(df_np_observed.index > start_date_feb) & (df_np_observed.index <= end_date_feb)]"
   ]
  },
  {
   "cell_type": "code",
   "execution_count": 19,
   "id": "a6d54e4e",
   "metadata": {},
   "outputs": [],
   "source": [
    "f_init = np.zeros(len(df_np_observed.index))\n",
    "\n",
    "border_flows_obs = {\n",
    "    'AT-CZ': f_init.copy(), 'AT-DE': f_init.copy(), 'AT-HU': f_init.copy(), 'AT-SI': f_init.copy(), 'BE-FR': f_init.copy(),\n",
    "    'BE-NL': f_init.copy(), 'CZ-DE': f_init.copy(), 'CZ-PL': f_init.copy(), 'CZ-SK': f_init.copy(), 'DE-FR': f_init.copy(),\n",
    "    'DE-NL': f_init.copy(), 'HR-HU': f_init.copy(), 'HR-SI': f_init.copy(), 'HU-SK': f_init.copy(), 'HU-RO': f_init.copy(),\n",
    "    'BE-DE': f_init.copy(), 'DE-PL': f_init.copy(), 'HU-SI': f_init.copy(), 'PL-SK': f_init.copy(), 'AT-SK': f_init.copy()\n",
    "}\n",
    "\n",
    "for t, timestamp in enumerate(df_np_observed.index):\n",
    "    cnes = df_ptdf_obs[df_ptdf_obs.DateTime == timestamp]\n",
    "    for cne_i, cne in cnes.iterrows():\n",
    "        eic = df_grid.loc[cne['line_id'], 'eic']\n",
    "        if df_grid.loc[cne['line_id'], 'tieline'] and eic[:4] == '10T-':\n",
    "            z1 = eic[4:6]\n",
    "            z2 = eic[7:9]\n",
    "            flow = 0\n",
    "            for zone in zones:\n",
    "                flow += cne[zone] * df_np_observed.loc[timestamp, zone]\n",
    "            \n",
    "            border_flows_obs[z1 + '-' + z2][t] += -1*flow"
   ]
  },
  {
   "cell_type": "code",
   "execution_count": 21,
   "id": "13928b3c",
   "metadata": {},
   "outputs": [],
   "source": [
    "border_flow_forecasts = []\n",
    "\n",
    "df_np_forecasts = []\n",
    "df_np_forecasts.append(pd.read_excel(\"../cost_curves/np_forecasts/np_forecast_full_nuts_norm_1_w_atc_february.xlsx\"))\n",
    "df_np_forecasts.append(pd.read_excel(\"../cost_curves/np_forecasts/np_forecast_full_alpha5_norm_1_w_atc_february.xlsx\"))\n",
    "df_np_forecasts.append(pd.read_excel(\"../cost_curves/np_forecasts/np_forecast_full_naive_norm_1_w_atc_february.xlsx\"))\n",
    "\n",
    "for index, df in enumerate(df_np_forecasts):\n",
    "    df_np_forecasts[index].index = df_np_observed.index\n",
    "\n",
    "    border_flows_calc = {\n",
    "        'AT-CZ': f_init.copy(), 'AT-DE': f_init.copy(), 'AT-HU': f_init.copy(), 'AT-SI': f_init.copy(), 'BE-FR': f_init.copy(),\n",
    "        'BE-NL': f_init.copy(), 'CZ-DE': f_init.copy(), 'CZ-PL': f_init.copy(), 'CZ-SK': f_init.copy(), 'DE-FR': f_init.copy(),\n",
    "        'DE-NL': f_init.copy(), 'HR-HU': f_init.copy(), 'HR-SI': f_init.copy(), 'HU-SK': f_init.copy(), 'HU-RO': f_init.copy(),\n",
    "        'BE-DE': f_init.copy(), 'DE-PL': f_init.copy(), 'HU-SI': f_init.copy(), 'PL-SK': f_init.copy(), 'AT-SK': f_init.copy()\n",
    "    }\n",
    "\n",
    "    for t, timestamp in enumerate(df_np_observed.index):\n",
    "        if 'DateTime' in df_ptdf_forecasts[index].columns:\n",
    "            cnes = df_ptdf_forecasts[index][df_ptdf_forecasts[index].DateTime == timestamp]\n",
    "        else:\n",
    "            cnes = df_ptdf_forecasts[index][df_ptdf_forecasts[index].index == timestamp]\n",
    "        for cne_i, cne in cnes.iterrows():\n",
    "            eic = df_grid.loc[cne['line_id'], 'eic']\n",
    "            if df_grid.loc[cne['line_id'], 'tieline'] and eic[:4] == '10T-':\n",
    "                z1 = eic[4:6]\n",
    "                z2 = eic[7:9]\n",
    "                flow = 0\n",
    "                for zone in zones:\n",
    "                    flow += cne[zone] * df_np_forecasts[index].loc[timestamp, zone]\n",
    "\n",
    "                border_flows_calc[z1 + '-' + z2][t] += -1*flow\n",
    "        \n",
    "    border_flow_forecasts.append(border_flows_calc)"
   ]
  },
  {
   "cell_type": "code",
   "execution_count": 40,
   "id": "bf633fb1",
   "metadata": {},
   "outputs": [],
   "source": [
    "flow_error_zones = []\n",
    "flow_best_cne_selection = []\n",
    "for border in border_flows_obs.keys():\n",
    "    \n",
    "    diff_a10 = []\n",
    "    diff_a5 = []\n",
    "    diff_n = []\n",
    "    \n",
    "    for t in range(len(border_flows_obs[border])):\n",
    "        diff_a10_t = border_flows_obs[border][t] - border_flow_forecasts[0][border][t]\n",
    "        diff_a5_t = border_flows_obs[border][t] - border_flow_forecasts[1][border][t]\n",
    "        diff_n_t = border_flows_obs[border][t] - border_flow_forecasts[2][border][t]\n",
    "        if abs(border_flows_obs[border][t]) > 0:\n",
    "            if abs(border_flow_forecasts[0][border][t]) > 0:\n",
    "                diff_a10.append(abs(diff_a10_t))\n",
    "            if abs(border_flow_forecasts[1][border][t]) > 0:\n",
    "                diff_a5.append(abs(diff_a5_t))\n",
    "            if abs(border_flow_forecasts[2][border][t]) > 0:\n",
    "                diff_n.append(abs(diff_n_t))\n",
    "            \n",
    "    if len(diff_a10) > 0:\n",
    "        mean_a10 = np.mean(diff_a10)\n",
    "    else:\n",
    "        mean_a10 = 0\n",
    "        \n",
    "    if len(diff_a5) > 0:\n",
    "        mean_a5 = np.mean(diff_a5)\n",
    "    else:\n",
    "        mean_a5 = 0\n",
    "        \n",
    "    if len(diff_n) > 0:\n",
    "        mean_n = np.mean(diff_n)\n",
    "    else:\n",
    "        mean_n = 0\n",
    "        \n",
    "        \n",
    "    border_flows_denom = np.max(abs(border_flows_obs[border]))\n",
    "\n",
    "    if border_flows_denom > 0:\n",
    "        flow_error_zones.append(min(\n",
    "            (100*mean_a10 / border_flows_denom) if mean_a10 > 0 else 10000,\n",
    "            (100*mean_a5 / border_flows_denom) if mean_a5 > 0 else 10000,\n",
    "            #(100*mean_n / border_flows_denom) if mean_n > 0 else 10000,\n",
    "        ))\n",
    "\n",
    "        flow_best_cne_selection.append(np.argmin([\n",
    "            (100*mean_a10 / border_flows_denom) if mean_a10 > 0 else 10000,\n",
    "            (100*mean_a5 / border_flows_denom) if mean_a5 > 0 else 10000,\n",
    "            #(100*mean_n / border_flows_denom) if mean_n > 0 else 10000,\n",
    "        ]))\n",
    "    else:\n",
    "        flow_error_zones.append(0)\n",
    "        flow_best_cne_selection.append(0)"
   ]
  },
  {
   "cell_type": "code",
   "execution_count": 53,
   "id": "b30335a7",
   "metadata": {},
   "outputs": [],
   "source": [
    "border_distance_comp = np.zeros((len(borders), 3))\n",
    "border_distance_comp[:, 0] = np.transpose([np.argmin(border_distance[b][0:2]) for b in range(len(borders))])\n",
    "border_distance_comp[:, 1] = np.transpose([np.argmin(border_distance_c[b][0:2]) for b in range(len(borders))])\n",
    "border_distance_comp[:, 2] = np.transpose(flow_best_cne_selection)"
   ]
  },
  {
   "cell_type": "code",
   "execution_count": 56,
   "id": "3b36cfca",
   "metadata": {},
   "outputs": [
    {
     "name": "stdout",
     "output_type": "stream",
     "text": [
      "['AT', 'CZ'] [1. 1. 1.]\n",
      "['AT', 'DE_LU'] [1. 0. 0.]\n",
      "['AT', 'HU'] [1. 1. 1.]\n",
      "['AT', 'SI'] [1. 1. 1.]\n",
      "['BE', 'FR'] [1. 1. 1.]\n",
      "['BE', 'NL'] [1. 0. 1.]\n",
      "['CZ', 'DE_LU'] [1. 0. 1.]\n",
      "['CZ', 'PL'] [1. 1. 1.]\n",
      "['CZ', 'SK'] [1. 1. 1.]\n",
      "['DE_LU', 'FR'] [1. 0. 0.]\n",
      "['DE_LU', 'NL'] [1. 0. 0.]\n",
      "['HR', 'HU'] [1. 1. 1.]\n",
      "['HR', 'SI'] [0. 1. 1.]\n",
      "['HU', 'SK'] [1. 1. 0.]\n",
      "['HU', 'RO'] [1. 1. 0.]\n",
      "['BE', 'DE_LU'] [1. 0. 0.]\n",
      "['DE_LU', 'PL'] [1. 0. 1.]\n",
      "['HU', 'SI'] [1. 1. 0.]\n",
      "['PL', 'SK'] [1. 0. 1.]\n",
      "['AT', 'SK'] [1. 1. 0.]\n"
     ]
    }
   ],
   "source": [
    "d_flow_scores = []\n",
    "d_c_flow_scores = []\n",
    "\n",
    "for b, border in enumerate(borders):\n",
    "    print(border, border_distance_comp[b])\n",
    "    if border_distance_comp[b, 0] == border_distance_comp[b, 2]:\n",
    "        d_flow_scores.append(border)\n",
    "    if border_distance_comp[b, 1] == border_distance_comp[b, 2]:\n",
    "        d_c_flow_scores.append(border)"
   ]
  },
  {
   "cell_type": "code",
   "execution_count": 57,
   "id": "50c02b90",
   "metadata": {},
   "outputs": [
    {
     "name": "stdout",
     "output_type": "stream",
     "text": [
      "d score: 11\n",
      "d_c score: 12\n"
     ]
    }
   ],
   "source": [
    "print('d score:', len(d_flow_scores))\n",
    "print('d_c score:', len(d_c_flow_scores))"
   ]
  },
  {
   "cell_type": "code",
   "execution_count": 60,
   "id": "99382ce1",
   "metadata": {},
   "outputs": [
    {
     "data": {
      "text/plain": [
       "[['AT', 'CZ'],\n",
       " ['AT', 'HU'],\n",
       " ['AT', 'SI'],\n",
       " ['BE', 'FR'],\n",
       " ['BE', 'NL'],\n",
       " ['CZ', 'DE_LU'],\n",
       " ['CZ', 'PL'],\n",
       " ['CZ', 'SK'],\n",
       " ['HR', 'HU'],\n",
       " ['DE_LU', 'PL'],\n",
       " ['PL', 'SK']]"
      ]
     },
     "execution_count": 60,
     "metadata": {},
     "output_type": "execute_result"
    }
   ],
   "source": [
    "d_flow_scores"
   ]
  },
  {
   "cell_type": "code",
   "execution_count": 65,
   "id": "3a335ea6",
   "metadata": {},
   "outputs": [
    {
     "name": "stdout",
     "output_type": "stream",
     "text": [
      "Captured by both:  {'CZ-SK', 'CZ-PL', 'AT-SI', 'BE-FR', 'AT-CZ', 'AT-HU', 'HR-HU'}\n",
      "Captured by d:  {'CZ-DE_LU', 'PL-SK', 'BE-NL', 'DE_LU-PL'}\n",
      "Captured by d_c:  {'HR-SI', 'DE_LU-NL', 'BE-DE_LU', 'AT-DE_LU', 'DE_LU-FR'}\n"
     ]
    }
   ],
   "source": [
    "print('Captured by both: ', \n",
    "        set([b[0]+'-'+b[1] for b in d_flow_scores]).intersection([b[0]+'-'+b[1] for b in d_c_flow_scores])\n",
    ")\n",
    "\n",
    "print('Captured by d: ', \n",
    "        set([b[0]+'-'+b[1] for b in d_flow_scores]).difference([b[0]+'-'+b[1] for b in d_c_flow_scores])\n",
    ")\n",
    "\n",
    "print('Captured by d_c: ', \n",
    "        set([b[0]+'-'+b[1] for b in d_c_flow_scores]).difference([b[0]+'-'+b[1] for b in d_flow_scores])\n",
    ")"
   ]
  },
  {
   "cell_type": "code",
   "execution_count": 66,
   "id": "e62dce9b",
   "metadata": {},
   "outputs": [
    {
     "data": {
      "text/plain": [
       "array([[ 2.5030503 ,  1.95052557,  1.94300534],\n",
       "       [ 2.51714149,  3.3894666 ,  2.31663778],\n",
       "       [ 6.21533979,  2.35235134,  1.93489808],\n",
       "       [ 3.97629701,  3.01642849,  2.1604606 ],\n",
       "       [ 1.02834721,  0.99320315,  1.225265  ],\n",
       "       [ 1.07516739,  2.45795476,  2.81654165],\n",
       "       [ 2.28249437,  3.61236123,  1.81988501],\n",
       "       [ 1.35751572,  1.31975225,  7.2552231 ],\n",
       "       [ 3.73056956,  1.8086859 ,  1.87347251],\n",
       "       [ 1.49806679,  2.93349591,  1.76726159],\n",
       "       [ 1.10433399,  3.4056856 ,  4.57407529],\n",
       "       [ 3.27476749,  1.59573875,  1.96166371],\n",
       "       [ 0.974144  ,  0.94010554,  0.6038694 ],\n",
       "       [ 6.29267372,  2.75094089,  1.49945325],\n",
       "       [ 3.45902062,  2.65966019,  4.60345971],\n",
       "       [ 1.13162067,  2.2582219 ,  1.66936998],\n",
       "       [ 1.12164156,  2.0481122 , 15.25647766],\n",
       "       [ 5.80307299,  2.04264162,  1.55551777],\n",
       "       [ 1.71837878,  1.74319744,  6.16128419],\n",
       "       [ 8.68248838,  2.24630858,  1.69631699]])"
      ]
     },
     "execution_count": 66,
     "metadata": {},
     "output_type": "execute_result"
    }
   ],
   "source": [
    "border_distance_c"
   ]
  },
  {
   "cell_type": "code",
   "execution_count": null,
   "id": "5fe32361",
   "metadata": {},
   "outputs": [],
   "source": [
    "[1. 1. 1.] x7\n",
    "[1. 1. 0.] x2 - both wrong\n",
    "\n",
    "[1. 0. 0.] x4\n",
    "[1. 0. 1.] x4\n",
    "\n",
    "[0. 1. 1.]  x 1\n",
    "\n",
    "[0. 1. 0.] - does not exist"
   ]
  }
 ],
 "metadata": {
  "kernelspec": {
   "display_name": "Python 3 (ipykernel)",
   "language": "python",
   "name": "python3"
  },
  "language_info": {
   "codemirror_mode": {
    "name": "ipython",
    "version": 3
   },
   "file_extension": ".py",
   "mimetype": "text/x-python",
   "name": "python",
   "nbconvert_exporter": "python",
   "pygments_lexer": "ipython3",
   "version": "3.10.6"
  }
 },
 "nbformat": 4,
 "nbformat_minor": 5
}

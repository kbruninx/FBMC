{
 "cells": [
  {
   "cell_type": "code",
   "execution_count": 1,
   "id": "e9c7ba40",
   "metadata": {},
   "outputs": [],
   "source": [
    "import pandas as pd\n",
    "import networkx as nx\n",
    "import numpy as np"
   ]
  },
  {
   "cell_type": "code",
   "execution_count": null,
   "id": "51fde7c1",
   "metadata": {},
   "outputs": [],
   "source": [
    "df_substations = pd.read_excel('./substations.xlsx', index_col=0)\n",
    "df_powerplants = pd.read_excel('./power_plants.xlsx', index_col=0)\n",
    "\n",
    "for index, row in df_substations.iterrows():\n",
    "    aggregated_capacity = df_powerplants[df_powerplants.node == index]['capacity'].agg('sum')\n",
    "    df_substations.loc[index, 'aggregated_capacity'] = aggregated_capacity\n",
    "    \n",
    "# node fields: number of plants, number of flexible plants, max installed capacity, available capacity,"
   ]
  }
 ],
 "metadata": {
  "kernelspec": {
   "display_name": "fbmc_env",
   "language": "python",
   "name": "fbmc_env"
  },
  "language_info": {
   "codemirror_mode": {
    "name": "ipython",
    "version": 3
   },
   "file_extension": ".py",
   "mimetype": "text/x-python",
   "name": "python",
   "nbconvert_exporter": "python",
   "pygments_lexer": "ipython3",
   "version": "3.10.5"
  }
 },
 "nbformat": 4,
 "nbformat_minor": 5
}

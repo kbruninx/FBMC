{
 "cells": [
  {
   "cell_type": "code",
   "execution_count": 1,
   "id": "84f4686d",
   "metadata": {},
   "outputs": [],
   "source": [
    "import pandas as pd"
   ]
  },
  {
   "cell_type": "code",
   "execution_count": 3,
   "id": "2145bdac",
   "metadata": {},
   "outputs": [
    {
     "data": {
      "text/plain": [
       "zone\n",
       "AT     18156.520000\n",
       "BE     15049.055947\n",
       "CZ     14519.103906\n",
       "DE    117133.629396\n",
       "FR    100340.699420\n",
       "HR      3469.841069\n",
       "HU      6063.155890\n",
       "NL     23566.555180\n",
       "PL     33518.050966\n",
       "RO     16072.272464\n",
       "SI      3473.437366\n",
       "SK      5697.220331\n",
       "Name: capacity, dtype: float64"
      ]
     },
     "metadata": {},
     "output_type": "display_data"
    }
   ],
   "source": [
    "df_powerplants = pd.read_excel('./power_plants.xlsx', index_col=0)\n",
    "df_powerplants_aggregated = df_powerplants.groupby('zone')['capacity'].sum()\n",
    "display(df_powerplants_aggregated)"
   ]
  },
  {
   "cell_type": "code",
   "execution_count": 26,
   "id": "252feeba",
   "metadata": {},
   "outputs": [
    {
     "data": {
      "text/plain": [
       "0.0"
      ]
     },
     "metadata": {},
     "output_type": "display_data"
    },
    {
     "data": {
      "text/plain": [
       "array(['Lignite', 'Hard Coal', 'Nuclear', 'Hydro', 'Natural Gas'],\n",
       "      dtype=object)"
      ]
     },
     "execution_count": 26,
     "metadata": {},
     "output_type": "execute_result"
    }
   ],
   "source": [
    "display(df_powerplants[(df_powerplants.zone == 'AT') & (df_powerplants.fuel_type == 'Wind')].capacity.sum())\n",
    "df_powerplants[df_powerplants.zone == 'RO'].fuel_type.unique()"
   ]
  },
  {
   "cell_type": "code",
   "execution_count": 19,
   "id": "3f8c5f8c",
   "metadata": {},
   "outputs": [],
   "source": [
    "# OPSD: DE, FR, PL, CZ (4)\n",
    "# https://data.open-power-system-data.org/renewable_power_plants/2020-08-25\n",
    "\n",
    "# NL WIND: https://windstats.nl/kaart/, SOLAR?\n",
    "# BE?\n",
    "# no need to correct for WIND: SI, SK, \n",
    "# need WIND: HR, HU, RO, AT"
   ]
  }
 ],
 "metadata": {
  "kernelspec": {
   "display_name": "fbmc_env",
   "language": "python",
   "name": "fbmc_env"
  },
  "language_info": {
   "codemirror_mode": {
    "name": "ipython",
    "version": 3
   },
   "file_extension": ".py",
   "mimetype": "text/x-python",
   "name": "python",
   "nbconvert_exporter": "python",
   "pygments_lexer": "ipython3",
   "version": "3.9.13"
  }
 },
 "nbformat": 4,
 "nbformat_minor": 5
}

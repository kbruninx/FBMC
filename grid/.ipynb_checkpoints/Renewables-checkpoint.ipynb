{
 "cells": [
  {
   "cell_type": "code",
   "execution_count": 8,
   "id": "aeabca11",
   "metadata": {},
   "outputs": [],
   "source": [
    "import overpy"
   ]
  },
  {
   "cell_type": "code",
   "execution_count": 46,
   "id": "2ccacdc2",
   "metadata": {},
   "outputs": [],
   "source": [
    "query = '[out:json][timeout:25];(area[\"ISO3166-1\"=\"BE\"];node[\"power\"=\"generator\"][\"generator:source\"=\"wind\"][\"generator:type\"=\"horizontal_axis\"][\"generator:output:electricity\"](area););out body;'\n",
    "\n",
    "api = overpy.Overpass()\n",
    "result = api.query(query)"
   ]
  },
  {
   "cell_type": "code",
   "execution_count": 47,
   "id": "7390ddb9",
   "metadata": {},
   "outputs": [
    {
     "data": {
      "text/plain": [
       "1147.5744"
      ]
     },
     "metadata": {},
     "output_type": "display_data"
    }
   ],
   "source": [
    "def convert_to_number(cap_str):\n",
    "    cap_str = cap_str.replace(',', '.')\n",
    "    if cap_str[-2] == 'M':\n",
    "        return float(cap_str[0:-3])\n",
    "    if cap_str[-2] == 'k':\n",
    "        return float(cap_str[0:-3])/1000\n",
    "    return None\n",
    "\n",
    "capacities = list(map(lambda x: x.tags['generator:output:electricity'], result.nodes))\n",
    "capacities = list(map(lambda x: convert_to_number(x), capacities))\n",
    "capacities = list(filter(lambda x: x != None, capacities))\n",
    "\n",
    "display(sum(capacities))"
   ]
  },
  {
   "cell_type": "code",
   "execution_count": null,
   "id": "b019f123",
   "metadata": {},
   "outputs": [],
   "source": []
  }
 ],
 "metadata": {
  "kernelspec": {
   "display_name": "fbmc_env",
   "language": "python",
   "name": "fbmc_env"
  },
  "language_info": {
   "codemirror_mode": {
    "name": "ipython",
    "version": 3
   },
   "file_extension": ".py",
   "mimetype": "text/x-python",
   "name": "python",
   "nbconvert_exporter": "python",
   "pygments_lexer": "ipython3",
   "version": "3.9.13"
  }
 },
 "nbformat": 4,
 "nbformat_minor": 5
}
